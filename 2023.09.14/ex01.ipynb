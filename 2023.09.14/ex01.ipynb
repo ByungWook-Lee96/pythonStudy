{
 "cells": [
  {
   "cell_type": "code",
   "execution_count": 4,
   "id": "b2e296eb",
   "metadata": {},
   "outputs": [
    {
     "name": "stdout",
     "output_type": "stream",
     "text": [
      "안녕 파이썬\n",
      "7 <class 'int'>\n",
      "7.34 <class 'float'>\n",
      "(3+4j) <class 'complex'>\n",
      "True <class 'bool'>\n"
     ]
    }
   ],
   "source": [
    "# 49 page\n",
    "\n",
    "var = '안녕 파이썬' \n",
    "print(var)\n",
    "    \n",
    "print(7, type(7))\n",
    "print(7.34, type(7.34))\n",
    "print(3+4j, type(3+4j))\n",
    "print(True, type(True))"
   ]
  },
  {
   "cell_type": "code",
   "execution_count": 23,
   "id": "cade558d",
   "metadata": {},
   "outputs": [
    {
     "name": "stdout",
     "output_type": "stream",
     "text": [
      "클라우드 <class 'str'>\n",
      "['클라우드'] <class 'list'>\n",
      "클라우드 <class 'str'>\n",
      "('클라우드',) <class 'tuple'>\n",
      "123 <class 'int'>\n",
      "(123,) <class 'tuple'>\n",
      "{123} <class 'set'>\n",
      "{123} <class 'set'>\n",
      "{'학번': 123} <class 'dict'>\n"
     ]
    }
   ],
   "source": [
    "print('클라우드', type('클라우드'))\n",
    "print(['클라우드'], type(['클라우드']))\n",
    "print((('클라우드')), type(('클라우드')))\n",
    "print((('클라우드',)), type(('클라우드',)))\n",
    "print((123), type((123)))\n",
    "print((123,), type((123,)))\n",
    "print({123}, type({123}))\n",
    "print({123,}, type({123,}))\n",
    "print({'학번' : 123}, type({'학번' : 123}))\n"
   ]
  },
  {
   "cell_type": "code",
   "execution_count": 20,
   "id": "d1c9940e",
   "metadata": {},
   "outputs": [
    {
     "name": "stdout",
     "output_type": "stream",
     "text": [
      "10 0o12 0xa 0b1010\n",
      "10 10 10 10\n"
     ]
    }
   ],
   "source": [
    "print(10, oct(10), hex(10), bin(10))\n",
    "print(10, 0o12, 0xa, 0b1010)"
   ]
  },
  {
   "cell_type": "code",
   "execution_count": 21,
   "id": "1a0a85bb",
   "metadata": {},
   "outputs": [
    {
     "name": "stdout",
     "output_type": "stream",
     "text": [
      "18\n",
      "2\n",
      "80\n",
      "1.25\n",
      "1\n",
      "2\n",
      "100000000\n"
     ]
    }
   ],
   "source": [
    "print(10+8)\n",
    "print(10-8)\n",
    "print(10*8)\n",
    "print(10/8)\n",
    "print(10//8)\n",
    "print(10%8)\n",
    "print(10**8)"
   ]
  },
  {
   "cell_type": "code",
   "execution_count": 24,
   "id": "c7a0364e",
   "metadata": {},
   "outputs": [
    {
     "name": "stdout",
     "output_type": "stream",
     "text": [
      "result :  10\n",
      "result :  11\n"
     ]
    }
   ],
   "source": [
    "'''\n",
    "result = result + 1\n",
    "\n",
    "result += 1\n",
    "'''\n",
    "\n",
    "result = 10\n",
    "print('result :', result)\n",
    "result = result + 1\n",
    "print('result :', result)"
   ]
  },
  {
   "cell_type": "code",
   "execution_count": 26,
   "id": "93c38d2d",
   "metadata": {},
   "outputs": [
    {
     "name": "stdout",
     "output_type": "stream",
     "text": [
      "result2 : 10\n",
      "result2 : 11\n",
      "result2 : 12\n",
      "result2 : 13\n",
      "result2 : 14\n"
     ]
    }
   ],
   "source": [
    "result2 = 10\n",
    "print('result2 :', result2)\n",
    "\n",
    "'''\n",
    "result2 = result2 + 1\n",
    "\n",
    "할당연산자 왼쪽, 오른쪽에 있는 변수가 같아야 함\n",
    "'''\n",
    "result2 += 1\n",
    "print('result2 :', result2)\n",
    "result2 += 1\n",
    "print('result2 :', result2)\n",
    "result2 += 1\n",
    "print('result2 :', result2)\n",
    "result2 += 1\n",
    "print('result2 :', result2)\n"
   ]
  },
  {
   "cell_type": "code",
   "execution_count": 32,
   "id": "0e753dc6",
   "metadata": {},
   "outputs": [
    {
     "name": "stdout",
     "output_type": "stream",
     "text": [
      "3\n"
     ]
    }
   ],
   "source": [
    "a = 1\n",
    "b = 2\n",
    "\n",
    "c = a + b\n",
    "print(c)"
   ]
  },
  {
   "cell_type": "code",
   "execution_count": 33,
   "id": "36e7810d",
   "metadata": {},
   "outputs": [
    {
     "name": "stdout",
     "output_type": "stream",
     "text": [
      "4\n"
     ]
    }
   ],
   "source": [
    "a = 1\n",
    "b = 2\n",
    "\n",
    "c += a\n",
    "print(c)"
   ]
  },
  {
   "cell_type": "code",
   "execution_count": 35,
   "id": "c834da27",
   "metadata": {},
   "outputs": [
    {
     "name": "stdout",
     "output_type": "stream",
     "text": [
      "(1, 2)\n"
     ]
    }
   ],
   "source": [
    "# divmod() 함수 <- (몫, 나머지)로 반환(tuple로 반환)\n",
    "print(divmod(10,8))"
   ]
  },
  {
   "cell_type": "code",
   "execution_count": 36,
   "id": "00b1d9b6",
   "metadata": {},
   "outputs": [
    {
     "name": "stdout",
     "output_type": "stream",
     "text": [
      "True\n",
      "False\n",
      "False\n",
      "True\n",
      "False\n",
      "True\n"
     ]
    }
   ],
   "source": [
    "print(10 > 8)\n",
    "print(10 < 8)\n",
    "print(10 == 8)\n",
    "print(10 >= 8)\n",
    "print(10 <= 8)\n",
    "print(10 != 8)\n"
   ]
  },
  {
   "cell_type": "code",
   "execution_count": 37,
   "id": "d08b5b22",
   "metadata": {},
   "outputs": [
    {
     "name": "stdout",
     "output_type": "stream",
     "text": [
      "True\n",
      "False\n",
      "False\n",
      "False\n"
     ]
    }
   ],
   "source": [
    "# 52 page\n",
    "\n",
    "# 논리 연산자 : and, or, not\n",
    "#               &&, || , !\n",
    "# 논리 연산자의 피연산자는 bool type만 가능함\n",
    "\n",
    "\n",
    "'''\n",
    "논리 and 연산자 - 논리곱\n",
    "            ㄴ 모두 True 일 때만 True 반환\n",
    "               하나라도 False 이면 False 반환\n",
    "'''\n",
    "\n",
    "print(True and True)\n",
    "print(True and False)\n",
    "print(False and True)\n",
    "print(False and False)\n"
   ]
  },
  {
   "cell_type": "code",
   "execution_count": 38,
   "id": "920bce5c",
   "metadata": {},
   "outputs": [
    {
     "name": "stdout",
     "output_type": "stream",
     "text": [
      "True\n",
      "True\n",
      "True\n",
      "False\n"
     ]
    }
   ],
   "source": [
    "'''\n",
    "논리 or 연산자 - 논리합\n",
    "            ㄴ 모두 False 일 때만 False 반환\n",
    "               하나라도 True 이면 True 반환\n",
    "'''\n",
    "\n",
    "print(True or True)\n",
    "print(True or False)\n",
    "print(False or True)\n",
    "print(False or False)\n"
   ]
  },
  {
   "cell_type": "code",
   "execution_count": 40,
   "id": "cf5054af",
   "metadata": {},
   "outputs": [
    {
     "name": "stdout",
     "output_type": "stream",
     "text": [
      "12\n",
      "False\n",
      "------------------------------------------------------------\n",
      "True\n",
      "12\n"
     ]
    }
   ],
   "source": [
    "'''\n",
    "short circuit\n",
    "    ㄴ 논리 연산자에서 이미 결과가 확정되면\n",
    "       뒤에 나오는 연산을 하지 않음\n",
    "'''\n",
    "\n",
    "\n",
    "num1 = 10\n",
    "num2 = 8\n",
    "\n",
    "# 논리연산이True이고, 정수 값을 출력되는 경우는 True가 노출되지 않고, 정수값만 노출됨\n",
    "\n",
    "print(num1 > num2 and 10 + 2)\n",
    "print(num1 < num2 and 10 + 2)\n",
    "print('-' * 60)\n",
    "\n",
    "print(num1 > num2 or 10 + 2)\n",
    "print(num1 < num2 or 10 + 2)"
   ]
  },
  {
   "cell_type": "code",
   "execution_count": 43,
   "id": "61f92b0a",
   "metadata": {},
   "outputs": [
    {
     "name": "stdout",
     "output_type": "stream",
     "text": [
      "클라우드\n",
      " 스쿨\n",
      "클라우드 스쿨\n",
      " 스쿨 스쿨 스쿨 스쿨 스쿨\n"
     ]
    }
   ],
   "source": [
    "str1 = '클라우드'\n",
    "str2 = ' 스쿨'\n",
    "\n",
    "# 문자열에 *를 하면 배수로 노출됨\n",
    "print(str1)\n",
    "print(str2)\n",
    "print(str1 + str2)\n",
    "print(str2 * 5)"
   ]
  },
  {
   "cell_type": "code",
   "execution_count": 44,
   "id": "631ac7ec",
   "metadata": {},
   "outputs": [
    {
     "name": "stdout",
     "output_type": "stream",
     "text": [
      "True\n",
      "False\n"
     ]
    }
   ],
   "source": [
    "# 논리 부정 연산자 \n",
    "b1 = True\n",
    "print(b1)\n",
    "print(not b1)"
   ]
  },
  {
   "cell_type": "code",
   "execution_count": null,
   "id": "96394c9c",
   "metadata": {},
   "outputs": [],
   "source": []
  }
 ],
 "metadata": {
  "kernelspec": {
   "display_name": "Python 3 (ipykernel)",
   "language": "python",
   "name": "python3"
  },
  "language_info": {
   "codemirror_mode": {
    "name": "ipython",
    "version": 3
   },
   "file_extension": ".py",
   "mimetype": "text/x-python",
   "name": "python",
   "nbconvert_exporter": "python",
   "pygments_lexer": "ipython3",
   "version": "3.10.9"
  }
 },
 "nbformat": 4,
 "nbformat_minor": 5
}
