{
 "cells": [
  {
   "cell_type": "code",
   "execution_count": 1,
   "id": "90fe655a",
   "metadata": {},
   "outputs": [
    {
     "name": "stdout",
     "output_type": "stream",
     "text": [
      "number 는 10 입니다\n",
      "number 는 5보다 크거나 같습니다\n",
      "number 는 20이 아닙니다\n",
      "number 는 30보다 작거나 같습니다\n"
     ]
    }
   ],
   "source": [
    "'''\n",
    "제어문 : control statement\n",
    "        ㄴ 조건문 - if / if - else / if - elif - else\n",
    "           반복문 - for / while\n",
    "           \n",
    "조건문\n",
    "    형식\n",
    "                    expression(표현식)\n",
    "        if 조건식(bool type 값, bool type 변수, 비교식) : \n",
    "        [들여쓰기] 조건식이 참인 경우 실행되는 code\n",
    "        [들여쓰기] 조건식이 참인 경우 실행되는 code\n",
    "        [들여쓰기] 조건식이 참인 경우 실행되는 code\n",
    "        else:\n",
    "        [들여쓰기] 조건식이 거짓인 경우 실행되는 code\n",
    "        [들여쓰기] 조건식이 거짓인 경우 실행되는 code\n",
    "        [들여쓰기] 조건식이 거짓인 경우 실행되는 code\n",
    "\n",
    "        조건이 하나인 경우\n",
    "        if 조건1:\n",
    "            명령문(실행 code)\n",
    "           \n",
    "        조건이 두 개인 경우\n",
    "        if 조건1:\n",
    "            명령문(실행 code)\n",
    "        else:\n",
    "            명령문(실행 code)\n",
    "       \n",
    "       조건이 여러개인 경우\n",
    "        if 조건1:\n",
    "            명령문(실행 code)\n",
    "        elif 조건2:\n",
    "            명령문(실행 code)\n",
    "        elif 조건3:\n",
    "            명령문(실행 code)\n",
    "        elif 조건4:\n",
    "            명령문(실행 code)\n",
    "        else:\n",
    "            명령문(실행 code)\n",
    "'''\n",
    "\n",
    "number = 10\n",
    "\n",
    "if number == 10:\n",
    "    print('number 는 10 입니다')\n",
    "if number >= 5:\n",
    "    print('number 는 5보다 크거나 같습니다')\n",
    "if number != 20:\n",
    "    print('number 는 20이 아닙니다')\n",
    "if number != 10:\n",
    "    print('number 는 10이 아닙니다')\n",
    "if number <= 30:\n",
    "    print('number 는 30보다 작거나 같습니다')"
   ]
  },
  {
   "cell_type": "code",
   "execution_count": 2,
   "id": "2b9bfa3f",
   "metadata": {},
   "outputs": [
    {
     "name": "stdout",
     "output_type": "stream",
     "text": [
      "number 는 10 입니다\n"
     ]
    }
   ],
   "source": [
    "number = 10\n",
    "\n",
    "if number == 10:\n",
    "    print('number 는 10 입니다')\n",
    "elif number >= 5:\n",
    "    print('number 는 5보다 크거나 같습니다')\n",
    "elif number != 20:\n",
    "    print('number 는 20이 아닙니다')\n",
    "elif number != 10:\n",
    "    print('number 는 10이 아닙니다')\n",
    "elif number <= 30:\n",
    "    print('number 는 30보다 작거나 같습니다')\n",
    "else:\n",
    "    print('위의 조건은 모두 거짓입니다 ')"
   ]
  },
  {
   "cell_type": "code",
   "execution_count": 3,
   "id": "d69d54d8",
   "metadata": {},
   "outputs": [
    {
     "name": "stdout",
     "output_type": "stream",
     "text": [
      "크구나\n",
      "참일 때 수행\n",
      "크네\n",
      "작네\n"
     ]
    }
   ],
   "source": [
    "# 80 page\n",
    "\n",
    "no = 5\n",
    "if no >= 3:\n",
    "    print('크구나')\n",
    "    print('참일 때 수행')\n",
    "    \n",
    "if no >= 3:\n",
    "    print('크네')\n",
    "else:\n",
    "    print('작네')\n",
    "    \n",
    "if no <= 3:\n",
    "    print('크네')\n",
    "else:\n",
    "    print('작네')"
   ]
  },
  {
   "cell_type": "code",
   "execution_count": 4,
   "id": "f86339f8",
   "metadata": {},
   "outputs": [
    {
     "name": "stdout",
     "output_type": "stream",
     "text": [
      "외출을 할 수 있습니다 \n",
      "True\n",
      "False\n",
      "True\n",
      "True\n",
      "True\n",
      "True\n"
     ]
    }
   ],
   "source": [
    "money = 3000\n",
    "\n",
    "'''\n",
    "if 키워드 옆에 나오는 값은\n",
    "bool type 으로 자동으로 형변환됨\n",
    "'''\n",
    "\n",
    "if money:\n",
    "    print('외출을 할 수 있습니다 ')\n",
    "else:\n",
    "    print('외출을 할 수 없습니다')\n",
    "    \n",
    "\n",
    "# 정수(int) -> bool type\n",
    "# 정수 0인 경우만 False로 노출됨\n",
    "print(bool(1))\n",
    "print(bool(0))\n",
    "print(bool(-1))\n",
    "print(bool(100))\n",
    "print(bool(-100))\n",
    "print(bool(-555))"
   ]
  },
  {
   "cell_type": "code",
   "execution_count": 5,
   "id": "c8d57ed0",
   "metadata": {},
   "outputs": [
    {
     "name": "stdout",
     "output_type": "stream",
     "text": [
      "외출을 할 수 없습니다\n"
     ]
    }
   ],
   "source": [
    "money = 0\n",
    "\n",
    "if money:\n",
    "    print('외출을 할 수 있습니다 ')\n",
    "else:\n",
    "    print('외출을 할 수 없습니다')\n"
   ]
  },
  {
   "cell_type": "code",
   "execution_count": 6,
   "id": "9faf82b1",
   "metadata": {},
   "outputs": [
    {
     "name": "stdout",
     "output_type": "stream",
     "text": [
      "영화를 못 봅니다\n"
     ]
    }
   ],
   "source": [
    "money = 5000\n",
    "\n",
    "if money >= 15000:\n",
    "    print('영화를 봅니다')\n",
    "else:\n",
    "    print('영화를 못 봅니다')"
   ]
  },
  {
   "cell_type": "code",
   "execution_count": 7,
   "id": "72e7a6da",
   "metadata": {},
   "outputs": [
    {
     "name": "stdout",
     "output_type": "stream",
     "text": [
      "영화를 봅니다\n"
     ]
    }
   ],
   "source": [
    "pocket = ['cash', 'card', 'phone']\n",
    "\n",
    "if 'cash' in pocket or 'card' in pocket:\n",
    "    print('영화를 봅니다')\n",
    "else:\n",
    "    print('영화를 못 봅니다')"
   ]
  },
  {
   "cell_type": "code",
   "execution_count": 8,
   "id": "e86094e5",
   "metadata": {},
   "outputs": [
    {
     "name": "stdout",
     "output_type": "stream",
     "text": [
      "영화를 봅니다\n"
     ]
    }
   ],
   "source": [
    "pocket = ['cash', 'phone']\n",
    "\n",
    "if 'cash' in pocket or 'card' in pocket:\n",
    "    print('영화를 봅니다')\n",
    "else:\n",
    "    print('영화를 못 봅니다')"
   ]
  },
  {
   "cell_type": "code",
   "execution_count": 9,
   "id": "244f4536",
   "metadata": {},
   "outputs": [
    {
     "name": "stdout",
     "output_type": "stream",
     "text": [
      "영화를 못 봅니다\n"
     ]
    }
   ],
   "source": [
    "pocket = ['phone']\n",
    "\n",
    "if 'cash' in pocket or 'card' in pocket:\n",
    "    print('영화를 봅니다')\n",
    "else:\n",
    "    print('영화를 못 봅니다')"
   ]
  },
  {
   "cell_type": "code",
   "execution_count": 10,
   "id": "d25e2b28",
   "metadata": {},
   "outputs": [
    {
     "name": "stdout",
     "output_type": "stream",
     "text": [
      "영화를 못 봅니다\n"
     ]
    }
   ],
   "source": [
    "pocket = ['cash', 'phone']\n",
    "\n",
    "if 'cash' in pocket and 'card' in pocket:\n",
    "    print('영화를 봅니다')\n",
    "else:\n",
    "    print('영화를 못 봅니다')"
   ]
  },
  {
   "cell_type": "code",
   "execution_count": 11,
   "id": "76b697d5",
   "metadata": {},
   "outputs": [
    {
     "name": "stdout",
     "output_type": "stream",
     "text": [
      "로그인 성공!!!\n"
     ]
    }
   ],
   "source": [
    "'''\n",
    "아이디가 '클라우드' 이고\n",
    "비밀번호가 '1234' 이면\n",
    "로그인 성공 !!! 을 출력하고\n",
    "아니면 로그인 실패를 출력하는 \n",
    "code를 작성하세요\n",
    "'''\n",
    "\n",
    "id = '클라우드'\n",
    "pwd = '1234'\n",
    "\n",
    "if id == '클라우드' and pwd == '1234':\n",
    "    print('로그인 성공!!!')\n",
    "else:\n",
    "    print('로그인 실패 ')"
   ]
  },
  {
   "cell_type": "code",
   "execution_count": 12,
   "id": "6ddd57fc",
   "metadata": {},
   "outputs": [
    {
     "name": "stdout",
     "output_type": "stream",
     "text": [
      "로그인 성공!!!\n"
     ]
    }
   ],
   "source": [
    "'''\n",
    "중첩 if문 사용하기\n",
    "nested if statement\n",
    "'''\n",
    "\n",
    "if id == '클라우드':\n",
    "    if pwd == '1234':\n",
    "        print('로그인 성공!!!')\n",
    "    else:\n",
    "        print('로그인 실패')\n",
    "else:\n",
    "    print('로그인 실패 ')"
   ]
  },
  {
   "cell_type": "code",
   "execution_count": 13,
   "id": "5645cf7c",
   "metadata": {},
   "outputs": [
    {
     "name": "stdout",
     "output_type": "stream",
     "text": [
      "로그인 실패 - 아이디를 확인해 주세요\n"
     ]
    }
   ],
   "source": [
    "if id == '클라우드1':\n",
    "    if pwd == '1234':\n",
    "        print('로그인 성공!!!')\n",
    "    else:\n",
    "        print('로그인 실패 - 비밀번호를 확인해 주세요')\n",
    "else:\n",
    "    print('로그인 실패 - 아이디를 확인해 주세요')"
   ]
  },
  {
   "cell_type": "code",
   "execution_count": 14,
   "id": "9d8e9f6f",
   "metadata": {},
   "outputs": [
    {
     "name": "stdout",
     "output_type": "stream",
     "text": [
      "로그인 실패 - 비밀번호를 확인해 주세요\n"
     ]
    }
   ],
   "source": [
    "if id == '클라우드':\n",
    "    if pwd == '123433':\n",
    "        print('로그인 성공!!!')\n",
    "    else:\n",
    "        print('로그인 실패 - 비밀번호를 확인해 주세요')\n",
    "else:\n",
    "    print('로그인 실패 - 아이디를 확인해 주세요')"
   ]
  },
  {
   "cell_type": "code",
   "execution_count": 15,
   "id": "b4ce412f",
   "metadata": {},
   "outputs": [
    {
     "name": "stdout",
     "output_type": "stream",
     "text": [
      "로그인 성공\n"
     ]
    }
   ],
   "source": [
    "'''\n",
    "bool type 변수를 사용하는 방법\n",
    "'''\n",
    "flag = id == '클라우드'\n",
    "flag = flag and pwd == '1234'\n",
    "\n",
    "if flag:\n",
    "    print('로그인 성공')\n",
    "else:\n",
    "    print('로그인 실패')"
   ]
  },
  {
   "cell_type": "code",
   "execution_count": 17,
   "id": "c626e4df",
   "metadata": {},
   "outputs": [
    {
     "name": "stdout",
     "output_type": "stream",
     "text": [
      "로그인 성공\n"
     ]
    }
   ],
   "source": [
    "'''\n",
    "bool type 변수를 사용하는 방법\n",
    "'''\n",
    "flag1 = id == '클라우드'\n",
    "flag2 = pwd == '1234'\n",
    "\n",
    "if flag1 and flag2:\n",
    "    print('로그인 성공')\n",
    "else:\n",
    "    print('로그인 실패')"
   ]
  },
  {
   "cell_type": "code",
   "execution_count": null,
   "id": "0a2e8d42",
   "metadata": {},
   "outputs": [],
   "source": []
  }
 ],
 "metadata": {
  "kernelspec": {
   "display_name": "Python 3 (ipykernel)",
   "language": "python",
   "name": "python3"
  },
  "language_info": {
   "codemirror_mode": {
    "name": "ipython",
    "version": 3
   },
   "file_extension": ".py",
   "mimetype": "text/x-python",
   "name": "python",
   "nbconvert_exporter": "python",
   "pygments_lexer": "ipython3",
   "version": "3.10.9"
  }
 },
 "nbformat": 4,
 "nbformat_minor": 5
}
