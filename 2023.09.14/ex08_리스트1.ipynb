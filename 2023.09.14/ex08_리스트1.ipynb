{
 "cells": [
  {
   "cell_type": "code",
   "execution_count": 8,
   "id": "ed0d13b4",
   "metadata": {},
   "outputs": [
    {
     "name": "stdout",
     "output_type": "stream",
     "text": [
      "list1 : []\n",
      "list2 : []\n",
      "list1 : <class 'list'>\n",
      "list2 : <class 'list'>\n",
      "list3 : [1, 2, 3, 4, 5]\n",
      "list3 : <class 'list'>\n",
      "list4 : ['a', 'b', 'c', 'd', 'e']\n",
      "list4 : <class 'list'>\n",
      "list5 : [1, 2, 3, 'a', 'b', 'python', 34.25, 1.23, True]\n",
      "list5 : <class 'list'>\n"
     ]
    }
   ],
   "source": [
    "'''\n",
    "여러개의 item을 담는 자료형\n",
    "\n",
    "list 자료형\n",
    "tuple 자료형\n",
    "set 자료형\n",
    "dict(dictionary) 자료형\n",
    "\n",
    "\n",
    "1) list\n",
    "    ㄴ 1) index가 있음 : 순서가 있음\n",
    "       2) 비어 있는 list를 생성할 수 있음\n",
    "           ㄴ list() / []\n",
    "       3) 서로 다른 data type 의 item 들을 저장할 수 있음\n",
    "       4) list 자료형은  mutable type 임\n",
    "       5) list 안에 list 를 저장할 수 있음 \n",
    "\n",
    "'''\n",
    "list1 = list()\n",
    "list2 = []\n",
    "\n",
    "print('list1 :', list1)\n",
    "print('list2 :', list2)\n",
    "print('list1 :', type(list1))\n",
    "print('list2 :', type(list2))\n",
    "\n",
    "list3 = [1, 2, 3, 4, 5]\n",
    "print('list3 :', list3)\n",
    "print('list3 :', type(list3))\n",
    "\n",
    "list4 = ['a', 'b', 'c', 'd', 'e']\n",
    "print('list4 :', list4)\n",
    "print('list4 :', type(list4))\n",
    "\n",
    "list5 = [1, 2, 3, 'a', 'b', 'python', 34.25, 1.23, True]\n",
    "print('list5 :', list5)\n",
    "print('list5 :', type(list5))"
   ]
  },
  {
   "cell_type": "code",
   "execution_count": 16,
   "id": "b84d2659",
   "metadata": {},
   "outputs": [
    {
     "name": "stdout",
     "output_type": "stream",
     "text": [
      "list6 : [1, 2, 3, 'a', 'b', 'python']\n",
      "list6[5] : python\n",
      "1784660421760\n",
      "1784624815920\n",
      "list6[5] : programming\n",
      "list6 : [1, 2, 3, 'a', 'b', 'programming']\n",
      "1784660421760\n",
      "1784661134320\n"
     ]
    }
   ],
   "source": [
    "# list 자료형은  mutable type 임\n",
    "list6 = [1, 2, 3, 'a', 'b', 'python',]\n",
    "list6 = [1, 2, 3, 'a', 'b', 'python']\n",
    "print('list6 :', list6)\n",
    "print('list6[5] :', list6[5])\n",
    "print(id(list6))\n",
    "print(id(list6[5]))\n",
    "\n",
    "\n",
    "list6[5] = 'programming'\n",
    "print('list6[5] :', list6[5])\n",
    "print('list6 :', list6)\n",
    "print(id(list6))\n",
    "print(id(list6[5]))\n"
   ]
  },
  {
   "cell_type": "code",
   "execution_count": 19,
   "id": "b2700c99",
   "metadata": {},
   "outputs": [
    {
     "name": "stdout",
     "output_type": "stream",
     "text": [
      "list7[2] : 3\n",
      "list7[5] : ['python', 'programming']\n",
      "list7[5][0] : python\n",
      "list7[5][1] : programming\n",
      "list8[5][2] : ['life', 'array']\n",
      "list8[5][2][0] : life\n"
     ]
    }
   ],
   "source": [
    "'''\n",
    "list 안에 list 를 저장할 수 있음  <-- 2차원 리스트\n",
    "\n",
    "''' \n",
    "list7 = [1, 2, 3, 'a', 'b', ['python', 'programming'], 'best']\n",
    "\n",
    "print('list7[2] :', list7[2])\n",
    "print('list7[5] :', list7[5])\n",
    "print('list7[5][0] :', list7[5][0])\n",
    "print('list7[5][1] :', list7[5][1])\n",
    "\n",
    "list8 = [1, 2, 3, 'a', 'b', ['python', 'programming', ['life', 'array']], 'best']\n",
    "\n",
    "print('list8[5][2] :', list8[5][2])\n",
    "print('list8[5][2][0] :', list8[5][2][0])"
   ]
  },
  {
   "cell_type": "code",
   "execution_count": 23,
   "id": "45e1d8c7",
   "metadata": {},
   "outputs": [
    {
     "name": "stdout",
     "output_type": "stream",
     "text": [
      "[1, 2, 3, 4, 5]\n",
      "[6, 7, 8, 9, 10]\n",
      "[1, 2, 3, 4, 5, 6, 7, 8, 9, 10]\n",
      "[1, 2, 3, 4, 5, 1, 2, 3, 4, 5, 1, 2, 3, 4, 5]\n"
     ]
    }
   ],
   "source": [
    "'''\n",
    "리스트 합치기 \n",
    "'''\n",
    "\n",
    "list1 = [1, 2, 3, 4, 5]\n",
    "list2 = [6, 7, 8, 9, 10]\n",
    "print(list1)\n",
    "print(list2)\n",
    "\n",
    "list3 = list1 + list2\n",
    "print(list3)\n",
    "\n",
    "'''\n",
    "리스트에 곱셈 연산하기\n",
    "'''\n",
    "\n",
    "print(list1 * 3)"
   ]
  },
  {
   "cell_type": "code",
   "execution_count": 1,
   "id": "2b02d9df",
   "metadata": {},
   "outputs": [
    {
     "name": "stdout",
     "output_type": "stream",
     "text": [
      "원본 : [5, 44, 1, 99, 20, 8]\n",
      "-- sorted(numbers) 실행 후 : 원본이 변형되지 않음 --\n",
      "sorted_numbers : [1, 5, 8, 20, 44, 99]\n",
      "원본 : [5, 44, 1, 99, 20, 8]\n",
      "-- numbers.sort() 실행 후 : 원본이 변형됨 --\n",
      "sort_numbers : None\n",
      "원본 : [1, 5, 8, 20, 44, 99]\n"
     ]
    }
   ],
   "source": [
    "'''\n",
    "리스트 정렬하기\n",
    "\n",
    "  sorted() 함수 : 원본을 정렬하지 않고 정렬된 새로운 리스트를 반환함(원본 변형하지 않음 : immutable)\n",
    "                      ㄴ 형식\n",
    "                         sorted(리스트)\n",
    "                         \n",
    "  sort() 메소드 : 원본을 정렬함(원본을 변형함 : mutable\n",
    "                      ㄴ 형식\n",
    "                         리스트.sort()\n",
    "                               ㄴ 접근 연산자\n",
    "'''\n",
    "\n",
    "numbers = [5, 44, 1, 99, 20, 8]\n",
    "\n",
    "print('원본 :', numbers)\n",
    "sorted_numbers = sorted(numbers)\n",
    "\n",
    "print('-- sorted(numbers) 실행 후 : 원본이 변형되지 않음 --')\n",
    "print('sorted_numbers :',sorted_numbers)\n",
    "print('원본 :', numbers)\n",
    "\n",
    "sort_numbers = numbers.sort()\n",
    "print('-- numbers.sort() 실행 후 : 원본이 변형됨 --')\n",
    "print('sort_numbers :',sort_numbers)\n",
    "print('원본 :', numbers)\n"
   ]
  },
  {
   "cell_type": "code",
   "execution_count": 41,
   "id": "7ab373bf",
   "metadata": {},
   "outputs": [
    {
     "name": "stdout",
     "output_type": "stream",
     "text": [
      "sorted_numbers : [99, 44, 20, 8, 5, 1]\n",
      "원본 : [5, 44, 1, 99, 20, 8]\n",
      "None\n",
      "원본 : [1, 5, 8, 20, 44, 99]\n",
      "원본 : [99, 44, 20, 8, 5, 1]\n"
     ]
    }
   ],
   "source": [
    "numbers = [5, 44, 1, 99, 20, 8]\n",
    "\n",
    "# 내림차순\n",
    "sorted_numbers = sorted(numbers)[::-1]\n",
    "print('sorted_numbers :', sorted_numbers)\n",
    "print('원본 :', numbers)\n",
    "\n",
    "# None : numbers.sort() 실행결과의 반환값이 없음\n",
    "print(numbers.sort())\n",
    "print('원본 :', numbers)\n",
    "\n",
    "# 내림차순\n",
    "print('원본 :', numbers[::-1])\n"
   ]
  },
  {
   "cell_type": "code",
   "execution_count": null,
   "id": "c1234ba5",
   "metadata": {},
   "outputs": [],
   "source": []
  }
 ],
 "metadata": {
  "kernelspec": {
   "display_name": "Python 3 (ipykernel)",
   "language": "python",
   "name": "python3"
  },
  "language_info": {
   "codemirror_mode": {
    "name": "ipython",
    "version": 3
   },
   "file_extension": ".py",
   "mimetype": "text/x-python",
   "name": "python",
   "nbconvert_exporter": "python",
   "pygments_lexer": "ipython3",
   "version": "3.10.9"
  }
 },
 "nbformat": 4,
 "nbformat_minor": 5
}
