{
 "cells": [
  {
   "cell_type": "code",
   "execution_count": 8,
   "id": "a844e1fb",
   "metadata": {},
   "outputs": [
    {
     "name": "stdout",
     "output_type": "stream",
     "text": [
      "len(str1) : 41\n",
      "str1[18] : y\n",
      "str1[30] : e\n",
      "str1[16] : t\n"
     ]
    }
   ],
   "source": [
    "str1 = 'life is too short you should learn python'\n",
    "\n",
    "'''\n",
    "    life is too short you should learn python\n",
    "    01234567890123456789012345678901234567890    <- index 번호\n",
    "              1         2         3         4    \n",
    "        \n",
    "        문자열의길이 = 가장큰index번호 + 1\n",
    "        \n",
    "        가장큰index번호 = 문자열의길이 - 1\n",
    "\n",
    "'''\n",
    "\n",
    "# 문자열의 길이를 반환 : len(문자열)\n",
    "print('len(str1) :', len(str1))\n",
    "print('str1[18] :', str1[18])\n",
    "print('str1[30] :', str1[30])\n",
    "print('str1[16] :', str1[16])\n"
   ]
  },
  {
   "cell_type": "code",
   "execution_count": 20,
   "id": "4bdc7f90",
   "metadata": {},
   "outputs": [
    {
     "name": "stdout",
     "output_type": "stream",
     "text": [
      "str1[12:16] : shor\n",
      "str1[12:17] : short\n",
      "str1[22:28] : should\n",
      "str1[35:41] : python\n",
      "str1[22:28] : su\n"
     ]
    }
   ],
   "source": [
    "str1 = 'life is too short you should learn python'\n",
    "\n",
    "'''\n",
    "    life is too short you should learn python\n",
    "    01234567890123456789012345678901234567890    <- index 번호\n",
    "              1         2         3         4    \n",
    "        \n",
    "        문자열의길이 = 가장큰index번호 + 1\n",
    "        \n",
    "        가장큰index번호 = 문자열의길이 - 1\n",
    "\n",
    "'''\n",
    "\n",
    "'''\n",
    "문자열 slicing\n",
    "\n",
    "문자열[start:stop] : start 부터 stop - 1 까지\n",
    "문자열[start:stop:step] : start 부터 stop - 1 까지 step - 1 씩 건너뜀\n",
    "\n",
    "    life is too short you should learn python\n",
    "    01234567890123456789012345678901234567890    <- index 번호\n",
    "              1         2         3         4  \n",
    "'''\n",
    "\n",
    "print('str1[12:16] :', str1[12:16])\n",
    "print('str1[12:17] :', str1[12:17])\n",
    "print('str1[22:28] :', str1[22:28])\n",
    "print('str1[35:41] :', str1[35:41])\n",
    "\n",
    "print('str1[22:28] :', str1[22:28:3])\n",
    "\n"
   ]
  },
  {
   "cell_type": "code",
   "execution_count": 29,
   "id": "ee3f6c18",
   "metadata": {},
   "outputs": [
    {
     "name": "stdout",
     "output_type": "stream",
     "text": [
      "날짜 : 20230914\n",
      "날짜 : 20230914\n",
      "날씨 : sunny\n",
      "날씨 : sunny\n",
      "y\n",
      "y\n",
      "y\n"
     ]
    }
   ],
   "source": [
    "str2 = '20230914sunny'\n",
    "\n",
    "# 날짜만 추출\n",
    "print('날짜 :',str2[0:8])\n",
    "\n",
    "# slicing 할 때 start를 생략하면 맨 처음(0)을 의미함\n",
    "print('날짜 :',str2[:8])\n",
    "\n",
    "# 날씨만 추출\n",
    "print('날씨 :', str2[8:13])\n",
    "\n",
    "# slicing 할 때 stop을 생략하면 맨 끝을 의미함\n",
    "print('날씨 :', str2[8:])\n",
    "\n",
    "# 맨 마지막 문자 indexing 하기\n",
    "\n",
    "'''\n",
    "        문자열의길이 = 가장큰index번호 + 1\n",
    "        가장큰index번호 = 문자열의길이 - 1\n",
    "'''\n",
    "print(str2[12])\n",
    "print(str2[-1])\n",
    "print(str2[len(str2)-1])"
   ]
  },
  {
   "cell_type": "code",
   "execution_count": 32,
   "id": "346657c6",
   "metadata": {},
   "outputs": [
    {
     "name": "stdout",
     "output_type": "stream",
     "text": [
      "13579\n",
      "2468\n"
     ]
    }
   ],
   "source": [
    "'''\n",
    "문자열[start:stop:step] : start 부터 stop - 1 까지 step - 1 씩 건너뜀\n",
    "'''\n",
    "\n",
    "numbers = '123456789'\n",
    "\n",
    "#홀수만 출력하기\n",
    "print(numbers[::2])\n",
    "\n",
    "#짝수만 출력하기\n",
    "print(numbers[1::2])"
   ]
  },
  {
   "cell_type": "code",
   "execution_count": 36,
   "id": "922fa7b7",
   "metadata": {},
   "outputs": [
    {
     "name": "stdout",
     "output_type": "stream",
     "text": [
      "hello\n",
      "2519372895664\n",
      "hellopython\n",
      "2519379669360\n"
     ]
    }
   ],
   "source": [
    "'''\n",
    "mutable\n",
    "str type : imutable type <- 불변형\n",
    "문자열 : 문자열을 메모리에 한 번 올리면 변경할 수 없음\n",
    "\n",
    "'''\n",
    "\n",
    "str1 = 'hello'\n",
    "print(str1)\n",
    "print(id(str1))\n",
    "print(str1 + 'python')\n",
    "print(id(str1 + 'python'))\n"
   ]
  },
  {
   "cell_type": "code",
   "execution_count": 43,
   "id": "bad1384d",
   "metadata": {},
   "outputs": [
    {
     "name": "stdout",
     "output_type": "stream",
     "text": [
      "pithon\n",
      "str2[1] : i\n",
      "python\n",
      "str2 : pithon\n",
      "str2 : pithon\n",
      "result : python\n"
     ]
    }
   ],
   "source": [
    "str2 = 'pithon'\n",
    "print(str2)\n",
    "print('str2[1] :', str2[1])\n",
    "\n",
    "# 문자열은 immutable type 이므로 바꿀 수 없다\n",
    "# TypeError: 'str' object does not support item assignment\n",
    "# str2[1] = 'y'\n",
    "\n",
    "result = str2[0] + 'y' + str2[2:]\n",
    "print(result)\n",
    "\n",
    "# 문자열의replaces() 메소드 : replace(old, new)\n",
    "print('str2 :', str2)\n",
    "result = str2.replace('i', 'y')\n",
    "print('str2 :', str2)\n",
    "print('result :', result)\n"
   ]
  },
  {
   "cell_type": "code",
   "execution_count": 50,
   "id": "c77918fc",
   "metadata": {},
   "outputs": [
    {
     "name": "stdout",
     "output_type": "stream",
     "text": [
      "123456789\n",
      "9\n",
      "987654321\n",
      "25134689\n"
     ]
    }
   ],
   "source": [
    "numbers = '123456789'\n",
    "\n",
    "print(numbers[:])\n",
    "print(numbers[-1])\n",
    "print(numbers[::-1])\n",
    "\n",
    "numbers2 = '98643152'\n",
    "print(numbers2[::-1])"
   ]
  },
  {
   "cell_type": "code",
   "execution_count": null,
   "id": "ae166886",
   "metadata": {},
   "outputs": [],
   "source": []
  },
  {
   "cell_type": "code",
   "execution_count": null,
   "id": "202d383a-9997-4843-b29b-38930f85723d",
   "metadata": {},
   "outputs": [],
   "source": []
  },
  {
   "cell_type": "code",
   "execution_count": null,
   "id": "7ef63563-62a3-43c9-a964-5bb5a6ab9f70",
   "metadata": {},
   "outputs": [],
   "source": []
  },
  {
   "cell_type": "code",
   "execution_count": null,
   "id": "f3c9fccc-09c2-4814-aed4-5d2012e27d9a",
   "metadata": {},
   "outputs": [],
   "source": []
  },
  {
   "cell_type": "code",
   "execution_count": null,
   "id": "f0a857fa",
   "metadata": {},
   "outputs": [],
   "source": []
  },
  {
   "cell_type": "code",
   "execution_count": null,
   "id": "8278ce8c",
   "metadata": {},
   "outputs": [],
   "source": []
  }
 ],
 "metadata": {
  "kernelspec": {
   "display_name": "Python 3 (ipykernel)",
   "language": "python",
   "name": "python3"
  },
  "language_info": {
   "codemirror_mode": {
    "name": "ipython",
    "version": 3
   },
   "file_extension": ".py",
   "mimetype": "text/x-python",
   "name": "python",
   "nbconvert_exporter": "python",
   "pygments_lexer": "ipython3",
   "version": "3.10.9"
  }
 },
 "nbformat": 4,
 "nbformat_minor": 5
}
