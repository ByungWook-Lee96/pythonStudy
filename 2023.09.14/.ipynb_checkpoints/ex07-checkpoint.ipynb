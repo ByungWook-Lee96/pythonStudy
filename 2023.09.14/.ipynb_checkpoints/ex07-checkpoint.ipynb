{
 "cells": [
  {
   "cell_type": "code",
   "execution_count": 2,
   "id": "dd755316",
   "metadata": {},
   "outputs": [
    {
     "name": "stdout",
     "output_type": "stream",
     "text": [
      "첫 번째 숫자를 입력하세요 : 77\n",
      "두 번째 숫자를 입력하세요 : 64\n",
      "세 번째 숫자를 입력하세요 : 188\n",
      "최대값 : 188\n"
     ]
    }
   ],
   "source": [
    "'''\n",
    "정수 세 개를 입력 받아서 <-- input()\n",
    "최대값과 최소값을 출력하세요\n",
    "max min\n",
    "\n",
    "'''\n",
    "\n",
    "num1 = int(input('첫 번째 숫자를 입력하세요 : '))\n",
    "num2 = int(input('두 번째 숫자를 입력하세요 : '))\n",
    "num3 = int(input('세 번째 숫자를 입력하세요 : '))\n",
    "\n",
    "'''\n",
    "num1이 최대값이 되는 조건\n",
    "num1 >= num2 and num1 >= num3  <-- max = num1\n",
    "num2이 최대값이 되는 조건\n",
    "num2 >= num1 and num2 >= num3\n",
    "num3이 최대값이 되는 조건\n",
    "num3 >= num1 and num3 >= num2\n",
    "'''\n",
    "\n",
    "max = 0\n",
    "\n",
    "if num1 >= num2 and num1 >= num3:\n",
    "    max = num1\n",
    "elif num2 >= num1 and num2 >= num3:\n",
    "    max = num2\n",
    "elif num3 >= num1 and num3 >= num2:\n",
    "    max = num3\n",
    "    \n",
    "print(f'최대값 : {max}')\n"
   ]
  },
  {
   "cell_type": "code",
   "execution_count": 4,
   "id": "87344463",
   "metadata": {},
   "outputs": [
    {
     "name": "stdout",
     "output_type": "stream",
     "text": [
      "첫 번째 숫자를 입력하세요 : 5555\n",
      "두 번째 숫자를 입력하세요 : 4443\n",
      "세 번째 숫자를 입력하세요 : 6666\n",
      "최대값 : 6666\n",
      "최소값 : 4443\n"
     ]
    }
   ],
   "source": [
    "num1 = int(input('첫 번째 숫자를 입력하세요 : '))\n",
    "num2 = int(input('두 번째 숫자를 입력하세요 : '))\n",
    "num3 = int(input('세 번째 숫자를 입력하세요 : '))\n",
    "\n",
    "max = 0\n",
    "min = 0\n",
    "\n",
    "if num1 >= num2 and num1 >= num3:\n",
    "    max = num1\n",
    "elif num2 >= num3:\n",
    "    max = num2\n",
    "else:\n",
    "    max = num3\n",
    "    \n",
    "print(f'최대값 : {max}')\n",
    "\n",
    "if num1 <= num2 and num1 <= num3:\n",
    "    min = num1\n",
    "elif num2 <= num3:\n",
    "    min = num2\n",
    "else:\n",
    "    min = num3\n",
    "    \n",
    "print(f'최소값 : {min}')\n"
   ]
  },
  {
   "cell_type": "code",
   "execution_count": 5,
   "id": "18e0da48",
   "metadata": {},
   "outputs": [
    {
     "name": "stdout",
     "output_type": "stream",
     "text": [
      "첫 번째 숫자를 입력하세요 : 22\n",
      "두 번째 숫자를 입력하세요 : 33\n",
      "최대값 : 33\n",
      "최소값 : 22\n"
     ]
    }
   ],
   "source": [
    "'''\n",
    "정수 두 개를 입력 받아서 <-- input()\n",
    "최대값과 최소값을 출력하세요\n",
    "max min\n",
    "\n",
    "'''\n",
    "\n",
    "num1 = int(input('첫 번째 숫자를 입력하세요 : '))\n",
    "num2 = int(input('두 번째 숫자를 입력하세요 : '))\n",
    "\n",
    "max = 0\n",
    "min = 0\n",
    "\n",
    "if num1 >= num2:\n",
    "    max = num1\n",
    "else:\n",
    "    max = num2\n",
    "    \n",
    "if num1 <= num2:\n",
    "    min = num1\n",
    "else:\n",
    "    min = num2\n",
    "\n",
    "print(f'최대값 : {max}')\n",
    "print(f'최소값 : {min}')\n"
   ]
  },
  {
   "cell_type": "code",
   "execution_count": 12,
   "id": "b49bb4cc",
   "metadata": {},
   "outputs": [
    {
     "name": "stdout",
     "output_type": "stream",
     "text": [
      "첫 번째 숫자를 입력하세요 : 44\n",
      "두 번째 숫자를 입력하세요 : 55\n",
      "최대값 : 55\n",
      "최소값 : 44\n"
     ]
    }
   ],
   "source": [
    "'''\n",
    "if 문을 사용한 삼항연산자\n",
    "\n",
    "형식\n",
    "\n",
    "결과 = 참일 때 값 if 조건문 else 거짓일 때 값\n",
    "\n",
    "'''\n",
    "num1 = int(input('첫 번째 숫자를 입력하세요 : '))\n",
    "num2 = int(input('두 번째 숫자를 입력하세요 : '))\n",
    "\n",
    "if num1 >= num2:\n",
    "    max = num1\n",
    "else:\n",
    "    max = num2\n",
    "    \n",
    "if num1 <= num2:\n",
    "    min = num1\n",
    "else:\n",
    "    min = num2\n",
    "\n",
    "max = num1 if num1 >= num2 else num2\n",
    "min = num1 if num1 <= num2 else num2\n",
    "\n",
    "print(f'최대값 : {max}')\n",
    "print(f'최소값 : {min}')\n",
    "\n"
   ]
  },
  {
   "cell_type": "code",
   "execution_count": 14,
   "id": "6776187b",
   "metadata": {},
   "outputs": [
    {
     "name": "stdout",
     "output_type": "stream",
     "text": [
      "첫 번째 숫자를 입력하세요 : 550\n",
      "두 번째 숫자를 입력하세요 : 444\n",
      "세 번째 숫자를 입력하세요 : 888\n",
      "최대값 : 888\n",
      "최소값 : 444\n"
     ]
    }
   ],
   "source": [
    "num1 = int(input('첫 번째 숫자를 입력하세요 : '))\n",
    "num2 = int(input('두 번째 숫자를 입력하세요 : '))\n",
    "num3 = int(input('세 번째 숫자를 입력하세요 : '))\n",
    "\n",
    "if num1 >= num2 and num1 >= num3:\n",
    "    max = num1\n",
    "elif num2 >= num3:\n",
    "    max = num2\n",
    "else:\n",
    "    max = num3\n",
    "    \n",
    "max = num1 if num1 >= num2 and num1 >= num3 else num2 if num2 >= num3 else num3\n",
    "min = num1 if num1 <= num2 and num1 <= num3 else num2 if num2 <= num3 else num3\n",
    "\n",
    "print(f'최대값 : {max}')\n",
    "print(f'최소값 : {min}')\n"
   ]
  },
  {
   "cell_type": "code",
   "execution_count": 20,
   "id": "253b57d8",
   "metadata": {},
   "outputs": [
    {
     "name": "stdout",
     "output_type": "stream",
     "text": [
      "전화번호를 입력하세요 : 01012312123\n",
      "전화번호를 올바르게 입력해주세요.\n"
     ]
    }
   ],
   "source": [
    "'''\n",
    "\n",
    "번호  통신사\n",
    "011    skt\n",
    "016    kt\n",
    "019    LGT\n",
    "\n",
    "번호에 따라서 통신사를 출력하는\n",
    "code를 작성하세요\n",
    "'''\n",
    "\n",
    "phone = input('전화번호를 입력하세요 : ')\n",
    "\n",
    "# 0116598576 : 입력한 번호에서앞 세 자리만 slicing 함\n",
    "phone = phone[:3]\n",
    "\n",
    "company = ''\n",
    "\n",
    "if phone == '011':\n",
    "    company = 'SKT'\n",
    "elif phone == '016':\n",
    "    company = 'KT'\n",
    "elif phone == '019':\n",
    "    company = 'LGT'\n",
    "else:\n",
    "    company = '?'\n",
    "\n",
    "if company != '?':\n",
    "    print(f'통신사는 {company} 입니다')\n",
    "else:\n",
    "    print('전화번호를 올바르게 입력해주세요.')"
   ]
  },
  {
   "cell_type": "code",
   "execution_count": 30,
   "id": "6a22bf66",
   "metadata": {},
   "outputs": [
    {
     "name": "stdout",
     "output_type": "stream",
     "text": [
      "<class 'str'>\n",
      "<class 'bool'>\n",
      "True\n",
      "False\n",
      "True\n",
      "False\n",
      "True\n",
      "False\n",
      "False\n",
      "False\n",
      "False\n",
      "True\n",
      "False\n",
      "True\n",
      "True\n"
     ]
    }
   ],
   "source": [
    "'''\n",
    "bool type으로 형변환하기\n",
    "'''\n",
    "\n",
    "print(type('클라우드'))\n",
    "print(type(bool('클라우드')))\n",
    "print(bool('클라우드'))\n",
    "print(bool(''))  # 빈 문자열은 False로 출력\n",
    "print(bool([1, 2, 3, 4, 5]))\n",
    "print(bool([]))  # 빈 리스트도 False로 출력\n",
    "print(bool((1, 2, 3, 4, 5)))\n",
    "print(bool(()))  # 빈 튜플도 False로 출력\n",
    "print(bool(set()))  # 빈 set도 False로 출력\n",
    "print(bool({}))  # 빈 딕셔너리도 False로 출력\n",
    "print(bool(None))  # null 값도 False로 출력(python에서는 None값)\n",
    "print(bool(1))\n",
    "print(bool(0))  # 정수 0도 False로 출력 \n",
    "print(bool(-1))\n",
    "print(bool(-933))"
   ]
  },
  {
   "cell_type": "code",
   "execution_count": null,
   "id": "0de20462",
   "metadata": {},
   "outputs": [],
   "source": []
  },
  {
   "cell_type": "code",
   "execution_count": null,
   "id": "d50a7a03",
   "metadata": {},
   "outputs": [],
   "source": []
  },
  {
   "cell_type": "code",
   "execution_count": null,
   "id": "87778be9",
   "metadata": {},
   "outputs": [],
   "source": []
  },
  {
   "cell_type": "code",
   "execution_count": null,
   "id": "c1e618e9",
   "metadata": {},
   "outputs": [],
   "source": []
  },
  {
   "cell_type": "code",
   "execution_count": null,
   "id": "d302b998",
   "metadata": {},
   "outputs": [],
   "source": []
  },
  {
   "cell_type": "code",
   "execution_count": null,
   "id": "d13fc7fc",
   "metadata": {},
   "outputs": [],
   "source": []
  }
 ],
 "metadata": {
  "kernelspec": {
   "display_name": "Python 3 (ipykernel)",
   "language": "python",
   "name": "python3"
  },
  "language_info": {
   "codemirror_mode": {
    "name": "ipython",
    "version": 3
   },
   "file_extension": ".py",
   "mimetype": "text/x-python",
   "name": "python",
   "nbconvert_exporter": "python",
   "pygments_lexer": "ipython3",
   "version": "3.10.9"
  }
 },
 "nbformat": 4,
 "nbformat_minor": 5
}
