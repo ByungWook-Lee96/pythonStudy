{
 "cells": [
  {
   "cell_type": "code",
   "execution_count": 3,
   "id": "bd2d9f23-1ed1-438d-a8a7-0befd65a7000",
   "metadata": {},
   "outputs": [
    {
     "name": "stdout",
     "output_type": "stream",
     "text": [
      "str1.find('i') : 7\n",
      "str1.rfind('i') : 27\n",
      "str1.find('z') : -1\n",
      "str1.rfind('i') : -1\n"
     ]
    }
   ],
   "source": [
    "str1 = 'python is the best programming language'\n",
    "\n",
    "'''\n",
    "find(문자열), rfind(문자열)\n",
    " ㄴ 해당 문자열의 index를 반환함\n",
    " \n",
    " 없는 문자열을 지정하는 경우: -1 반환\n",
    "'''\n",
    "\n",
    "# find는 앞에서부터 찾는 것\n",
    "print(\"str1.find('i') :\", str1.find('i'))\n",
    "\n",
    "# rfind는 뒤에서부터 찾는 것\n",
    "print(\"str1.rfind('i') :\", str1.rfind('i'))\n",
    "\n",
    "print(\"str1.find('z') :\", str1.find('z'))\n",
    "print(\"str1.rfind('i') :\", str1.rfind('z'))"
   ]
  },
  {
   "cell_type": "code",
   "execution_count": 6,
   "id": "5ed54109-0c61-4cbd-9c3e-bced9f315b17",
   "metadata": {},
   "outputs": [
    {
     "name": "stdout",
     "output_type": "stream",
     "text": [
      "str1.index('i') : 7\n",
      "str1.rindex('i') : 27\n"
     ]
    },
    {
     "data": {
      "text/plain": [
       "'\\nprint(\"str1.index(\\'z\\') :\", str1.index(\\'z\\'))\\nprint(\"str1.rindex(\\'z\\') :\", str1.rindex(\\'z\\'))\\n'"
      ]
     },
     "execution_count": 6,
     "metadata": {},
     "output_type": "execute_result"
    }
   ],
   "source": [
    "'''\n",
    "\n",
    "index(문자열), rindex(문자열)\n",
    " ㄴ 해당 문자열의 index를 반환함\n",
    "\n",
    "\n",
    "   없는 문자열을 지정하는 경우 : 오류가 발생함\n",
    "'''\n",
    "\n",
    "print(\"str1.index('i') :\", str1.index('i'))\n",
    "print(\"str1.rindex('i') :\", str1.rindex('i'))\n",
    "\n",
    "'''\n",
    "print(\"str1.index('z') :\", str1.index('z'))\n",
    "print(\"str1.rindex('z') :\", str1.rindex('z'))\n",
    "'''\n"
   ]
  },
  {
   "cell_type": "code",
   "execution_count": 8,
   "id": "0fd13b8f-1cbc-4e7a-9435-72930d2b9989",
   "metadata": {},
   "outputs": [
    {
     "name": "stdout",
     "output_type": "stream",
     "text": [
      "p,y,t,h,o,n\n",
      "p@@@y@@@t@@@h@@@o@@@n\n",
      "p$$$y$$$t$$$h$$$o$$$n\n"
     ]
    }
   ],
   "source": [
    "'''\n",
    "join() 메소드 : 각 문자 사이에 seperator 로 지정한 문자열이 들어감\n",
    "\n",
    " 형식\n",
    "    'seperator(구분자)'.join(대상문자열)\n",
    "'''\n",
    "\n",
    "str1 = 'python'\n",
    "print(','.join(str1))\n",
    "print('@@@'.join(str1))\n",
    "print('$$$'.join(str1))"
   ]
  },
  {
   "cell_type": "code",
   "execution_count": 18,
   "id": "95d3b57a-b2d8-4f51-9ff9-0c665852d615",
   "metadata": {},
   "outputs": [
    {
     "name": "stdout",
     "output_type": "stream",
     "text": [
      "['p', 'y', 't', 'h', 'o', 'n']\n",
      "['pyth', 'n pr', 'gramming']\n",
      "['inte', 'p', 'ete', ' p', 'og', 'am']\n",
      "['hello', 'world']\n",
      "['010', '0000', '1111']\n",
      "01000001111\n",
      "01000001111\n"
     ]
    }
   ],
   "source": [
    "'''\n",
    "split() 메소드 : 구분자를 기준으로 나누어진 문자열을 item으로 하는 list를 반환함\n",
    "                대상문자열에 포함된 문자 중에서만 구분자를 지정할 수 있음\n",
    "                \n",
    "                \n",
    "    형식\n",
    "        대상문자열.split('seperator(구분자)')\n",
    "'''\n",
    "\n",
    "str2 = 'p,y,t,h,o,n'\n",
    "\n",
    "print(str2.split(','))\n",
    "\n",
    "str3 = 'python programming'\n",
    "print(str3.split('o'))\n",
    "\n",
    "str3 = 'interpreter program'\n",
    "print(str3.split('r'))\n",
    "\n",
    "str3 = 'hello world'\n",
    "print(str3.split(' '))\n",
    "\n",
    "# 전화번호 : 010-0000-1111\n",
    "phone = '010-0000-1111'\n",
    "result = phone.split('-')\n",
    "print(result)\n",
    "print(result[0] + result[1] + result[2])\n",
    "\n",
    "print(phone.replace('-',''))"
   ]
  },
  {
   "cell_type": "code",
   "execution_count": 28,
   "id": "20bbd2ef-65f0-4a6a-818a-60f6afb8f70c",
   "metadata": {},
   "outputs": [
    {
     "name": "stdout",
     "output_type": "stream",
     "text": [
      "python\n",
      "PYTHON\n",
      "PytHON\n",
      "True\n",
      "False\n",
      "False\n",
      "True\n"
     ]
    }
   ],
   "source": [
    "'''\n",
    "lower case : 소문자\n",
    "upper case : 대문자\n",
    "\n",
    "문자열.lower() : 문자열을 소문자로 \n",
    "문자열.upper() : 문자열을 대문자로\n",
    "문자열.swapcase() : 대문자 <-> 소문자\n",
    "'''\n",
    "\n",
    "str1 = 'pYThon'\n",
    "print(str1.lower())\n",
    "print(str1.upper())\n",
    "print(str1.swapcase())\n",
    "\n",
    "'''\n",
    "islower() : 문자열이 소문자면 True 를 반환\n",
    "isupper() : 문자열이 대문자면 True 를 반환\n",
    "'''\n",
    "\n",
    "print('e'.islower())\n",
    "print('E'.islower())\n",
    "print('e'.isupper())\n",
    "print('E'.isupper())"
   ]
  },
  {
   "cell_type": "code",
   "execution_count": 27,
   "id": "b3e7d687-3e4c-4e47-9303-b98975fb0603",
   "metadata": {},
   "outputs": [
    {
     "name": "stdout",
     "output_type": "stream",
     "text": [
      "4\n",
      "3\n",
      "1\n",
      "1\n",
      "0\n"
     ]
    }
   ],
   "source": [
    "str1 = 'python is the best programming language'\n",
    "\n",
    "'''\n",
    "대상문자열.count(문자열) 메소드 : 대상문자열에 있는 문자열의 개수를 반환함\n",
    "'''\n",
    "print(str1.count('g'))\n",
    "print(str1.count('t'))\n",
    "print(str1.count('python'))\n",
    "print(str1.count('bes'))\n",
    "print(str1.count('z'))"
   ]
  },
  {
   "cell_type": "code",
   "execution_count": 32,
   "id": "54bd6af5-8eda-4ac2-bb86-0347ab020aa4",
   "metadata": {},
   "outputs": [
    {
     "name": "stdout",
     "output_type": "stream",
     "text": [
      "hello my name is Lee\n",
      "hello my name is Lee\n",
      "hello my name is Lee\n",
      "hello my name is Lee\n"
     ]
    }
   ],
   "source": [
    "'''\n",
    "strip() : 문자열 왼쪽, 오른쪽에 있는 공백 제거\n",
    "lstrip() : 문자열 왼쪽에 있는 공백 제거\n",
    "rstrip() : 문자열 오른쪽에 있는 공백 제거\n",
    "\n",
    "'''\n",
    "\n",
    "str3 = ' python '\n",
    "print(str3)\n",
    "print(str3.strip())\n",
    "print(str3.lstrip())\n",
    "print(str3.rstrip())"
   ]
  },
  {
   "cell_type": "code",
   "execution_count": 38,
   "id": "fdaf16e4-8d09-4e28-8008-d083a30fee49",
   "metadata": {},
   "outputs": [
    {
     "name": "stdout",
     "output_type": "stream",
     "text": [
      "True\n",
      "False\n",
      "True\n",
      "True\n",
      "True\n",
      "True\n",
      "False\n"
     ]
    }
   ],
   "source": [
    "'''\n",
    "startswith(문자열) : 문자열로 시작하면 True를 반환\n",
    "endswith(문자열) : 문자열로 끝나면 True를 반환\n",
    "\n",
    "in 연산자 : '대상문자열' in '문자열'\n",
    "                ㄴ 대상문자열이 문자열에 포함되어 있으면 True를 반환\n",
    "\n",
    "'''\n",
    "\n",
    "file1 = 'report_2023.hwp'\n",
    "\n",
    "# 한글 파일인지 확인\n",
    "print(file1.endswith('hwp'))\n",
    "print(file1.endswith('txt'))\n",
    "\n",
    "# 보고서 파일인지 확인\n",
    "print(file1.startswith('report'))\n",
    "\n",
    "# 2023년도 파일인지 확인\n",
    "print('2023' in file1)\n",
    "\n",
    "print('hwp' in file1)\n",
    "print('report' in file1)\n",
    "print('txt' in file1)\n",
    "\n"
   ]
  },
  {
   "cell_type": "code",
   "execution_count": 44,
   "id": "a32d564b-c9a4-49c1-9c5b-722945d78849",
   "metadata": {},
   "outputs": [
    {
     "name": "stdout",
     "output_type": "stream",
     "text": [
      "AWS 클라우드\n",
      "AWS\t클라우드\n",
      "AWS\\클라우드\n",
      "C:\\workspace\\python\n",
      "C:\n",
      "orkspace\tython\n",
      "C:\\norkspace\\tython\n"
     ]
    }
   ],
   "source": [
    "# 56 page\n",
    "\n",
    "'''\n",
    "raw string\n",
    "'''\n",
    "\n",
    "print('AWS 클라우드')\n",
    "print('AWS\\t클라우드')\n",
    "print(r'AWS\\클라우드')\n",
    "\n",
    "print('C:\\workspace\\python')\n",
    "print('C:\\norkspace\\tython')\n",
    "print(r'C:\\norkspace\\tython')"
   ]
  },
  {
   "cell_type": "code",
   "execution_count": 45,
   "id": "f435510f-6df8-4754-abc6-38276ea24ac7",
   "metadata": {},
   "outputs": [
    {
     "name": "stdout",
     "output_type": "stream",
     "text": [
      "14\n"
     ]
    }
   ],
   "source": [
    "total = 2 + 3 * 4\n",
    "print(total)"
   ]
  },
  {
   "cell_type": "code",
   "execution_count": 46,
   "id": "545d43c4-7076-4a73-9477-f4b5a657c702",
   "metadata": {},
   "outputs": [
    {
     "name": "stdout",
     "output_type": "stream",
     "text": [
      "14\n"
     ]
    }
   ],
   "source": [
    "# 줄바꿈을 처리할 때 \\를 사용\n",
    "total = 2 + \\\n",
    "3 * 4\n",
    "print(total)"
   ]
  },
  {
   "cell_type": "code",
   "execution_count": 48,
   "id": "2d58a89b-7c98-45bf-b3d2-fbd10dc73a3b",
   "metadata": {},
   "outputs": [],
   "source": [
    "jumsu = ['kor', 'eng','math']"
   ]
  },
  {
   "cell_type": "code",
   "execution_count": 48,
   "id": "62197941",
   "metadata": {},
   "outputs": [],
   "source": [
    "jumsu = ['kor', 'eng',\n",
    "         'math']"
   ]
  },
  {
   "cell_type": "code",
   "execution_count": null,
   "id": "4c5bc8b3",
   "metadata": {},
   "outputs": [],
   "source": []
  }
 ],
 "metadata": {
  "kernelspec": {
   "display_name": "Python 3 (ipykernel)",
   "language": "python",
   "name": "python3"
  },
  "language_info": {
   "codemirror_mode": {
    "name": "ipython",
    "version": 3
   },
   "file_extension": ".py",
   "mimetype": "text/x-python",
   "name": "python",
   "nbconvert_exporter": "python",
   "pygments_lexer": "ipython3",
   "version": "3.10.9"
  }
 },
 "nbformat": 4,
 "nbformat_minor": 5
}
