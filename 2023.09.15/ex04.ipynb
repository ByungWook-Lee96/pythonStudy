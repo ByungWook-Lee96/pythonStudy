{
 "cells": [
  {
   "cell_type": "code",
   "execution_count": 6,
   "id": "75658565",
   "metadata": {},
   "outputs": [
    {
     "name": "stdout",
     "output_type": "stream",
     "text": [
      "['82', '010', '1111', '2345']\n",
      "11112345\n"
     ]
    }
   ],
   "source": [
    "phone = '82/010/1111/2345'\n",
    "\n",
    "'''\n",
    "split() 메소드를 사용해서\n",
    "국가번호와 010을 제외한\n",
    "나머지 8 자리 숫자만 출력하세요\n",
    "'''\n",
    "result = phone.split('/')\n",
    "print(result)\n",
    "\n",
    "print(result[2] + result[3])\n",
    "\n"
   ]
  },
  {
   "cell_type": "code",
   "execution_count": null,
   "id": "119f3fc6",
   "metadata": {},
   "outputs": [],
   "source": [
    "movies = ['지구의밤', '라바', '문어선생님', '원더']\n",
    "print('movies :', movies)\n",
    "\n",
    "'''\n",
    "movies 맨 뒤에 '작은 아씨들' 을 추가하세요\n",
    "'''\n",
    "movies.append('작은 아씨들')\n",
    "print('append 사용 : ', movies)\n"
   ]
  },
  {
   "cell_type": "code",
   "execution_count": null,
   "id": "b25f677e",
   "metadata": {},
   "outputs": [],
   "source": [
    "movies = ['지구의밤', '라바', '문어선생님', '원더']\n",
    "\n",
    "'''\n",
    "문어선생님과 원더 사이에 \n",
    "JFK를 추가하세요\n",
    "'''\n",
    "\n",
    "movies.insert(3,'JFK')\n",
    "print('movies :', movies)\n",
    "\n",
    "\n",
    "'''\n",
    "라바와 문어선생님 사이에\n",
    "트위스트를 추가하세요\n",
    "'''\n",
    "\n",
    "movies.insert(movies.index('문어선생님'), '트위스트')\n",
    "print('movies :', movies)\n"
   ]
  },
  {
   "cell_type": "code",
   "execution_count": 16,
   "id": "34079b17",
   "metadata": {},
   "outputs": [
    {
     "name": "stdout",
     "output_type": "stream",
     "text": [
      "moives : ['지구의밤', '라바', '트위스트', '문어선생님', 'JFK', '원더', '작은 아씨들']\n",
      "moives : ['지구의밤', '라바', '트위스트', '문어선생님', 'JFK', '원더']\n",
      "moives : ['지구의밤', '트위스트', '문어선생님', 'JFK', '원더']\n",
      "moives : ['지구의밤', '문어선생님', 'JFK', '원더']\n",
      "True\n",
      "False\n"
     ]
    }
   ],
   "source": [
    "movies = ['지구의밤', '라바','트위스트', '문어선생님', 'JFK', '원더', '작은 아씨들', '미니언즈' ]\n",
    "\n",
    "\n",
    "'''\n",
    "미니언즈를 movies에서 삭제하세요 : remove()\n",
    "'''\n",
    "\n",
    "movies.remove('미니언즈')\n",
    "print('moives :', movies)\n",
    "\n",
    "'''\n",
    "작은 아씨들을 moives에서 삭제하세요 : pop()\n",
    "'''\n",
    "\n",
    "movies.pop()\n",
    "print('moives :', movies)\n",
    "\n",
    "'''\n",
    "라바를 movies에서 삭제하세요 : pop(index)\n",
    "'''\n",
    "\n",
    "movies.pop(movies.index('라바'))\n",
    "print('moives :', movies)\n",
    "\n",
    "'''\n",
    "트위스트를 movies에서 삭제하세요 : del 명령어 사용\n",
    "'''\n",
    "\n",
    "del movies[movies.index('트위스트')]\n",
    "print('moives :', movies)\n",
    "\n",
    "'''\n",
    "in 연산자를 사용해서 movies에 지구의 밤이 있는지 확인하세요\n",
    "'''\n",
    "\n",
    "print('지구의밤' in movies)\n",
    "\n",
    "'''\n",
    "in 연산자를 사용해서 movies에 미션 이 있는지 확인하세요\n",
    "'''\n",
    "\n",
    "print('미션' in movies)\n"
   ]
  },
  {
   "cell_type": "code",
   "execution_count": 18,
   "id": "f7c2dc19",
   "metadata": {},
   "outputs": [
    {
     "name": "stdout",
     "output_type": "stream",
     "text": [
      "최대값 : 78\n",
      "최소값 : 3\n",
      "합  계 : 184\n",
      "평  균 : 31\n"
     ]
    }
   ],
   "source": [
    "numbers = [32, 56 ,78 ,10, 3, 5]\n",
    "\n",
    "print('최대값 :', max(numbers))\n",
    "print('최소값 :', min(numbers))\n",
    "print('합  계 :', sum(numbers))\n",
    "print('평  균 :', round(sum(numbers) / len(numbers)))"
   ]
  },
  {
   "cell_type": "code",
   "execution_count": 21,
   "id": "44f6e418",
   "metadata": {},
   "outputs": [
    {
     "name": "stdout",
     "output_type": "stream",
     "text": [
      "30.666666666666668\n",
      "31\n",
      "30.67\n"
     ]
    }
   ],
   "source": [
    "'''\n",
    "numpy 모듈의 mean() 함수\n",
    "'''\n",
    "\n",
    "numbers = [32, 56 ,78 ,10, 3, 5]\n",
    "\n",
    "\n",
    "import numpy as np\n",
    "print(np.mean(numbers))\n",
    "print(round(np.mean(numbers)))\n",
    "print(round(np.mean(numbers),2))\n"
   ]
  },
  {
   "cell_type": "code",
   "execution_count": 24,
   "id": "e34a78a3",
   "metadata": {},
   "outputs": [
    {
     "name": "stdout",
     "output_type": "stream",
     "text": [
      "30.666666666666668\n",
      "31\n",
      "30.67\n"
     ]
    }
   ],
   "source": [
    "'''\n",
    "statistics 모듈의 mean() 함수\n",
    "'''\n",
    "\n",
    "import statistics as stat\n",
    "print(stat.mean(numbers))\n",
    "print(round(stat.mean(numbers)))\n",
    "print(round(stat.mean(numbers),2))"
   ]
  },
  {
   "cell_type": "code",
   "execution_count": 34,
   "id": "56fc13eb",
   "metadata": {},
   "outputs": [
    {
     "name": "stdout",
     "output_type": "stream",
     "text": [
      "companies : ['LG전자', '네이버', '아마존', '삼성전자']\n",
      "['LG전자', '네이버', '아마존', '삼성전자']\n",
      "LG전자 네이버 아마존 삼성전자\n",
      "LG전자##네이버##아마존##삼성전자\n",
      "LG전자@네이버@아마존@삼성전자\n"
     ]
    }
   ],
   "source": [
    "companies = ['LG전자', '네이버', '아마존', '삼성전자']\n",
    "print('companies :', companies)\n",
    "\n",
    "'''\n",
    "다음과 같이 출력하세요\n",
    " ㄴ LG전자 네이버 아마존 삼성전자\n",
    "'''\n",
    "str1 = 'LG전자,네이버,아마존,삼성전자'\n",
    "print(str1.split(','))\n",
    "\n",
    "print(' '.join(companies))\n",
    "print('##'.join(companies))\n",
    "print('@'.join(companies))"
   ]
  },
  {
   "cell_type": "code",
   "execution_count": 30,
   "id": "b7a7ed60",
   "metadata": {},
   "outputs": [
    {
     "name": "stdout",
     "output_type": "stream",
     "text": [
      "list1 : [1, 2, 3, 4, 5]\n",
      "list1 : []\n"
     ]
    }
   ],
   "source": [
    "list1 = [1, 2, 3, 4, 5]\n",
    "\n",
    "'''\n",
    "리스트 아이템 삭제하기\n",
    "\n",
    "remove(item)\n",
    "pop()\n",
    "pop(index)\n",
    "del\n",
    "clear()  <-- 모든 item 을 한꺼번에 삭제함 \n",
    "'''\n",
    "\n",
    "print('list1 :', list1)\n",
    "list1.clear()\n",
    "print('list1 :', list1)"
   ]
  },
  {
   "cell_type": "code",
   "execution_count": null,
   "id": "d0fa0e9c",
   "metadata": {},
   "outputs": [],
   "source": []
  },
  {
   "cell_type": "code",
   "execution_count": null,
   "id": "7e6e933d",
   "metadata": {},
   "outputs": [],
   "source": []
  },
  {
   "cell_type": "code",
   "execution_count": null,
   "id": "80a6d948",
   "metadata": {},
   "outputs": [],
   "source": []
  },
  {
   "cell_type": "code",
   "execution_count": null,
   "id": "5321409a",
   "metadata": {},
   "outputs": [],
   "source": []
  }
 ],
 "metadata": {
  "kernelspec": {
   "display_name": "Python 3 (ipykernel)",
   "language": "python",
   "name": "python3"
  },
  "language_info": {
   "codemirror_mode": {
    "name": "ipython",
    "version": 3
   },
   "file_extension": ".py",
   "mimetype": "text/x-python",
   "name": "python",
   "nbconvert_exporter": "python",
   "pygments_lexer": "ipython3",
   "version": "3.10.9"
  }
 },
 "nbformat": 4,
 "nbformat_minor": 5
}
