{
 "cells": [
  {
   "cell_type": "code",
   "execution_count": 1,
   "id": "725850eb",
   "metadata": {},
   "outputs": [
    {
     "name": "stdout",
     "output_type": "stream",
     "text": [
      "tp1 : ()\n",
      "tp1 : <class 'tuple'>\n",
      "tp2 : ()\n",
      "tp2 : <class 'tuple'>\n",
      "tp3 : (1, 2, 3, 4, 5)\n",
      "tp3 : <class 'tuple'>\n"
     ]
    }
   ],
   "source": [
    "'''\n",
    "tuple 자료형 \n",
    "- list와 비슷함\n",
    "- immutable type <-- 원본을 변형하지 못함\n",
    "- item의 추가, 삭제를 못함(cf. list는 mutable type)\n",
    "- () 사용\n",
    "- () 생략 가능\n",
    "- index가 있음\n",
    "- 비어있는 tuple을 생성할 수 있음\n",
    "    ㄴ () / tuple()\n",
    "- item을 하나만 저장하는 경우에는 , 를 붙여줌\n",
    "- tuple 안에 tuple을 저장할 수 있음\n",
    "\n",
    "'''\n",
    "tp1 = ()\n",
    "tp2 = tuple()\n",
    "print('tp1 :', tp1)\n",
    "print('tp1 :', type(tp1))\n",
    "\n",
    "print('tp2 :', tp2)\n",
    "print('tp2 :', type(tp2))\n",
    "\n",
    "tp3 = 1, 2, 3, 4, 5\n",
    "print('tp3 :', tp3)\n",
    "print('tp3 :', type(tp3))\n",
    "\n"
   ]
  },
  {
   "cell_type": "code",
   "execution_count": 2,
   "id": "6b4b6acb",
   "metadata": {},
   "outputs": [
    {
     "name": "stdout",
     "output_type": "stream",
     "text": [
      "tp4 : 10\n",
      "tp4 : <class 'int'>\n",
      "tp4 : (10,)\n",
      "tp4 : <class 'tuple'>\n",
      "tp4 : (10,)\n",
      "tp4 : <class 'tuple'>\n"
     ]
    }
   ],
   "source": [
    "tp4 = (10)\n",
    "print('tp4 :', tp4)\n",
    "print('tp4 :', type(tp4))\n",
    "\n",
    "tp4 = (10,)\n",
    "print('tp4 :', tp4)\n",
    "print('tp4 :', type(tp4))\n",
    "\n",
    "tp4 = 10,\n",
    "print('tp4 :', tp4)\n",
    "print('tp4 :', type(tp4))\n"
   ]
  },
  {
   "cell_type": "code",
   "execution_count": 3,
   "id": "683180ad",
   "metadata": {},
   "outputs": [
    {
     "name": "stdout",
     "output_type": "stream",
     "text": [
      "tp5 : 클라우드\n",
      "tp5 : <class 'str'>\n",
      "tp5 : ('클라우드',)\n",
      "tp5 : <class 'tuple'>\n",
      "tp5 : (3.141592,)\n",
      "tp5 : <class 'tuple'>\n",
      "tp5 : (True,)\n",
      "tp5 : <class 'tuple'>\n"
     ]
    }
   ],
   "source": [
    "tp5 = '클라우드'\n",
    "print('tp5 :', tp5)\n",
    "print('tp5 :', type(tp5))\n",
    "\n",
    "tp5 = '클라우드',\n",
    "print('tp5 :', tp5)\n",
    "print('tp5 :', type(tp5))\n",
    "\n",
    "tp5 = 3.141592,\n",
    "print('tp5 :', tp5)\n",
    "print('tp5 :', type(tp5))\n",
    "\n",
    "tp5 = True,\n",
    "print('tp5 :', tp5)\n",
    "print('tp5 :', type(tp5))"
   ]
  },
  {
   "cell_type": "code",
   "execution_count": 4,
   "id": "bc091405",
   "metadata": {},
   "outputs": [
    {
     "name": "stdout",
     "output_type": "stream",
     "text": [
      "tp6 : (1, 2, 3, 'python', 'cloud', True, 6.25)\n",
      "tp6 : <class 'tuple'>\n",
      "tp6[4] : cloud\n"
     ]
    }
   ],
   "source": [
    "tp6 = 1, 2, 3, 'python', 'cloud', True, 6.25\n",
    "print('tp6 :', tp6)\n",
    "print('tp6 :', type(tp6))\n",
    "\n",
    "print('tp6[4] :', tp6[4])\n",
    "\n",
    "# TypeError: 'tuple' object does not support item assignment\n",
    "# tuple은 immutable type 이라서 item을 바꿀 수 없음\n",
    "# tp6[4] = 'programming'"
   ]
  },
  {
   "cell_type": "code",
   "execution_count": 5,
   "id": "5f6afa9c",
   "metadata": {},
   "outputs": [
    {
     "name": "stdout",
     "output_type": "stream",
     "text": [
      "tp6 : (1, 2, 3, ('python', 'cloud', ('best', 'programming')), True, 6.25)\n",
      "tp6 : <class 'tuple'>\n",
      "tp6[3][2][1] : programming\n"
     ]
    }
   ],
   "source": [
    "tp6 = 1, 2, 3, ('python', 'cloud',('best', 'programming')), True, 6.25\n",
    "print('tp6 :', tp6)\n",
    "print('tp6 :', type(tp6))\n",
    "print('tp6[3][2][1] :', tp6[3][2][1])"
   ]
  },
  {
   "cell_type": "code",
   "execution_count": 6,
   "id": "a07c0fd6",
   "metadata": {},
   "outputs": [
    {
     "name": "stdout",
     "output_type": "stream",
     "text": [
      "tp7 : <class 'tuple'>\n",
      "list1 : <class 'list'>\n",
      "tp8 : <class 'tuple'>\n"
     ]
    }
   ],
   "source": [
    "'''\n",
    "tuple --> list : list()\n",
    "list --> tuple : tuple()\n",
    "'''\n",
    "\n",
    "tp7 = (1, 2, 3, 4, 5)\n",
    "print('tp7 :', type(tp7))\n",
    "\n",
    "list1 = list(tp7)\n",
    "print('list1 :', type(list1))\n",
    "\n",
    "tp8 = tuple(list1)\n",
    "print('tp8 :', type(tp8))\n"
   ]
  },
  {
   "cell_type": "code",
   "execution_count": 7,
   "id": "53ee9a4f",
   "metadata": {},
   "outputs": [
    {
     "name": "stdout",
     "output_type": "stream",
     "text": [
      "tp9 : (1, 2, 3, 4, 5)\n",
      "1 2 3 4 5\n",
      "1\n",
      "2\n",
      "3\n",
      "4\n",
      "5\n"
     ]
    }
   ],
   "source": [
    "tp9 = (1, 2, 3, 4, 5)\n",
    "print('tp9 :', tp9)\n",
    "\n",
    "'''\n",
    "unpacking\n",
    "'''\n",
    "n1, n2, n3, n4, n5 = (1, 2, 3, 4, 5)\n",
    "print(n1, n2, n3, n4, n5)\n",
    "print(n1)\n",
    "print(n2)\n",
    "print(n3)\n",
    "print(n4)\n",
    "print(n5)"
   ]
  },
  {
   "cell_type": "code",
   "execution_count": 8,
   "id": "e653dfa2",
   "metadata": {},
   "outputs": [
    {
     "name": "stdout",
     "output_type": "stream",
     "text": [
      "list2 : [1, 2, 3, 4, 5]\n",
      "1\n",
      "2\n",
      "3\n",
      "4\n",
      "5\n"
     ]
    }
   ],
   "source": [
    "list2 = [1, 2, 3, 4, 5]\n",
    "print('list2 :', list2)\n",
    "\n",
    "'''\n",
    "unpacking\n",
    "'''\n",
    "num1, num2, num3, num4, num5 = list2\n",
    "num1, num2, num3, num4, num5 = [1, 2, 3, 4, 5]\n",
    "print(num1)\n",
    "print(num2)\n",
    "print(num3)\n",
    "print(num4)\n",
    "print(num5)"
   ]
  },
  {
   "cell_type": "code",
   "execution_count": 9,
   "id": "12d91fd6",
   "metadata": {},
   "outputs": [
    {
     "name": "stdout",
     "output_type": "stream",
     "text": [
      "1\n",
      "2\n",
      "3\n",
      "[4, 5]\n"
     ]
    }
   ],
   "source": [
    "# unpacking\n",
    "'''\n",
    "*num4 변수에는 4와 5를 item으로 하는 리스트가 할당됨\n",
    "'''\n",
    "num1, num2, num3, *num4 = 1, 2, 3, 4, 5\n",
    "print(num1)\n",
    "print(num2)\n",
    "print(num3)\n",
    "print(num4)"
   ]
  },
  {
   "cell_type": "code",
   "execution_count": 10,
   "id": "ca0b217a",
   "metadata": {},
   "outputs": [
    {
     "name": "stdout",
     "output_type": "stream",
     "text": [
      "[1, 2]\n",
      "3\n",
      "4\n",
      "5\n"
     ]
    }
   ],
   "source": [
    "*num1, num2, num3,num4 = 1, 2, 3, 4, 5\n",
    "print(num1)\n",
    "print(num2)\n",
    "print(num3)\n",
    "print(num4)"
   ]
  },
  {
   "cell_type": "code",
   "execution_count": 11,
   "id": "19d1f668",
   "metadata": {},
   "outputs": [
    {
     "name": "stdout",
     "output_type": "stream",
     "text": [
      "1\n",
      "[2, 3]\n",
      "4\n",
      "5\n"
     ]
    }
   ],
   "source": [
    "num1, *num2, num3,num4 = 1, 2, 3, 4, 5\n",
    "print(num1)\n",
    "print(num2)\n",
    "print(num3)\n",
    "print(num4)"
   ]
  },
  {
   "cell_type": "code",
   "execution_count": 12,
   "id": "2f2b4cd2",
   "metadata": {},
   "outputs": [
    {
     "name": "stdout",
     "output_type": "stream",
     "text": [
      "range(0, 10)\n",
      "[0, 1, 2, 3, 4, 5, 6, 7, 8, 9]\n",
      "(0, 1, 2, 3, 4, 5, 6, 7, 8, 9)\n"
     ]
    }
   ],
   "source": [
    "'''\n",
    "range() 함수\n",
    "\n",
    "range(stop)               : 0부터 stop -1 까지\n",
    "range(start, stop)        : start 부터 stop - 1 까지\n",
    "range(start, stop, step)  : start 부터 stop - 1 까지 step - 1 만큼 건너뜀\n",
    "'''\n",
    "\n",
    "# range(stop)\n",
    "print(range(10))\n",
    "print(list(range(10)))\n",
    "print(tuple(range(10)))\n"
   ]
  },
  {
   "cell_type": "code",
   "execution_count": 14,
   "id": "19da964f",
   "metadata": {},
   "outputs": [
    {
     "name": "stdout",
     "output_type": "stream",
     "text": [
      "[1, 2, 3, 4, 5, 6, 7, 8, 9, 10, 11, 12, 13, 14, 15, 16, 17, 18, 19, 20]\n"
     ]
    }
   ],
   "source": [
    "# range(start, stop)\n",
    "# 1부터 20까지 지정하기\n",
    "\n",
    "print(list(range(1, 21)))\n"
   ]
  },
  {
   "cell_type": "code",
   "execution_count": 16,
   "id": "515ba836",
   "metadata": {},
   "outputs": [
    {
     "name": "stdout",
     "output_type": "stream",
     "text": [
      "[1, 2, 3, 4, 5, 6, 7, 8, 9, 10]\n",
      "[1, 3, 5, 7, 9]\n",
      "[2, 4, 6, 8, 10]\n"
     ]
    }
   ],
   "source": [
    "'''\n",
    "numbers = '123456789'\n",
    "print(numbers[::2])   <-- 홀수만\n",
    "print(numbers[1::2])   <-- 짝수만\n",
    "\n",
    "'''\n",
    "\n",
    "# range(start, stop, step)\n",
    "print(list(range(1,11)))\n",
    "\n",
    "# 홀수만\n",
    "print(list(range(1,11,2)))\n",
    "\n",
    "# 짝수만\n",
    "print(list(range(2,12,2)))\n"
   ]
  },
  {
   "cell_type": "code",
   "execution_count": 17,
   "id": "b0ee4db6",
   "metadata": {},
   "outputs": [
    {
     "name": "stdout",
     "output_type": "stream",
     "text": [
      "number1 : 10\n",
      "number2 : 20\n",
      "number1 : 20\n",
      "number2 : 10\n"
     ]
    }
   ],
   "source": [
    "number1 = 10\n",
    "number2 = 20\n",
    "print('number1 :', number1)\n",
    "print('number2 :', number2)\n",
    "\n",
    "# unpacking\n",
    "number1, number2 = number2, number1\n",
    "print('number1 :', number1)\n",
    "print('number2 :', number2)\n"
   ]
  },
  {
   "cell_type": "code",
   "execution_count": 18,
   "id": "133b363b",
   "metadata": {},
   "outputs": [
    {
     "name": "stdout",
     "output_type": "stream",
     "text": [
      "number1 : 10\n",
      "number2 : 20\n",
      "number1 : 20\n",
      "number2 : 10\n"
     ]
    }
   ],
   "source": [
    "number1 = 10\n",
    "number2 = 20\n",
    "print('number1 :', number1)\n",
    "print('number2 :', number2)\n",
    "\n",
    "# 변수값 교환하기 : swiping\n",
    "cup = number1\n",
    "number1 = number2\n",
    "number2 = cup\n",
    "\n",
    "print('number1 :', number1)\n",
    "print('number2 :', number2)\n"
   ]
  },
  {
   "cell_type": "code",
   "execution_count": null,
   "id": "e9af4972",
   "metadata": {},
   "outputs": [],
   "source": []
  },
  {
   "cell_type": "code",
   "execution_count": null,
   "id": "5fe28728",
   "metadata": {},
   "outputs": [],
   "source": []
  }
 ],
 "metadata": {
  "kernelspec": {
   "display_name": "Python 3 (ipykernel)",
   "language": "python",
   "name": "python3"
  },
  "language_info": {
   "codemirror_mode": {
    "name": "ipython",
    "version": 3
   },
   "file_extension": ".py",
   "mimetype": "text/x-python",
   "name": "python",
   "nbconvert_exporter": "python",
   "pygments_lexer": "ipython3",
   "version": "3.10.9"
  }
 },
 "nbformat": 4,
 "nbformat_minor": 5
}
