{
 "cells": [
  {
   "cell_type": "code",
   "execution_count": 8,
   "id": "b20c0aaa",
   "metadata": {},
   "outputs": [
    {
     "name": "stdout",
     "output_type": "stream",
     "text": [
      "list1 : [1, 2, 3, 4, 5, 6, 7, 8, 9]\n",
      "list1 : [1, 2, 4, 5, 6, 7, 8, 9]\n",
      "list1 : [1, 2, 4, 5, 6, 8, 9]\n",
      "list1 : [1, 2, 4, 5, 6, 8, 9, 2]\n",
      "list1.remove(2) : None\n",
      "list1 : [1, 4, 5, 6, 8, 9, 2]\n"
     ]
    }
   ],
   "source": [
    "'''\n",
    "list에서 item 삭제하기\n",
    "\n",
    "1) remove() 메소드 : remove(item)\n",
    "                    ㄴ index가 아님\n",
    "'''\n",
    "list1 = [1, 2, 3, 4, 5, 6, 7, 8, 9]\n",
    "\n",
    "print('list1 :', list1)\n",
    "\n",
    "list1.remove(3)\n",
    "print('list1 :', list1)\n",
    "\n",
    "list1.remove(7)\n",
    "print('list1 :', list1)\n",
    "\n",
    "list1.append(2)\n",
    "print('list1 :', list1)\n",
    "\n",
    "'''\n",
    "item이 중복된경우 \n",
    "첫번째 item만 삭제됨 \n",
    "'''\n",
    "\n",
    "print('list1.remove(2) :', list1.remove(2))\n",
    "print('list1 :', list1)\n"
   ]
  },
  {
   "cell_type": "code",
   "execution_count": 9,
   "id": "d0517e92",
   "metadata": {},
   "outputs": [
    {
     "name": "stdout",
     "output_type": "stream",
     "text": [
      "list1 : [1, 4, 6, 8, 9, 2]\n",
      "list1.pop() : 2\n",
      "list1 : [1, 4, 6, 8, 9]\n"
     ]
    }
   ],
   "source": [
    "list1 = [1, 4, 6, 8, 9, 2]\n",
    "\n",
    "'''\n",
    "list에서 item 삭제하기\n",
    "\n",
    "2) pop() 메소드\n",
    "    ㄴ 맨 마지막에 있는 item을 삭제하고 반환함\n",
    "    \n",
    "'''\n",
    "print('list1 :', list1)\n",
    "print('list1.pop() :', list1.pop())\n",
    "print('list1 :', list1)\n"
   ]
  },
  {
   "cell_type": "code",
   "execution_count": 18,
   "id": "cdf6f41c",
   "metadata": {},
   "outputs": [
    {
     "name": "stdout",
     "output_type": "stream",
     "text": [
      "list1 : [1, 4, 6, 8, 9, 2]\n",
      "list1.pop(3) : 8\n",
      "list1 : [1, 4, 6, 9, 2]\n"
     ]
    }
   ],
   "source": [
    "'''\n",
    "list에서 item 삭제하기\n",
    "\n",
    "3) pop(index) 메소드\n",
    "    ㄴ 지정한 index에 있는 item을 삭제하고 반환함\n",
    "    \n",
    "    cf) remove(item)\n",
    "'''\n",
    "\n",
    "list1 = [1, 4, 6, 8, 9, 2]\n",
    "\n",
    "print('list1 :', list1)\n",
    "\n",
    "\n",
    "# IndexError: pop index out of range\n",
    "# 8이라는index가 없어서 삭제할 수 없음 \n",
    "# list1.pop(8)\n",
    "\n",
    "print('list1.pop(3) :', list1.pop(3))\n",
    "print('list1 :', list1)\n"
   ]
  },
  {
   "cell_type": "code",
   "execution_count": 23,
   "id": "21dc9455",
   "metadata": {},
   "outputs": [
    {
     "name": "stdout",
     "output_type": "stream",
     "text": [
      "list1 : [1, 4, 6, 9, 2]\n",
      "list1 : [1, 4, 6, 2]\n"
     ]
    }
   ],
   "source": [
    "'''\n",
    "4) del 사용해서 list의 item 삭제하기\n",
    "\n",
    "  형식\n",
    "  \n",
    "  del list1[index] : 지정한 index에 해당하는 item이 삭제됨\n",
    "  \n",
    "'''\n",
    "\n",
    "list1 = [1, 4, 6, 9, 2]\n",
    "print('list1 :', list1)\n",
    "\n",
    "del list1[3]\n",
    "print('list1 :', list1)\n"
   ]
  },
  {
   "cell_type": "code",
   "execution_count": 36,
   "id": "23374ca2",
   "metadata": {},
   "outputs": [
    {
     "name": "stdout",
     "output_type": "stream",
     "text": [
      "list2 : [1, 2, 3, 4, 5, 6, 7, 8, 9]\n",
      "list2 : [1, 2, 3, 4, 5, 6, 7, 8, 9, '1', '2', '3', '4', '5']\n",
      "list2 : [1, 2, 3, 4, 5, 6, 7, 8, 9, '1', '2', '3', '4', '5', '12345']\n",
      "list2 : [1, 2, 3, 4, 5, 6, 7, 8, 9, '1', '2', '3', '4', '5', '12345', 10, 11, 12]\n"
     ]
    }
   ],
   "source": [
    "'''\n",
    "extend()\n",
    "'''\n",
    "\n",
    "list2 = [1, 2, 3, 4, 5, 6, 7]\n",
    "list3 = (1, 2, 3, 4, 5, 6, 7)\n",
    "list4 = {1, 2, 3, 4, 5, 6, 7}\n",
    "\n",
    "list2.extend([8,9])\n",
    "print('list2 :', list2)\n",
    "\n",
    "list2.extend('12345')\n",
    "print('list2 :', list2)\n",
    "\n",
    "list2.append('12345')\n",
    "print('list2 :', list2)\n",
    "\n",
    "list2 += [10, 11, 12]\n",
    "print('list2 :', list2)\n",
    "\n",
    "# extend, append의 경우 튜플, set은 사용 불가 list에서만 있음\n"
   ]
  },
  {
   "cell_type": "code",
   "execution_count": 32,
   "id": "df6d9500",
   "metadata": {},
   "outputs": [
    {
     "name": "stdout",
     "output_type": "stream",
     "text": [
      "str1 : hello python\n",
      "0\n",
      "6\n",
      "0\n",
      "6\n",
      "2\n",
      "2\n",
      "3\n",
      "3\n"
     ]
    }
   ],
   "source": [
    "str1 = 'hello python'\n",
    "print('str1 :', str1)\n",
    "\n",
    "print(str1.index('h'))\n",
    "print(str1.index('p'))\n",
    "print(str1.find('h'))\n",
    "print(str1.find('p'))\n",
    "\n",
    "print(str1.index('l'))\n",
    "print(str1.find('l'))\n",
    "print(str1.rindex('l'))\n",
    "print(str1.rfind('l'))"
   ]
  },
  {
   "cell_type": "code",
   "execution_count": 40,
   "id": "4ed311c8",
   "metadata": {},
   "outputs": [
    {
     "name": "stdout",
     "output_type": "stream",
     "text": [
      "1\n",
      "3\n"
     ]
    }
   ],
   "source": [
    "'''\n",
    "리스트에는 find(), rfind(), rindex() 메소드는 없고 \n",
    "index() 메소드만 있음\n",
    "'''\n",
    "\n",
    "languages = ['python', 'java', 'C++', 'javascript']\n",
    "\n",
    "print(languages.index('java'))\n",
    "print(languages.index('javascript'))\n",
    "\n",
    "# AttributeError: 'list' object has no attribute 'rindex'\n",
    "# list에는 rindex() 메소드가 없음\n",
    "# print(languages.rindex('javascript'))\n",
    "\n",
    "# AttributeError: 'list' object has no attribute 'find'\n",
    "# list에는 find() 메소드가 없음\n",
    "# print(languages.find('java'))"
   ]
  },
  {
   "cell_type": "code",
   "execution_count": null,
   "id": "cf9af172",
   "metadata": {},
   "outputs": [],
   "source": []
  },
  {
   "cell_type": "code",
   "execution_count": null,
   "id": "8430b83e",
   "metadata": {},
   "outputs": [],
   "source": []
  },
  {
   "cell_type": "code",
   "execution_count": null,
   "id": "107d0d37",
   "metadata": {},
   "outputs": [],
   "source": []
  }
 ],
 "metadata": {
  "kernelspec": {
   "display_name": "Python 3 (ipykernel)",
   "language": "python",
   "name": "python3"
  },
  "language_info": {
   "codemirror_mode": {
    "name": "ipython",
    "version": 3
   },
   "file_extension": ".py",
   "mimetype": "text/x-python",
   "name": "python",
   "nbconvert_exporter": "python",
   "pygments_lexer": "ipython3",
   "version": "3.10.9"
  }
 },
 "nbformat": 4,
 "nbformat_minor": 5
}
