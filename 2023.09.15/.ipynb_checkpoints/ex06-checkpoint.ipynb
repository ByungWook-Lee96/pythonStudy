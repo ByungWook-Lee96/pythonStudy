{
 "cells": [
  {
   "cell_type": "code",
   "execution_count": 4,
   "id": "3dddc670",
   "metadata": {},
   "outputs": [
    {
     "name": "stdout",
     "output_type": "stream",
     "text": [
      "set1 : set()\n",
      "set1 : <class 'set'>\n",
      "set2 : {}\n",
      "set2 : <class 'dict'>\n",
      "set3 : {1, 2, 3, 4, 5}\n",
      "set3 : <class 'set'>\n",
      "set4 : {1, 2, 3, 4, 5}\n",
      "set4 : <class 'set'>\n"
     ]
    }
   ],
   "source": [
    "'''\n",
    "set 자료형 :비어있는 set을 생성할 수 있음  \n",
    "{} 사용      {} 가능하지 않음 / set() 으로만 사용 가능\n",
    "\n",
    "\n",
    "            index를 사용하지 않음\n",
    "                ㄴ item의 중복을 허용하지 않음\n",
    "                ㄴ item이 저장되는 순서가 일정하지 않음\n",
    "                (cf. list/tuple은 item의 중복을 허용함)\n",
    "                set  <-- mutable type : list(mutable) / tuple(immutable)\n",
    "                set 자료형에 저장되는 item은 immutable type 만 저장할 수 있음\n",
    "                \n",
    "'''\n",
    "\n",
    "set1 = set()\n",
    "print('set1 :', set1)\n",
    "print('set1 :', type(set1))\n",
    "\n",
    "# {} 형태로 메모리에 올리면 dictionary 로 인식함\n",
    "set2 = {}\n",
    "print('set2 :', set2)\n",
    "print('set2 :', type(set2))\n",
    "\n",
    "set3 = {1, 2, 3, 4, 5}\n",
    "print('set3 :', set3)\n",
    "print('set3 :', type(set3))\n"
   ]
  },
  {
   "cell_type": "code",
   "execution_count": 5,
   "id": "18cab2a5",
   "metadata": {},
   "outputs": [
    {
     "name": "stdout",
     "output_type": "stream",
     "text": [
      "set4 : {1, 2, 3, 4, 5}\n",
      "set4 : <class 'set'>\n",
      "set4 : {1, 2, 3, 4, 5}\n",
      "set4 : <class 'set'>\n"
     ]
    }
   ],
   "source": [
    "set4 = set([1,2,3,4,5])\n",
    "print('set4 :', set4)\n",
    "print('set4 :', type(set4))\n",
    "\n",
    "set4 = set((1,2,3,4,5))\n",
    "print('set4 :', set4)\n",
    "print('set4 :', type(set4))"
   ]
  },
  {
   "cell_type": "code",
   "execution_count": 7,
   "id": "f0515eb4",
   "metadata": {},
   "outputs": [
    {
     "name": "stdout",
     "output_type": "stream",
     "text": [
      "set5 : {'c', 'd', 'b', 'a', 'e'}\n"
     ]
    }
   ],
   "source": [
    "set5 = {'a', 'b', 'c', 'd', 'e'}\n",
    "print('set5 :', set5)"
   ]
  },
  {
   "cell_type": "code",
   "execution_count": 9,
   "id": "f6d46665",
   "metadata": {},
   "outputs": [
    {
     "name": "stdout",
     "output_type": "stream",
     "text": [
      "set6 : {1, 2, 3, 4, 5, 6, 7}\n"
     ]
    }
   ],
   "source": [
    "set6 = {1, 2, 2, 2, 3, 3, 4, 4, 4, 5, 6, 6, 7, 7, 7}\n",
    "print('set6 :', set6)"
   ]
  },
  {
   "cell_type": "code",
   "execution_count": 10,
   "id": "fb027e2c",
   "metadata": {},
   "outputs": [
    {
     "name": "stdout",
     "output_type": "stream",
     "text": [
      "[1, 2, 3, 4, 5, 6, 1, 2, 3, 4]\n",
      "{1, 2, 3, 4, 5, 6}\n",
      "[1, 2, 3, 4, 5, 6]\n"
     ]
    }
   ],
   "source": [
    "list1 = [1, 2, 3, 4, 5, 6, 1, 2, 3, 4]\n",
    "print(list1)\n",
    "set7 = set(list1)\n",
    "print(set7)\n",
    "list2 = list(set7)\n",
    "print(list2)"
   ]
  },
  {
   "cell_type": "code",
   "execution_count": 11,
   "id": "ab83af02",
   "metadata": {},
   "outputs": [
    {
     "name": "stdout",
     "output_type": "stream",
     "text": [
      "set8 : {1, 2, 3.14, 3, 'b', 'a'}\n",
      "set8 : <class 'set'>\n"
     ]
    }
   ],
   "source": [
    "set8 = {1, 2, 3, 'a', 'b', True, 3.14}\n",
    "print('set8 :', set8)\n",
    "print('set8 :', type(set8))\n",
    "\n"
   ]
  },
  {
   "cell_type": "code",
   "execution_count": 12,
   "id": "38dec5bf",
   "metadata": {},
   "outputs": [
    {
     "name": "stdout",
     "output_type": "stream",
     "text": [
      "set9 : {False, True}\n",
      "set9 : <class 'set'>\n"
     ]
    }
   ],
   "source": [
    "set9 = {True, True, False, False}\n",
    "print('set9 :', set9)\n",
    "print('set9 :', type(set9))"
   ]
  },
  {
   "cell_type": "code",
   "execution_count": 13,
   "id": "95133c00",
   "metadata": {},
   "outputs": [
    {
     "name": "stdout",
     "output_type": "stream",
     "text": [
      "set10 : {False, 1, 2, 3}\n",
      "set10 : <class 'set'>\n"
     ]
    }
   ],
   "source": [
    "set10 = {1, 2, 3, True, True, False, False}\n",
    "print('set10 :', set10)\n",
    "print('set10 :', type(set10))"
   ]
  },
  {
   "cell_type": "code",
   "execution_count": 14,
   "id": "83a0011d",
   "metadata": {},
   "outputs": [
    {
     "name": "stdout",
     "output_type": "stream",
     "text": [
      "set11 : {0, 1, 2, 3}\n",
      "set11 : <class 'set'>\n"
     ]
    }
   ],
   "source": [
    "set11 = {1, 2, 3, 0, True, True, False, False}\n",
    "print('set11 :', set11)\n",
    "print('set11 :', type(set11))"
   ]
  },
  {
   "cell_type": "code",
   "execution_count": 22,
   "id": "05fb9ee1",
   "metadata": {},
   "outputs": [
    {
     "name": "stdout",
     "output_type": "stream",
     "text": [
      "[[1, 2], (3, 4), {1, 2, 3}, {}]\n",
      "{1, 2, 3, 'b', 'a', (1, 2, 3)}\n"
     ]
    },
    {
     "data": {
      "text/plain": [
       "\"\\nset 에 item 으로 list 저장하기(X)\\n    \\n    set  <-- mutable type : list(mutable) / tuple(immutable)\\n    set 자료형에 저장되는 item은 immutable type 만 저장할 수 있음\\n\\nTypeError: unhashable type: 'list'\\n            hashable type  <-- immutable\\n            unhashble type <-- mutable\\nset12 = {1, 2, 3, 'a', 'b', [1, 2, 3]}\\nprint(set12)\\n\\nset 에 item 으로 set 저장하기(X)\\n\\nTypeError: unhashable type: 'set'\\n            hashable type  <-- immutable\\n            unhashble type <-- mutable\\nset12 = {1, 2, 3, 'a', 'b', {1, 2, 3}}\\nprint(set12)\\n\\n\""
      ]
     },
     "execution_count": 22,
     "metadata": {},
     "output_type": "execute_result"
    }
   ],
   "source": [
    "'''\n",
    "list 에 list, tuple, set, dictionary 모두 저장할 수 있음\n",
    "'''\n",
    "list1 = [[1, 2], (3, 4), {1, 2, 3}, {}]\n",
    "print(list1)\n",
    "\n",
    "'''\n",
    "set 에 item 으로 tuple 저장하기(O)\n",
    "'''\n",
    "\n",
    "set12 = {1, 2, 3, 'a', 'b', (1, 2, 3)}\n",
    "print(set12)\n",
    "\n",
    "'''\n",
    "set 에 item 으로 list 저장하기(X)\n",
    "list 는 mutable type 이라서 set의 item으로 저장 못함\n",
    "    set  <-- mutable type : list(mutable) / tuple(immutable)\n",
    "    set 자료형에 저장되는 item은 immutable type 만 저장할 수 있음\n",
    "\n",
    "TypeError: unhashable type: 'list'\n",
    "            hashable type  <-- immutable\n",
    "            unhashble type <-- mutable\n",
    "set12 = {1, 2, 3, 'a', 'b', [1, 2, 3]}\n",
    "print(set12)\n",
    "\n",
    "set 에 item 으로 set 저장하기(X)\n",
    "set 은 mutable type 이라서 set의 item으로 저장 못함\n",
    "TypeError: unhashable type: 'set'\n",
    "            hashable type  <-- immutable\n",
    "            unhashble type <-- mutable\n",
    "set12 = {1, 2, 3, 'a', 'b', {1, 2, 3}}\n",
    "print(set12)\n",
    "\n",
    "'''\n",
    "\n"
   ]
  },
  {
   "cell_type": "code",
   "execution_count": 31,
   "id": "5e5f7a98",
   "metadata": {},
   "outputs": [
    {
     "name": "stdout",
     "output_type": "stream",
     "text": [
      "set1 : set()\n",
      "set1 : {1}\n",
      "set1 : {'a', 1}\n",
      "set1 : {'a', 1, 3}\n",
      "set1 : {'a', 1, (4, 5), 3}\n",
      "set1 : {1, 3, 6, 7, 'a', 8, (4, 5)}\n"
     ]
    }
   ],
   "source": [
    "'''\n",
    "set 에 item 추가하기 : add()\n",
    "\n",
    "'''\n",
    "\n",
    "set1 = set()\n",
    "print('set1 :', set1)\n",
    "\n",
    "set1.add(1)\n",
    "print('set1 :', set1)\n",
    "\n",
    "set1.add('a')\n",
    "print('set1 :', set1)\n",
    "\n",
    "set1.add(3)\n",
    "print('set1 :', set1)\n",
    "\n",
    "# TypeError: set.add() takes exactly one argument (2 given)\n",
    "# set1.add(4, 5)\n",
    "# print('set1 :', set1)\n",
    "\n",
    "# TypeError: unhashable type: 'list'  <-- mutable 이라서 저장 안 됨\n",
    "# set1.add([4, 5])\n",
    "# print('set1 :', set1)\n",
    "\n",
    "# TypeError: unhashable type: 'set'  <-- mutable 이라서 저장 안 됨\n",
    "# set1.add({4, 5})\n",
    "# print('set1 :', set1)\n",
    "\n",
    "set1.add((4, 5))\n",
    "print('set1 :', set1)\n",
    "\n",
    "# 여러개의 item을 낱개로 추가하기 : update()\n",
    "set1.update((6, 7, 8))\n",
    "print('set1 :', set1)"
   ]
  },
  {
   "cell_type": "code",
   "execution_count": 36,
   "id": "e8a9f2a8",
   "metadata": {},
   "outputs": [
    {
     "name": "stdout",
     "output_type": "stream",
     "text": [
      "set1 : {1, (4, 5), 3, 6, 7, 'a', 8}\n",
      "set1 : {1, (4, 5), 3, 7, 'a', 8}\n",
      "set1 : {1, (4, 5), 7, 'a', 8}\n"
     ]
    }
   ],
   "source": [
    "set1 = {1, 3, 6, 7, 'a', 8, (4, 5)}\n",
    "print('set1 :', set1)\n",
    "\n",
    "'''\n",
    "set 에서 item 삭제하기 : remove(item), discard(item), pop()\n",
    "'''\n",
    "\n",
    "set1.remove(6)\n",
    "print('set1 :', set1)\n",
    "\n",
    "'''\n",
    "remove() 로 삭제할 때 삭제할 item이 없으면 오류 발생함\n",
    "'''\n",
    "# set1. remove(6)\n",
    "\n",
    "set1.discard(3)\n",
    "print('set1 :', set1)\n",
    "\n",
    "'''\n",
    "discard() 로 삭제할 때 삭제할 item이 없으면 오류 발생하지 않음\n",
    "'''\n",
    "set1.discard(3)"
   ]
  },
  {
   "cell_type": "code",
   "execution_count": 37,
   "id": "1ca5f484",
   "metadata": {},
   "outputs": [
    {
     "name": "stdout",
     "output_type": "stream",
     "text": [
      "set1 : {(4, 5), 7, 'a', 8}\n"
     ]
    }
   ],
   "source": [
    "set1.pop()\n",
    "print('set1 :', set1)"
   ]
  },
  {
   "cell_type": "code",
   "execution_count": 44,
   "id": "c50bc094",
   "metadata": {},
   "outputs": [
    {
     "name": "stdout",
     "output_type": "stream",
     "text": [
      "{4, 5, 6}\n",
      "{4, 5, 6}\n",
      "{1, 2, 3, 4, 5, 6, 7, 8, 9}\n",
      "{1, 2, 3, 4, 5, 6, 7, 8, 9}\n",
      "{1, 2, 3}\n",
      "{8, 9, 7}\n",
      "{1, 2, 3}\n",
      "{8, 9, 7}\n",
      "{1, 2, 3, 7, 8, 9}\n",
      "{1, 2, 3, 7, 8, 9}\n"
     ]
    }
   ],
   "source": [
    "'''\n",
    "교집합 : & / intersection()\n",
    "합집합 : | / union()\n",
    "차집합 : - / difference()\n",
    "대칭차집합 : ^ / symmetric_difference()\n",
    "'''\n",
    "\n",
    "setA = {1, 2, 3, 4, 5, 6}\n",
    "setB = {4, 5, 6, 7, 8, 9}\n",
    "\n",
    "# 교집합 : & / intersection()\n",
    "print(setA & setB)\n",
    "print(setA.intersection(setB))\n",
    "\n",
    "# 합집합 : | / union()\n",
    "print(setA | setB)\n",
    "print(setA.union(setB))\n",
    "\n",
    "# 차집합 : - / difference()\n",
    "print(setA - setB)\n",
    "print(setB - setA)\n",
    "print(setA.difference(setB))\n",
    "print(setB.difference(setA))\n",
    "\n",
    "# 대칭차집합 : ^ / symmetric_difference()\n",
    "print(setA ^ setB)\n",
    "print(setA.symmetric_difference(setB))"
   ]
  },
  {
   "cell_type": "code",
   "execution_count": 49,
   "id": "8fc7e909",
   "metadata": {},
   "outputs": [
    {
     "name": "stdout",
     "output_type": "stream",
     "text": [
      "fs1 : frozenset()\n",
      "fs1 : <class 'frozenset'>\n",
      "fs2 : frozenset({1, 2, 3, 4})\n",
      "fs2 : <class 'frozenset'>\n",
      "fs3 : frozenset({1, 2, 3, 4})\n",
      "fs3 : <class 'frozenset'>\n",
      "fs4 : frozenset({1, 2, 3, 4})\n",
      "fs4 : <class 'frozenset'>\n"
     ]
    }
   ],
   "source": [
    "'''\n",
    "frozenset : immutable type\n",
    "\n",
    "생성방법 : frozenset() 함수 실행\n",
    "'''\n",
    "fs1 = frozenset()\n",
    "print('fs1 :', fs1)\n",
    "print('fs1 :', type(fs1))\n",
    "\n",
    "fs2 = frozenset([1, 2, 3, 4])\n",
    "print('fs2 :', fs2)\n",
    "print('fs2 :', type(fs2))\n",
    "\n",
    "fs3 = frozenset((1, 2, 3, 4))\n",
    "print('fs3 :', fs3)\n",
    "print('fs3 :', type(fs3))\n",
    "\n",
    "fs4 = frozenset({1, 2, 3, 4})\n",
    "print('fs4 :', fs4)\n",
    "print('fs4 :', type(fs4))"
   ]
  },
  {
   "cell_type": "code",
   "execution_count": 57,
   "id": "d406f7ce",
   "metadata": {},
   "outputs": [
    {
     "name": "stdout",
     "output_type": "stream",
     "text": [
      "달(월)을 입력하세요 : 3\n",
      "입력된 달의 마지막 날짜는 31 입니다.\n"
     ]
    }
   ],
   "source": [
    "'''\n",
    "달(월) 을 입력 받아서 그 달의 마지막 날짜를 출력하는 code를 작성하세요\n",
    "'''\n",
    "\n",
    "month = int(input('달(월)을 입력하세요 : '))\n",
    "\n",
    "month_list1 = [1, 3, 5, 7, 8, 10, 12]\n",
    "month_list2 = [4, 6, 9, 11]\n",
    "\n",
    "last_day = 0\n",
    "\n",
    "if month in month_list1:\n",
    "    last_day = 31\n",
    "elif month in month_list2:\n",
    "    last_day = 30\n",
    "elif month == 2:\n",
    "    last_day = 28\n",
    "else:\n",
    "    last_day = '?'\n",
    "\n",
    "if last_day != '?':\n",
    "    print(f'입력된 달의 마지막 날짜는 {last_day} 입니다.')\n",
    "else:\n",
    "    print(\"잘못된 월(달)을 입력하였습니다. 1~12 사이로 입력해주세요.\")\n",
    "    "
   ]
  },
  {
   "cell_type": "code",
   "execution_count": 60,
   "id": "bc2e8f52",
   "metadata": {},
   "outputs": [
    {
     "name": "stdout",
     "output_type": "stream",
     "text": [
      "연도를 입력하세요 : 2000\n",
      "달(월)을 입력하세요 : 2\n",
      "입력된 달의 마지막 날짜는 29 입니다.\n"
     ]
    }
   ],
   "source": [
    "'''\n",
    "윤년 : 4로 나누어 떨어지고 100으로 나누어 떨어지지 않거나 400으로 나누어떨어지는 연도 \n",
    "\n",
    "year % 4 == 0 and year % 100 != 0 or year % 400 == 0\n",
    "\n",
    "'''\n",
    "year = int(input('연도를 입력하세요 : '))\n",
    "month = int(input('달(월)을 입력하세요 : '))\n",
    "\n",
    "month_list1 = [1, 3, 5, 7, 8, 10, 12]\n",
    "month_list2 = [4, 6, 9, 11]\n",
    "\n",
    "last_day = 0\n",
    "\n",
    "if month in month_list1:\n",
    "    last_day = 31\n",
    "elif month in month_list2:\n",
    "    last_day = 30\n",
    "elif month == 2:\n",
    "    if year % 4 == 0 and year % 100 != 0 or year % 400 == 0:\n",
    "        last_day = 29\n",
    "    else:\n",
    "        last_day = 28\n",
    "else:\n",
    "    last_day = '?'\n",
    "\n",
    "if last_day != '?':\n",
    "    print(f'입력된 달의 마지막 날짜는 {last_day} 입니다.')\n",
    "else:\n",
    "    print(\"잘못된 월(달)을 입력하였습니다. 1~12 사이로 입력해주세요.\")\n",
    "    "
   ]
  },
  {
   "cell_type": "code",
   "execution_count": 66,
   "id": "404e5200",
   "metadata": {},
   "outputs": [
    {
     "name": "stdout",
     "output_type": "stream",
     "text": [
      "주민등록번호를 입력하세요 :812323404948\n",
      "4\n",
      "여자입니다\n"
     ]
    }
   ],
   "source": [
    "'''\n",
    "주민등록번호를 입력 받아서 남자인지 여자인지 출력하세요\n",
    "\n",
    "주민등록번호 7 번째 자리 수가 1,3 이면 남자, 2, 4 이면 여자\n",
    "\n",
    "    810315-156598\n",
    "'''\n",
    "\n",
    "number = input('주민등록번호를 입력하세요 :')\n",
    "\n",
    "if len(number) == 13:\n",
    "    result = int(number[7])\n",
    "elif len(number) == 12:\n",
    "    result = int(number[6])\n",
    "else:\n",
    "    print('주민번호잘못 입력됨')\n",
    "\n",
    "if result == 1 or result == 3:\n",
    "    print('남자입니다')\n",
    "elif result == 2 or result == 4:\n",
    "    print('여자입니다')\n",
    "\n"
   ]
  },
  {
   "cell_type": "code",
   "execution_count": 67,
   "id": "da8f58e7",
   "metadata": {},
   "outputs": [
    {
     "name": "stdout",
     "output_type": "stream",
     "text": [
      "주민등록번호를 입력하세요 :819898-123123\n",
      "819898123123\n"
     ]
    }
   ],
   "source": [
    "'''\n",
    "주민등록번호를 입력 받아서 남자인지 여자인지 출력하세요\n",
    "\n",
    "주민등록번호 7 번째 자리 수가 1,3 이면 남자, 2, 4 이면 여자\n",
    "\n",
    "    810315-156598\n",
    "'''\n",
    "# 하이픈 제거 하는 방법\n",
    "joomin = input('주민등록번호를 입력하세요 :').replace('-','')\n",
    "print(joomin)"
   ]
  }
 ],
 "metadata": {
  "kernelspec": {
   "display_name": "Python 3 (ipykernel)",
   "language": "python",
   "name": "python3"
  },
  "language_info": {
   "codemirror_mode": {
    "name": "ipython",
    "version": 3
   },
   "file_extension": ".py",
   "mimetype": "text/x-python",
   "name": "python",
   "nbconvert_exporter": "python",
   "pygments_lexer": "ipython3",
   "version": "3.10.9"
  }
 },
 "nbformat": 4,
 "nbformat_minor": 5
}
