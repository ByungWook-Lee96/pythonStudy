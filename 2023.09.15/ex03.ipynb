{
 "cells": [
  {
   "cell_type": "code",
   "execution_count": 4,
   "id": "3ce671be",
   "metadata": {},
   "outputs": [
    {
     "name": "stdout",
     "output_type": "stream",
     "text": [
      "---Stack---\n",
      "numbers : [1, 2, 3, 4, 5]\n",
      "numbers : [1, 2, 3, 4, 5, 6]\n",
      "numbers : [1]\n",
      "numbers : [1, 2]\n",
      "numbers : [1, 2, 3]\n",
      "numbers : [1, 2, 3, 4]\n",
      "numbers : [1, 2, 3, 4, 5]\n",
      "numbers : [1, 2, 3, 4]\n",
      "numbers : [1, 2, 3]\n",
      "numbers : [1, 2]\n",
      "numbers : [1]\n",
      "numbers : []\n"
     ]
    }
   ],
   "source": [
    "'''\n",
    "69 page\n",
    "\n",
    "stack : LIFO <- Last input First Output\n",
    "\n",
    "queue : LILO <- Last input Last Output\n",
    "\n",
    "\n",
    "'''\n",
    "\n",
    "print('---Stack---')\n",
    "\n",
    "numbers = []\n",
    "\n",
    "numbers.append(1)\n",
    "print('numbers :', numbers)\n",
    "\n",
    "numbers.append(2)\n",
    "print('numbers :', numbers)\n",
    "\n",
    "numbers.append(3)\n",
    "print('numbers :', numbers)\n",
    "\n",
    "numbers.append(4)\n",
    "print('numbers :', numbers)\n",
    "\n",
    "numbers.append(5)\n",
    "print('numbers :', numbers)\n",
    "              \n",
    "numbers.pop()\n",
    "print('numbers :', numbers)\n",
    "\n",
    "numbers.pop()\n",
    "print('numbers :', numbers)\n",
    "\n",
    "numbers.pop()\n",
    "print('numbers :', numbers)\n",
    "\n",
    "numbers.pop()\n",
    "print('numbers :', numbers)\n",
    "\n",
    "numbers.pop()\n",
    "print('numbers :', numbers)\n",
    "               "
   ]
  },
  {
   "cell_type": "code",
   "execution_count": 5,
   "id": "88a9db29",
   "metadata": {},
   "outputs": [
    {
     "name": "stdout",
     "output_type": "stream",
     "text": [
      "---Queue---\n",
      "numbers : [1]\n",
      "numbers : [1, 2]\n",
      "numbers : [1, 2, 3]\n",
      "numbers : [1, 2, 3, 4]\n",
      "numbers : [1, 2, 3, 4, 5]\n",
      "numbers : [2, 3, 4, 5]\n",
      "numbers : [3, 4, 5]\n",
      "numbers : [4, 5]\n",
      "numbers : [5]\n",
      "numbers : []\n"
     ]
    }
   ],
   "source": [
    "print('---Queue---')\n",
    "\n",
    "numbers = []\n",
    "\n",
    "numbers.append(1)\n",
    "print('numbers :', numbers)\n",
    "\n",
    "numbers.append(2)\n",
    "print('numbers :', numbers)\n",
    "\n",
    "numbers.append(3)\n",
    "print('numbers :', numbers)\n",
    "\n",
    "numbers.append(4)\n",
    "print('numbers :', numbers)\n",
    "\n",
    "numbers.append(5)\n",
    "print('numbers :', numbers)\n",
    "              \n",
    "numbers.pop(0)\n",
    "print('numbers :', numbers)\n",
    "\n",
    "numbers.pop(0)\n",
    "print('numbers :', numbers)\n",
    "\n",
    "numbers.pop(0)\n",
    "print('numbers :', numbers)\n",
    "\n",
    "numbers.pop(0)\n",
    "print('numbers :', numbers)\n",
    "\n",
    "numbers.pop(0)\n",
    "print('numbers :', numbers)"
   ]
  },
  {
   "cell_type": "code",
   "execution_count": 10,
   "id": "35e53678",
   "metadata": {},
   "outputs": [
    {
     "name": "stdout",
     "output_type": "stream",
     "text": [
      "num1 : 1234\n",
      "num1 : <class 'int'>\n",
      "num2 : 1234.0\n",
      "num2 : <class 'float'>\n",
      "num3 : 123.456\n",
      "num3 : <class 'float'>\n",
      "num4 : 123\n",
      "num4 : <class 'int'>\n"
     ]
    }
   ],
   "source": [
    "'''\n",
    "자료형  <- data를 관리하는 메모리 공간의 크기와 모양 \n",
    "data type\n",
    "\n",
    "형변환\n",
    "    ㄴ 자료형  ->  형\n",
    "       data type   type\n",
    "  int / float / bool / str\n",
    "\n",
    "'''\n",
    "\n",
    "# int --> float : float() 함수 사용\n",
    "num1 = 1234\n",
    "print('num1 :', num1)\n",
    "print('num1 :', type(num1))\n",
    "\n",
    "num2 = float(num1)\n",
    "print('num2 :', num2)\n",
    "print('num2 :', type(num2))\n",
    "\n",
    "# float --> int : int() 함수 사용\n",
    "num3 = 123.456\n",
    "print('num3 :', num3)\n",
    "print('num3 :', type(num3))\n",
    "\n",
    "num4 = int(num3)\n",
    "print('num4 :', num4)\n",
    "print('num4 :', type(num4))"
   ]
  },
  {
   "cell_type": "code",
   "execution_count": 17,
   "id": "ef6e80ae",
   "metadata": {},
   "outputs": [
    {
     "name": "stdout",
     "output_type": "stream",
     "text": [
      "num5 : 1234\n",
      "num5 : <class 'int'>\n",
      "result : 1254\n",
      "num6 : 1234\n",
      "num6 : <class 'str'>\n",
      "result : 123420\n"
     ]
    }
   ],
   "source": [
    "# int --> str : str() 함수 사용\n",
    "num5 = 1234\n",
    "print('num5 :', num5)\n",
    "print('num5 :',type(num5))\n",
    "\n",
    "result = num5 + 20\n",
    "print('result :', result)\n",
    "\n",
    "num6 = str(num5)\n",
    "print('num6 :', num6)\n",
    "print('num6 :', type(num6))\n",
    "\n",
    "# TypeError: can only concatenate str (not \"int\") to str\n",
    "# result = num6 + 20\n",
    "# print('result :', result)\n",
    "\n",
    "result = num6 + str(20)\n",
    "print('result :', result)"
   ]
  },
  {
   "cell_type": "code",
   "execution_count": 19,
   "id": "acddb80e",
   "metadata": {},
   "outputs": [
    {
     "name": "stdout",
     "output_type": "stream",
     "text": [
      "num7 : 3.14\n",
      "num7 : <class 'float'>\n",
      "result : 23.14\n",
      "num8 : 3.14\n",
      "num8 : <class 'str'>\n",
      "result : 3.1420\n"
     ]
    }
   ],
   "source": [
    "# float --> str : str()\n",
    "num7 = 3.14\n",
    "print('num7 :', num7)\n",
    "print('num7 :', type(num7))\n",
    "\n",
    "result = num7 + 20\n",
    "print('result :', result)\n",
    "\n",
    "num8 = str(num7)\n",
    "print('num8 :', num8)\n",
    "print('num8 :', type(num8))\n",
    "\n",
    "result = num8 + str(20)\n",
    "print('result :', result)"
   ]
  },
  {
   "cell_type": "code",
   "execution_count": 20,
   "id": "679ee51b",
   "metadata": {},
   "outputs": [
    {
     "name": "stdout",
     "output_type": "stream",
     "text": [
      "num9 : 123456\n",
      "num9 : <class 'str'>\n",
      "num10 : 123456\n",
      "num10 : <class 'int'>\n"
     ]
    }
   ],
   "source": [
    "# str --> int : int()\n",
    "# 숫자모양의 문자열만 int type으로 형변환됨 \n",
    "num9 = '123456'\n",
    "\n",
    "print('num9 :', num9)\n",
    "print('num9 :', type(num9))\n",
    "\n",
    "num10 = int(num9)\n",
    "\n",
    "print('num10 :', num10)\n",
    "print('num10 :', type(num10))"
   ]
  },
  {
   "cell_type": "code",
   "execution_count": 23,
   "id": "4ee9a2c7",
   "metadata": {},
   "outputs": [
    {
     "name": "stdout",
     "output_type": "stream",
     "text": [
      "num11 : 3.141592\n",
      "num11 : <class 'str'>\n",
      "num12 : 3.141592\n",
      "num12 : <class 'float'>\n"
     ]
    }
   ],
   "source": [
    "# str --> float : float()\n",
    "\n",
    "num11 = '3.141592'\n",
    "\n",
    "print('num11 :', num11)\n",
    "print('num11 :', type(num11))\n",
    "\n",
    "num12 = float(num11)\n",
    "\n",
    "print('num12 :', num12)\n",
    "print('num12 :', type(num12))"
   ]
  },
  {
   "cell_type": "code",
   "execution_count": 25,
   "id": "0bab6095",
   "metadata": {},
   "outputs": [
    {
     "name": "stdout",
     "output_type": "stream",
     "text": [
      "num13 : 12345\n",
      "num13 : <class 'str'>\n",
      "num14 : 12345.0\n",
      "num14 : <class 'float'>\n"
     ]
    }
   ],
   "source": [
    "# 정수모양의 문자열 --> float type\n",
    "num13 = '12345'\n",
    "\n",
    "print('num13 :', num13)\n",
    "print('num13 :', type(num13))\n",
    "\n",
    "num14 = float(num13)\n",
    "\n",
    "print('num14 :', num14)\n",
    "print('num14 :', type(num14))"
   ]
  },
  {
   "cell_type": "code",
   "execution_count": 27,
   "id": "6d869718",
   "metadata": {},
   "outputs": [
    {
     "name": "stdout",
     "output_type": "stream",
     "text": [
      "num15 : 123.456\n",
      "num15 : <class 'str'>\n"
     ]
    }
   ],
   "source": [
    "# 실수모양의 문자열 --> int type  변경 불가함\n",
    "num15 = '123.456'\n",
    "\n",
    "print('num15 :', num15)\n",
    "print('num15 :', type(num15))\n",
    "\n",
    "# ValueError: invalid literal for int() with base 10: '123.456'\n",
    "# num16 = int(num15)\n",
    "\n",
    "# print('num16 :', num16)\n",
    "# print('num16 :', type(num16))"
   ]
  },
  {
   "cell_type": "code",
   "execution_count": 29,
   "id": "41a96d86",
   "metadata": {},
   "outputs": [
    {
     "name": "stdout",
     "output_type": "stream",
     "text": [
      "int(True) : 1\n",
      "int(False) : 0\n",
      "float(True) : 1.0\n",
      "float(False) : 0.0\n"
     ]
    }
   ],
   "source": [
    "'''\n",
    "bool type --> int type\n",
    "'''\n",
    "\n",
    "print('int(True) :', int(True))\n",
    "print('int(False) :', int(False))\n",
    "\n",
    "'''\n",
    "bool type --> float type\n",
    "'''\n",
    "\n",
    "print('float(True) :', float(True))\n",
    "print('float(False) :', float(False))"
   ]
  },
  {
   "cell_type": "code",
   "execution_count": null,
   "id": "e4142bb8",
   "metadata": {},
   "outputs": [],
   "source": []
  },
  {
   "cell_type": "code",
   "execution_count": null,
   "id": "95bd27d6",
   "metadata": {},
   "outputs": [],
   "source": []
  },
  {
   "cell_type": "code",
   "execution_count": null,
   "id": "e012cf9b",
   "metadata": {},
   "outputs": [],
   "source": []
  }
 ],
 "metadata": {
  "kernelspec": {
   "display_name": "Python 3 (ipykernel)",
   "language": "python",
   "name": "python3"
  },
  "language_info": {
   "codemirror_mode": {
    "name": "ipython",
    "version": 3
   },
   "file_extension": ".py",
   "mimetype": "text/x-python",
   "name": "python",
   "nbconvert_exporter": "python",
   "pygments_lexer": "ipython3",
   "version": "3.10.9"
  }
 },
 "nbformat": 4,
 "nbformat_minor": 5
}
