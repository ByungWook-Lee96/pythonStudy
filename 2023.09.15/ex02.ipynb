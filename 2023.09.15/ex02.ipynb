{
 "cells": [
  {
   "cell_type": "code",
   "execution_count": 14,
   "id": "46a85d33",
   "metadata": {},
   "outputs": [
    {
     "name": "stdout",
     "output_type": "stream",
     "text": [
      "[1, 2]\n",
      "list2 : [1, 2, 3, ['a', 'b', 'c'], 4, 5]\n",
      "list2[0] : 1\n",
      "list2 : [100, 2, 3, ['a', 'b', 'c'], 4, 5]\n",
      "list2[3][1] : b\n",
      "list2[3][0] : a\n",
      "list2 : [100, 2, 3, ['good', 'b', 'c'], 4, 5]\n",
      "list2[3][2] : c\n",
      "list2[3][:2] : ['good', 'b']\n",
      "list2 : [100, 2, ['good', 'b', 'c'], 4, 5]\n",
      "list2 : [100, 2, ['b', 'c'], 4, 5]\n"
     ]
    }
   ],
   "source": [
    "'''\n",
    "66 page\n",
    "'''\n",
    "\n",
    "list1 = [1, 2, 3, 4, 5]\n",
    "print(list1[0:2])\n",
    "\n",
    "list2 = [1, 2, 3, ['a', 'b', 'c'], 4, 5]\n",
    "print('list2 :', list2)\n",
    "print('list2[0] :', list2[0])\n",
    "list2[0] = 100\n",
    "print('list2 :', list2)\n",
    "print('list2[3][1] :', list2[3][1])\n",
    "print('list2[3][0] :', list2[3][0])\n",
    "list2[3][0] = 'good'\n",
    "print('list2 :', list2)\n",
    "print('list2[3][2] :', list2[3][2])\n",
    "print('list2[3][:2] :', list2[3][:2])\n",
    "\n",
    "del list2[2]\n",
    "print('list2 :', list2)\n",
    "\n",
    "del list2[2][0]\n",
    "print('list2 :', list2)\n"
   ]
  },
  {
   "cell_type": "code",
   "execution_count": 18,
   "id": "46b9ed06",
   "metadata": {},
   "outputs": [
    {
     "name": "stdout",
     "output_type": "stream",
     "text": [
      "list1 : [1, 2, 3, 4, 5]\n",
      "list2: [1, 2, 3, 4, 5]\n",
      "id(list1) : 1311015709568\n",
      "id(list2 : 1311015709568\n",
      "list1 : [100, 2, 3, 4, 5]\n",
      "list2: [100, 2, 3, 4, 5]\n"
     ]
    }
   ],
   "source": [
    "'''\n",
    "list 복사하기\n",
    "'''\n",
    "\n",
    "list1 = [1, 2, 3, 4, 5]\n",
    "\n",
    "# 주소의 복사 \n",
    "list2 = list1\n",
    "\n",
    "print('list1 :', list1)\n",
    "print('list2:', list2)\n",
    "\n",
    "print('id(list1) :', id(list1))\n",
    "print('id(list2 :', id(list2))\n",
    "\n",
    "list2[0] = 100\n",
    "print('list1 :', list1)\n",
    "print('list2:', list2)\n"
   ]
  },
  {
   "cell_type": "code",
   "execution_count": 26,
   "id": "8e069ed1",
   "metadata": {
    "scrolled": true
   },
   "outputs": [
    {
     "name": "stdout",
     "output_type": "stream",
     "text": [
      "list2 : [1, 2, 3, 4, 5]\n",
      "list1 : 1311015805440\n",
      "list2 : 1311015889216\n",
      "list1[4] : 5\n",
      "list1[4] : 555\n",
      "list1 : [1, 2, 3, 4, 555]\n",
      "------------------------------------------------------------\n",
      "list2[4] : 5\n",
      "list2 : [1, 2, 3, 4, 5]\n"
     ]
    }
   ],
   "source": [
    "'''\n",
    "얕은 복사(주소가 아닌 값 그대로 복사하는것, 주소 변경됨 )\n",
    "'''\n",
    "\n",
    "list1 = [1, 2, 3, 4, 5]\n",
    "\n",
    "# 1) slicing을 사용한 복사\n",
    "list2 = list1[:]\n",
    "print('list2 :',list2)\n",
    "\n",
    "print('list1 :', id(list1))\n",
    "print('list2 :', id(list2))\n",
    "\n",
    "print('list1[4] :', list1[4])\n",
    "list1[4] = 555\n",
    "print('list1[4] :', list1[4])\n",
    "print('list1 :', list1)\n",
    "\n",
    "print('-' * 60)\n",
    "print('list2[4] :', list2[4])\n",
    "print('list2 :', list2)"
   ]
  },
  {
   "cell_type": "code",
   "execution_count": 30,
   "id": "7dc6eaed",
   "metadata": {},
   "outputs": [
    {
     "name": "stdout",
     "output_type": "stream",
     "text": [
      "list1 : [1, 2, 3, 4, 5]\n",
      "list2 : [1, 2, 3, 4, 5]\n",
      "list1 : 1311015867968\n",
      "list2 : 1311015882560\n"
     ]
    }
   ],
   "source": [
    "# 2) copy() 메소드를 사용한 복사\n",
    "\n",
    "list1 = [1, 2, 3, 4, 5]\n",
    "print('list1 :', list1)\n",
    "\n",
    "list2 = list1.copy()\n",
    "print('list2 :', list2)\n",
    "print('list1 :', id(list1))\n",
    "print('list2 :', id(list2))\n"
   ]
  },
  {
   "cell_type": "code",
   "execution_count": 33,
   "id": "7cb641fb",
   "metadata": {},
   "outputs": [
    {
     "name": "stdout",
     "output_type": "stream",
     "text": [
      "list1 : [[1, 2, 3], [4, 5, 6]]\n",
      "list2 : [[1, 2, 3], [4, 5, 6]]\n",
      "list1 : 1311015865984\n",
      "list2 : 1311015862592\n",
      "list1[0] : [1, 2, 3]\n",
      "list2[0] : [1, 2, 3]\n",
      "list1[1] : [4, 5, 6]\n",
      "list2[1] : [4, 5, 6]\n",
      "list1[0] : 1311015787456\n",
      "list2[0] : 1311015787456\n",
      "list1[1] : 1311015872384\n",
      "list2[1] : 1311015872384\n"
     ]
    }
   ],
   "source": [
    "'''\n",
    "2차원리스트의 경우\n",
    "\n",
    "1) 얕은 복사(2차원리스트가 포함되어있는 리스트에서 1차 리스트는 깊은 복사가 되지만, 2차원 리스트는 동일한 주소값을 가짐)\n",
    "    ㄴ 두 개의 일차원 리스트가 이차원 리스트를 공유함 \n",
    "'''\n",
    "\n",
    "list1 = [[1, 2, 3], [4, 5, 6]]\n",
    "\n",
    "list2 = list1[:]\n",
    "lsit2 = list1.copy()\n",
    "\n",
    "print('list1 :', list1)\n",
    "print('list2 :', list2)\n",
    "\n",
    "print('list1 :', id(list1))\n",
    "print('list2 :', id(list2))\n",
    "\n",
    "print('list1[0] :', list1[0])\n",
    "print('list2[0] :', list2[0])\n",
    "\n",
    "print('list1[1] :', list1[1])\n",
    "print('list2[1] :', list2[1])\n",
    "\n",
    "print('list1[0] :', id(list1[0]))\n",
    "print('list2[0] :', id(list2[0]))\n",
    "print('list1[1] :', id(list1[1]))\n",
    "print('list2[1] :', id(list2[1]))"
   ]
  },
  {
   "cell_type": "code",
   "execution_count": 35,
   "id": "c3d54dbc",
   "metadata": {},
   "outputs": [
    {
     "name": "stdout",
     "output_type": "stream",
     "text": [
      "list1 : [[1, 2, 3], [4, 5, 6]]\n",
      "list2 : [[1, 2, 3], [4, 5, 6]]\n",
      "list1[0][1] : 2\n",
      "list2[0][1] : 2\n",
      "list1[0][1] : 2222\n",
      "list2[0][1] : 2222\n"
     ]
    }
   ],
   "source": [
    "print('list1 :', list1)\n",
    "print('list2 :', list2)\n",
    "\n",
    "print('list1[0][1] :', list1[0][1])\n",
    "print('list2[0][1] :', list2[0][1])\n",
    "\n",
    "list1[0][1] = 2222\n",
    "\n",
    "print('list1[0][1] :', list1[0][1])\n",
    "print('list2[0][1] :', list2[0][1])"
   ]
  },
  {
   "cell_type": "code",
   "execution_count": 38,
   "id": "d2e78a44",
   "metadata": {},
   "outputs": [
    {
     "name": "stdout",
     "output_type": "stream",
     "text": [
      "list1 : [[1, 2, 3], [4, 5, 6]]\n",
      "list2 : [[1, 2, 3], [4, 5, 6]]\n",
      "list1 : 1311016051072\n",
      "list2 : 1311016049408\n",
      "list1[0] : 1311016054464\n",
      "list2[0] : 1311016049088\n"
     ]
    }
   ],
   "source": [
    "'''\n",
    "2차원리스트의 경우\n",
    "\n",
    "1) 깊은 복사\n",
    "    ㄴ copy 모듈에 있는 deepcopy() 함수를 사용함\n",
    "            ㄴ import 해서 사용하라는 의미\n",
    "\n",
    "       형식\n",
    "       \n",
    "       copy.deepcopy(리스트)\n",
    "'''\n",
    "\n",
    "import copy\n",
    "\n",
    "\n",
    "list1 = [[1, 2, 3], [4, 5, 6]]\n",
    "\n",
    "list2 = copy.deepcopy(list1)\n",
    "\n",
    "print('list1 :', list1)\n",
    "print('list2 :', list2)\n",
    "print('list1 :', id(list1))\n",
    "print('list2 :', id(list2))\n",
    "\n",
    "print('list1[0] :', id(list1[0]))\n",
    "print('list2[0] :', id(list2[0]))\n"
   ]
  },
  {
   "cell_type": "code",
   "execution_count": null,
   "id": "2cd4eeb3",
   "metadata": {},
   "outputs": [],
   "source": []
  },
  {
   "cell_type": "code",
   "execution_count": null,
   "id": "72eeb0a4",
   "metadata": {},
   "outputs": [],
   "source": []
  },
  {
   "cell_type": "code",
   "execution_count": null,
   "id": "be9fcadf",
   "metadata": {},
   "outputs": [],
   "source": []
  },
  {
   "cell_type": "code",
   "execution_count": null,
   "id": "dca11501",
   "metadata": {},
   "outputs": [],
   "source": []
  }
 ],
 "metadata": {
  "kernelspec": {
   "display_name": "Python 3 (ipykernel)",
   "language": "python",
   "name": "python3"
  },
  "language_info": {
   "codemirror_mode": {
    "name": "ipython",
    "version": 3
   },
   "file_extension": ".py",
   "mimetype": "text/x-python",
   "name": "python",
   "nbconvert_exporter": "python",
   "pygments_lexer": "ipython3",
   "version": "3.10.9"
  }
 },
 "nbformat": 4,
 "nbformat_minor": 5
}
