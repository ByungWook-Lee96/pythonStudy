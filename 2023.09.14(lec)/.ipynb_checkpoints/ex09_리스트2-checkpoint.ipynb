{
 "cells": [
  {
   "cell_type": "code",
   "execution_count": 19,
   "id": "577ea2a7",
   "metadata": {},
   "outputs": [
    {
     "name": "stdout",
     "output_type": "stream",
     "text": [
      "list1 : [1, 2, 3, 4]\n",
      "list1 : [1, 2, 3, 4, 5]\n",
      "list1 : [1, 2, 3, 4, 5, 5]\n",
      "list1 : [1, 2, 3, 4, 5, 5, 6]\n",
      "list1 : [1, 2, 3, 4, 5, 5, 6, [7, 8]]\n"
     ]
    }
   ],
   "source": [
    "'''\n",
    "list 에 item(element) 추가하기\n",
    "\n",
    "append(아이템) 메소드 : 아이템이 맨 뒤에 추가됨\n",
    "'''\n",
    "list1 = [1, 2, 3, 4]\n",
    "print('list1 :',list1)\n",
    "\n",
    "list1.append(5)\n",
    "print('list1 :',list1)\n",
    "\n",
    "'''\n",
    "list : item 의 중복을 허용함\n",
    "                ㄴ index 로 구분함\n",
    "'''\n",
    "list1.append(5)\n",
    "print('list1 :',list1)\n",
    "\n",
    "list1.append(6)\n",
    "print('list1 :',list1)\n",
    "\n",
    "# TypeError: list.append() takes exactly one argument (2 given)\n",
    "# list1.append(7, 8)\n",
    "'''\n",
    "  두 개 이상의 data 를 item으로 하는 [] 를 argument 로 넣으면\n",
    "   [] 가 통째로 저장됨\n",
    "'''  \n",
    "list1.append([7, 8])\n",
    "print('list1 :',list1)"
   ]
  },
  {
   "cell_type": "code",
   "execution_count": 20,
   "id": "ee3c50e0",
   "metadata": {},
   "outputs": [
    {
     "name": "stdout",
     "output_type": "stream",
     "text": [
      "list1 : [1, 2, 3, 4, 5, 5, 6, [7, 8], 7, 8]\n"
     ]
    }
   ],
   "source": [
    "'''\n",
    "extend() 메소드 : \n",
    "  두 개 이상의 data 를 item으로 하는 [] 를 argument 로 넣으면\n",
    "  낱개로 저장됨\n",
    "'''\n",
    "# TypeError: list.extend() takes exactly one argument (2 given)\n",
    "# list1.extend(7, 8)\n",
    "list1.extend([7, 8])\n",
    "print('list1 :',list1)"
   ]
  },
  {
   "cell_type": "code",
   "execution_count": 21,
   "id": "c45dc17a",
   "metadata": {},
   "outputs": [
    {
     "name": "stdout",
     "output_type": "stream",
     "text": [
      "list1 : [1, 2, 3, 4, 5, 333, 5, 6, [7, 8], 7, 8]\n",
      "list1 : [777, 1, 2, 3, 4, 5, 333, 5, 6, [7, 8], 7, 8]\n"
     ]
    }
   ],
   "source": [
    "'''\n",
    "insert(index, item) 메소드\n",
    "'''\n",
    "list1.insert(5, 333)\n",
    "print('list1 :',list1)\n",
    "\n",
    "list1.insert(0, 777)\n",
    "print('list1 :',list1)"
   ]
  },
  {
   "cell_type": "code",
   "execution_count": null,
   "id": "2cfb4f3a",
   "metadata": {},
   "outputs": [],
   "source": []
  }
 ],
 "metadata": {
  "kernelspec": {
   "display_name": "Python 3 (ipykernel)",
   "language": "python",
   "name": "python3"
  },
  "language_info": {
   "codemirror_mode": {
    "name": "ipython",
    "version": 3
   },
   "file_extension": ".py",
   "mimetype": "text/x-python",
   "name": "python",
   "nbconvert_exporter": "python",
   "pygments_lexer": "ipython3",
   "version": "3.10.9"
  }
 },
 "nbformat": 4,
 "nbformat_minor": 5
}
