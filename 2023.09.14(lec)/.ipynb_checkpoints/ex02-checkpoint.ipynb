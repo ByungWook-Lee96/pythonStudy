{
 "cells": [
  {
   "cell_type": "code",
   "execution_count": null,
   "id": "b8ff9b3b",
   "metadata": {},
   "outputs": [],
   "source": [
    "str1 = \"life is too short you should learn python\"\n",
    "\n",
    "'''\n",
    "    life is too short you should learn python\n",
    "    01234567890123456789012345678901234567890   <-- index 번호\n",
    "              1         2         3         4  \n",
    "              \n",
    "       문자열의길이 = 가장큰index번호 + 1       \n",
    "   \n",
    "       가장큰index번호 = 문자열의길이 - 1\n",
    " \n",
    "'''\n",
    "\n",
    "# 문자열의 길이를 반환 : len(문자열)\n",
    "print('len(str1) :',len(str1))\n",
    "\n",
    "# 문자열 indexing\n",
    "print('str1[18] :',str1[18])\n",
    "print('str1[30] :',str1[30])\n",
    "print('str1[16] :',str1[16])"
   ]
  },
  {
   "cell_type": "code",
   "execution_count": null,
   "id": "b814ca0e",
   "metadata": {},
   "outputs": [],
   "source": [
    "str1 = \"life is too short you should learn python\"\n",
    "\n",
    "'''\n",
    "    life is too short you should learn python\n",
    "    01234567890123456789012345678901234567890   <-- index 번호\n",
    "              1         2         3         4  \n",
    "              \n",
    "       문자열의길이 = 가장큰index번호 + 1       \n",
    "   \n",
    "       가장큰index번호 = 문자열의길이 - 1\n",
    " \n",
    "'''\n",
    "\n",
    "'''\n",
    "문자열 slicing\n",
    "\n",
    "문자열[start:stop] : strat 부터 stop-1 까지\n",
    "문자열[start:stop:step] : strat 부터 stop-1 까지 step-1 씩 건너뜀\n",
    "\n",
    "    life is too short you should learn python\n",
    "    01234567890123456789012345678901234567890   <-- index 번호\n",
    "              1         2         3         4                \n",
    "'''\n",
    "print('str1[12:16] :',str1[12:16])\n",
    "print('str1[12:17] :',str1[12:17])\n",
    "print('str1[22:28] :',str1[22:28])\n",
    "print('str1[35:41] :',str1[35:41])"
   ]
  },
  {
   "cell_type": "code",
   "execution_count": null,
   "id": "84a068a4",
   "metadata": {},
   "outputs": [],
   "source": [
    "str2 = '20230914sunny'\n",
    "\n",
    "'''\n",
    "           54321    \n",
    "   20230914sunny\n",
    "   0123456789012\n",
    "   \n",
    "'''\n",
    "\n",
    "# 날짜만 추출하세요\n",
    "print('str2[0:8] :',str2[0:8])\n",
    "\n",
    "print('slicing 할 때 start 를 생략하면 맨 처음(0)을 의미함')\n",
    "print('str2[:8]  :',str2[:8])\n",
    "\n",
    "\n",
    "# 날씨만 추출하세요\n",
    "print('str2[8:13] :',str2[8:13])\n",
    "\n",
    "print('slicing 할 때 stop-1 을 생략하면 맨 끝을 의미함')\n",
    "print('str2[8:]   :',str2[8:])\n",
    "\n",
    "\n",
    "# 맨 마지막 문자 indexng 하기\n",
    "'''\n",
    "       문자열의길이 = 가장큰index번호 + 1\n",
    "       가장큰index번호 = 문자열의길이 - 1\n",
    "'''\n",
    "print(str2[12])\n",
    "print(str2[-1])\n",
    "print(str2[len(str2)-1])"
   ]
  },
  {
   "cell_type": "code",
   "execution_count": 25,
   "id": "df1ae287",
   "metadata": {},
   "outputs": [
    {
     "name": "stdout",
     "output_type": "stream",
     "text": [
      "13579\n",
      "13579\n",
      "2468\n",
      "2468\n"
     ]
    }
   ],
   "source": [
    "'''\n",
    "문자열[start:stop:step] : strat 부터 stop-1 까지 step-1 씩 건너뜀\n",
    "'''\n",
    "numbers = '123456789'\n",
    "\n",
    "'''\n",
    "홀수만 출력하기\n",
    "'''\n",
    "print(numbers[0:9:2])\n",
    "print(numbers[::2])\n",
    "'''\n",
    "짝수만 출력하기\n",
    "'''\n",
    "print(numbers[1:9:2])\n",
    "print(numbers[1::2])"
   ]
  },
  {
   "cell_type": "code",
   "execution_count": 28,
   "id": "bb42a479",
   "metadata": {},
   "outputs": [
    {
     "name": "stdout",
     "output_type": "stream",
     "text": [
      "hello \n",
      "hello python\n",
      "2938464846000\n",
      "2938464847856\n"
     ]
    }
   ],
   "source": [
    "'''\n",
    "mutable type\n",
    "\n",
    "str type : immutable type <- 불변형\n",
    "문자열   : 문자열을 메모리에 한 번 올리면 변경할 수 없음\n",
    "\n",
    "'''\n",
    "\n",
    "str1 = 'hello '\n",
    "print(str1)\n",
    "print(str1 + 'python')\n",
    "print(id(str1))\n",
    "print(id(str1 + 'python'))\n"
   ]
  },
  {
   "cell_type": "code",
   "execution_count": 38,
   "id": "271b8c13",
   "metadata": {},
   "outputs": [
    {
     "name": "stdout",
     "output_type": "stream",
     "text": [
      "pithon\n",
      "str2[1] : i\n",
      "python\n",
      "------------------------------------------------------------\n",
      "str2   : pithon\n",
      "str2   : pithon\n",
      "result : python\n",
      "intelliJ\n",
      "result : AntellAJ\n"
     ]
    }
   ],
   "source": [
    "str2 = 'pithon'\n",
    "print(str2)\n",
    "\n",
    "print('str2[1] :',str2[1])\n",
    "\n",
    "'''\n",
    "  pithon\n",
    "  \n",
    "  python\n",
    "'''\n",
    "# 문자열은 immutable type 이므로 바꿀 수 없다\n",
    "# TypeError: 'str' object does not support item assignment\n",
    "# str2[1] = 'y'\n",
    "\n",
    "result = str2[0] + 'y' + str2[2:]\n",
    "print(result)\n",
    "print('-' * 60)\n",
    "\n",
    "# 문자열의 replace() 메소드 : replace(old, new)\n",
    "print('str2   :', str2)\n",
    "result = str2.replace('i', 'y')\n",
    "print('str2   :', str2)\n",
    "print('result :', result)\n",
    "\n",
    "\n",
    "# i 가 두 개 있으면 두 개 다 바뀜\n",
    "# i --> A\n",
    "str3 = 'intelliJ'\n",
    "print(str3)\n",
    "result = str3.replace('i', 'A')\n",
    "print('result :', result)"
   ]
  },
  {
   "cell_type": "code",
   "execution_count": 42,
   "id": "708a37b1",
   "metadata": {},
   "outputs": [
    {
     "name": "stdout",
     "output_type": "stream",
     "text": [
      "123456789\n",
      "9\n",
      "987654321\n",
      "173462589\n"
     ]
    }
   ],
   "source": [
    "numbers = '123456789'\n",
    "\n",
    "print(numbers[:])\n",
    "print(numbers[-1])\n",
    "\n",
    "print(numbers[::-1])\n",
    "\n",
    "numbers2 = '985264371'\n",
    "print(numbers2[::-1])"
   ]
  },
  {
   "cell_type": "code",
   "execution_count": null,
   "id": "f14d6f52",
   "metadata": {},
   "outputs": [],
   "source": []
  }
 ],
 "metadata": {
  "kernelspec": {
   "display_name": "Python 3 (ipykernel)",
   "language": "python",
   "name": "python3"
  },
  "language_info": {
   "codemirror_mode": {
    "name": "ipython",
    "version": 3
   },
   "file_extension": ".py",
   "mimetype": "text/x-python",
   "name": "python",
   "nbconvert_exporter": "python",
   "pygments_lexer": "ipython3",
   "version": "3.10.9"
  }
 },
 "nbformat": 4,
 "nbformat_minor": 5
}
