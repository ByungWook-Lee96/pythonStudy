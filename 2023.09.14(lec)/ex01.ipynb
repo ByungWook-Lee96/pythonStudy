{
 "cells": [
  {
   "cell_type": "code",
   "execution_count": null,
   "id": "619ee43c",
   "metadata": {},
   "outputs": [],
   "source": [
    "# 49 page\n",
    "\n",
    "var = '안녕 파이썬'; print(var)\n",
    "\n",
    "\n",
    "\n",
    "# 50 page\n",
    "\n",
    "print(7, type(7))\n",
    "print(7.34, type(7.34))\n",
    "print(3 + 4j, type(3 + 4j))\n",
    "print(True, type(True))\n"
   ]
  },
  {
   "cell_type": "code",
   "execution_count": null,
   "id": "84748291",
   "metadata": {},
   "outputs": [],
   "source": [
    "print('클라우드', type('클라우드'))\n",
    "print(['클라우드'], type(['클라우드']))\n",
    "print(['클라우드',], type(['클라우드',]))\n",
    "print(('클라우드'), type(('클라우드')))\n",
    "print(('클라우드',), type(('클라우드',)))\n",
    "print((123), type((123)))\n",
    "print((123,), type((123,)))\n",
    "print({123}, type({123}))\n",
    "print({123,}, type({123,}))\n",
    "print({'학번':123}, type({'학번':123}))\n"
   ]
  },
  {
   "cell_type": "code",
   "execution_count": null,
   "id": "3ed9b0f1",
   "metadata": {},
   "outputs": [],
   "source": [
    "print(10)\n",
    "print(oct(10))\n",
    "print(hex(10))\n",
    "print(bin(10))"
   ]
  },
  {
   "cell_type": "code",
   "execution_count": null,
   "id": "7ccb8801",
   "metadata": {},
   "outputs": [],
   "source": [
    "print(10)\n",
    "print(0o12)\n",
    "print(0xa)\n",
    "print(0b1010)"
   ]
  },
  {
   "cell_type": "code",
   "execution_count": null,
   "id": "3315b49b",
   "metadata": {},
   "outputs": [],
   "source": [
    "# 51 page\n",
    "print(10 + 8)\n",
    "print(10 - 8)\n",
    "print(10 * 8)\n",
    "print(10 / 8)\n",
    "# 몫\n",
    "print(10 // 8)\n",
    "# 나머지\n",
    "print(10 % 8)\n",
    "print(10 ** 8)"
   ]
  },
  {
   "cell_type": "code",
   "execution_count": null,
   "id": "84171b3a",
   "metadata": {},
   "outputs": [],
   "source": [
    "'''\n",
    "result = result + 1\n",
    "\n",
    "result += 1\n",
    "'''\n",
    "\n",
    "result = 10\n",
    "print('result :',result)\n",
    "result = result + 1\n",
    "print('result :',result)\n",
    "result = result + 1\n",
    "print('result :',result)\n",
    "result = result + 1\n",
    "print('result :',result)"
   ]
  },
  {
   "cell_type": "code",
   "execution_count": null,
   "id": "89118dfc",
   "metadata": {},
   "outputs": [],
   "source": [
    "result2 = 10\n",
    "print('result2 :',result2)\n",
    "\n",
    "'''\n",
    "result2 =  result2 + 1\n",
    "\n",
    "할당 연산자 왼쪽, 오른쪽에 있는 변수가 같아야 함\n",
    "\n",
    "result2 +=  1\n",
    "'''\n",
    "result2 +=  1\n",
    "print('result2 :',result2)\n",
    "result2 +=  1\n",
    "print('result2 :',result2)\n",
    "result2 +=  1\n",
    "print('result2 :',result2)\n",
    "result2 +=  1\n",
    "print('result2 :',result2)"
   ]
  },
  {
   "cell_type": "code",
   "execution_count": null,
   "id": "84132bfb",
   "metadata": {},
   "outputs": [],
   "source": [
    "a = 1\n",
    "b = 2\n",
    "\n",
    "c = a + b\n",
    "print(c)"
   ]
  },
  {
   "cell_type": "code",
   "execution_count": null,
   "id": "23542dab",
   "metadata": {},
   "outputs": [],
   "source": [
    "c = c + a\n",
    "c += a\n",
    "print(c)"
   ]
  },
  {
   "cell_type": "code",
   "execution_count": null,
   "id": "2e621c60",
   "metadata": {},
   "outputs": [],
   "source": [
    "'''\n",
    "c = c + a   |   c += a   (O)\n",
    "\n",
    "c = a + b   |   c += a   (X)\n",
    "\n",
    "'''\n",
    "\n",
    "# divmod() 함수 <- (몫, 나머지)\n",
    "print(divmod(10, 8))\n",
    "\n"
   ]
  },
  {
   "cell_type": "code",
   "execution_count": null,
   "id": "4abe6ca3",
   "metadata": {},
   "outputs": [],
   "source": [
    "print(10 > 8)\n",
    "print(10 < 8)\n",
    "print(10 == 8)\n",
    "print(10 >= 8)\n",
    "print(10 <= 8)\n",
    "print(10 != 8)"
   ]
  },
  {
   "cell_type": "code",
   "execution_count": null,
   "id": "d65a10e2",
   "metadata": {},
   "outputs": [],
   "source": [
    "# 52 page\n",
    "\n",
    "# 논리 연산자 : and, or, not\n",
    "#                &&   ||   !\n",
    "# 논리 연사자의 피연산자는 bool type 만 가능함\n",
    "\n",
    "'''\n",
    "논리 and 연산자 - 논리곱\n",
    "           ㄴ 모두 True 일 때만 True 를 반환함\n",
    "              하나라도 False 면 False 를 반환함\n",
    "'''\n",
    "print(True  and True)\n",
    "print(True  and False)\n",
    "print(False and True)\n",
    "print(False and False)"
   ]
  },
  {
   "cell_type": "code",
   "execution_count": null,
   "id": "52bef2f1",
   "metadata": {},
   "outputs": [],
   "source": [
    "print(True  and True and True and True and True and True and True)\n",
    "print(True  and False and True and True and True and True and True and True)\n",
    "print(False and True and True and True and True and True)\n",
    "print(False and False and False and False and False and False)"
   ]
  },
  {
   "cell_type": "code",
   "execution_count": null,
   "id": "fc9806d7",
   "metadata": {},
   "outputs": [],
   "source": [
    "'''\n",
    "논리 or 연산자 - 논리합\n",
    "           ㄴ 모두 False 일 때만 False 를 반환함\n",
    "              하나라도 True 면 True 를 반환함\n",
    "'''\n",
    "print(True  or True)\n",
    "print(True  or False)\n",
    "print(False or True)\n",
    "print(False or False)"
   ]
  },
  {
   "cell_type": "code",
   "execution_count": null,
   "id": "7d239460",
   "metadata": {},
   "outputs": [],
   "source": [
    "print(True  or True or True or True or True or True)\n",
    "print(True  or False or True or True or True or True)\n",
    "print(False or True or False or False or False or False or False or False)\n",
    "print(False or False or False or False or False or False or False or False)"
   ]
  },
  {
   "cell_type": "code",
   "execution_count": null,
   "id": "5774475b",
   "metadata": {},
   "outputs": [],
   "source": [
    "'''\n",
    "short circuit\n",
    "  ㄴ 논리 연산자에서 이미 결과가 확정되면 \n",
    "     뒤에 나오는 연산을 하지 않음\n",
    "'''\n",
    "num1 = 10\n",
    "num2 = 8\n",
    "\n",
    "print(num1 > num2 and 10 + 2)\n",
    "print(num1 < num2 and 10 + 2)\n",
    "print('-' * 60)\n",
    "\n",
    "print(num1 > num2 or 10 + 2)\n",
    "print(num1 < num2 or 10 + 2)"
   ]
  },
  {
   "cell_type": "code",
   "execution_count": null,
   "id": "cfc35e3f",
   "metadata": {},
   "outputs": [],
   "source": [
    "str1 = '클라우드'\n",
    "str2 = ' 스쿨'\n",
    "\n",
    "print(str1)\n",
    "print(str2)\n",
    "print(str1 + str2)\n",
    "\n",
    "# 문자열에 * 연산을 하면 반복이 됨\n",
    "print(str2 * 3)\n",
    "print(str2 * 10)\n",
    "\n",
    "print('-')\n",
    "print('-' * 5)\n",
    "print('-' * 10)\n",
    "print('-' * 15)\n",
    "print('-' * 20)"
   ]
  },
  {
   "cell_type": "code",
   "execution_count": null,
   "id": "1b83b52b",
   "metadata": {},
   "outputs": [],
   "source": [
    "print('------------------------------------------------------------')\n",
    "print('-' * 60)"
   ]
  },
  {
   "cell_type": "code",
   "execution_count": 50,
   "id": "f9df1839",
   "metadata": {},
   "outputs": [
    {
     "name": "stdout",
     "output_type": "stream",
     "text": [
      "True\n",
      "False\n"
     ]
    }
   ],
   "source": [
    "# 논리 부정 연산자 : not\n",
    "b1 = True\n",
    "print(b1)\n",
    "print(not b1)"
   ]
  },
  {
   "cell_type": "code",
   "execution_count": null,
   "id": "81e42fd7",
   "metadata": {},
   "outputs": [],
   "source": []
  },
  {
   "cell_type": "code",
   "execution_count": null,
   "id": "4808f14e",
   "metadata": {},
   "outputs": [],
   "source": []
  },
  {
   "cell_type": "code",
   "execution_count": null,
   "id": "52407517",
   "metadata": {},
   "outputs": [],
   "source": []
  }
 ],
 "metadata": {
  "kernelspec": {
   "display_name": "Python 3 (ipykernel)",
   "language": "python",
   "name": "python3"
  },
  "language_info": {
   "codemirror_mode": {
    "name": "ipython",
    "version": 3
   },
   "file_extension": ".py",
   "mimetype": "text/x-python",
   "name": "python",
   "nbconvert_exporter": "python",
   "pygments_lexer": "ipython3",
   "version": "3.10.9"
  }
 },
 "nbformat": 4,
 "nbformat_minor": 5
}
