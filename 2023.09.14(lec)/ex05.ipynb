{
 "cells": [
  {
   "cell_type": "code",
   "execution_count": 2,
   "id": "8e6671cf",
   "metadata": {},
   "outputs": [],
   "source": [
    "'''\n",
    "(java)\n",
    "int number;\n",
    "number = 10; \n",
    " 1) 변수를 선언(메모리에 올림)하고 \n",
    " 2) 선언된 변수에 값을 할당함\n",
    " \n",
    " \n",
    "(python) \n",
    " 값과 변수가 연결될 때\n",
    " 변수가 메모리에 올라감\n",
    "'''\n",
    "# NameError: name 'number' is not defined\n",
    "# number\n",
    "number = 10"
   ]
  },
  {
   "cell_type": "code",
   "execution_count": 4,
   "id": "c63f7001",
   "metadata": {},
   "outputs": [
    {
     "name": "stdout",
     "output_type": "stream",
     "text": [
      "성적을 입력하세요 : 88\n",
      "당신은 B 학점입니다\n"
     ]
    }
   ],
   "source": [
    "'''\n",
    "성적에 따른 학점 출력하기\n",
    "\n",
    "score : 성적을 저장하는 변수\n",
    "grade : 학점을 저장하는 변수\n",
    "\n",
    "A :  90 <= score and score <= 100  <-- 90 <= score <= 100\n",
    "(B :  80 <= score and score < 90)\n",
    "B :  80 <= score and score <= 89   <-- 80 <= score <= 89\n",
    "C :  70 <= score and score <= 79   <-- 70 <= score <= 79\n",
    "D :  60 <= score and score <= 69   <-- 60 <= score <= 69\n",
    "F :  0 <= score  and score <= 59   <--  0 <= score <= 59\n",
    "'''\n",
    "\n",
    "score = int(input('성적을 입력하세요 : '))\n",
    "grade = ''\n",
    "\n",
    "if 90 <= score <= 100:\n",
    "    grade = 'A'\n",
    "elif 80 <= score <= 89:\n",
    "    grade = 'B'\n",
    "elif 70 <= score <= 79:\n",
    "    grade = 'C'\n",
    "elif 60 <= score <= 69:\n",
    "    grade = 'D'\n",
    "else:\n",
    "    grade = 'F'\n",
    "    \n",
    "print(f'당신은 {grade} 학점입니다')"
   ]
  },
  {
   "cell_type": "code",
   "execution_count": 7,
   "id": "bd58ac21",
   "metadata": {},
   "outputs": [
    {
     "name": "stdout",
     "output_type": "stream",
     "text": [
      "성적을 입력하세요 : -20\n",
      "당신은 F 학점입니다\n"
     ]
    }
   ],
   "source": [
    "score = int(input('성적을 입력하세요 : '))\n",
    "grade = ''\n",
    "\n",
    "if 90 <= score <= 100:\n",
    "    grade = 'A'\n",
    "elif 80 <= score:\n",
    "    grade = 'B'\n",
    "elif 70 <= score:\n",
    "    grade = 'C'\n",
    "elif 60 <= score:\n",
    "    grade = 'D'\n",
    "else:\n",
    "    grade = 'F'\n",
    "    \n",
    "print(f'당신은 {grade} 학점입니다')"
   ]
  },
  {
   "cell_type": "code",
   "execution_count": 13,
   "id": "a0212682",
   "metadata": {},
   "outputs": [
    {
     "name": "stdout",
     "output_type": "stream",
     "text": [
      "성적을 입력하세요 : 84\n",
      "당신은 B 학점입니다\n"
     ]
    }
   ],
   "source": [
    "score = int(input('성적을 입력하세요 : '))\n",
    "grade = ''\n",
    "\n",
    "if 0 <= score <= 100:\n",
    "    if 90 <= score:\n",
    "        grade = 'A'\n",
    "    elif 80 <= score:\n",
    "        grade = 'B'\n",
    "    elif 70 <= score:\n",
    "        grade = 'C'\n",
    "    elif 60 <= score:\n",
    "        grade = 'D'\n",
    "    else:\n",
    "        grade = 'F'\n",
    "    print(f'당신은 {grade} 학점입니다')    \n",
    "else:\n",
    "    print('성적을 다시 입력해 주세요')   \n"
   ]
  },
  {
   "cell_type": "code",
   "execution_count": 3,
   "id": "adae5336",
   "metadata": {},
   "outputs": [
    {
     "name": "stdout",
     "output_type": "stream",
     "text": [
      "성적을 입력하세요 : 89\n",
      "당신은 B+ 학점입니다\n"
     ]
    }
   ],
   "source": [
    "score = int(input('성적을 입력하세요 : '))\n",
    "grade = ''\n",
    "plusminus = ''\n",
    "\n",
    "if 0 <= score <= 100:\n",
    "    if 90 <= score:\n",
    "        grade = 'A'\n",
    "        if score < 93:\n",
    "            plusminus = '-'\n",
    "        elif 97 < score:\n",
    "            plusminus = '+'\n",
    "        else:\n",
    "            plusminus = '0'        \n",
    "    elif 80 <= score:\n",
    "        grade = 'B'\n",
    "        if score < 83:\n",
    "            plusminus = '-'\n",
    "        elif 87 < score:\n",
    "            plusminus = '+'\n",
    "        else:\n",
    "            plusminus = '0'\n",
    "    elif 70 <= score:\n",
    "        grade = 'C'\n",
    "        if score < 73:\n",
    "            plusminus = '-'\n",
    "        elif 77 < score:\n",
    "            plusminus = '+'\n",
    "        else:\n",
    "            plusminus = '0'\n",
    "    elif 60 <= score:\n",
    "        grade = 'D'\n",
    "        if score < 63:\n",
    "            plusminus = '-'\n",
    "        elif 67 < score:\n",
    "            plusminus = '+'\n",
    "        else:\n",
    "            plusminus = '0'\n",
    "    else:\n",
    "        grade = 'F'\n",
    "    print(f'당신은 {grade}{plusminus} 학점입니다')    \n",
    "else:\n",
    "    print('성적을 다시 입력해 주세요')  "
   ]
  },
  {
   "cell_type": "code",
   "execution_count": 5,
   "id": "9e10d79e",
   "metadata": {},
   "outputs": [
    {
     "name": "stdout",
     "output_type": "stream",
     "text": [
      "문자 하나를 입력하세요 : Q\n",
      "q\n",
      "q\n",
      "q\n",
      "q\n"
     ]
    }
   ],
   "source": [
    "'''\n",
    "문자 하나를 입력하고  <-- input()\n",
    "대문자인 경우 소문자로  <-- isupper() / islower()\n",
    "소문자인 경우 대문자로  <-- isupper() / islower()\n",
    "변환해서 출력하는 code 를 작성하세요  <-- lower()\n",
    "'''\n",
    "str1 = input('문자 하나를 입력하세요 : ')\n",
    "\n",
    "if str1.isupper() == True:\n",
    "    print(str1.lower())\n",
    "else:\n",
    "    print(str1.upper())\n",
    "\n",
    "if str1.isupper():\n",
    "    print(str1.lower())\n",
    "else:\n",
    "    print(str1.upper()) \n",
    "    \n",
    "if str1.isupper() == True:\n",
    "    print(str1.lower())\n",
    "elif str1.islower() == True:\n",
    "    print(str1.upper())\n",
    "    \n",
    "if str1.isupper():\n",
    "    print(str1.lower())\n",
    "elif str1.islower():\n",
    "    print(str1.upper())  \n"
   ]
  },
  {
   "cell_type": "code",
   "execution_count": 7,
   "id": "60066463",
   "metadata": {},
   "outputs": [
    {
     "name": "stdout",
     "output_type": "stream",
     "text": [
      "문자열을 입력하세요안녕하세요\n",
      "안녕하세요안녕하세요\n"
     ]
    }
   ],
   "source": [
    "'''\n",
    "'안녕하세요' 를 입력 받아서\n",
    "'안녕하세요안녕하세요' 를 출력하는\n",
    "code 를 작성하세요  \n",
    "'''\n",
    "\n",
    "str2 = input('문자열을 입력하세요 : ')\n",
    "print(str2 * 2)\n"
   ]
  },
  {
   "cell_type": "code",
   "execution_count": 11,
   "id": "19f7239c",
   "metadata": {},
   "outputs": [
    {
     "name": "stdout",
     "output_type": "stream",
     "text": [
      "문자열을 입력하세요 : 안녕하세요\n",
      "안녕하세요안녕하세요\n"
     ]
    }
   ],
   "source": [
    "'''\n",
    "입력 받은 문자열이 '안녕하세요' 일 때만\n",
    "'안녕하세요안녕하세요' 를 출력하는\n",
    "code 를 작성하세요  \n",
    "'''\n",
    "str3 = input('문자열을 입력하세요 : ')\n",
    "\n",
    "if str3 == '안녕하세요':\n",
    "    print(str3 * 2)\n",
    "else:\n",
    "    print('안녕하세요만 입력하세요')"
   ]
  }
 ],
 "metadata": {
  "kernelspec": {
   "display_name": "Python 3 (ipykernel)",
   "language": "python",
   "name": "python3"
  },
  "language_info": {
   "codemirror_mode": {
    "name": "ipython",
    "version": 3
   },
   "file_extension": ".py",
   "mimetype": "text/x-python",
   "name": "python",
   "nbconvert_exporter": "python",
   "pygments_lexer": "ipython3",
   "version": "3.10.9"
  }
 },
 "nbformat": 4,
 "nbformat_minor": 5
}
