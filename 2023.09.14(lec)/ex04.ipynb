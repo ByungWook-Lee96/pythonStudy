{
 "cells": [
  {
   "cell_type": "code",
   "execution_count": null,
   "id": "721adf24",
   "metadata": {},
   "outputs": [],
   "source": [
    "'''\n",
    "제어문 : control statement\n",
    "         ㄴ 조건문 - if / if - else / if - elif - else\n",
    "            반복문 - for / while\n",
    "            \n",
    "            \n",
    "조건문\n",
    "\n",
    "  형식]\n",
    "                  expression (표현식)\n",
    "  if 조건식(bool type 값, bool type 변수, 비교식) :\n",
    "  [들여쓰기]  조건식이 참인 경우 실행되는 code\n",
    "  [들여쓰기]  조건식이 참인 경우 실행되는 code\n",
    "  [들여쓰기]  조건식이 참인 경우 실행되는 code\n",
    "  else :\n",
    "  [들여쓰기]  조건식이 거짓인 경우 실행되는 code\n",
    "  [들여쓰기]  조건식이 거짓인 경우 실행되는 code\n",
    "  [들여쓰기]  조건식이 거짓인 경우 실행되는 code\n",
    "  \n",
    "  조건이 하나인 경우\n",
    "  if  조건1:\n",
    "      명령문(실행 code)\n",
    "  \n",
    "  조건이 두 개인 경우\n",
    "  if  조건1:\n",
    "      명령문(실행 code)\n",
    "  else:\n",
    "      명령문(실행 code)\n",
    "      \n",
    "  조건이 여러 개인 경우\n",
    "  if  조건1:\n",
    "      명령문(실행 code)\n",
    "  elif 조건3:   \n",
    "      명령문(실행 code)\n",
    "  elif 조건4:   \n",
    "      명령문(실행 code)\n",
    "  elif 조건5:   \n",
    "      명령문(실행 code)\n",
    "  else:\n",
    "      명령문(실행 code)\n",
    "      \n",
    "      \n",
    "'''\n",
    "\n",
    "number = 10\n",
    "\n",
    "if number == 10:\n",
    "    print('number 는 10입니다')\n",
    "if number >= 5:\n",
    "    print('number 는 5보다 크거나 같습니다')\n",
    "if number != 20:\n",
    "    print('number 는 20이 아닙니다')\n",
    "if number != 10:\n",
    "    print('number 는 10이 아닙니다')\n",
    "if number <= 30:\n",
    "    print('number 는 30보다 작거나 같습니다')\n"
   ]
  },
  {
   "cell_type": "code",
   "execution_count": null,
   "id": "c12af62a",
   "metadata": {},
   "outputs": [],
   "source": [
    "number = 10\n",
    "\n",
    "\n",
    "if number == 20:\n",
    "    print('number 는 20입니다')    \n",
    "elif number == 10:\n",
    "    print('number 는 10입니다')    \n",
    "elif number >= 5:\n",
    "    print('number 는 5보다 크거나 같습니다')\n",
    "elif number != 20:\n",
    "    print('number 는 20이 아닙니다')\n",
    "elif number != 10:\n",
    "    print('number 는 10이 아닙니다')\n",
    "elif number <= 30:\n",
    "    print('number 는 30보다 작거나 같습니다')\n",
    "else:\n",
    "    print('위의 조건은 모두 거짓입니다')"
   ]
  },
  {
   "cell_type": "code",
   "execution_count": null,
   "id": "8da8759d",
   "metadata": {},
   "outputs": [],
   "source": [
    "# 80 page\n",
    "\n",
    "no = 5\n",
    "\n",
    "if no >= 3:\n",
    "    print('크구나')\n",
    "    print('참일 때 수행')\n",
    "    \n",
    "if no >= 3:\n",
    "    print('크구나')\n",
    "else:\n",
    "    prit('작구나')\n",
    "    \n",
    "if no <= 3:\n",
    "    print('크구나')\n",
    "else:\n",
    "    print('작구나')    "
   ]
  },
  {
   "cell_type": "code",
   "execution_count": null,
   "id": "aa280145",
   "metadata": {},
   "outputs": [],
   "source": [
    "money = 3000\n",
    "print(type(money))\n",
    "'''\n",
    "if 키워드 옆에 나오는 값은\n",
    "bool type 으로 자동으로 형변환됨\n",
    "'''\n",
    "if money:\n",
    "    print('외출을 할 수 있습니다')\n",
    "    \n",
    "if money:\n",
    "    print('외출을 할 수 있습니다')\n",
    "else:\n",
    "    print('외출을 할 수 없습니다')\n",
    "    \n",
    "'''\n",
    "정수(int)  -->  bool type\n",
    "'''    \n",
    "print(bool(1))    \n",
    "print(bool(0))    \n",
    "print(bool(-1))    \n",
    "print(bool(1000))    \n",
    "print(bool(845))    \n",
    "print(bool(-154))"
   ]
  },
  {
   "cell_type": "code",
   "execution_count": null,
   "id": "83affd7b",
   "metadata": {},
   "outputs": [],
   "source": [
    "money = 0\n",
    "\n",
    "if money:\n",
    "    print('외출을 할 수 있습니다')\n",
    "else:\n",
    "    print('외출을 할 수 없습니다')"
   ]
  },
  {
   "cell_type": "code",
   "execution_count": null,
   "id": "fb2a4461",
   "metadata": {},
   "outputs": [],
   "source": [
    "money = 5000\n",
    "\n",
    "if money >= 15000:\n",
    "    print('영화를 봅니다')\n",
    "else:\n",
    "    print('영화를 못 봅니다')"
   ]
  },
  {
   "cell_type": "code",
   "execution_count": null,
   "id": "c502d0d2",
   "metadata": {},
   "outputs": [],
   "source": [
    "pocket = ['cash', 'card', 'phone']\n",
    "\n",
    "if 'cash' in pocket or 'card' in pocket:\n",
    "    print('영화를 봅니다')\n",
    "else:\n",
    "    print('영화를 못 봅니다')"
   ]
  },
  {
   "cell_type": "code",
   "execution_count": null,
   "id": "efccaec9",
   "metadata": {},
   "outputs": [],
   "source": [
    "pocket = ['cash', 'phone']\n",
    "\n",
    "if 'cash' in pocket or 'card' in pocket:\n",
    "    print('영화를 봅니다')\n",
    "else:\n",
    "    print('영화를 못 봅니다')"
   ]
  },
  {
   "cell_type": "code",
   "execution_count": null,
   "id": "acef1985",
   "metadata": {},
   "outputs": [],
   "source": [
    "pocket = ['card', 'phone']\n",
    "\n",
    "if 'cash' in pocket or 'card' in pocket:\n",
    "    print('영화를 봅니다')\n",
    "else:\n",
    "    print('영화를 못 봅니다')"
   ]
  },
  {
   "cell_type": "code",
   "execution_count": 27,
   "id": "027eb40f",
   "metadata": {},
   "outputs": [
    {
     "name": "stdout",
     "output_type": "stream",
     "text": [
      "영화를 못 봅니다\n"
     ]
    }
   ],
   "source": [
    "pocket = ['card', 'phone']\n",
    "\n",
    "if 'cash' in pocket and 'card' in pocket:\n",
    "    print('영화를 봅니다')\n",
    "else:\n",
    "    print('영화를 못 봅니다')"
   ]
  },
  {
   "cell_type": "code",
   "execution_count": 29,
   "id": "a7318853",
   "metadata": {},
   "outputs": [
    {
     "name": "stdout",
     "output_type": "stream",
     "text": [
      "로그인 성공 !!!\n"
     ]
    }
   ],
   "source": [
    "'''\n",
    "아이디가 '클라우드' 이고\n",
    "비밀번호가 '1234' 이면 \n",
    "로그인 성공 !!! 을 출력하고\n",
    "아니면 로그인 실패를 출력하는 \n",
    "code 를 작성하세요\n",
    "'''\n",
    "id = '클라우드'\n",
    "pw = '1234'\n",
    "\n",
    "if id == '클라우드' and pw == '1234':\n",
    "    print('로그인 성공 !!!')\n",
    "else:\n",
    "    print('로그인 실패')"
   ]
  },
  {
   "cell_type": "code",
   "execution_count": 30,
   "id": "0cdcfc76",
   "metadata": {},
   "outputs": [
    {
     "name": "stdout",
     "output_type": "stream",
     "text": [
      "로그인 성공 !!!\n"
     ]
    }
   ],
   "source": [
    "'''\n",
    "중첩 if 문 사용하기\n",
    "nested if statement\n",
    "외부 조건과 내부 조건이 and 로 연결됨\n",
    "'''\n",
    "if id == '클라우드':\n",
    "    if pw == '1234':\n",
    "        print('로그인 성공 !!!')\n",
    "    else:\n",
    "        print('로그인 실패')\n",
    "else:\n",
    "    print('로그인 실패')"
   ]
  },
  {
   "cell_type": "code",
   "execution_count": 32,
   "id": "154f13c9",
   "metadata": {},
   "outputs": [
    {
     "name": "stdout",
     "output_type": "stream",
     "text": [
      "로그인 실패 - 아이디를 확인해 주세요\n"
     ]
    }
   ],
   "source": [
    "if id == '클라우드스쿨':\n",
    "    if pw == '1234':\n",
    "        print('로그인 성공 !!!')\n",
    "    else:\n",
    "        print('로그인 실패')\n",
    "else:\n",
    "    print('로그인 실패 - 아이디를 확인해 주세요')"
   ]
  },
  {
   "cell_type": "code",
   "execution_count": 34,
   "id": "c2bb7293",
   "metadata": {},
   "outputs": [
    {
     "name": "stdout",
     "output_type": "stream",
     "text": [
      "로그인 실패 - 비밀번호를 확인해 주세요\n"
     ]
    }
   ],
   "source": [
    "if id == '클라우드':\n",
    "    if pw == '123445678':\n",
    "        print('로그인 성공 !!!')\n",
    "    else:\n",
    "        print('로그인 실패 - 비밀번호를 확인해 주세요')\n",
    "else:\n",
    "    print('로그인 실패 - 아이디를 확인해 주세요')"
   ]
  },
  {
   "cell_type": "code",
   "execution_count": 35,
   "id": "1ddebc39",
   "metadata": {},
   "outputs": [
    {
     "name": "stdout",
     "output_type": "stream",
     "text": [
      "로그인 성공 !!!\n"
     ]
    }
   ],
   "source": [
    "'''\n",
    "bool type 변수를 사용하는 방법\n",
    "'''\n",
    "flag = id == '클라우드'\n",
    "flag = flag and pw == '1234'\n",
    "\n",
    "if flag:\n",
    "    print('로그인 성공 !!!')\n",
    "else:\n",
    "    print('로그인 실패')"
   ]
  },
  {
   "cell_type": "code",
   "execution_count": 36,
   "id": "4b97f6ad",
   "metadata": {},
   "outputs": [
    {
     "name": "stdout",
     "output_type": "stream",
     "text": [
      "로그인 성공 !!!\n"
     ]
    }
   ],
   "source": [
    "'''\n",
    "bool type 변수를 두 개 사용하는 방법\n",
    "'''\n",
    "flag1 = id == '클라우드'\n",
    "flag2 = pw == '1234'\n",
    "\n",
    "if flag1 and flag2:\n",
    "    print('로그인 성공 !!!')\n",
    "else:\n",
    "    print('로그인 실패')"
   ]
  },
  {
   "cell_type": "code",
   "execution_count": null,
   "id": "e17e718b",
   "metadata": {},
   "outputs": [],
   "source": []
  }
 ],
 "metadata": {
  "kernelspec": {
   "display_name": "Python 3 (ipykernel)",
   "language": "python",
   "name": "python3"
  },
  "language_info": {
   "codemirror_mode": {
    "name": "ipython",
    "version": 3
   },
   "file_extension": ".py",
   "mimetype": "text/x-python",
   "name": "python",
   "nbconvert_exporter": "python",
   "pygments_lexer": "ipython3",
   "version": "3.10.9"
  }
 },
 "nbformat": 4,
 "nbformat_minor": 5
}
