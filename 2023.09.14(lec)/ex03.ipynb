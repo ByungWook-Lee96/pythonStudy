{
 "cells": [
  {
   "cell_type": "code",
   "execution_count": null,
   "id": "89af6173",
   "metadata": {},
   "outputs": [],
   "source": [
    "str1 = 'python is the best programming language'\n",
    "\n",
    "'''\n",
    "find(문자열), rfind(문자열)\n",
    "  ㄴ 해당 문자열의 index 를 반환함\n",
    "  \n",
    "  없는 문자열을 지정하는 경우 : -1 을 반환함\n",
    "'''\n",
    "print(\"str1.find('i')  :\",str1.find('i'))\n",
    "print(\"str1.rfind('i') :\",str1.rfind('i'))\n",
    "print(\"str1.find('z')  :\",str1.find('z'))\n",
    "print(\"str1.rfind('z') :\",str1.rfind('z'))"
   ]
  },
  {
   "cell_type": "code",
   "execution_count": null,
   "id": "e82ad51f",
   "metadata": {},
   "outputs": [],
   "source": [
    "'''\n",
    "index(문자열), rindex(문자열)\n",
    "   ㄴ 해당 문자열의 index 를 반환함\n",
    "      \n",
    "'''\n",
    "print(\"str1.index('i')  :\",str1.index('i'))\n",
    "print(\"str1.rindex('i') :\",str1.rindex('i'))\n",
    "'''\n",
    "  없는 문자열을 지정하는 경우 : 오류가 발생함\n",
    "print(\"str1.index('z')  :\",str1.index('z'))\n",
    "print(\"str1.rindex('z') :\",str1.rindex('z'))\n",
    "'''"
   ]
  },
  {
   "cell_type": "code",
   "execution_count": null,
   "id": "10ac9e73",
   "metadata": {},
   "outputs": [],
   "source": [
    "'''\n",
    "\n",
    "join()  메소드 : 각 문자 사이에 seperator 로 지정한 문자열이 들어감\n",
    "\n",
    "  형식]\n",
    "  'seperator(구분자)'.join(대상문자열)\n",
    "\n",
    "'''\n",
    "str1 = 'python'\n",
    "print(','.join(str1))\n",
    "print(' @@@ '.join(str1))\n",
    "print(' $$$$ '.join(str1))"
   ]
  },
  {
   "cell_type": "code",
   "execution_count": null,
   "id": "f983e138",
   "metadata": {
    "scrolled": true
   },
   "outputs": [],
   "source": [
    "'''\n",
    "split() 메소드 : 구분자를 기준으로 나누어진 문자열을 item으로 하는 list 를 반환함\n",
    "                 대상문자열에 포함된 문자 중에서만 구분자를 지정할 수 있음\n",
    "                 \n",
    "                 str2 = 'p,y,t,h,o,n'\n",
    "                 print(str2.split(','))\n",
    "                   --> ['p', 'y', 't', 'h', 'o', 'n']\n",
    "\n",
    "  형식]\n",
    "    대상문자열.split('seperator(구분자)')\n",
    "   \n",
    "'''\n",
    "\n",
    "str2 = 'p,y,t,h,o,n'\n",
    "print(str2.split(','))\n",
    "\n",
    "str3 = 'python programming'\n",
    "print(str3.split('o'))\n",
    "\n",
    "str3 = 'interpreter program'\n",
    "print(str3.split('r'))\n",
    "\n",
    "# 전화번호 : 010-6532-9865\n",
    "phone = '010-6532-9865'\n",
    "result = phone.split('-')\n",
    "print(result)\n",
    "print(result[0] + result[1] + result[2])\n",
    "\n",
    "print(phone.replace('-', ''))"
   ]
  },
  {
   "cell_type": "code",
   "execution_count": 30,
   "id": "78ff62fb",
   "metadata": {},
   "outputs": [
    {
     "name": "stdout",
     "output_type": "stream",
     "text": [
      "pYtHOn\n",
      "python\n",
      "PYTHON\n",
      "str1.swapcase() : PyThoN\n",
      "True\n",
      "False\n",
      "False\n",
      "True\n"
     ]
    }
   ],
   "source": [
    "'''\n",
    "lower case : 소문자\n",
    "upper case : 대문자\n",
    "\n",
    "문자열.lower() : 문자열을 소문자로...\n",
    "문자열.upper() : 문자열을 대문자로...\n",
    "문자열.swapcase() : 대문자 <-> 소문자\n",
    "'''\n",
    "str1 = 'pYtHOn'\n",
    "print(str1)\n",
    "print(str1.lower())\n",
    "print(str1.upper())\n",
    "print('str1.swapcase() :',str1.swapcase())\n",
    "\n",
    "'''\n",
    "문자열.islower() : 문자열이 소문자이면 True 를 반환함\n",
    "문자열.isupper() : 문자열이 대문자이면 True 를 반환함\n",
    "'''\n",
    "print('e'.islower())\n",
    "print('R'.islower())\n",
    "print('e'.isupper())\n",
    "print('Q'.isupper())"
   ]
  },
  {
   "cell_type": "code",
   "execution_count": null,
   "id": "c3439bae",
   "metadata": {},
   "outputs": [],
   "source": [
    "str1 = 'python is the best programming language'\n",
    "\n",
    "'''\n",
    "대상문자열.count(문자열) 메소드 : 대상문자열에 있는 문자열의 개수를 반환함\n",
    "'''\n",
    "print(str1.count('g'))\n",
    "print(str1.count('t'))\n",
    "print(str1.count('python'))\n",
    "print(str1.count('bes'))\n",
    "print(str1.count('z'))"
   ]
  },
  {
   "cell_type": "code",
   "execution_count": 33,
   "id": "b4782b31",
   "metadata": {},
   "outputs": [
    {
     "name": "stdout",
     "output_type": "stream",
     "text": [
      " python \n",
      "python\n",
      "python \n",
      " python\n"
     ]
    }
   ],
   "source": [
    "'''\n",
    "strip()  : 문자열 왼쪽, 오른쪽에 있는 공백 제거\n",
    "lstrip() : 문자열 왼쪽에 있는 공백 제거 \n",
    "rstrip() : 문자열 오른쪽에 있는 공백 제거 \n",
    "'''\n",
    "str3 = ' python '\n",
    "print(str3)\n",
    "print(str3.strip())\n",
    "print(str3.lstrip())\n",
    "print(str3.rstrip())"
   ]
  },
  {
   "cell_type": "code",
   "execution_count": 38,
   "id": "7201315a",
   "metadata": {},
   "outputs": [
    {
     "name": "stdout",
     "output_type": "stream",
     "text": [
      "True\n",
      "False\n",
      "True\n",
      "True\n",
      "True\n",
      "False\n",
      "True\n"
     ]
    }
   ],
   "source": [
    "'''\n",
    "startswith(문자열) : 문자열로 시작하면 True 를 반환\n",
    "endswith(문자열)   : 문자열로 끝나면 True 를 반환 \n",
    "\n",
    "in 연산자 : '문자열' in '대상문자열'\n",
    "              ㄴ 문자열이 대상문자열에 포함되어 있으면 True 를 반환\n",
    "'''\n",
    "file1 = 'report_2023.hwp'\n",
    "\n",
    "# 한글 파일인지 확인\n",
    "print(file1.endswith('hwp'))\n",
    "print(file1.endswith('txt'))\n",
    "\n",
    "# 보고서 파일인지 확인\n",
    "print(file1.startswith('report'))\n",
    "\n",
    "# 2023 년도 파일인지 확인\n",
    "print('2023' in file1)\n",
    "\n",
    "print('hwp' in file1)\n",
    "print('txt' in file1)\n",
    "print('report' in file1)"
   ]
  },
  {
   "cell_type": "code",
   "execution_count": 45,
   "id": "462bf030",
   "metadata": {
    "scrolled": true
   },
   "outputs": [
    {
     "name": "stdout",
     "output_type": "stream",
     "text": [
      "AWS 클라우드\n",
      "AWS\t클라우드\n",
      "AWS\\t클라우드\n",
      "C:\\workspace\\python\n",
      "C:\\norkspace\\tython\n",
      "C:\n",
      "orkspace\tython\n"
     ]
    }
   ],
   "source": [
    "# 56 page\n",
    "\n",
    "'''\n",
    "raw string\n",
    "'''\n",
    "print('AWS 클라우드')\n",
    "print('AWS\\t클라우드')\n",
    "print(r'AWS\\t클라우드')\n",
    "\n",
    "print('C:\\workspace\\python')\n",
    "print(r'C:\\norkspace\\tython')\n",
    "print('C:\\norkspace\\tython')"
   ]
  },
  {
   "cell_type": "code",
   "execution_count": 46,
   "id": "8e1bb135",
   "metadata": {},
   "outputs": [
    {
     "name": "stdout",
     "output_type": "stream",
     "text": [
      "14\n"
     ]
    }
   ],
   "source": [
    "total = 2 + 3 * 4\n",
    "print(total)"
   ]
  },
  {
   "cell_type": "code",
   "execution_count": 48,
   "id": "29b26556",
   "metadata": {},
   "outputs": [
    {
     "name": "stdout",
     "output_type": "stream",
     "text": [
      "14\n"
     ]
    }
   ],
   "source": [
    "total = 2 + \\\n",
    "3 * 4\n",
    "print(total)"
   ]
  },
  {
   "cell_type": "code",
   "execution_count": 49,
   "id": "5a3f7320",
   "metadata": {},
   "outputs": [],
   "source": [
    "jumsu = ['kor', 'eng', 'math']"
   ]
  },
  {
   "cell_type": "code",
   "execution_count": 50,
   "id": "280e629a",
   "metadata": {},
   "outputs": [],
   "source": [
    "jumsu = ['kor', 'eng', \n",
    "         'math']"
   ]
  }
 ],
 "metadata": {
  "kernelspec": {
   "display_name": "Python 3 (ipykernel)",
   "language": "python",
   "name": "python3"
  },
  "language_info": {
   "codemirror_mode": {
    "name": "ipython",
    "version": 3
   },
   "file_extension": ".py",
   "mimetype": "text/x-python",
   "name": "python",
   "nbconvert_exporter": "python",
   "pygments_lexer": "ipython3",
   "version": "3.10.9"
  }
 },
 "nbformat": 4,
 "nbformat_minor": 5
}
