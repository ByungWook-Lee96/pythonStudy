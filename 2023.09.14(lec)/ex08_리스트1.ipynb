{
 "cells": [
  {
   "cell_type": "code",
   "execution_count": null,
   "id": "5a667701",
   "metadata": {},
   "outputs": [],
   "source": [
    "'''\n",
    "여러 개의 item 을 담는 자료형\n",
    "\n",
    "list 자료형\n",
    "tuple 자료형\n",
    "set 자료형\n",
    "dict (dictionary) 자료형\n",
    "\n",
    "\n",
    "1) list \n",
    "    ㄴ 1) index 가 있음 : 순서가 있음\n",
    "       2) 비어 있는 list 를 생성할 수 있음\n",
    "           ㄴ list() / []\n",
    "       3) 서로 다른 data type 의 item 들을 저장할 수 있음\n",
    "       4) list 자료형은 mutable type 임   \n",
    "       5) list 안에 list 를 저장할 수 있음\n",
    "'''\n",
    "list1 = list()\n",
    "list2 = []\n",
    "print('list1 :',list1)\n",
    "print('list2 :',list2)\n",
    "print('list1 :',type(list1))\n",
    "print('list2 :',type(list2))\n",
    "\n",
    "list3 = [1, 2, 3, 4, 5]\n",
    "print('list3 :',list3)\n",
    "print('list3 :',type(list3))\n",
    "\n",
    "list4 = ['a', 'b', 'c', 'd', 'e']\n",
    "print('list4 :',list4)\n",
    "print('list4 :',type(list4))\n",
    "\n",
    "list5 = [1, 2, 3, 'a', 'b', 'python', 34.25, 1.43, True]\n",
    "print('list5 :',list5)\n",
    "print('list5 :',type(list5))"
   ]
  },
  {
   "cell_type": "code",
   "execution_count": null,
   "id": "38e0a0de",
   "metadata": {},
   "outputs": [],
   "source": [
    "list6 = [1, 2, 3, 'a', 'b', 'python',]\n",
    "list6 = [1, 2, 3, 'a', 'b', 'python']\n",
    "print('list6 :',list6)\n",
    "print('list6[5] :',list6[5])\n",
    "print('list6[4] :',list6[4])\n",
    "\n",
    "'''\n",
    "리스트 자료형은 mutable type 임\n",
    "'''\n",
    "list6[5] = 'programming'\n",
    "print('list6[5] :',list6[5])\n",
    "print('list6 :',list6)"
   ]
  },
  {
   "cell_type": "code",
   "execution_count": null,
   "id": "541869cf",
   "metadata": {},
   "outputs": [],
   "source": [
    "'''\n",
    " 5) list 안에 list 를 저장할 수 있음\n",
    "      <-- 2차원 리스트\n",
    "'''\n",
    "list7 = [1, 2, 3, 'a', 'b', ['python', 'programming'], 'best']\n",
    "\n",
    "print('list7[2] :',list7[2])\n",
    "print('list7[5] :',list7[5])\n",
    "print('list7[5][0] :',list7[5][0])\n",
    "print('list7[5][1] :',list7[5][1])"
   ]
  },
  {
   "cell_type": "code",
   "execution_count": null,
   "id": "83493aa3",
   "metadata": {
    "scrolled": true
   },
   "outputs": [],
   "source": [
    "list8 = \\\n",
    "    [1, 2, 3, 'a', 'b', ['python', 'programming', ['life', 'program']], 'best']\n",
    "\n",
    "print('list8[5][2]    :',list8[5][2])\n",
    "print('list8[5][2][0] :',list8[5][2][0])\n",
    "print('list8[5][2][1] :',list8[5][2][1])"
   ]
  },
  {
   "cell_type": "code",
   "execution_count": null,
   "id": "02e2e8dd",
   "metadata": {},
   "outputs": [],
   "source": [
    "'''\n",
    "리스트 합치기 : +\n",
    "'''\n",
    "list1 = [1, 2, 3, 4, 5]\n",
    "list2 = [6, 7, 8, 9, 10]\n",
    "print(list1)\n",
    "print(list2)\n",
    "\n",
    "list3 = list1 + list2\n",
    "print(list3)\n",
    "\n",
    "'''\n",
    "리스트에 곱셈 연산하기\n",
    "'''\n",
    "print(list1 * 3)"
   ]
  },
  {
   "cell_type": "code",
   "execution_count": null,
   "id": "0f1ab1b8",
   "metadata": {},
   "outputs": [],
   "source": [
    "'''\n",
    "리스트 정렬하기 \n",
    "\n",
    "  sorted() 함수 : 원본을 정렬하지 않고 정렬된 새로운 리스트를 반환함\n",
    "                            ㄴ 원본을 변형하지 않음 : immutable...\n",
    "                  형식]\n",
    "                  sorted(리스트) \n",
    "                            \n",
    "  sort() 메소드 : 원본을 정렬하고 정렬된 새로운 리스트를 반환하지 않음\n",
    "                            ㄴ 원본을 변형함 : mutable...\n",
    "                  형식]\n",
    "                  리스트.sort()\n",
    "                        ㄴ 접근연산자                            \n",
    "'''\n",
    "numbers = [98, 5, 32, 81, 43]\n",
    "\n",
    "print('원본 :',numbers)\n",
    "sorted_numbers = sorted(numbers)\n",
    "\n",
    "print('-- sorted(numbers) 실행 후 : 원본이 변형되지 않음 --')\n",
    "print('sorted_numbers :',sorted_numbers)\n",
    "print('원본 :',numbers)\n",
    "\n",
    "sort_numbers = numbers.sort()\n",
    "print('-- numbers.sort() 실행 후 : 원본이 변형됨 --')\n",
    "print('sort_numbers :',sort_numbers)\n",
    "print('원본 :',numbers)"
   ]
  },
  {
   "cell_type": "code",
   "execution_count": 44,
   "id": "6add7a2f",
   "metadata": {},
   "outputs": [
    {
     "name": "stdout",
     "output_type": "stream",
     "text": [
      "원본 : [98, 5, 32, 81, 43]\n",
      "sorted_numbers : [98, 81, 43, 32, 5]\n",
      "원본 : [98, 5, 32, 81, 43]\n",
      "None\n",
      "원본 : [5, 32, 43, 81, 98]\n",
      "원본 : [98, 81, 43, 32, 5]\n"
     ]
    }
   ],
   "source": [
    "numbers = [98, 5, 32, 81, 43]\n",
    "print('원본 :',numbers)\n",
    "\n",
    "# 내림차순\n",
    "sorted_numbers = sorted(numbers)[::-1]\n",
    "print('sorted_numbers :',sorted_numbers)\n",
    "print('원본 :',numbers)\n",
    "\n",
    "# None : numbers.sort() 실행결과의 반환값이 없음\n",
    "print(numbers.sort())\n",
    "print('원본 :',numbers)\n",
    "\n",
    "# 내림차순\n",
    "print('원본 :',numbers[::-1])"
   ]
  }
 ],
 "metadata": {
  "kernelspec": {
   "display_name": "Python 3 (ipykernel)",
   "language": "python",
   "name": "python3"
  },
  "language_info": {
   "codemirror_mode": {
    "name": "ipython",
    "version": 3
   },
   "file_extension": ".py",
   "mimetype": "text/x-python",
   "name": "python",
   "nbconvert_exporter": "python",
   "pygments_lexer": "ipython3",
   "version": "3.10.9"
  }
 },
 "nbformat": 4,
 "nbformat_minor": 5
}
