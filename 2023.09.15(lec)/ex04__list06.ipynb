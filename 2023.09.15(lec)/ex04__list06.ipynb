{
 "cells": [
  {
   "cell_type": "code",
   "execution_count": null,
   "id": "25e1e0e4",
   "metadata": {},
   "outputs": [],
   "source": [
    "phone = '82/010/6598/8754'\n",
    "\n",
    "'''\n",
    "split() 메소드를 사용해서\n",
    "국가번호와 010을 제외한\n",
    "나머지 8 자리숫자만 출력하세요\n",
    "'''\n",
    "phone_list = phone.split('/')\n",
    "print('phone_list :',phone_list)\n",
    "print('결과 : ',phone_list[2] + phone_list[3])"
   ]
  },
  {
   "cell_type": "code",
   "execution_count": null,
   "id": "86ec2e24",
   "metadata": {},
   "outputs": [],
   "source": [
    "movies = ['지구의밤', '라바', '문어선생님', '원더']\n",
    "print('movies :',movies)\n",
    "\n",
    "'''\n",
    "movies 맨 뒤에 '작은 아씨들' 을 추가하세요\n",
    "'''\n",
    "movies.append('작은 아씨들')\n",
    "print('movies :',movies)\n",
    "\n",
    "'''\n",
    "movies 맨 뒤에 '미니언즈' 을 추가하세요\n",
    "'''\n",
    "# movies.extend('미니언즈')\n",
    "movies.extend(['미니언즈'])\n",
    "print('movies :',movies)\n",
    "\n",
    "'''\n",
    "movies 맨 뒤에 '죠의사랑' 을 추가하세요\n",
    "'''\n",
    "# movies.insert(-1, '죠의사랑')\n",
    "# movies.insert(len(movies)-1, '죠의사랑')\n",
    "movies.insert(len(movies), '죠의사랑')\n",
    "print('movies :',movies)"
   ]
  },
  {
   "cell_type": "code",
   "execution_count": null,
   "id": "aa1710c9",
   "metadata": {},
   "outputs": [],
   "source": [
    "movies = ['지구의밤', '라바', '문어선생님', '원더', '작은 아씨들', '미니언즈']\n",
    "print('movies :',movies)\n",
    "'''\n",
    "문어선생님과 원더 사이에\n",
    "JFK 를 추가하세요\n",
    "'''\n",
    "movies.insert(3, 'JFK')\n",
    "print('movies :',movies)\n",
    "\n",
    "'''\n",
    "라바와 문어선생님 사이에\n",
    "트위스트 를 추가하세요\n",
    "'''\n",
    "movies.insert(movies.index('문어선생님'), '트위스트')\n",
    "print('movies :',movies)"
   ]
  },
  {
   "cell_type": "code",
   "execution_count": null,
   "id": "3196f7a4",
   "metadata": {},
   "outputs": [],
   "source": [
    "movies = \\\n",
    "['지구의밤', '라바', '트위스트', '문어선생님', 'JFK', '원더', '작은 아씨들', '미니언즈']\n",
    "print('movies :',movies)\n",
    "'''\n",
    "미니언즈 를 movies 에서 삭제하세요 : remove()\n",
    "'''\n",
    "movies.remove('미니언즈')\n",
    "print('movies :',movies)\n",
    "'''\n",
    "작은 아씨들을 movies 에서 삭제하세요 : pop()\n",
    "'''\n",
    "movies.pop()\n",
    "print('movies :',movies)\n",
    "'''\n",
    "라바를 movies 에서 삭제하세요 : pop(index)\n",
    "'''\n",
    "movies.pop(movies.index('라바'))\n",
    "print('movies :',movies)\n",
    "'''\n",
    "트위스트를 movies 에서 삭제하세요 : del 명령어 사용\n",
    "'''\n",
    "del movies[movies.index('트위스트')]\n",
    "print('movies :',movies)\n",
    "'''\n",
    "in 연산자를 사용해서 movies 에 지구의밤 이 있는지 확인하세요\n",
    "'''\n",
    "print('지구의밤' in movies)\n",
    "'''\n",
    "in 연산자를 사용해서 movies 에 미션 이 있는지 확인하세요\n",
    "'''\n",
    "print('미션' in movies)"
   ]
  },
  {
   "cell_type": "code",
   "execution_count": null,
   "id": "93e18900",
   "metadata": {},
   "outputs": [],
   "source": [
    "numbers = [32, 56, 78, 10, 3, 5]\n",
    "\n",
    "print('최댓값 :',max(numbers))\n",
    "print('최솟값 :',min(numbers))\n",
    "print('합  계 :',sum(numbers))\n",
    "\n",
    "average = sum(numbers) / len(numbers)\n",
    "print('평  균 :',average)\n",
    "print('평  균 :',round(average))\n",
    "print('평  균 :',round(average, 2))\n",
    "print('평  균 :',round(average, 4))"
   ]
  },
  {
   "cell_type": "code",
   "execution_count": null,
   "id": "ad7fcf50",
   "metadata": {},
   "outputs": [],
   "source": [
    "'''\n",
    "numpy 모듈의  mean() 함수\n",
    "'''\n",
    "numbers = [32, 56, 78, 10, 3, 5]\n",
    "\n",
    "import numpy as np\n",
    "print(np.mean(numbers))\n",
    "print(round(np.mean(numbers)))\n",
    "print(round(np.mean(numbers), 2))"
   ]
  },
  {
   "cell_type": "code",
   "execution_count": 39,
   "id": "2d15aceb",
   "metadata": {},
   "outputs": [
    {
     "name": "stdout",
     "output_type": "stream",
     "text": [
      "30.666666666666668\n",
      "31\n",
      "30.6667\n"
     ]
    }
   ],
   "source": [
    "'''\n",
    "statistics 모듈의  mean() 함수\n",
    "'''\n",
    "numbers = [32, 56, 78, 10, 3, 5]\n",
    "\n",
    "import statistics as stat\n",
    "print(stat.mean(numbers))\n",
    "print(round(stat.mean(numbers)))\n",
    "print(round(stat.mean(numbers), 4))"
   ]
  },
  {
   "cell_type": "code",
   "execution_count": 44,
   "id": "de32b39e",
   "metadata": {},
   "outputs": [
    {
     "name": "stdout",
     "output_type": "stream",
     "text": [
      "companies : ['LG전자', '네이버', '아마존', '삼성전자']\n",
      "LG전자 네이버 아마존 삼성전자\n",
      "LG전자##네이버##아마존##삼성전자\n",
      "LG전자@네이버@아마존@삼성전자\n"
     ]
    }
   ],
   "source": [
    "companies = ['LG전자', '네이버', '아마존', '삼성전자']\n",
    "print('companies :',companies)\n",
    "\n",
    "'''\n",
    "다음과 같이 출력하세요\n",
    "  ㄴ LG전자 네이버 아마존 삼성전자\n",
    "\n",
    " split() 메소드 \n",
    "str1 = 'LG전자,네이버,아마존,삼성전자'\n",
    "print(str1.split(','))\n",
    "\n",
    "'''\n",
    "\n",
    "print(' '.join(companies))\n",
    "print('##'.join(companies))\n",
    "print('@'.join(companies))"
   ]
  },
  {
   "cell_type": "code",
   "execution_count": 48,
   "id": "660f1a49",
   "metadata": {},
   "outputs": [
    {
     "name": "stdout",
     "output_type": "stream",
     "text": [
      "list1 : [1, 2, 3, 4, 5]\n",
      "list1 : []\n"
     ]
    }
   ],
   "source": [
    "list1 = [1, 2, 3, 4, 5]\n",
    "\n",
    "'''\n",
    "리스트 아이템 삭제하기\n",
    "\n",
    "remove(item)\n",
    "pop()\n",
    "pop(index)\n",
    "del\n",
    "clear()  <-- 모든 item 을 한꺼번에 삭제함\n",
    "'''\n",
    "print('list1 :',list1)\n",
    "list1.clear()\n",
    "print('list1 :',list1)"
   ]
  }
 ],
 "metadata": {
  "kernelspec": {
   "display_name": "Python 3 (ipykernel)",
   "language": "python",
   "name": "python3"
  },
  "language_info": {
   "codemirror_mode": {
    "name": "ipython",
    "version": 3
   },
   "file_extension": ".py",
   "mimetype": "text/x-python",
   "name": "python",
   "nbconvert_exporter": "python",
   "pygments_lexer": "ipython3",
   "version": "3.10.9"
  }
 },
 "nbformat": 4,
 "nbformat_minor": 5
}
