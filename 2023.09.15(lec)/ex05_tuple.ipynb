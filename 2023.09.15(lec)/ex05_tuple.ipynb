{
 "cells": [
  {
   "cell_type": "code",
   "execution_count": null,
   "id": "62cc813e",
   "metadata": {},
   "outputs": [],
   "source": [
    "'''\n",
    "tuple 자료형 :     list 와 비슷함\n",
    "() 사용                   immtable type <- 원본을 변형하지 못함\n",
    "() 를 생략가능            item 의 추가, 삭제 를 못함\n",
    "                          (cf. list 는 mutable type)\n",
    "\n",
    "                   index 가 있음 \n",
    "                   비어있는 tuple 을 생성할 수 있음\n",
    "                       ㄴ () / tuple()\n",
    "                   item 을 하나만 저장하는 경우에는 , 를 붙여줌\n",
    "                   tuple 안에 tuple 을 저장할 수 있음\n",
    "'''\n",
    "tp1 = ()\n",
    "tp2 = tuple()\n",
    "print('tp1 :',tp1)\n",
    "print('tp1 :',type(tp1))\n",
    "print('tp2 :',tp2)\n",
    "print('tp2 :',type(tp2))\n",
    "\n",
    "tp3 = (1, 2, 3, 4, 5)\n",
    "print('tp3 :',tp3)\n",
    "print('tp3 :',type(tp3))\n",
    "\n",
    "tp3 = 1, 2, 3, 4, 5\n",
    "print('tp3 :',tp3)\n",
    "print('tp3 :',type(tp3))"
   ]
  },
  {
   "cell_type": "code",
   "execution_count": null,
   "id": "0ec58642",
   "metadata": {},
   "outputs": [],
   "source": [
    "tp4 = (10)\n",
    "print('tp4 :',tp4)\n",
    "print('tp4 :',type(tp4))\n",
    "\n",
    "tp4 = (10,)\n",
    "print('tp4 :',tp4)\n",
    "print('tp4 :',type(tp4))\n",
    "\n",
    "tp4 = 10,\n",
    "print('tp4 :',tp4)\n",
    "print('tp4 :',type(tp4))"
   ]
  },
  {
   "cell_type": "code",
   "execution_count": null,
   "id": "33387921",
   "metadata": {},
   "outputs": [],
   "source": [
    "tp5 = \"클라우드\",\n",
    "print('tp5 :',tp5)\n",
    "print('tp5 :',type(tp5))\n",
    "\n",
    "tp5 = 3.141592,\n",
    "print('tp5 :',tp5)\n",
    "print('tp5 :',type(tp5))\n",
    "\n",
    "tp5 = True,\n",
    "print('tp5 :',tp5)\n",
    "print('tp5 :',type(tp5))"
   ]
  },
  {
   "cell_type": "code",
   "execution_count": null,
   "id": "c85c706c",
   "metadata": {},
   "outputs": [],
   "source": [
    "tp6 = (1, 2, 3, 'python', 'cloud', True, 6.25)\n",
    "print('tp6 :',tp6)\n",
    "print('tp6 :',type(tp6))\n",
    "\n",
    "print('tp6[4] :',tp6[4])\n",
    "\n",
    "# TypeError: 'tuple' object does not support item assignment\n",
    "# tuple 은 immutable type 이라서 item 를 바꿀(할당할) 수 없음\n",
    "# tp6[4] = 'programming'"
   ]
  },
  {
   "cell_type": "code",
   "execution_count": null,
   "id": "4d101fce",
   "metadata": {},
   "outputs": [],
   "source": [
    "tp6 = (1, 2, 3, ('python', 'cloud'), True, 6.25)\n",
    "print('tp6 :',tp6)\n",
    "print('tp6 :',type(tp6))\n",
    "print('tp6[3][1] :',tp6[3][1])"
   ]
  },
  {
   "cell_type": "code",
   "execution_count": null,
   "id": "bcf6912d",
   "metadata": {},
   "outputs": [],
   "source": [
    "tp6 = (1, 2, 3, ('python', 'cloud', ('best', 'programming')), True, 6.25)\n",
    "print('tp6 :',tp6)\n",
    "print('tp6 :',type(tp6))\n",
    "print('tp6[3][2][0] :',tp6[3][2][0])"
   ]
  },
  {
   "cell_type": "code",
   "execution_count": null,
   "id": "6081e717",
   "metadata": {},
   "outputs": [],
   "source": [
    "'''\n",
    "tuple  -->  list   : list()\n",
    "list   -->  tuple  : tuple()\n",
    "'''\n",
    "tp7 = (1, 2, 3, 4, 5)\n",
    "print('tp7   :', type(tp7))\n",
    "\n",
    "list1 = list(tp7)\n",
    "print('list1 :', type(list1))\n",
    "\n",
    "tp8 = tuple(list1)\n",
    "print('tp8   :', type(tp8))"
   ]
  },
  {
   "cell_type": "code",
   "execution_count": null,
   "id": "bdb47692",
   "metadata": {},
   "outputs": [],
   "source": [
    "tp9 = (1, 2, 3, 4, 5)\n",
    "print('tp9   :', tp9)\n",
    "\n",
    "'''\n",
    "unpacking\n",
    "'''\n",
    "n1, n2, n3, n4, n5 = (1, 2, 3, 4, 5)\n",
    "print(n1, n2, n3, n4, n5)\n",
    "print(n1)\n",
    "print(n2)\n",
    "print(n3)\n",
    "print(n4)\n",
    "print(n5)"
   ]
  },
  {
   "cell_type": "code",
   "execution_count": null,
   "id": "a43581a6",
   "metadata": {},
   "outputs": [],
   "source": [
    "list2 = [1, 2, 3, 4, 5]\n",
    "print('list2 :',list2)\n",
    "'''\n",
    "unpcking\n",
    "'''\n",
    "num1, num2, num3, num4, num5 = [1, 2, 3, 4, 5]\n",
    "print(num1)\n",
    "print(num2)\n",
    "print(num3)\n",
    "print(num4)\n",
    "print(num5)"
   ]
  },
  {
   "cell_type": "code",
   "execution_count": null,
   "id": "43531a01",
   "metadata": {},
   "outputs": [],
   "source": [
    "# unpacking\n",
    "num1, num2, num3, num4, num5 = 1, 2, 3, 4, 5\n",
    "print(num1)\n",
    "print(num2)\n",
    "print(num3)\n",
    "print(num4)\n",
    "print(num5)"
   ]
  },
  {
   "cell_type": "code",
   "execution_count": null,
   "id": "3d713825",
   "metadata": {},
   "outputs": [],
   "source": [
    "# unpacking\n",
    "'''\n",
    "*num4 변수에는 4 와 5 를 item 으로 하는 리스트가 할당됨\n",
    "'''\n",
    "num1, num2, num3, *num4 = 1, 2, 3, 4, 5\n",
    "print(num1)\n",
    "print(num2)\n",
    "print(num3)\n",
    "print(num4)"
   ]
  },
  {
   "cell_type": "code",
   "execution_count": null,
   "id": "f00c4cd3",
   "metadata": {},
   "outputs": [],
   "source": [
    "num1, num2, *num3 = 1, 2, 3, 4, 5\n",
    "print(num1)\n",
    "print(num2)\n",
    "print(num3)"
   ]
  },
  {
   "cell_type": "code",
   "execution_count": null,
   "id": "c1b4d8b8",
   "metadata": {},
   "outputs": [],
   "source": [
    "*num1, num2, num3 = 1, 2, 3, 4, 5\n",
    "print(num1)\n",
    "print(num2)\n",
    "print(num3)"
   ]
  },
  {
   "cell_type": "code",
   "execution_count": null,
   "id": "2cba40fe",
   "metadata": {},
   "outputs": [],
   "source": [
    "num1, *num2, num3 = 1, 2, 3, 4, 5\n",
    "print(num1)\n",
    "print(num2)\n",
    "print(num3)"
   ]
  },
  {
   "cell_type": "code",
   "execution_count": null,
   "id": "558793c9",
   "metadata": {},
   "outputs": [],
   "source": [
    "num1, *num2, num3, num4 = 1, 2, 3, 4, 5\n",
    "print(num1)\n",
    "print(num2)\n",
    "print(num3)\n",
    "print(num4)"
   ]
  },
  {
   "cell_type": "code",
   "execution_count": null,
   "id": "08561f81",
   "metadata": {},
   "outputs": [],
   "source": [
    "num1, num2, *num3, num4 = 1, 2, 3, 4, 5\n",
    "print(num1)\n",
    "print(num2)\n",
    "print(num3)\n",
    "print(num4)"
   ]
  },
  {
   "cell_type": "code",
   "execution_count": null,
   "id": "fce248f6",
   "metadata": {},
   "outputs": [],
   "source": [
    "num1, num2, *num3, num4 = [1, 2, 3, 4, 5]\n",
    "print(num1)\n",
    "print(num2)\n",
    "print(num3)\n",
    "print(num4)"
   ]
  },
  {
   "cell_type": "code",
   "execution_count": null,
   "id": "762d9949",
   "metadata": {},
   "outputs": [],
   "source": [
    "# unpakcing 할 때 * 는 하나만 사용할 수 있음\n",
    "# num1, *num2, *num3, num4 = [1, 2, 3, 4, 5]"
   ]
  },
  {
   "cell_type": "code",
   "execution_count": null,
   "id": "2f10bed1",
   "metadata": {},
   "outputs": [],
   "source": [
    "'''\n",
    "range() 함수\n",
    "\n",
    "range(stop)              : 0 부터 stop-1 까지  \n",
    "range(start, stop)       : start 부터 stop-1 까지\n",
    "range(start, stop, step) : start 부터 stop-1 까지 step-1 만큼 건너뜀\n",
    "\n",
    "'''\n",
    "\n",
    "# 1) range(stop)  \n",
    "print(range(10))\n",
    "print(list(range(10)))\n",
    "print(tuple(range(10)))"
   ]
  },
  {
   "cell_type": "code",
   "execution_count": null,
   "id": "a651322e",
   "metadata": {},
   "outputs": [],
   "source": [
    "# 2) range(start, stop) \n",
    "# 1 부터 20까지 지정하기\n",
    "\n",
    "print(list(range(1, 20)))\n",
    "print(list(range(1, 21)))"
   ]
  },
  {
   "cell_type": "code",
   "execution_count": null,
   "id": "7771db8a",
   "metadata": {},
   "outputs": [],
   "source": [
    "'''\n",
    "numbers = '123456789'\n",
    "print(numbers[::2])   <-- 홀수만\n",
    "print(numbers[1::2])  <-- 짝수만\n",
    "'''\n",
    "# 3) range(start, stop, step)\n",
    "print(list(range(1, 11)))\n",
    "# [1, 2, 3, 4, 5, 6, 7, 8, 9, 10]\n",
    "# 홀수만\n",
    "print(list(range(1, 11, 2)))\n",
    "# 짝수만\n",
    "print(list(range(2, 11, 2)))"
   ]
  },
  {
   "cell_type": "code",
   "execution_count": null,
   "id": "2e5e78d9",
   "metadata": {},
   "outputs": [],
   "source": [
    "number1 = 10\n",
    "number2 = 20\n",
    "print('number1 :',number1)\n",
    "print('number2 :',number2)\n",
    "\n",
    "# 변수값 교환하기 : unpacking\n",
    "number1, number2 = number2, number1\n",
    "print('number1 :',number1)\n",
    "print('number2 :',number2)"
   ]
  },
  {
   "cell_type": "code",
   "execution_count": null,
   "id": "1d802265",
   "metadata": {},
   "outputs": [],
   "source": [
    "number1 = 10\n",
    "number2 = 20\n",
    "print('number1 :',number1)\n",
    "print('number2 :',number2)\n",
    "\n",
    "# 변수값 교환하기 : swapping\n",
    "cup = number2\n",
    "number2 = number1\n",
    "number1 = cup\n",
    "\n",
    "print('number1 :',number1)\n",
    "print('number2 :',number2)"
   ]
  },
  {
   "cell_type": "code",
   "execution_count": null,
   "id": "5da38cd5",
   "metadata": {},
   "outputs": [],
   "source": []
  },
  {
   "cell_type": "code",
   "execution_count": null,
   "id": "955c4663",
   "metadata": {},
   "outputs": [],
   "source": []
  },
  {
   "cell_type": "code",
   "execution_count": null,
   "id": "a50c4fa8",
   "metadata": {},
   "outputs": [],
   "source": []
  },
  {
   "cell_type": "code",
   "execution_count": null,
   "id": "fd65ba71",
   "metadata": {},
   "outputs": [],
   "source": []
  }
 ],
 "metadata": {
  "kernelspec": {
   "display_name": "Python 3 (ipykernel)",
   "language": "python",
   "name": "python3"
  },
  "language_info": {
   "codemirror_mode": {
    "name": "ipython",
    "version": 3
   },
   "file_extension": ".py",
   "mimetype": "text/x-python",
   "name": "python",
   "nbconvert_exporter": "python",
   "pygments_lexer": "ipython3",
   "version": "3.10.9"
  }
 },
 "nbformat": 4,
 "nbformat_minor": 5
}
