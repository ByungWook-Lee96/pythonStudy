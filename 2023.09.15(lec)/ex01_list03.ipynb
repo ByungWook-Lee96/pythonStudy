{
 "cells": [
  {
   "cell_type": "code",
   "execution_count": null,
   "id": "0708efd5",
   "metadata": {
    "scrolled": false
   },
   "outputs": [],
   "source": [
    "'''\n",
    "list 에서 item 삭제하기\n",
    "\n",
    "remove() 메소드 :  remove(item)\n",
    "                           ㄴ index 가 아님\n",
    "\n",
    "'''\n",
    "list1 = [1, 2, 3, 4, 5, 6, 7, 8, 9]\n",
    "\n",
    "print('list1 :',list1)\n",
    "\n",
    "list1.remove(3)\n",
    "print('list1 :',list1)\n",
    "\n",
    "list1.remove(7)\n",
    "print('list1 :',list1)\n",
    "\n",
    "# ValueError: list.remove(x): x not in list\n",
    "# list1.remove(3)\n",
    "list1.remove(5)\n",
    "print('list1 :',list1)\n",
    "\n",
    "list1.append(2)\n",
    "print('list1 :',list1)\n",
    "\n",
    "'''\n",
    "item 이 중복된 경우\n",
    "첫 번째 item 만 삭제됨\n",
    "'''\n",
    "print('list1.remove(2) :',list1.remove(2))\n",
    "print('list1 :',list1)"
   ]
  },
  {
   "cell_type": "code",
   "execution_count": null,
   "id": "7e0e90be",
   "metadata": {},
   "outputs": [],
   "source": [
    "list1 = [1, 4, 6, 8, 9, 2]\n",
    "\n",
    "'''\n",
    "list 에서 item 삭제하기\n",
    "\n",
    "2) pop() 메소드\n",
    "     ㄴ 맨 마지막에 있는 item 을 삭제하고 반환함\n",
    "\n",
    "'''\n",
    "print('list1 :',list1)\n",
    "print('list1.pop() :',list1.pop())\n",
    "print('list1 :',list1)"
   ]
  },
  {
   "cell_type": "code",
   "execution_count": null,
   "id": "3223b22a",
   "metadata": {},
   "outputs": [],
   "source": [
    "'''\n",
    "list 에서 item 삭제하기\n",
    "\n",
    "3) pop(index) 메소드\n",
    "     ㄴ 지정한 index 에 있는  item 을 삭제하고 반환함\n",
    "     \n",
    "     cf) remove(item)\n",
    "\n",
    "'''\n",
    "list1 = [1, 4, 6, 8, 9, 2]\n",
    "print('list1 :',list1)\n",
    "\n",
    "# IndexError: pop index out of range\n",
    "# 8 이라는 index 가 없어서 삭제할 수 없음\n",
    "# list1.pop(8)\n",
    "\n",
    "print('list1.pop(3) :',list1.pop(3))\n",
    "print('list1 :',list1)"
   ]
  },
  {
   "cell_type": "code",
   "execution_count": null,
   "id": "ebf11637",
   "metadata": {},
   "outputs": [],
   "source": [
    "'''\n",
    "4) del 사용해서 list 의 item 삭제하기\n",
    "\n",
    "  형식]\n",
    "  \n",
    "   del list1[index] : 지정한 index 에 해당하는 item 이 삭제됨\n",
    "\n",
    "'''\n",
    "list1 = [1, 4, 6, 9, 2]\n",
    "print('list1 :',list1)\n",
    "\n",
    "del list1[3]\n",
    "print('list1 :',list1)"
   ]
  },
  {
   "cell_type": "code",
   "execution_count": null,
   "id": "042ecf85",
   "metadata": {},
   "outputs": [],
   "source": [
    "'''\n",
    "extend() \n",
    "\n",
    "'''\n",
    "list2 = [1, 2, 3, 4, 5, 6, 7]\n",
    "\n",
    "list2.extend([8, 9])\n",
    "print('list2 :',list2)\n",
    "\n",
    "list2.extend('12345')\n",
    "print('list2 :',list2)\n",
    "\n",
    "list2.append('12345')\n",
    "print('list2 :',list2)\n",
    "\n",
    "list2 += [10, 11, 12]\n",
    "print('list2 :',list2)"
   ]
  },
  {
   "cell_type": "code",
   "execution_count": null,
   "id": "689c8bfa",
   "metadata": {},
   "outputs": [],
   "source": [
    "str1 = 'hello python'\n",
    "print('str1 :',str1)\n",
    "\n",
    "print(str1.index('h'))\n",
    "print(str1.index('p'))\n",
    "print(str1.find('h'))\n",
    "print(str1.find('p'))\n",
    "print(str1.index('l'))\n",
    "print(str1.find('l'))\n",
    "print(str1.rindex('l'))\n",
    "print(str1.rfind('l'))"
   ]
  },
  {
   "cell_type": "code",
   "execution_count": 39,
   "id": "b26fd6ad",
   "metadata": {},
   "outputs": [
    {
     "name": "stdout",
     "output_type": "stream",
     "text": [
      "1\n",
      "3\n"
     ]
    },
    {
     "ename": "AttributeError",
     "evalue": "'list' object has no attribute 'rindex'",
     "output_type": "error",
     "traceback": [
      "\u001b[1;31m---------------------------------------------------------------------------\u001b[0m",
      "\u001b[1;31mAttributeError\u001b[0m                            Traceback (most recent call last)",
      "Cell \u001b[1;32mIn[39], line 8\u001b[0m\n\u001b[0;32m      4\u001b[0m \u001b[38;5;28mprint\u001b[39m(languages\u001b[38;5;241m.\u001b[39mindex(\u001b[38;5;124m'\u001b[39m\u001b[38;5;124mjavascript\u001b[39m\u001b[38;5;124m'\u001b[39m))\n\u001b[0;32m      6\u001b[0m \u001b[38;5;66;03m# AttributeError: 'list' object has no attribute 'rindex'\u001b[39;00m\n\u001b[0;32m      7\u001b[0m \u001b[38;5;66;03m# 리스트에는 rindex() 메소드가 없음\u001b[39;00m\n\u001b[1;32m----> 8\u001b[0m \u001b[38;5;28mprint\u001b[39m(\u001b[43mlanguages\u001b[49m\u001b[38;5;241;43m.\u001b[39;49m\u001b[43mrindex\u001b[49m(\u001b[38;5;124m'\u001b[39m\u001b[38;5;124mjava\u001b[39m\u001b[38;5;124m'\u001b[39m))\n",
      "\u001b[1;31mAttributeError\u001b[0m: 'list' object has no attribute 'rindex'"
     ]
    }
   ],
   "source": [
    "'''\n",
    "리스트에는 find(), rfind(), rindex() 메소드는 없고\n",
    "index() 메소드만 있음\n",
    "'''\n",
    "\n",
    "languages = ['python', 'java', 'C++', 'javascript', 'java']\n",
    "\n",
    "print(languages.index('java'))\n",
    "print(languages.index('javascript'))\n",
    "\n",
    "# AttributeError: 'list' object has no attribute 'rindex'\n",
    "# 리스트에는 rindex() 메소드가 없음\n",
    "# print(languages.rindex('java'))\n",
    "\n",
    "# AttributeError: 'list' object has no attribute 'find'\n",
    "# 리스트에는 find() 메소드가 없음\n",
    "# print(languages.find('java'))"
   ]
  },
  {
   "cell_type": "code",
   "execution_count": null,
   "id": "b7295c5a",
   "metadata": {},
   "outputs": [],
   "source": []
  }
 ],
 "metadata": {
  "kernelspec": {
   "display_name": "Python 3 (ipykernel)",
   "language": "python",
   "name": "python3"
  },
  "language_info": {
   "codemirror_mode": {
    "name": "ipython",
    "version": 3
   },
   "file_extension": ".py",
   "mimetype": "text/x-python",
   "name": "python",
   "nbconvert_exporter": "python",
   "pygments_lexer": "ipython3",
   "version": "3.10.9"
  }
 },
 "nbformat": 4,
 "nbformat_minor": 5
}
