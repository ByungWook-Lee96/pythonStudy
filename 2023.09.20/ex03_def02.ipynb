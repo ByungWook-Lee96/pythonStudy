{
 "cells": [
  {
   "cell_type": "code",
   "execution_count": 11,
   "id": "212bcc07",
   "metadata": {},
   "outputs": [
    {
     "name": "stdout",
     "output_type": "stream",
     "text": [
      "숫자(number) : 1, 합계(sum) : 1\n",
      "숫자(number) : 2, 합계(sum) : 3\n",
      "숫자(number) : 3, 합계(sum) : 6\n",
      "숫자(number) : 4, 합계(sum) : 10\n",
      "숫자(number) : 5, 합계(sum) : 15\n",
      "숫자(number) : 6, 합계(sum) : 21\n",
      "숫자(number) : 7, 합계(sum) : 28\n",
      "숫자(number) : 8, 합계(sum) : 36\n",
      "숫자(number) : 9, 합계(sum) : 45\n",
      "숫자(number) : 10, 합계(sum) : 55\n",
      "숫자(number) : 10, 합계(sum) : 55\n",
      "합계(sum) : 55\n",
      "number : 100\n",
      "------------------------------------------------------------\n",
      "합계는 55 입니다\n",
      "333\n"
     ]
    }
   ],
   "source": [
    "'''\n",
    "scope(변수의 (인식) 범위)\n",
    "\n",
    "파이썬에서는 전역에서\n",
    "for문 이나 if문을 작성하고\n",
    "for문 이나 if문 안에서 변수를 선언하면\n",
    "for문 이나 if문 밖에서 변수값을 참조할 수 있음\n",
    "\n",
    "'''\n",
    "\n",
    "sum = 0\n",
    "for num in range(1, 11):\n",
    "    number = 100\n",
    "    sum += num\n",
    "    print(f'숫자(number) : {num}, 합계(sum) : {sum}')\n",
    "\n",
    "print(f'숫자(number) : {num}, 합계(sum) : {sum}')\n",
    "print(f'합계(sum) : {sum}')\n",
    "print('number :', number)\n",
    "print('-' * 60)\n",
    "\n",
    "if sum == 55:\n",
    "    a = 333\n",
    "    print(f'합계는 {sum} 입니다')\n",
    "print(a)"
   ]
  },
  {
   "cell_type": "code",
   "execution_count": 19,
   "id": "72f388d9",
   "metadata": {},
   "outputs": [
    {
     "name": "stdout",
     "output_type": "stream",
     "text": [
      "number(지역변수) : 10\n",
      "number(전역변수) : 10\n"
     ]
    }
   ],
   "source": [
    "'''\n",
    "함수에서 변수의 scope\n",
    "\n",
    "넓은 scope에서 좁은 scope에 있는 값(변수)에 접근하지 못함\n",
    "\n",
    "같거나 좁은 scope에서 넓은 scope에 있는 값(변수)에 접근할 수 있음\n",
    "\n",
    "'''\n",
    "# 전역변수 : global variable\n",
    "number = 10\n",
    "\n",
    "def test1():\n",
    "    # test1() 함수의 scope(지역 스코프 - local scope)\n",
    "    # 지역 스코프에서 전역변수를 출력함\n",
    "    print('number(전역변수) :', number)\n",
    "    \n",
    "test1()\n",
    "\n",
    "# 전역 스코프(global scope)에서 전역 변수를 출력함\n",
    "print('number(전역변수) :', number)\n"
   ]
  },
  {
   "cell_type": "code",
   "execution_count": 23,
   "id": "8574a4e1",
   "metadata": {},
   "outputs": [
    {
     "name": "stdout",
     "output_type": "stream",
     "text": [
      "number(지역변수) : 20\n",
      "number(전역변수) : 10\n"
     ]
    }
   ],
   "source": [
    "'''\n",
    "파이썬에서는 변수를 초기화하는 code가\n",
    "변수를 메모리에 올리는 code 가 됨\n",
    "        ㄴ 생성함\n",
    "'''\n",
    "\n",
    "# 전역변수 : global variable\n",
    "number = 10\n",
    "\n",
    "def test2():\n",
    "    # 지역 스코프에서 선언된 변수는 \n",
    "    # 지역 변수(local variable)가 됨\n",
    "    number = 20\n",
    "    print('number(지역변수) :', number)\n",
    "    \n",
    "test2()\n",
    "\n",
    "# 전역 스코프(global scope)에서 전역 변수를 출력함\n",
    "print('number(전역변수) :', number)"
   ]
  },
  {
   "cell_type": "code",
   "execution_count": 26,
   "id": "def1f281",
   "metadata": {},
   "outputs": [
    {
     "name": "stdout",
     "output_type": "stream",
     "text": [
      "number(전역변수) : 10\n",
      "number(전역변수) : 10\n"
     ]
    }
   ],
   "source": [
    "# 전역변수 : global variable\n",
    "number = 10\n",
    "\n",
    "def test3():\n",
    "    # number = 20\n",
    "    # 같은 scope에서 number를 찾아보고\n",
    "    # 없으면 외부 scope에서 찾음\n",
    "    print('number(전역변수) :', number)\n",
    "    \n",
    "test3()\n",
    "\n",
    "# 전역 스코프(global scope)에서 전역 변수를 출력함\n",
    "print('number(전역변수) :', number)"
   ]
  },
  {
   "cell_type": "code",
   "execution_count": 29,
   "id": "e562ab66",
   "metadata": {},
   "outputs": [
    {
     "name": "stdout",
     "output_type": "stream",
     "text": [
      "합계 : 55\n"
     ]
    }
   ],
   "source": [
    "# global scope\n",
    "# numbers : 전역변수\n",
    "numbers = list(range(1, 11))\n",
    "\n",
    "def sum_items():\n",
    "    # 함수 내부 : local scope\n",
    "    # total : 지역변수\n",
    "    total = 0\n",
    "    # 함수 내부에서 전역에서 선언된\n",
    "    # numbers 를 사용해서 for문 실행\n",
    "    for number in numbers:\n",
    "        total += number\n",
    "    print('합계 :', total)\n",
    "    return\n",
    "\n",
    "sum_items()\n",
    "\n",
    "# NameError: name 'total' is not defined\n",
    "# total 은 sum_items() 함수 내부에서 선언된\n",
    "# 지역변수라서 전역 스코프에서 접근할 수 없음\n",
    "# <-- global scope 에서 찾을수 없어서 \n",
    "#     ... is not defined 라는 error 메세지가 나옴\n",
    "# print('합계 :', total)"
   ]
  },
  {
   "cell_type": "code",
   "execution_count": 3,
   "id": "c0e3cf1d",
   "metadata": {},
   "outputs": [
    {
     "name": "stdout",
     "output_type": "stream",
     "text": [
      "합계 (함수 내부에서 출력함) : 55\n",
      "합계 (함수 내부에서 출력함) : 55\n",
      "합계 (함수 외부에서 출력함) : 55\n"
     ]
    }
   ],
   "source": [
    "'''\n",
    "함수 외부에서 함수 내부의 값을 확인하려면\n",
    "함수가 그 값을 return 해야 가능함\n",
    "            ㄴ return 값\n",
    "'''\n",
    "numbers = list(range(1, 11))\n",
    "\n",
    "def sum_items():\n",
    "    # 함수 내부 : local scope\n",
    "    # total : 지역변수\n",
    "    total = 0\n",
    "    # 함수 내부에서 전역에서 선언된\n",
    "    # numbers 를 사용해서 for문 실행\n",
    "    for number in numbers:\n",
    "        total += number\n",
    "    print('합계 (함수 내부에서 출력함) :', total)\n",
    "    return total\n",
    "\n",
    "sum_items()\n",
    "print('합계 (함수 외부에서 출력함) :', sum_items())"
   ]
  },
  {
   "cell_type": "code",
   "execution_count": 27,
   "id": "1a1bcd55",
   "metadata": {},
   "outputs": [
    {
     "name": "stdout",
     "output_type": "stream",
     "text": [
      "number : 20\n",
      "number2 : 30\n",
      "number : 20\n",
      "number2 : 30\n"
     ]
    }
   ],
   "source": [
    "'''\n",
    "global 키워드\n",
    "    ㄴ local scope 에서 선언한 변수를 \n",
    "       global variable(전역변수) 로 인식하게 함\n",
    "'''\n",
    "number = 10\n",
    "\n",
    "def test3():\n",
    "    # local scope 에서 선언했으나\n",
    "    # 실제 메모리에서는 global scope에 선언됨\n",
    "    global number\n",
    "    global number2\n",
    "    \n",
    "    number = 20\n",
    "    print('number :', number)\n",
    "    number2 = 30\n",
    "    print('number2 :', number2)\n",
    "\n",
    "test3()\n",
    "print('number :', number)\n",
    "print('number2 :', number2)"
   ]
  },
  {
   "cell_type": "code",
   "execution_count": 42,
   "id": "6b3dbc87",
   "metadata": {},
   "outputs": [
    {
     "name": "stdout",
     "output_type": "stream",
     "text": [
      "num1 : 10\n"
     ]
    }
   ],
   "source": [
    "def outer2():\n",
    "    num1 = 10\n",
    "    def inner2():\n",
    "        num1 = 20\n",
    "    inner2()\n",
    "    return num1\n",
    "\n",
    "print('num1 :', outer2())"
   ]
  },
  {
   "cell_type": "code",
   "execution_count": 45,
   "id": "de709686",
   "metadata": {},
   "outputs": [
    {
     "name": "stdout",
     "output_type": "stream",
     "text": [
      "num1 : 20\n"
     ]
    }
   ],
   "source": [
    "def outer2():\n",
    "    num1 = 10\n",
    "    def inner2():\n",
    "        nonlocal num1\n",
    "        num1 = 20\n",
    "    inner2()\n",
    "    return num1\n",
    "\n",
    "print('num1 :', outer2())"
   ]
  },
  {
   "cell_type": "code",
   "execution_count": 36,
   "id": "b57ebb30",
   "metadata": {},
   "outputs": [
    {
     "name": "stdout",
     "output_type": "stream",
     "text": [
      "3\n"
     ]
    }
   ],
   "source": [
    "def outer3():\n",
    "    num1 = 3\n",
    "    def inner3():\n",
    "        num1 = 7\n",
    "        return True\n",
    "    inner3()\n",
    "    return num1\n",
    "print(outer3())"
   ]
  },
  {
   "cell_type": "code",
   "execution_count": 35,
   "id": "828e2d83",
   "metadata": {},
   "outputs": [
    {
     "name": "stdout",
     "output_type": "stream",
     "text": [
      "7\n"
     ]
    }
   ],
   "source": [
    "def outer3():\n",
    "    num1 = 3\n",
    "    def inner3():\n",
    "        nonlocal num1\n",
    "        num1 = 7\n",
    "        return True\n",
    "    inner3()\n",
    "    return num1\n",
    "print(outer3())"
   ]
  },
  {
   "cell_type": "code",
   "execution_count": 16,
   "id": "6e6a5e02",
   "metadata": {},
   "outputs": [
    {
     "name": "stdout",
     "output_type": "stream",
     "text": [
      "outer() : <function outer.<locals>.inner at 0x000001884AA75480>\n",
      "outer() : 130\n",
      "inner_func(100) : 230\n"
     ]
    }
   ],
   "source": [
    "'''\n",
    "내부함수 : (외부)함수 내부에서 정의한 함수\n",
    "\n",
    "클로저(Closure)\n",
    "    ㄴ 외부함수가 종료(return) 하더라도\n",
    "       내부함수의 실행을 위해서 필요한\n",
    "       resource(변수 + 실행환경)들을 남겨두는 메모리 공간\n",
    "'''\n",
    "\n",
    "# outer() 함수\n",
    "#  ㄴ 내부에 inner() 함수를 정의하고\n",
    "#     이 inner 함수를 return 함\n",
    "def outer():\n",
    "    num1 = 10\n",
    "    num2 = 20    \n",
    "    num3 = 30    \n",
    "    \n",
    "    def inner(number):\n",
    "        return number + num1 + num2\n",
    "    \n",
    "    return inner\n",
    "\n",
    "print('outer() :', outer())\n",
    "print('outer() :', outer()(100))  # 함수 안에 함수를 실행하는 방법\n",
    "\n",
    "inner_func = outer()\n",
    "print('inner_func(100) :', inner_func(200))"
   ]
  },
  {
   "cell_type": "code",
   "execution_count": 14,
   "id": "a920bce4",
   "metadata": {},
   "outputs": [
    {
     "name": "stdout",
     "output_type": "stream",
     "text": [
      "안녕하세요 아마존 님\n"
     ]
    }
   ],
   "source": [
    "def say_hello(name):\n",
    "    print(f'안녕하세요 {name} 님')\n",
    "\n",
    "'''\n",
    "함수 호출 방법 (함수이름  - 함수 내용이 메모리에 올라간 지점의 주소)\n",
    "    ㄴ 함수이름(argument)\n",
    "        ㄴ 함수의 내용이 저장된 메모리의\n",
    "           주소가 저장되어 있음\n",
    "'''\n",
    "\n",
    "say_hello('아마존')"
   ]
  },
  {
   "cell_type": "code",
   "execution_count": null,
   "id": "29750fd5",
   "metadata": {},
   "outputs": [],
   "source": []
  }
 ],
 "metadata": {
  "kernelspec": {
   "display_name": "Python 3 (ipykernel)",
   "language": "python",
   "name": "python3"
  },
  "language_info": {
   "codemirror_mode": {
    "name": "ipython",
    "version": 3
   },
   "file_extension": ".py",
   "mimetype": "text/x-python",
   "name": "python",
   "nbconvert_exporter": "python",
   "pygments_lexer": "ipython3",
   "version": "3.10.9"
  }
 },
 "nbformat": 4,
 "nbformat_minor": 5
}
