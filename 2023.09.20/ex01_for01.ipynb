{
 "cells": [
  {
   "cell_type": "code",
   "execution_count": 4,
   "id": "58696dc4",
   "metadata": {},
   "outputs": [
    {
     "name": "stdout",
     "output_type": "stream",
     "text": [
      "True\n",
      "True\n"
     ]
    }
   ],
   "source": [
    "'''\n",
    "    isinstance(data,type) 함수\n",
    "        ㄴ data가 지정된 type이면 True를 반환함\n",
    "'''\n",
    "print(isinstance(100, int))\n",
    "print(isinstance('100', str))"
   ]
  },
  {
   "cell_type": "code",
   "execution_count": 22,
   "id": "5323d3df",
   "metadata": {},
   "outputs": [
    {
     "name": "stdout",
     "output_type": "stream",
     "text": [
      "55\n",
      "<class 'int'>\n"
     ]
    },
    {
     "data": {
      "text/plain": [
       "True"
      ]
     },
     "execution_count": 22,
     "metadata": {},
     "output_type": "execute_result"
    }
   ],
   "source": [
    "numbers = {1, 2, 3, '4', 5, '6', 7, 8, 9, '10'}\n",
    "\n",
    "'''\n",
    "numbers 에 저장된 item 들의 합을 출력하세요\n",
    "\n",
    "item이 문자열인 경우, int type으로 변환해야\n",
    "합계를 구할 수 있음\n",
    "\n",
    "    isinstance(data,type) 함수\n",
    "        ㄴ data가 지정된 type이면 True를 반환함\n",
    "'''\n",
    "\n",
    "sum = 0\n",
    "for number in numbers:\n",
    "    if isinstance(number, str):\n",
    "        number = int(number)\n",
    "    sum += number\n",
    "\n",
    "print(sum)\n",
    "\n",
    "print(type(100))\n",
    "type(100) == int\n"
   ]
  },
  {
   "cell_type": "code",
   "execution_count": 26,
   "id": "8c895890",
   "metadata": {},
   "outputs": [
    {
     "name": "stdout",
     "output_type": "stream",
     "text": [
      "55\n"
     ]
    }
   ],
   "source": [
    "# type을 이용해서 int, str 형태 구분\n",
    "numbers = {1, 2, 3, '4', 5, '6', 7, 8, 9, '10'}\n",
    "sum = 0\n",
    "\n",
    "for number in numbers:\n",
    "    if type(number) == str:\n",
    "        number = int(number)\n",
    "    sum += number\n",
    "print(sum)\n",
    "\n"
   ]
  },
  {
   "cell_type": "code",
   "execution_count": 27,
   "id": "7294e2cd",
   "metadata": {},
   "outputs": [
    {
     "name": "stdout",
     "output_type": "stream",
     "text": [
      "True\n",
      "True\n",
      "True\n",
      "True\n",
      "True\n",
      "True\n",
      "True\n",
      "True\n"
     ]
    }
   ],
   "source": [
    "'''\n",
    "    isinstance(data,type) 함수\n",
    "        ㄴ data가 지정된 type이면 True를 반환함\n",
    "'''\n",
    "print(isinstance(100, int))\n",
    "print(isinstance(100.1234, float))\n",
    "print(isinstance('100', str))\n",
    "print(isinstance(True, bool))\n",
    "print(isinstance([], list))\n",
    "print(isinstance((), tuple))\n",
    "print(isinstance({}, dict))\n",
    "print(isinstance(set(), set))\n"
   ]
  },
  {
   "cell_type": "code",
   "execution_count": null,
   "id": "a52d71a4",
   "metadata": {},
   "outputs": [],
   "source": []
  },
  {
   "cell_type": "code",
   "execution_count": null,
   "id": "57f65aff",
   "metadata": {},
   "outputs": [],
   "source": []
  },
  {
   "cell_type": "code",
   "execution_count": null,
   "id": "46fc7f51",
   "metadata": {},
   "outputs": [],
   "source": []
  }
 ],
 "metadata": {
  "kernelspec": {
   "display_name": "Python 3 (ipykernel)",
   "language": "python",
   "name": "python3"
  },
  "language_info": {
   "codemirror_mode": {
    "name": "ipython",
    "version": 3
   },
   "file_extension": ".py",
   "mimetype": "text/x-python",
   "name": "python",
   "nbconvert_exporter": "python",
   "pygments_lexer": "ipython3",
   "version": "3.10.9"
  }
 },
 "nbformat": 4,
 "nbformat_minor": 5
}
