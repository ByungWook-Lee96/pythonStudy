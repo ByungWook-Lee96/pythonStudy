{
 "cells": [
  {
   "cell_type": "code",
   "execution_count": 11,
   "id": "8255141f",
   "metadata": {},
   "outputs": [
    {
     "name": "stdout",
     "output_type": "stream",
     "text": [
      "test1() : 100\n",
      "안녕하세요\n",
      "오늘은 비가 좀 옵니다\n"
     ]
    }
   ],
   "source": [
    "'''\n",
    "함수 :function  <-- code의 재활용\n",
    "\n",
    "    수학적 함수\n",
    "        ㄴ 1) input -> output\n",
    "        \n",
    "    프로그램 함수\n",
    "        ㄴ 1) input -> output\n",
    "        ㄴ 2) input -> X\n",
    "        ㄴ 3) X     -> output\n",
    "        ㄴ 4) X     -> X\n",
    "          parameter   return 값(반환값)\n",
    "          매개변수\n",
    "    \n",
    "    함수를 정의하는 형식(definition)\n",
    "        \n",
    "        -- 함수의 정의부 --    매개변수 : input\n",
    "        def 함수이름(매개변수-parameter): <-- 함수의 선언부(declarartion-signature)\n",
    "            함수의 내용\n",
    "            함수의 내용      <--  함수의 body(구현부-몸통)  \n",
    "            함수의 내용\n",
    "            \n",
    "            return (반환값)   <-- 반환(return)값  : output\n",
    "                                    ㄴ 함수를 호출한 곳으로 돌려줌\n",
    "                                    \n",
    "            함수는 실행을 종료한 후 \n",
    "            무조건 return 함  <-- 호출한 곳으로 return 함\n",
    "            (함수를 호출한 부분 이후에 있는 code를 실행하기 위해서)\n",
    "            1) return 값이 있는 경우, return 키워드를 생략할수 없음 \n",
    "            2) return 값이 없는 경우, return 키워드를 생략할수 있음 \n",
    "            \n",
    "            ***************************\n",
    "             함수가 return 한다는 의미\n",
    "            ***************************\n",
    "            1) 함수가 종료한다는 의미\n",
    "            2) 함수를 호출한 곳으로 프로그램의 흐름이 돌아감(return)\n",
    "                ㄴ return 값이 있으면 return 값을 가지고 돌아감\n",
    "                ㄴ return 값이 없으면 프로그램의 흐름만 돌아감\n",
    "                \n",
    "\n",
    "    함수를 실행(호출-call(invoke-invocation))하는 방법\n",
    "                            argument : 인수, 인자, 인자값\n",
    "        함수이름(parameter로 전달되는 argument)\n",
    "                argument는 parameter의 개수에 맞게 써줌\n",
    "                (parameter의 순서에 맞게 argument가 전달됨)\n",
    "                parameter가 없는 경우는 argument 자리도 비워줌\n",
    "\n",
    "'''\n",
    "\n",
    "def test1():\n",
    "    return 100\n",
    "\n",
    "# test1() 함수를 호출하면\n",
    "# test1() 함수의 return 값(100)이 호출한 곳으로 되돌아옴(return)\n",
    "print('test1() :', test1())\n",
    "\n",
    "def test2():\n",
    "    print('안녕하세요')\n",
    "    return\n",
    "\n",
    "# TypeError: test2() takes 0 positional arguments but 1 was given\n",
    "# print('test2() :', test2(200))\n",
    "test2()\n",
    "\n",
    "print('오늘은 비가 좀 옵니다')"
   ]
  },
  {
   "cell_type": "code",
   "execution_count": 14,
   "id": "f184bbab",
   "metadata": {},
   "outputs": [
    {
     "name": "stdout",
     "output_type": "stream",
     "text": [
      "ten_times(100) : 1000\n",
      "ten_times(2) : 20\n",
      "ten_times(30) : 300\n",
      "ten_times(555) : 5550\n"
     ]
    }
   ],
   "source": [
    "'''\n",
    "    parameter    return값\n",
    "1) input(0)  --> output(0)\n",
    "'''\n",
    "\n",
    "# 함수 정의하기\n",
    "def ten_times(number):\n",
    "    result = number * 10\n",
    "    return result\n",
    "\n",
    "# 함수 호출(실행)하기\n",
    "print('ten_times(100) :', ten_times(100))\n",
    "\n",
    "# 함수 호출(실행)하기\n",
    "print('ten_times(2) :', ten_times(2))\n",
    "\n",
    "# 함수 호출(실행)하기\n",
    "print('ten_times(30) :', ten_times(30))\n",
    "\n",
    "# 함수 호출(실행)하기\n",
    "print('ten_times(555) :', ten_times(555))"
   ]
  },
  {
   "cell_type": "code",
   "execution_count": 26,
   "id": "3be33934",
   "metadata": {},
   "outputs": [
    {
     "name": "stdout",
     "output_type": "stream",
     "text": [
      "add(10, 20) : 30\n",
      "add(num1, num2) : 70\n",
      "result : -19\n",
      "result : -19\n"
     ]
    }
   ],
   "source": [
    "'''\n",
    "두 개의 정수를 전달받아서\n",
    "그 합을 return 하는 함수\n",
    "\n",
    "*************************************************************\n",
    " return 값이 있는 함수를 호출하는 호출부 = 함수의 return 값\n",
    "*************************************************************\n",
    "\n",
    "'''\n",
    "\n",
    "def add(num1, num2):\n",
    "    return num1 + num2\n",
    "\n",
    "print('add(10, 20) :', add(10, 20))\n",
    "\n",
    "num1 = 30\n",
    "num2 = 40\n",
    "\n",
    "print('add(num1, num2) :', add(num1, num2))\n",
    "\n",
    "result = 11 + 200 + add(num1, num2) -300\n",
    "print('result :', result)\n",
    "\n",
    "number = add(num1, num2)\n",
    "result = 11 + 200 + number -300\n",
    "print('result :', result)"
   ]
  },
  {
   "cell_type": "code",
   "execution_count": 30,
   "id": "b8fb2d2e",
   "metadata": {
    "scrolled": true
   },
   "outputs": [
    {
     "name": "stdout",
     "output_type": "stream",
     "text": [
      "num1 : 10\n",
      "num2 : 20\n",
      "add(10, 20) : 100\n",
      "num1 : 20\n",
      "num2 : 10\n",
      "add(10, 20) : 80\n"
     ]
    }
   ],
   "source": [
    "def add(num1, num2):\n",
    "    print('num1 :', num1)\n",
    "    print('num2 :', num2)\n",
    "    return num1 * 2 + num2 * 4\n",
    "\n",
    "print('add(10, 20) :', add(10, 20))\n",
    "print('add(10, 20) :', add(num2=10, num1=20))"
   ]
  },
  {
   "cell_type": "code",
   "execution_count": 35,
   "id": "8b0202cc",
   "metadata": {},
   "outputs": [
    {
     "name": "stdout",
     "output_type": "stream",
     "text": [
      "안녕하세요 홍길동 님\n",
      "say_hello(\"홍길동\") : None\n"
     ]
    }
   ],
   "source": [
    "'''\n",
    "    parameter    return값\n",
    "2) input(0)  --> output(X)\n",
    "'''\n",
    "\n",
    "# 이름을 전달 받아서  <-- parameter\n",
    "# 안녕하세요 (이름) 을 출력하는 함수\n",
    "\n",
    "def say_hello(name):\n",
    "    print(f'안녕하세요 {name} 님')\n",
    "    return\n",
    "\n",
    "# 출력 값이 없는 경우에는 None으로 노출됨\n",
    "print('say_hello(\"홍길동\") :', say_hello('홍길동'))"
   ]
  },
  {
   "cell_type": "code",
   "execution_count": 41,
   "id": "06365dea",
   "metadata": {},
   "outputs": [
    {
     "name": "stdout",
     "output_type": "stream",
     "text": [
      "sum : 6\n",
      "None\n"
     ]
    }
   ],
   "source": [
    "'''\n",
    "정수 3개를 전달 받아서\n",
    "이 수들의 합계를 출력하는 함수\n",
    "'''\n",
    "\n",
    "def add_3_numbers(num1, num2, num3):\n",
    "    sum = num1 + num2 + num3\n",
    "    print('sum :', sum)\n",
    "    return\n",
    "\n",
    "print(add_3_numbers(1, 2, 3))"
   ]
  },
  {
   "cell_type": "code",
   "execution_count": 44,
   "id": "e743282c",
   "metadata": {},
   "outputs": [
    {
     "name": "stdout",
     "output_type": "stream",
     "text": [
      "plus_100_200() : 300\n",
      "return_goodbye() : 안녕\n"
     ]
    }
   ],
   "source": [
    "'''\n",
    "    parameter    return값\n",
    "3) input(X)  --> output(O)\n",
    "'''\n",
    "\n",
    "# 100 과 200을 더해서 이 합을 반환하는 함수\n",
    "def plus_100_200():\n",
    "    # result = 100 + 200\n",
    "    # return result\n",
    "    return 100 + 200\n",
    "\n",
    "print('plus_100_200() :', plus_100_200())\n",
    "\n",
    "# 안녕이라는 문자열을 반환하는 함수\n",
    "def return_goodbye():\n",
    "    return '안녕'\n",
    "\n",
    "print('return_goodbye() :', return_goodbye())"
   ]
  },
  {
   "cell_type": "code",
   "execution_count": 47,
   "id": "7073ae4f",
   "metadata": {},
   "outputs": [
    {
     "name": "stdout",
     "output_type": "stream",
     "text": [
      "클라우드 스쿨\n",
      "cloud_school() : 800\n",
      "circle_area() : 78.5\n"
     ]
    }
   ],
   "source": [
    "# 클라우드 스쿨을 출력하고\n",
    "# 40과 20을 곱한 값을 반환하는 함수\n",
    "\n",
    "def cloud_school():\n",
    "    print('클라우드 스쿨')\n",
    "    return 40 * 20\n",
    "\n",
    "print('cloud_school() :', cloud_school())\n",
    "\n",
    "'''\n",
    "반지름이 5인 원의 넓이를 출력하고\n",
    "이 원의 넓이를 반환하는 함수를 작성하고\n",
    "호출하세요\n",
    "'''\n",
    "\n",
    "def circle_area():\n",
    "    return 5 * 5 * 3.14\n",
    "\n",
    "print('circle_area() :', circle_area())"
   ]
  },
  {
   "cell_type": "code",
   "execution_count": 53,
   "id": "997fe8b8",
   "metadata": {},
   "outputs": [
    {
     "name": "stdout",
     "output_type": "stream",
     "text": [
      "반지름 : 5, 넓이 : 78.5\n",
      "반지름 : 5\n",
      "넓이 : 78.5\n"
     ]
    }
   ],
   "source": [
    "'''\n",
    "반지름이 5인 원의 넓이를 출력하고\n",
    "이 원의 반지름과 넓이를 반환하는 함수를 작성하고\n",
    "호출하세요\n",
    "\n",
    "함수의 return 값은 두 개 이상일 수 없음\n",
    "두 개 이상의 값을 return 하려면\n",
    "이 값들을 item으로 하는 tuple 이나 list를 반환함\n",
    "'''\n",
    "\n",
    "def circle_area():\n",
    "    pi = 3.14\n",
    "    radius = 5\n",
    "    area = radius * radius * pi\n",
    "    return radius, area  # 튜플로 반환\n",
    "\n",
    "print(f'반지름 : {circle_area()[0]}, 넓이 : {circle_area()[1]}')\n",
    "\n",
    "# 튜플로 받은 값을 각각의 변수로 지정\n",
    "radius, area = circle_area()\n",
    "print('반지름 :', radius)\n",
    "print('넓이 :', area)"
   ]
  },
  {
   "cell_type": "code",
   "execution_count": 56,
   "id": "ff87b639",
   "metadata": {},
   "outputs": [
    {
     "name": "stdout",
     "output_type": "stream",
     "text": [
      "전파진흥협회 - AWS 클라우드 스쿨 2기\n"
     ]
    }
   ],
   "source": [
    "'''\n",
    "    parameter    return값\n",
    "4) input(X)  --> output(X)\n",
    "'''\n",
    "\n",
    "# 교육센터 이름하고 과정이름을 출력하는 함수\n",
    "def display_academy():\n",
    "    name = '전파진흥협회'\n",
    "    course = 'AWS 클라우드 스쿨 2기'\n",
    "    print(f'{name} - {course}')\n",
    "\n",
    "display_academy()"
   ]
  },
  {
   "cell_type": "code",
   "execution_count": 57,
   "id": "c35b3574",
   "metadata": {},
   "outputs": [
    {
     "name": "stdout",
     "output_type": "stream",
     "text": [
      "2 X 1 = 2\n",
      "2 X 2 = 4\n",
      "2 X 3 = 6\n",
      "2 X 4 = 8\n",
      "2 X 5 = 10\n",
      "2 X 6 = 12\n",
      "2 X 7 = 14\n",
      "2 X 8 = 16\n",
      "2 X 9 = 18\n",
      "\n",
      "3 X 1 = 3\n",
      "3 X 2 = 6\n",
      "3 X 3 = 9\n",
      "3 X 4 = 12\n",
      "3 X 5 = 15\n",
      "3 X 6 = 18\n",
      "3 X 7 = 21\n",
      "3 X 8 = 24\n",
      "3 X 9 = 27\n",
      "\n",
      "4 X 1 = 4\n",
      "4 X 2 = 8\n",
      "4 X 3 = 12\n",
      "4 X 4 = 16\n",
      "4 X 5 = 20\n",
      "4 X 6 = 24\n",
      "4 X 7 = 28\n",
      "4 X 8 = 32\n",
      "4 X 9 = 36\n",
      "\n",
      "5 X 1 = 5\n",
      "5 X 2 = 10\n",
      "5 X 3 = 15\n",
      "5 X 4 = 20\n",
      "5 X 5 = 25\n",
      "5 X 6 = 30\n",
      "5 X 7 = 35\n",
      "5 X 8 = 40\n",
      "5 X 9 = 45\n",
      "\n",
      "6 X 1 = 6\n",
      "6 X 2 = 12\n",
      "6 X 3 = 18\n",
      "6 X 4 = 24\n",
      "6 X 5 = 30\n",
      "6 X 6 = 36\n",
      "6 X 7 = 42\n",
      "6 X 8 = 48\n",
      "6 X 9 = 54\n",
      "\n",
      "7 X 1 = 7\n",
      "7 X 2 = 14\n",
      "7 X 3 = 21\n",
      "7 X 4 = 28\n",
      "7 X 5 = 35\n",
      "7 X 6 = 42\n",
      "7 X 7 = 49\n",
      "7 X 8 = 56\n",
      "7 X 9 = 63\n",
      "\n",
      "8 X 1 = 8\n",
      "8 X 2 = 16\n",
      "8 X 3 = 24\n",
      "8 X 4 = 32\n",
      "8 X 5 = 40\n",
      "8 X 6 = 48\n",
      "8 X 7 = 56\n",
      "8 X 8 = 64\n",
      "8 X 9 = 72\n",
      "\n",
      "9 X 1 = 9\n",
      "9 X 2 = 18\n",
      "9 X 3 = 27\n",
      "9 X 4 = 36\n",
      "9 X 5 = 45\n",
      "9 X 6 = 54\n",
      "9 X 7 = 63\n",
      "9 X 8 = 72\n",
      "9 X 9 = 81\n",
      "\n"
     ]
    }
   ],
   "source": [
    "'''\n",
    "구구단 전체를 출력하는 함수\n",
    "'''\n",
    "def gugu():\n",
    "    for dan in range(2, 10):\n",
    "        for number in range(1, 10):\n",
    "            print(f'{dan} X {number} = {dan * number}')\n",
    "        print()\n",
    "gugu()"
   ]
  },
  {
   "cell_type": "code",
   "execution_count": 67,
   "id": "d6d8abff",
   "metadata": {},
   "outputs": [
    {
     "name": "stdout",
     "output_type": "stream",
     "text": [
      "3 X 1 = 3\n",
      "3 X 2 = 6\n",
      "3 X 3 = 9\n",
      "3 X 4 = 12\n",
      "3 X 5 = 15\n",
      "3 X 6 = 18\n",
      "3 X 7 = 21\n",
      "3 X 8 = 24\n",
      "3 X 9 = 27\n",
      "\n"
     ]
    }
   ],
   "source": [
    "'''\n",
    "3단만 출력하는 함수\n",
    "'''\n",
    "def gugu_3():\n",
    "    for number in range(1,10):\n",
    "        print(f'3 X {number} = {3 * number}')\n",
    "    print()\n",
    "gugu_3()"
   ]
  },
  {
   "cell_type": "code",
   "execution_count": 69,
   "id": "a5ce4ee0",
   "metadata": {
    "scrolled": true
   },
   "outputs": [
    {
     "name": "stdout",
     "output_type": "stream",
     "text": [
      "값을 입력하세요 : 10\n",
      "10 X 1 = 10\n",
      "10 X 2 = 20\n",
      "10 X 3 = 30\n",
      "10 X 4 = 40\n",
      "10 X 5 = 50\n",
      "10 X 6 = 60\n",
      "10 X 7 = 70\n",
      "10 X 8 = 80\n",
      "10 X 9 = 90\n",
      "\n"
     ]
    }
   ],
   "source": [
    "'''\n",
    "값을 입력 받아 해당 번호만 \n",
    "출력되는 구구단을 출력하는 함수\n",
    "'''\n",
    "\n",
    "num = int(input('값을 입력하세요 : '))\n",
    "\n",
    "def gugu(num):\n",
    "    for number in range(1, 10):\n",
    "        print(f'{num} X {number} = {num * number}')\n",
    "    print()\n",
    "gugu(num)"
   ]
  },
  {
   "cell_type": "code",
   "execution_count": 74,
   "id": "5f1fb4c3",
   "metadata": {},
   "outputs": [
    {
     "name": "stdout",
     "output_type": "stream",
     "text": [
      "이름을 입력하세요 :유관순\n",
      "이름 : 유관순, 직업 : 독립운동가\n",
      "이름 : 이순신, 직업 : 장군\n",
      "이름 : 유관순, 직업 : 독립운동가\n",
      "이름 : 허준이, 직업 : 수학교수\n"
     ]
    }
   ],
   "source": [
    "'''\n",
    "job_dict에 있는 이름을 입력 받아서\n",
    "그 사람의 이름과 직업을 출력하는 함수를 작성하고 호출하세요\n",
    "parameter (O) / return 값(X)\n",
    "\n",
    "parameter로 전달받은 key(name)으로 value를 출력함\n",
    "'''\n",
    "\n",
    "job_dict = {'이순신' : '장군', '유관순' : '독립운동가', '허준이' : '수학교수'}\n",
    "\n",
    "name = input('이름을 입력하세요 :')\n",
    "\n",
    "def info(name):\n",
    "    print(f'이름 : {name}, 직업 : {job_dict[name]}')\n",
    "\n",
    "info(name)\n",
    "\n",
    "# for name in job_dict.keys():\n",
    "for name in job_dict:\n",
    "    info(name)"
   ]
  },
  {
   "cell_type": "code",
   "execution_count": 80,
   "id": "00d3e221",
   "metadata": {},
   "outputs": [
    {
     "name": "stdout",
     "output_type": "stream",
     "text": [
      "합계 : 55\n",
      "합계 : 55\n"
     ]
    }
   ],
   "source": [
    "'''\n",
    "numbers라는 list를 전달받아서\n",
    "item들의 합계를 출력하는 함수를\n",
    "작성하고 호출하세요\n",
    "'''\n",
    "numbers = list(range(1, 11))\n",
    "\n",
    "def add(numbers):\n",
    "    sum = 0\n",
    "    for num in numbers:\n",
    "        sum += num   \n",
    "    print('합계 :', sum)\n",
    "    return\n",
    "\n",
    "add(numbers)\n",
    "\n",
    "'''\n",
    "parameter 이름과 argument 이름은\n",
    "같아도 되고 달라도 됨\n",
    "중요한 것은 parameter 개수와 argument 개수가\n",
    "맞아야 함 <-- 이 개수를 맞게하면 순서대로 전달됨\n",
    "              argument가 parameter 순에 맞게 전달됨\n",
    "\n",
    "****** parameter를 함수 안에서 사용할 때는 이름이 같아야 함\n",
    "'''\n",
    "\n",
    "def add2(list_number2):\n",
    "    sum = 0\n",
    "    for num in list_number2:\n",
    "        sum += num   \n",
    "    print('합계 :', sum)\n",
    "    return\n",
    "\n",
    "add2(numbers)"
   ]
  },
  {
   "cell_type": "code",
   "execution_count": 84,
   "id": "8c1308d3",
   "metadata": {},
   "outputs": [
    {
     "name": "stdout",
     "output_type": "stream",
     "text": [
      "30\n"
     ]
    }
   ],
   "source": [
    "'''\n",
    "(C언어/자바) 함수이름(int num1, int num2)\n",
    "                ㄴ parameter로 받을 값의 type을 지정함\n",
    "(파이썬) 함수이름(num1, num2)\n",
    "                ㄴ parameter로 받을 값의 type을 지정하지 않음\n",
    "'''\n",
    "def sum_2_nums(num1, num2):\n",
    "    result = num1 + num2\n",
    "    return result\n",
    "\n",
    "print(sum_2_nums(10, 20))\n",
    "# print(sum_2_nums('10', 20))\n",
    "# print(sum_2_nums('10', True))"
   ]
  },
  {
   "cell_type": "code",
   "execution_count": null,
   "id": "2ba8db56",
   "metadata": {},
   "outputs": [],
   "source": []
  },
  {
   "cell_type": "code",
   "execution_count": null,
   "id": "3809972a",
   "metadata": {},
   "outputs": [],
   "source": []
  },
  {
   "cell_type": "code",
   "execution_count": null,
   "id": "2d9e6021",
   "metadata": {},
   "outputs": [],
   "source": []
  },
  {
   "cell_type": "code",
   "execution_count": null,
   "id": "1da84c23",
   "metadata": {},
   "outputs": [],
   "source": []
  },
  {
   "cell_type": "code",
   "execution_count": null,
   "id": "7f2e3633",
   "metadata": {},
   "outputs": [],
   "source": []
  }
 ],
 "metadata": {
  "kernelspec": {
   "display_name": "Python 3 (ipykernel)",
   "language": "python",
   "name": "python3"
  },
  "language_info": {
   "codemirror_mode": {
    "name": "ipython",
    "version": 3
   },
   "file_extension": ".py",
   "mimetype": "text/x-python",
   "name": "python",
   "nbconvert_exporter": "python",
   "pygments_lexer": "ipython3",
   "version": "3.10.9"
  }
 },
 "nbformat": 4,
 "nbformat_minor": 5
}
