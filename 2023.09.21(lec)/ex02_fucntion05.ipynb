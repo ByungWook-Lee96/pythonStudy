{
 "cells": [
  {
   "cell_type": "code",
   "execution_count": 3,
   "id": "84d167d3",
   "metadata": {},
   "outputs": [
    {
     "name": "stdout",
     "output_type": "stream",
     "text": [
      "안녕하세요\n",
      "어서오세요 !!!\n",
      "AWS 클라우스 스쿨입니다\n"
     ]
    }
   ],
   "source": [
    "'''\n",
    "@ : decorator\n",
    "\n",
    "함수 장식자 : wrapper 함수\n",
    "\n",
    "'''\n",
    "# 함수를 parameter 로 전달 받음  \n",
    "def wraper(func):\n",
    "    def decorated():\n",
    "        print('안녕하세요')\n",
    "        func()\n",
    "        print('AWS 클라우스 스쿨입니다')\n",
    "    return decorated\n",
    "\n",
    "@wraper\n",
    "def say_hello():\n",
    "    print('어서오세요 !!!')\n",
    "    \n",
    "say_hello()    "
   ]
  },
  {
   "cell_type": "code",
   "execution_count": 4,
   "id": "1c411b42",
   "metadata": {},
   "outputs": [
    {
     "name": "stdout",
     "output_type": "stream",
     "text": [
      "36\n"
     ]
    }
   ],
   "source": [
    "'''\n",
    "재귀함수 : recursive\n",
    " 함수 안에서 자신(함수)를 호출하는 함수\n",
    "'''\n",
    "\n",
    "def test1(num1, num2):\n",
    "    return num1 + num2\n",
    "\n",
    "# add_numbers 함수에서 test1 함수를 호출함\n",
    "def add_numbers(n1, n2, n3):\n",
    "    result = n1 + n2 + n3 + test1(10, 20)\n",
    "    return result\n",
    "\n",
    "print(add_numbers(1, 2, 3))"
   ]
  },
  {
   "cell_type": "code",
   "execution_count": 10,
   "id": "a87b3ca2",
   "metadata": {},
   "outputs": [
    {
     "name": "stdout",
     "output_type": "stream",
     "text": [
      "120\n",
      "120\n",
      "720\n",
      "factorial2(5) : 120\n"
     ]
    }
   ],
   "source": [
    "'''\n",
    "Factorial : 5! <- 5 X 4 X 3 X 2 X 1\n",
    "'''\n",
    "# 반복문 사용\n",
    "result = 1\n",
    "for number in range(1, 6):\n",
    "    result *= number\n",
    "print(result)    \n",
    "\n",
    "\n",
    "def factorial(num):\n",
    "    result = 1\n",
    "    for number in range(1, num+1):\n",
    "        result *= number \n",
    "    return result\n",
    "\n",
    "print(factorial(5))\n",
    "print(factorial(6))\n",
    "    \n",
    "# 재귀함수 사용 \n",
    "def factorial2(num):    \n",
    "    # num * (num-1) * ((num-1)-1) * (((num-1)-1)-1) .....\n",
    "    # 종료 조건\n",
    "    if num == 1:\n",
    "        return 1\n",
    "    return num * factorial2(num-1)\n",
    "\n",
    "'''\n",
    "    return 5 * factorial2(4)\n",
    "                 4 * factorial2(3)\n",
    "                      3 * factorial2(2)\n",
    "                           2 * factorial2(1)\n",
    "                                (1 * factorial2(0))\n",
    "'''\n",
    "print('factorial2(5) :',factorial2(5))    \n",
    "    "
   ]
  },
  {
   "cell_type": "code",
   "execution_count": null,
   "id": "1acdc7d1",
   "metadata": {},
   "outputs": [],
   "source": []
  },
  {
   "cell_type": "code",
   "execution_count": null,
   "id": "2b063732",
   "metadata": {},
   "outputs": [],
   "source": []
  }
 ],
 "metadata": {
  "kernelspec": {
   "display_name": "Python 3 (ipykernel)",
   "language": "python",
   "name": "python3"
  },
  "language_info": {
   "codemirror_mode": {
    "name": "ipython",
    "version": 3
   },
   "file_extension": ".py",
   "mimetype": "text/x-python",
   "name": "python",
   "nbconvert_exporter": "python",
   "pygments_lexer": "ipython3",
   "version": "3.10.9"
  }
 },
 "nbformat": 4,
 "nbformat_minor": 5
}
