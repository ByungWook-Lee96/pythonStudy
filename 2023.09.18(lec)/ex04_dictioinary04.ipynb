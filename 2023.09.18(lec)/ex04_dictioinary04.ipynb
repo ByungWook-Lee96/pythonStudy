{
 "cells": [
  {
   "cell_type": "code",
   "execution_count": null,
   "id": "5f0d6431",
   "metadata": {},
   "outputs": [],
   "source": [
    "'''\n",
    "key     value\n",
    "메로나  1000\n",
    "폴라포  1200\n",
    "빵빠레  1800\n",
    "\n",
    "key 를 이름으로 하고 value 를 가격으로 하는\n",
    "이름이 icecreams 인 딕셔너리를 생성하세요\n",
    "'''\n",
    "icecreams = {\n",
    "    '메로나' : 1000, '폴라포' : 1200, '빵빠레' : 1800\n",
    "}\n",
    "print(icecreams)"
   ]
  },
  {
   "cell_type": "code",
   "execution_count": null,
   "id": "f2dd5ca2",
   "metadata": {},
   "outputs": [],
   "source": [
    "'''\n",
    "죠스바  1300\n",
    "월드콘  1500\n",
    "돼지바   500\n",
    "  ㄴ 이 두 아이스크림의 정보를\n",
    "     icecreams 딕셔너리에 추가하세요\n",
    "'''\n",
    "import pprint\n",
    "\n",
    "# [key] = value\n",
    "icecreams['죠스바'] = 1300\n",
    "\n",
    "# update()\n",
    "icecreams.update(월드콘=1500)\n",
    "\n",
    "# setdefault()\n",
    "icecreams.setdefault('돼지바', 500)\n",
    "\n",
    "print(icecreams)\n",
    "print('-' * 60)"
   ]
  },
  {
   "cell_type": "code",
   "execution_count": null,
   "id": "6b21878f",
   "metadata": {},
   "outputs": [],
   "source": [
    "'''\n",
    "key       value (list)\n",
    "이름      가격  재고\n",
    "메로나    300    20\n",
    "비비빅    400    30\n",
    "죠스바    250   100\n",
    "'''\n",
    "ice_dict1 = {'메로나':[300, 20], '비비빅':[400,30], '죠스바':[250,100]}\n",
    "print(ice_dict1)"
   ]
  },
  {
   "cell_type": "code",
   "execution_count": null,
   "id": "58c27e9c",
   "metadata": {},
   "outputs": [],
   "source": [
    "'''\n",
    "비비빅 가격 : 400 원\n",
    "이라고 출력하세요\n",
    "'''\n",
    "print('비비빅 가격 :',ice_dict1['비비빅'][0],'원')"
   ]
  },
  {
   "cell_type": "code",
   "execution_count": null,
   "id": "2e165ff1",
   "metadata": {},
   "outputs": [],
   "source": [
    "'''\n",
    "죠스바 재고 : 100 개\n",
    "라고 출력하세요\n",
    "'''\n",
    "print('죠스바 재고 :',ice_dict1['죠스바'][1],'개')"
   ]
  },
  {
   "cell_type": "code",
   "execution_count": null,
   "id": "398ed2ca",
   "metadata": {},
   "outputs": [],
   "source": [
    "'''\n",
    "싸만코  1000 원 56 개를 ice_dict1 에 추가하세요\n",
    "'''\n",
    "print(ice_dict1)\n",
    "ice_dict1['싸만코'] = [1000, 56]\n",
    "print(ice_dict1)"
   ]
  },
  {
   "cell_type": "code",
   "execution_count": null,
   "id": "a23974fc",
   "metadata": {},
   "outputs": [],
   "source": [
    "'''\n",
    "ice_dict1 에서 아이스크림들의 이름만\n",
    "list 로 출력하세요 (keys() 메소드 사용)\n",
    "'''\n",
    "print(list(ice_dict1.keys()))"
   ]
  },
  {
   "cell_type": "code",
   "execution_count": null,
   "id": "3fc5647d",
   "metadata": {
    "scrolled": true
   },
   "outputs": [],
   "source": [
    "print(ice_dict1)\n",
    "'''\n",
    "ice_dict1 에서 아이스크림들의 가격만\n",
    "list 로 출력하세요 (values() 메소드 사용)\n",
    "[300, 400, 250, 1000] \n",
    "'''\n",
    "price_inventory_list = list(ice_dict1.values())\n",
    "print(price_inventory_list)\n",
    "print('-' * 60)\n",
    "\n",
    "price_list = [\n",
    "    price_inventory_list[0][0],\n",
    "    price_inventory_list[1][0],\n",
    "    price_inventory_list[2][0],\n",
    "    price_inventory_list[3][0],    \n",
    "]\n",
    "print(price_list)\n"
   ]
  },
  {
   "cell_type": "code",
   "execution_count": null,
   "id": "848cca1d",
   "metadata": {},
   "outputs": [],
   "source": [
    "price_inventory_list = [\n",
    "    ice_dict1['메로나'], \n",
    "    ice_dict1['비비빅'], \n",
    "    ice_dict1['죠스바'], \n",
    "    ice_dict1['싸만코'], \n",
    "]\n",
    "print(price_inventory_list)"
   ]
  },
  {
   "cell_type": "code",
   "execution_count": null,
   "id": "7bf96f5a",
   "metadata": {},
   "outputs": [],
   "source": [
    "price_list = [\n",
    "    ice_dict1['메로나'][0], \n",
    "    ice_dict1['비비빅'][0], \n",
    "    ice_dict1['죠스바'][0], \n",
    "    ice_dict1['싸만코'][0], \n",
    "]\n",
    "print(price_list)"
   ]
  },
  {
   "cell_type": "code",
   "execution_count": null,
   "id": "6994596e",
   "metadata": {},
   "outputs": [],
   "source": [
    "for price_inventory in ice_dict1.values():\n",
    "    print(price_inventory[0], end=', ')"
   ]
  },
  {
   "cell_type": "code",
   "execution_count": null,
   "id": "1f9967fc",
   "metadata": {},
   "outputs": [],
   "source": [
    "result = []\n",
    "for price_inventory in ice_dict1.values():\n",
    "    result.append(price_inventory[0])\n",
    "print(result)"
   ]
  },
  {
   "cell_type": "code",
   "execution_count": null,
   "id": "b27b8e6a",
   "metadata": {},
   "outputs": [],
   "source": [
    "'''\n",
    "print() 함수의 end 파라미터\n",
    "                 ㄴ 출력문장의 맨 마지막 부분 설정하기\n",
    "                 ㄴ 기본값은 줄바꿈으로 되어있음\n",
    "                             end = '\\n'\n",
    "'''\n",
    "print(10)\n",
    "print(20, end = '\\n')\n",
    "print(30, end = ', ')\n",
    "print(40)\n",
    "print(50)"
   ]
  },
  {
   "cell_type": "code",
   "execution_count": 26,
   "id": "97fb5de0",
   "metadata": {},
   "outputs": [
    {
     "name": "stdout",
     "output_type": "stream",
     "text": [
      "{'strawberry': 20000, 'watermelon': 15000, 'pear': 50000, 'orange': 30000}\n"
     ]
    }
   ],
   "source": [
    "'''\n",
    "두 개의 list 나 tuple 로 dictionary 생성하기\n",
    "\n",
    "  zip() 함수와 dict() 함수를 사용함\n",
    "  \n",
    "  형태]\n",
    "    dict(zip(리스트1, 리스트2))\n",
    "              key      value\n",
    "'''\n",
    "fruits = ['strawberry', 'watermelon', 'pear', 'orange']\n",
    "prices = [20000, 15000, 50000, 30000]\n",
    "\n",
    "fruits_dict = dict(zip(fruits, prices))\n",
    "print(fruits_dict)"
   ]
  },
  {
   "cell_type": "code",
   "execution_count": 31,
   "id": "f8633822",
   "metadata": {},
   "outputs": [
    {
     "name": "stdout",
     "output_type": "stream",
     "text": [
      "보기에 있는 우편번호 중 하나를 입력하세요 : 01500\n",
      "당신은 용산구 에 거주하십니다\n"
     ]
    }
   ],
   "source": [
    "'''\n",
    "mapo, yongsan, songpa 리스트에는\n",
    "우편번호 앞 3 자리가 저장되어있습니다.\n",
    "\n",
    "보기의 우편번호 중 하나를 입력받아서 <-- input()\n",
    "어느 구인지 출력하는 code 를 작성하세요\n",
    "\n",
    "- 보기 -\n",
    "01000, 01100, 01200, 01300,\n",
    "01400, 01500, 01600, 01700, 01800\n",
    "\n",
    "'''\n",
    "#  마포구\n",
    "mapo    = ['010', '011', '012']\n",
    "#  용산구\n",
    "yongsan = ['013', '014', '015']\n",
    "#  송파구\n",
    "songpa  = ['016', '017', '018']\n",
    "\n",
    "post = input('보기에 있는 우편번호 중 하나를 입력하세요 : ')\n",
    "post = post[:3]\n",
    "\n",
    "location = ''\n",
    "\n",
    "if post in mapo:\n",
    "    location = '마포구'\n",
    "elif post in yongsan:\n",
    "    location = '용산구'\n",
    "elif post in songpa:\n",
    "    location = '송파구'\n",
    "else:\n",
    "    location == '?'\n",
    "\n",
    "if location != '?':\n",
    "    print(f'당신은 {location} 에 거주하십니다')\n",
    "else:\n",
    "    print('우편번호를 올바르게 입력해 주세요')"
   ]
  },
  {
   "cell_type": "code",
   "execution_count": 38,
   "id": "fa634922",
   "metadata": {},
   "outputs": [
    {
     "name": "stdout",
     "output_type": "stream",
     "text": [
      "주민등록번호를 입력하세요 : 801010-2025487\n",
      "2\n",
      "당신은 서울특별시 출신입니다\n"
     ]
    }
   ],
   "source": [
    "'''\n",
    "주민등록번호를 입력 받아서\n",
    "어느 지역 출신인지 출력하세요\n",
    "\n",
    "8, 9 번째 자리 숫자로  \n",
    "출신 지역을 알 수 있음\n",
    "\n",
    "서울특별시 : 00 ~ 08\n",
    "부산광역시 : 09 ~ 12\n",
    "광주광역시 : (구)55, 56 (신)65, 66\n",
    "'''\n",
    "seoul = list(range(9))\n",
    "pusan = list(range(9, 13))\n",
    "kwangjoo = [55, 56, 65, 66]\n",
    "\n",
    "cities = ['서울특별시', '부산광역시', '광주광역시']\n",
    "location = ''\n",
    "\n",
    "pn = input('주민등록번호를 입력하세요 : ').replace('-', '')\n",
    "\n",
    "'''\n",
    "str type -->  int type 형변환할 때\n",
    "\n",
    "'01' ~ '09'  는 1 ~ 9 로 변환됨 \n",
    "'''\n",
    "pn = int(pn[7:9])\n",
    "\n",
    "if pn in seoul:\n",
    "    location = cities[0]\n",
    "elif pn in pusan:\n",
    "    location = cities[1]\n",
    "elif pn in kwangjoo:    \n",
    "    location = cities[2]\n",
    "else:\n",
    "    location = '?'\n",
    "    \n",
    "if location != '?':\n",
    "    print(f'당신은 {location} 출신입니다')\n",
    "else:\n",
    "    print('주민등록번호를 정확하게 입력해 주세요')"
   ]
  },
  {
   "cell_type": "code",
   "execution_count": 4,
   "id": "baeffeda",
   "metadata": {},
   "outputs": [
    {
     "name": "stdout",
     "output_type": "stream",
     "text": [
      "주민등록번호를 입력하세요 : 9604141580610\n",
      "188\n",
      "입력하신 주민등록번호는 유효한 번호입니다\n"
     ]
    }
   ],
   "source": [
    "'''\n",
    "주민등록번호 유효성 검사하기\n",
    "\n",
    "   8 0 1 2 1 2 - 2 6 5 9 8 7 4\n",
    "   \n",
    "   8 0 1 2 1 2 - 2 6 5 9 8 7\n",
    "X  2 3 4 5 6 7   8 9 2 3 4 5\n",
    "-----------------------------------\n",
    "\n",
    "total : 각 자릿수에 아래의 숫자를 곱한 값들의 총합\n",
    "\n",
    "11 - total % 11 == 마지막 자릿수(4) \n",
    "  ㄴ 참이면 유효한 주민등록번호가 됨\n",
    "'''\n",
    "pn = input('주민등록번호를 입력하세요 : ').replace('-', '')\n",
    "\n",
    "total = int(pn[0])*2 + int(pn[1])*3 + int(pn[2])*4 + int(pn[3])*5 + \\\n",
    "        int(pn[4])*6 + int(pn[5])*7 + int(pn[6])*8 + int(pn[7])*9 + \\\n",
    "        int(pn[8])*2 + int(pn[9])*3 + int(pn[10])*4 + int(pn[11])*5\n",
    "\n",
    "'''\n",
    "(total % 11) 의 결과가 0 이나 1 인 경우\n",
    "11 - (total % 11) 의 결과는 11 이나 10 이 됨\n",
    "마지막 자릿수는 한 자리이므로 항상 False 가 됨\n",
    "\n",
    "11 - (total % 11) 의 결과가 11 이나 10 인 경우에는\n",
    "일의 자리 숫자만 남김\n",
    "   ㄴ  (11 - (total % 11)) % 10\n",
    "'''\n",
    "result = 11 - (total % 11)\n",
    "numbers = [10, 11]\n",
    "print(total)\n",
    "# if result >= 10:\n",
    "if result in numbers:\n",
    "    result = result % 10    \n",
    "\n",
    "if result == int(pn[-1]):\n",
    "    print('입력하신 주민등록번호는 유효한 번호입니다')\n",
    "else:\n",
    "    print('입력하신 주민등록번호는 유효하지 않은 번호입니다')\n",
    "\n"
   ]
  },
  {
   "cell_type": "code",
   "execution_count": 47,
   "id": "70ffeb2c",
   "metadata": {},
   "outputs": [
    {
     "name": "stdout",
     "output_type": "stream",
     "text": [
      "{'mocha': '카페모카', 'latte': '라떼', 'cola': '콜라'}\n",
      "{'k1': 1, 'k2': 'abc', 'k3': 3.4}\n"
     ]
    }
   ],
   "source": [
    "'''\n",
    "두 dictionary 합치기\n",
    "'''\n",
    "coffee = {'mocha':'카페모카','latte':'라떼'}\n",
    "drink = {'cola':'콜라'}\n",
    "water = {**coffee, **drink}\n",
    "print(water) \n",
    "\n",
    "mydic = dict(k1=1, k2='abc',k3=3.4)\n",
    "print(mydic)"
   ]
  },
  {
   "cell_type": "code",
   "execution_count": null,
   "id": "f16a7f97",
   "metadata": {},
   "outputs": [],
   "source": []
  },
  {
   "cell_type": "code",
   "execution_count": null,
   "id": "68522cc7",
   "metadata": {},
   "outputs": [],
   "source": []
  },
  {
   "cell_type": "code",
   "execution_count": null,
   "id": "46efe294",
   "metadata": {},
   "outputs": [],
   "source": []
  }
 ],
 "metadata": {
  "kernelspec": {
   "display_name": "Python 3 (ipykernel)",
   "language": "python",
   "name": "python3"
  },
  "language_info": {
   "codemirror_mode": {
    "name": "ipython",
    "version": 3
   },
   "file_extension": ".py",
   "mimetype": "text/x-python",
   "name": "python",
   "nbconvert_exporter": "python",
   "pygments_lexer": "ipython3",
   "version": "3.10.9"
  }
 },
 "nbformat": 4,
 "nbformat_minor": 5
}
