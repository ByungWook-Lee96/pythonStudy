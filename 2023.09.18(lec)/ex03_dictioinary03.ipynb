{
 "cells": [
  {
   "cell_type": "code",
   "execution_count": 23,
   "id": "307874b0",
   "metadata": {},
   "outputs": [
    {
     "name": "stdout",
     "output_type": "stream",
     "text": [
      "{'addr': ['동작구', '관악구', '서초구'],\n",
      " 'age': [46, 72, 18],\n",
      " 'grade': [4, 3, 1],\n",
      " 'name': ['이순신', '강감찬', '유관순']}\n",
      "------------------------------------------------------------\n",
      "students.pop('age') : [46, 72, 18]\n",
      "{'addr': ['동작구', '관악구', '서초구'],\n",
      " 'grade': [4, 3, 1],\n",
      " 'name': ['이순신', '강감찬', '유관순']}\n",
      "------------------------------------------------------------\n",
      "{'addr': ['동작구', '관악구', '서초구'],\n",
      " 'grade': [4, 3, 1],\n",
      " 'name': ['이순신', '강감찬', '유관순'],\n",
      " 'weight': [92, 81, 56]}\n",
      "------------------------------------------------------------\n",
      "{'addr': ['동작구', '관악구', '서초구'],\n",
      " 'grade': [4, 3, 1],\n",
      " 'name': ['이순신', '강감찬', '유관순']}\n",
      "------------------------------------------------------------\n",
      "item : ('weight', [92, 81, 56])\n"
     ]
    }
   ],
   "source": [
    "'''\n",
    "dictionary 에서 item 삭제하기\n",
    "\n",
    "1)\n",
    "pop(key) 메소드 : 지정한 key 에 해당하는 value 를 삭제하고\n",
    "                  해당 value 를 반환함\n",
    "'''\n",
    "students = {\n",
    "    'addr' : ['동작구', '관악구', '서초구'],\n",
    "    'age'  : [46, 72, 18],\n",
    "    'grade' : [4, 3, 1],\n",
    "    'name' : ['이순신', '강감찬', '유관순']\n",
    "}\n",
    "import pprint\n",
    "pprint.pprint(students)\n",
    "print('-' * 60)\n",
    "\n",
    "print(\"students.pop('age') :\",students.pop('age'))\n",
    "pprint.pprint(students)\n",
    "print('-' * 60)\n",
    "\n",
    "students['weight'] = [92, 81, 56]\n",
    "pprint.pprint(students)\n",
    "print('-' * 60)\n",
    "\n",
    "'''\n",
    "2)\n",
    "popitem() 메소드 : 맨 나중에 추가된 item 을 삭제하고\n",
    "                   해당 item 을 tuple(key, value) 로 반환함\n",
    "'''\n",
    "item = students.popitem()\n",
    "pprint.pprint(students)\n",
    "print('-' * 60)\n",
    "\n",
    "print('item :',item)"
   ]
  },
  {
   "cell_type": "code",
   "execution_count": 24,
   "id": "6c126b4c",
   "metadata": {},
   "outputs": [
    {
     "name": "stdout",
     "output_type": "stream",
     "text": [
      "{'addr': ['동작구', '관악구', '서초구'],\n",
      " 'grade': [4, 3, 1],\n",
      " 'name': ['이순신', '강감찬', '유관순']}\n",
      "------------------------------------------------------------\n",
      "{'addr': ['동작구', '관악구', '서초구'], 'name': ['이순신', '강감찬', '유관순']}\n",
      "------------------------------------------------------------\n",
      "{}\n",
      "------------------------------------------------------------\n"
     ]
    }
   ],
   "source": [
    "'''\n",
    "3)\n",
    "del 명령어로 item 삭제하기\n",
    "'''\n",
    "pprint.pprint(students)\n",
    "print('-' * 60)\n",
    "\n",
    "del students['grade']\n",
    "pprint.pprint(students)\n",
    "print('-' * 60)\n",
    "\n",
    "'''\n",
    "4)\n",
    "clear() 메소드 : 모든 item을 한꺼번에 삭제하기\n",
    "'''\n",
    "students.clear()\n",
    "pprint.pprint(students)\n",
    "print('-' * 60)"
   ]
  },
  {
   "cell_type": "code",
   "execution_count": 25,
   "id": "1bb59e37",
   "metadata": {},
   "outputs": [
    {
     "name": "stdout",
     "output_type": "stream",
     "text": [
      "{'name': ['이순신', '강감찬', '유관순'], 'age': [46, 72, 18]}\n",
      "{'height': [192, 187, 169], 'weight': [92, 81, 56]}\n"
     ]
    }
   ],
   "source": [
    "'''\n",
    "update() 메소드를 사용해서\n",
    "dictionary 결합하기\n",
    "'''\n",
    "students1 = {\n",
    "    'name' : ['이순신', '강감찬', '유관순'],\n",
    "    'age'  : [46, 72, 18]\n",
    "}\n",
    "students2 = {\n",
    "    'height' : [192, 187, 169],\n",
    "    'weight' : [92, 81, 56]\n",
    "}\n",
    "print(students1)\n",
    "print(students2)"
   ]
  },
  {
   "cell_type": "code",
   "execution_count": 26,
   "id": "888c34b2",
   "metadata": {},
   "outputs": [
    {
     "name": "stdout",
     "output_type": "stream",
     "text": [
      "{'name': ['이순신', '강감찬', '유관순'], 'age': [46, 72, 18], 'height': [192, 187, 169], 'weight': [92, 81, 56]}\n",
      "{'height': [192, 187, 169], 'weight': [92, 81, 56]}\n"
     ]
    }
   ],
   "source": [
    "'''\n",
    "students1 에 students2 추가하기\n",
    "'''\n",
    "students1.update(students2)\n",
    "print(students1)\n",
    "print(students2)"
   ]
  },
  {
   "cell_type": "code",
   "execution_count": 27,
   "id": "896f46d3",
   "metadata": {
    "scrolled": true
   },
   "outputs": [
    {
     "name": "stdout",
     "output_type": "stream",
     "text": [
      "{'age': [46, 72, 18],\n",
      " 'height': [192, 187, 169],\n",
      " 'name': ['이순신', '강감찬', '유관순'],\n",
      " 'weight': [92, 81, 56]}\n",
      "{'age': [46, 72, 18],\n",
      " 'height': [192, 187, 169],\n",
      " 'name': ['이순신', '강감찬', '유관순'],\n",
      " 'weight': [92, 81, 56]}\n"
     ]
    }
   ],
   "source": [
    "'''\n",
    "students2 에 students1 추가하기\n",
    "'''\n",
    "students2.update(students1)\n",
    "pprint.pprint(students1)\n",
    "pprint.pprint(students2)"
   ]
  },
  {
   "cell_type": "code",
   "execution_count": 28,
   "id": "83dec476",
   "metadata": {},
   "outputs": [
    {
     "name": "stdout",
     "output_type": "stream",
     "text": [
      "{'age': [46, 72, 18],\n",
      " 'height': [195, 187, 169],\n",
      " 'name': ['이순신', '강감찬', '유관순'],\n",
      " 'weight': [90, 81, 56]}\n",
      "------------------------------------------------------------\n",
      "{'age': [46, 72, 18],\n",
      " 'height': [195, 180, 169],\n",
      " 'name': ['이순신', '강감찬', '유관순'],\n",
      " 'weight': [90, 78, 56]}\n",
      "------------------------------------------------------------\n"
     ]
    }
   ],
   "source": [
    "'''\n",
    "students2 에서 이순신의 키와 체중을\n",
    "각각 195, 90 으로 수정하세요\n",
    "'''\n",
    "students2['height'][0] = 195\n",
    "students2['weight'][0] = 90\n",
    "pprint.pprint(students2)\n",
    "print('-' * 60)\n",
    "\n",
    "'''\n",
    "students2 에서 강감찬의 키와 체중을\n",
    "각각 180, 78 로 수정하세요\n",
    "'''\n",
    "students2['height'] = [195, 180, 169]\n",
    "students2['weight'] = [90, 78, 56]\n",
    "pprint.pprint(students2)\n",
    "print('-' * 60)"
   ]
  },
  {
   "cell_type": "code",
   "execution_count": 29,
   "id": "baf4a3e4",
   "metadata": {},
   "outputs": [
    {
     "name": "stdout",
     "output_type": "stream",
     "text": [
      "{'age': [66, 92, 38],\n",
      " 'height': [195, 180, 169],\n",
      " 'name': ['이순신', '강감찬', '유관순'],\n",
      " 'weight': [90, 78, 56]}\n",
      "------------------------------------------------------------\n"
     ]
    }
   ],
   "source": [
    "'''\n",
    "students2 에서 각 사람의 나이에 20을 더하세요\n",
    "'''\n",
    "students2['age'] = [66, 92, 38]\n",
    "pprint.pprint(students2)\n",
    "print('-' * 60)"
   ]
  },
  {
   "cell_type": "code",
   "execution_count": 30,
   "id": "25a29c86",
   "metadata": {},
   "outputs": [
    {
     "name": "stdout",
     "output_type": "stream",
     "text": [
      "{'age': [56, 82, 28],\n",
      " 'height': [195, 180, 169],\n",
      " 'name': ['이순신', '강감찬', '유관순'],\n",
      " 'weight': [90, 78, 56]}\n",
      "------------------------------------------------------------\n"
     ]
    }
   ],
   "source": [
    "'''\n",
    "students2 에서 각 사람의 나이에서 10을 빼세요\n",
    "'''\n",
    "students2['age'][0] = students2['age'][0] - 10\n",
    "students2['age'][1] = students2['age'][1] - 10\n",
    "students2['age'][2] = students2['age'][2] - 10\n",
    "pprint.pprint(students2)\n",
    "print('-' * 60)"
   ]
  },
  {
   "cell_type": "code",
   "execution_count": 34,
   "id": "5f2bf972",
   "metadata": {},
   "outputs": [
    {
     "name": "stdout",
     "output_type": "stream",
     "text": [
      "[61, 87, 28]\n",
      "{'age': [61, 87, 28],\n",
      " 'height': [195, 180, 169],\n",
      " 'name': ['이순신', '강감찬', '유관순'],\n",
      " 'weight': [90, 78, 56]}\n",
      "------------------------------------------------------------\n",
      "{'age': [68, 94, 35],\n",
      " 'height': [195, 180, 169],\n",
      " 'name': ['이순신', '강감찬', '유관순'],\n",
      " 'weight': [90, 78, 56]}\n"
     ]
    }
   ],
   "source": [
    "print(students2['age'])\n",
    "'''\n",
    "students2 에서 각 사람의 나이에 5를 더하세요 \n",
    "  ㄴ update() 메소드 사용하기\n",
    "'''\n",
    "students2.update(age=[61, 87, 28])\n",
    "pprint.pprint(students2)\n",
    "print('-' * 60)\n",
    "\n",
    "'''\n",
    "students2 에서 각 사람의 나이에 7를 더하세요 \n",
    "  ㄴ update() 메소드 사용하기\n",
    "'''\n",
    "students2.update({'age' : [68, 94, 35]})\n",
    "'''\n",
    "age1 = students2['age'][0] + 7\n",
    "age2 = students2['age'][1] + 7\n",
    "age3 = students2['age'][2] + 7\n",
    "students2.update({'age' : [age1, age2, age3]})\n",
    "'''\n",
    "pprint.pprint(students2)"
   ]
  },
  {
   "cell_type": "code",
   "execution_count": null,
   "id": "f94aafe1",
   "metadata": {},
   "outputs": [],
   "source": []
  }
 ],
 "metadata": {
  "kernelspec": {
   "display_name": "Python 3 (ipykernel)",
   "language": "python",
   "name": "python3"
  },
  "language_info": {
   "codemirror_mode": {
    "name": "ipython",
    "version": 3
   },
   "file_extension": ".py",
   "mimetype": "text/x-python",
   "name": "python",
   "nbconvert_exporter": "python",
   "pygments_lexer": "ipython3",
   "version": "3.10.9"
  }
 },
 "nbformat": 4,
 "nbformat_minor": 5
}
