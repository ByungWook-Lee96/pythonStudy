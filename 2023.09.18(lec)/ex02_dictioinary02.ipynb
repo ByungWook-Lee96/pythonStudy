{
 "cells": [
  {
   "cell_type": "code",
   "execution_count": null,
   "id": "34d68f59",
   "metadata": {},
   "outputs": [],
   "source": [
    "fruits = {11:'apple', 12: 'orange', 13:'watermelon', 14:'peach'}\n",
    "print(fruits)\n",
    "\n",
    "'''\n",
    "fruits 딕셔너리에서 상품코드 12 번 과일을\n",
    "strawberry 로 변경하세요\n",
    "'''\n",
    "fruits[12] = 'strawberry'\n",
    "print(fruits)\n",
    "'''\n",
    "fruits 딕셔너리에 상품코드 15 번 과일\n",
    "lemon  을 추가하세요\n",
    "'''\n",
    "fruits[15] = 'lemon'\n",
    "print(fruits)"
   ]
  },
  {
   "cell_type": "code",
   "execution_count": null,
   "id": "2a519039",
   "metadata": {},
   "outputs": [],
   "source": [
    "import pprint\n",
    "students = {\n",
    "    'name' : ['이순신', '강감찬', '유관순'],\n",
    "    'addr' : ['구로구', '동작구', '서초구'],\n",
    "    'age'  : [46, 72, 18]\n",
    "}\n",
    "pprint.pprint(students)"
   ]
  },
  {
   "cell_type": "code",
   "execution_count": null,
   "id": "f0102569",
   "metadata": {},
   "outputs": [],
   "source": [
    "'''\n",
    "keys() 메소드 : 딕셔너리의 key 만 가져옴\n",
    "'''\n",
    "print(students.keys())\n",
    "print(type(students.keys()))\n",
    "print(list(students.keys()))\n",
    "print(tuple(students.keys()))"
   ]
  },
  {
   "cell_type": "code",
   "execution_count": null,
   "id": "8cc4e24e",
   "metadata": {},
   "outputs": [],
   "source": [
    "'''\n",
    "values() 메소드 : 딕셔너리의 vlaue 만 가져옴\n",
    "'''\n",
    "print(students.values())\n",
    "print(type(students.values()))\n",
    "print(list(students.values()))\n",
    "print(tuple(students.values()))"
   ]
  },
  {
   "cell_type": "code",
   "execution_count": null,
   "id": "d75ccd42",
   "metadata": {},
   "outputs": [],
   "source": [
    "'''\n",
    "items() 메소드 : 딕셔너리의 key 와 value 를 tuple 로 반환함\n",
    "'''\n",
    "print(students.items())\n",
    "print(type(students.items()))\n",
    "print(list(students.items()))\n",
    "print(tuple(students.items()))"
   ]
  },
  {
   "cell_type": "code",
   "execution_count": null,
   "id": "3232a2f1",
   "metadata": {},
   "outputs": [],
   "source": [
    "pprint.pprint(list(students.items()))"
   ]
  },
  {
   "cell_type": "code",
   "execution_count": null,
   "id": "8d1ed40e",
   "metadata": {
    "scrolled": true
   },
   "outputs": [],
   "source": [
    "pprint.pprint(students)"
   ]
  },
  {
   "cell_type": "code",
   "execution_count": null,
   "id": "997f7725",
   "metadata": {},
   "outputs": [],
   "source": [
    "'''\n",
    "students 딕셔너리에서 이름들만 출력하세요\n",
    "'''\n",
    "print(students['name'])\n",
    "print(students.get('name'))"
   ]
  },
  {
   "cell_type": "code",
   "execution_count": null,
   "id": "5cc86cfc",
   "metadata": {},
   "outputs": [],
   "source": [
    "'''\n",
    "students 딕셔너리에서 나이들만 출력하세요 : age\n",
    "'''\n",
    "print(students['age'])\n",
    "print(students.get('age'))"
   ]
  },
  {
   "cell_type": "code",
   "execution_count": null,
   "id": "58a0ec54",
   "metadata": {},
   "outputs": [],
   "source": [
    "'''\n",
    "students 딕셔너리에서 주소들만 출력하세요 : addr\n",
    "'''\n",
    "print(students['addr'])\n",
    "print(students.get('addr'))"
   ]
  },
  {
   "cell_type": "code",
   "execution_count": null,
   "id": "90cf0862",
   "metadata": {},
   "outputs": [],
   "source": [
    "'''\n",
    "in 연산자 : 특정 key가 dictionary 에 있는지 확인하기\n",
    "'''\n",
    "print(list(students.keys()))\n",
    "print('addr' in students)\n",
    "print('age' in students.keys())\n",
    "print('name' in students)\n",
    "print('height' in students)"
   ]
  },
  {
   "cell_type": "code",
   "execution_count": null,
   "id": "03fa2bc3",
   "metadata": {},
   "outputs": [],
   "source": [
    "'''\n",
    "in 연산자 : 특정 value가 dictionary 에 있는지 확인하기\n",
    "'''\n",
    "print(students.values())\n",
    "print(['이순신', '강감찬', '유관순'] in students.values())\n",
    "\n",
    "# TypeError: unhashable type: 'list'\n",
    "# 딕셔너리의 key 로는 immutable type 만 사용할 수 있는데\n",
    "# key 를 찾으면서 mutable type 인 list 를 지정해서 오류가 발생함 \n",
    "# print(['이순신', '강감찬', '유관순'] in students)\n",
    "print('이순신' in students)\n",
    "\n",
    "print(['구로구', '동작구', '서초구'] in students.values())\n",
    "print([46, 72, 18] in students.values())"
   ]
  },
  {
   "cell_type": "code",
   "execution_count": null,
   "id": "c0860b13",
   "metadata": {},
   "outputs": [],
   "source": [
    "pprint.pprint(students)\n",
    "\n",
    "'''\n",
    "students 딕셔너리에 \n",
    "key 는 grade, value 는 [4, 3, 1] 인\n",
    "item 을 추가하세요\n",
    "'''\n",
    "students['grade'] = [4, 3, 1]\n",
    "pprint.pprint(students)"
   ]
  },
  {
   "cell_type": "code",
   "execution_count": null,
   "id": "025bf1f8",
   "metadata": {},
   "outputs": [],
   "source": [
    "'''\n",
    "update() 메소드 사용하기\n",
    "\n",
    "students 딕셔너리에 key는 height, \n",
    "values 는 [192, 182, 169] 인 item 을 추가하세요\n",
    "'''\n",
    "students.update(height=[192,182,169])\n",
    "pprint.pprint(students)"
   ]
  },
  {
   "cell_type": "code",
   "execution_count": null,
   "id": "adafdbeb",
   "metadata": {},
   "outputs": [],
   "source": [
    "'''\n",
    "update() 메소드 사용하기\n",
    "\n",
    "students 딕셔너리에 key는 weight, \n",
    "values 는 [87, 77, 58] 인 item 을 추가하세요\n",
    "'''\n",
    "students.update({'weight':[87, 77, 58]})\n",
    "pprint.pprint(students)"
   ]
  },
  {
   "cell_type": "code",
   "execution_count": null,
   "id": "7c98388c",
   "metadata": {},
   "outputs": [],
   "source": [
    "students.update(hobby=['독서', '달리기' ,'수영'], job=['장군','장군','독립운동가'])\n",
    "pprint.pprint(students)"
   ]
  },
  {
   "cell_type": "code",
   "execution_count": null,
   "id": "21039a62",
   "metadata": {},
   "outputs": [],
   "source": [
    "students.update({'별명':['거북이','독수리','비둘기'], '좋아하는과일':['사과','복숭아','딸기']})\n",
    "pprint.pprint(students)"
   ]
  },
  {
   "cell_type": "code",
   "execution_count": null,
   "id": "7143948b",
   "metadata": {},
   "outputs": [],
   "source": [
    "'''\n",
    "좋아하는과일 수정하기\n",
    "'''\n",
    "students.update(좋아하는과일=['용과','포도','키위'])\n",
    "pprint.pprint(students)"
   ]
  },
  {
   "cell_type": "code",
   "execution_count": 59,
   "id": "bace7a78",
   "metadata": {},
   "outputs": [
    {
     "name": "stdout",
     "output_type": "stream",
     "text": [
      "{'addr': ['구로구', '동작구', '서초구'],\n",
      " 'age': [46, 72, 18],\n",
      " 'grade': [4, 3, 1],\n",
      " 'height': [192, 182, 169],\n",
      " 'hobby': ['독서', '달리기', '수영'],\n",
      " 'job': ['장군', '장군', '독립운동가'],\n",
      " 'name': ['이순신', '강감찬', '유관순'],\n",
      " 'phone': ['01012345678', '01023569887', '0106587549'],\n",
      " 'weight': [87, 77, 58],\n",
      " '별명': ['거북이', '독수리', '비둘기'],\n",
      " '좋아하는과일': ['배', '수박', '바나나'],\n",
      " '회사': None}\n"
     ]
    }
   ],
   "source": [
    "students.update({'좋아하는과일':['배','수박','바나나']})\n",
    "pprint.pprint(students)"
   ]
  },
  {
   "cell_type": "code",
   "execution_count": null,
   "id": "5554463c",
   "metadata": {},
   "outputs": [],
   "source": [
    "'''\n",
    "setdefault() 메소드 \n",
    "\n",
    "setdefault(key, value) : 새로운 item 이 추가됨 <-- 수정에서는 사용하지 못함\n",
    "setdefault(key)        : value 를 지정하지 않으면 value 가 None 이 됨\n",
    "'''\n",
    "students = {'addr': ['구로구', '동작구', '서초구'],\n",
    "             'age': [46, 72, 18],\n",
    "             'grade': [4, 3, 1],\n",
    "             'height': [192, 182, 169],\n",
    "             'hobby': ['독서', '달리기', '수영'],\n",
    "             'job': ['장군', '장군', '독립운동가'],\n",
    "             'name': ['이순신', '강감찬', '유관순'],\n",
    "             'weight': [87, 77, 58],\n",
    "             '별명': ['거북이', '독수리', '비둘기'],\n",
    "             '좋아하는과일': ['배', '수박', '바나나']\n",
    "           }\n",
    "\n",
    "pprint.pprint(students)\n",
    "print('-' * 60)\n",
    "\n",
    "students.setdefault('phone', ['01012345678','01023569887', '0106587549'])\n",
    "pprint.pprint(students)"
   ]
  },
  {
   "cell_type": "code",
   "execution_count": null,
   "id": "c0dbdfb9",
   "metadata": {},
   "outputs": [],
   "source": [
    "'''\n",
    "setdefault(key)        : value 를 지정하지 않으면 value 가 None 이 됨\n",
    "'''\n",
    "students.setdefault('회사')\n",
    "pprint.pprint(students)"
   ]
  },
  {
   "cell_type": "code",
   "execution_count": null,
   "id": "5b144fca",
   "metadata": {},
   "outputs": [],
   "source": [
    "'''\n",
    "setdefault(key, value) : 새로운 item 이 추가됨 <-- 수정에서는 사용하지 못함\n",
    "                         오류는 발생하지 않으나 수정이 안 됨 \n",
    "\n",
    "'grade': [4, 3, 1]  -->  'grade': [2, 1, 4]\n",
    "'''\n",
    "students.setdefault('grade', [2, 1, 4])\n",
    "pprint.pprint(students)"
   ]
  },
  {
   "cell_type": "code",
   "execution_count": null,
   "id": "a13d1200",
   "metadata": {},
   "outputs": [],
   "source": []
  }
 ],
 "metadata": {
  "kernelspec": {
   "display_name": "Python 3 (ipykernel)",
   "language": "python",
   "name": "python3"
  },
  "language_info": {
   "codemirror_mode": {
    "name": "ipython",
    "version": 3
   },
   "file_extension": ".py",
   "mimetype": "text/x-python",
   "name": "python",
   "nbconvert_exporter": "python",
   "pygments_lexer": "ipython3",
   "version": "3.10.9"
  }
 },
 "nbformat": 4,
 "nbformat_minor": 5
}
