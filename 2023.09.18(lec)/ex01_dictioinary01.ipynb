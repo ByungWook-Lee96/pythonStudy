{
 "cells": [
  {
   "cell_type": "code",
   "execution_count": null,
   "id": "800a106b",
   "metadata": {},
   "outputs": [],
   "source": [
    "'''\n",
    "dictionary type :  index 없음\n",
    "{} 사용            비어있는 dictionary 를 생성할 수 있음\n",
    "                     {} / dict()\n",
    "                   key:value 형태로 item 을 저장함\n",
    "                     ㄴ key 로 value 를 저장함\n",
    "                     ㄴ key 로 value 를 가져옴\n",
    "                   key - immutable type 만 가능\n",
    "                   value - immutable/mutable 모두 가능\n",
    "                   key - 중복을 허용하지 않음\n",
    "                         (value 를 구분하는 기준이 됨)\n",
    "                   value - 중복을 허용함       \n",
    "''' \n",
    "\n",
    "dict1 = {}\n",
    "dict2 = dict()\n",
    "\n",
    "print('dict1 :',dict1)\n",
    "print('dict1 :',type(dict1))\n",
    "print('dict2 :',dict2)\n",
    "print('dict2 :',type(dict2))\n",
    "\n",
    "list1 = []\n",
    "list2 = list()\n",
    "tp1 = ()\n",
    "tp2 = tuple()\n",
    "set1 = set()"
   ]
  },
  {
   "cell_type": "code",
   "execution_count": null,
   "id": "c6c446db",
   "metadata": {},
   "outputs": [],
   "source": [
    "'''\n",
    "dictionary 에 item 을 저장하는 방법\n",
    "\n",
    "형태]\n",
    "\n",
    "  1) 비어있는 dictionary를 생성한 후 item 을 추가함\n",
    "  dict1 = {}\n",
    "  dict2 = dict()\n",
    "  \n",
    "  딕셔너리이름[key] = value \n",
    "     ㄴ 기존에 없는 key 를 지정하면 새로운 item 이 추가됨\n",
    "     ㄴ 기존에 있던 key 를 지정하면 해당 item 이 수정됨\n",
    "  \n",
    "  2) item 를 넣은 채로 dictionary 를 생성함\n",
    "  {'name':'아마존', 'age':21, 'addr':'서울'} \n",
    "  \n",
    "'''\n",
    "\n",
    "# 1) 비어있는 dictionary를 생성한 후 item 을 추가함\n",
    "std_info = {}\n",
    "print('std_info :',std_info)\n",
    "\n",
    "# 딕셔너리이름[key] = value \n",
    "std_info['name'] = '아마존'\n",
    "print('std_info :',std_info)\n",
    "\n",
    "std_info['age'] = 25\n",
    "print('std_info :',std_info)\n",
    "\n",
    "std_info['addr'] = '서울'\n",
    "print('std_info :',std_info)\n",
    "\n",
    "# 기존에 있던 key 를 지정하면 해당 item 이 수정됨\n",
    "std_info['addr'] = '인천'\n",
    "print('std_info :',std_info)\n",
    "\n",
    "# 기존에 없는 key 를 지정하면 새로운 item 이 추가됨\n",
    "std_info['phone'] = '01012345678'\n",
    "print('std_info :',std_info)"
   ]
  },
  {
   "cell_type": "code",
   "execution_count": null,
   "id": "4842884d",
   "metadata": {},
   "outputs": [],
   "source": [
    "'''\n",
    "std_info 딕셔너리에서 '아마존'을 출력하세요\n",
    "std_info 딕셔너리에서  25를 출력하세요\n",
    "std_info 딕셔너리에서 '인천'을 출력하세요\n",
    "std_info 딕셔너리에서 '01012345678'을 출력하세요\n",
    "'''\n",
    "print(\"std_info['name'] :\",std_info['name'])\n",
    "print(\"std_info['age'] :\",std_info['age'])\n",
    "print(\"std_info['addr'] :\",std_info['addr'])\n",
    "print(\"std_info['phone'] :\",std_info['phone'])"
   ]
  },
  {
   "cell_type": "code",
   "execution_count": null,
   "id": "dd14bca5",
   "metadata": {},
   "outputs": [],
   "source": [
    "'''\n",
    "list 로 OHLC 가격 정보 저장하기\n",
    "'''\n",
    "market_0910 = [10500, 10800, 10100, 10600]\n",
    "market_0911 = [10100, 10500, 10000, 10200]\n",
    "market_0912 = [10300, 10900, 10100, 10300]\n",
    "\n",
    "'''\n",
    "dictionary 로 OHLC 가격 정보 저장하기\n",
    "'''\n",
    "market_info = {\n",
    "    'market_0910' : [10500, 10800, 10100, 10600],\n",
    "    'market_0911' : [10100, 10500, 10000, 10200],\n",
    "    'market_0912' : [10300, 10900, 10100, 10300]\n",
    "}\n",
    "\n",
    "'''\n",
    "market_info 에서 아래와 같이 출력하세요 고가(H: High Price)\n",
    "9월 11일자 고가 : 10500 원\n",
    "'''\n",
    "\n",
    "print('9월 11일자 고가 :',market_info['market_0911'][1],'원')"
   ]
  },
  {
   "cell_type": "code",
   "execution_count": null,
   "id": "596880a2",
   "metadata": {},
   "outputs": [],
   "source": [
    "'''\n",
    "OHLC\n",
    "'market_0912' : [10300, 10900, 10100, 10300]\n",
    "\n",
    "market_info 에서 아래와 같이 출력하세요 고가(C: Close Price)\n",
    "9월 12일자 종가 : 10500 원\n",
    "'''\n",
    "print('9월 12일자 종가 :',market_info['market_0912'][3],'원')\n",
    "print('9월 12일자 종가 :',market_info['market_0912'][-1],'원')"
   ]
  },
  {
   "cell_type": "code",
   "execution_count": 18,
   "id": "e4c9cd83",
   "metadata": {},
   "outputs": [
    {
     "name": "stdout",
     "output_type": "stream",
     "text": [
      "{'market_0910': [10500, 10800, 10100, 10600],\n",
      " 'market_0911': [10100, 10500, 10000, 10200],\n",
      " 'market_0912': [10300, 10900, 10100, 10300]}\n"
     ]
    }
   ],
   "source": [
    "# print(market_info)\n",
    "\n",
    "import pprint\n",
    "pprint.pprint(market_info)"
   ]
  },
  {
   "cell_type": "code",
   "execution_count": 25,
   "id": "64be6c78",
   "metadata": {},
   "outputs": [
    {
     "name": "stdout",
     "output_type": "stream",
     "text": [
      "{'market_0910': [10500, 10800, 10100, 10600],\n",
      " 'market_0911': [10100, 10500, 10000, 10200],\n",
      " 'market_0912': [10300, 10900, 10100, 10300],\n",
      " 'market_0913': [10200, 10900, 10100, 10300]}\n",
      "-- 딕셔너리이름[key] --\n",
      "[10200, 10900, 10100, 10300]\n",
      "-- 딕셔너리이름.get(key) --\n",
      "[10200, 10900, 10100, 10300]\n",
      "-- 딕셔너리이름.get(key, default value) : 기존에 있는 key --\n",
      "[10200, 10900, 10100, 10300]\n",
      "-- 딕셔너리이름.get(key, default value) : 기존에 없는 key --\n",
      "[10300, 10800, 10000, 10200]\n"
     ]
    }
   ],
   "source": [
    "'''\n",
    "market_info 에 9월 13일자 정보를 추가하세요\n",
    "[10200, 10900, 10100, 10300]\n",
    "\n",
    "'''\n",
    "market_info['market_0913'] = [10200, 10900, 10100, 10300]\n",
    "pprint.pprint(market_info)\n",
    "\n",
    "print('-- 딕셔너리이름[key] --')\n",
    "print(market_info['market_0913'] )\n",
    "\n",
    "'''\n",
    "get() 메소드 사용하기\n",
    "  ㄴ get(key)\n",
    "     get(key, default value) \n",
    "       ㄴ 기존에 있는 key 를 지정하면 해당 value 가 출력됨\n",
    "       ㄴ 기존에 없는 key 를 지정하면 default value 가 출력됨\n",
    "'''\n",
    "print('-- 딕셔너리이름.get(key) --')\n",
    "print(market_info.get('market_0913'))\n"
   ]
  },
  {
   "cell_type": "code",
   "execution_count": 26,
   "id": "9a4cd633",
   "metadata": {},
   "outputs": [
    {
     "name": "stdout",
     "output_type": "stream",
     "text": [
      "-- 딕셔너리이름.get(key, default value) : 기존에 있는 key --\n",
      "[10200, 10900, 10100, 10300]\n",
      "-- 딕셔너리이름.get(key, default value) : 기존에 없는 key --\n",
      "[10300, 10800, 10000, 10200]\n"
     ]
    }
   ],
   "source": [
    "print('-- 딕셔너리이름.get(key, default value) : 기존에 있는 key --')\n",
    "print(market_info.get('market_0913', [10300, 10800, 10000, 10200]))\n",
    "print('-- 딕셔너리이름.get(key, default value) : 기존에 없는 key --')\n",
    "print(market_info.get('market_0914', [10300, 10800, 10000, 10200]))"
   ]
  }
 ],
 "metadata": {
  "kernelspec": {
   "display_name": "Python 3 (ipykernel)",
   "language": "python",
   "name": "python3"
  },
  "language_info": {
   "codemirror_mode": {
    "name": "ipython",
    "version": 3
   },
   "file_extension": ".py",
   "mimetype": "text/x-python",
   "name": "python",
   "nbconvert_exporter": "python",
   "pygments_lexer": "ipython3",
   "version": "3.10.9"
  }
 },
 "nbformat": 4,
 "nbformat_minor": 5
}
