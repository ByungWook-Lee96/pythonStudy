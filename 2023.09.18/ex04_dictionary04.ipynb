{
 "cells": [
  {
   "cell_type": "code",
   "execution_count": 5,
   "id": "41b6645a",
   "metadata": {},
   "outputs": [
    {
     "name": "stdout",
     "output_type": "stream",
     "text": [
      "{'메로나': 1000, '빵빠레': 1800, '폴라포': 1200}\n"
     ]
    }
   ],
   "source": [
    "'''\n",
    "key      value\n",
    "메로나   1000\n",
    "폴라포   1200\n",
    "빵빠레   1800\n",
    "\n",
    "key를 이름으로 하고 value를 가격으로 하는\n",
    "이름이 icecreams 인 딕셔너리를 생성하세요\n",
    "'''\n",
    "\n",
    "icecreams = {\n",
    "    '메로나' : 1000,\n",
    "    '폴라포' : 1200,\n",
    "    '빵빠레' : 1800\n",
    "}\n",
    "\n",
    "import pprint\n",
    "pprint.pprint(icecreams)"
   ]
  },
  {
   "cell_type": "code",
   "execution_count": 6,
   "id": "c4822b6d",
   "metadata": {},
   "outputs": [
    {
     "name": "stdout",
     "output_type": "stream",
     "text": [
      "{'돼지바': 500, '메로나': 1000, '빵빠레': 1800, '월드콘': 1500, '죠스바': 1300, '폴라포': 1200}\n",
      "------------------------------------------------------------\n"
     ]
    }
   ],
   "source": [
    "'''\n",
    "죠스바  1300\n",
    "월드콘  1500\n",
    "돼지바  500\n",
    " ㄴ 이 세가지 아이스크림의 정보를 icecreams 딕셔너리에 추가하세요\n",
    "'''\n",
    "# [key] = value\n",
    "icecreams['죠스바'] = 1300\n",
    "\n",
    "# update()\n",
    "icecreams.update(월드콘=1500)\n",
    "\n",
    "# setdefault()\n",
    "icecreams.setdefault('돼지바', 500)\n",
    "\n",
    "pprint.pprint(icecreams)\n",
    "print('-'*60)"
   ]
  },
  {
   "cell_type": "code",
   "execution_count": 7,
   "id": "657c0daa",
   "metadata": {},
   "outputs": [
    {
     "name": "stdout",
     "output_type": "stream",
     "text": [
      "{'메로나': [300, 20], '비비빅': [400, 30], '죠스바': [250, 100]}\n"
     ]
    }
   ],
   "source": [
    "'''\n",
    "key    value(list)\n",
    "이름   가격  재고\n",
    "메로나  300   20\n",
    "비비빅  400   30\n",
    "죠스바  250   100\n",
    "'''\n",
    "\n",
    "ice_dict1 = {'메로나' : [300, 20], '비비빅' : [400, 30], '죠스바' : [250, 100]}\n",
    "print(ice_dict1)"
   ]
  },
  {
   "cell_type": "code",
   "execution_count": 9,
   "id": "8c2ffb96",
   "metadata": {},
   "outputs": [
    {
     "name": "stdout",
     "output_type": "stream",
     "text": [
      "비비빅 가격 : 400 원\n"
     ]
    }
   ],
   "source": [
    "'''\n",
    "비비빅 가격 : 400원 이라고 출력하세요\n",
    "'''\n",
    "\n",
    "print('비비빅 가격 :', ice_dict1['비비빅'][0], '원')"
   ]
  },
  {
   "cell_type": "code",
   "execution_count": 13,
   "id": "2d8274dc",
   "metadata": {},
   "outputs": [
    {
     "name": "stdout",
     "output_type": "stream",
     "text": [
      "죠스바 재고 : 100 개\n"
     ]
    }
   ],
   "source": [
    "'''\n",
    "죠스바 재고 : 100개 라고 출력하세요\n",
    "'''\n",
    "print('죠스바 재고 :', ice_dict1['죠스바'][1], '개')"
   ]
  },
  {
   "cell_type": "code",
   "execution_count": 15,
   "id": "b6bf8c44",
   "metadata": {},
   "outputs": [
    {
     "name": "stdout",
     "output_type": "stream",
     "text": [
      "{'메로나': [300, 20], '비비빅': [400, 30], '죠스바': [250, 100], '싸만코': [1000, 56]}\n"
     ]
    }
   ],
   "source": [
    "'''\n",
    "싸만코 1000원 56개를 ice_dict1 에 추가하세요\n",
    "'''\n",
    "ice_dict1['싸만코'] = [1000, 56]\n",
    "print(ice_dict1)"
   ]
  },
  {
   "cell_type": "code",
   "execution_count": 19,
   "id": "0023dc13",
   "metadata": {
    "scrolled": true
   },
   "outputs": [
    {
     "name": "stdout",
     "output_type": "stream",
     "text": [
      "['메로나', '비비빅', '죠스바', '싸만코']\n",
      "['메로나', '비비빅', '죠스바', '싸만코']\n"
     ]
    }
   ],
   "source": [
    "'''\n",
    "ice_dict1 에서 아이스크림들의 이름만 list로 출력하세요(keys() 메소드 사용)\n",
    "'''\n",
    "print(list(ice_dict1.keys()))\n",
    "print(list(ice_dict1))"
   ]
  },
  {
   "cell_type": "code",
   "execution_count": 33,
   "id": "834bf4dd",
   "metadata": {},
   "outputs": [
    {
     "name": "stdout",
     "output_type": "stream",
     "text": [
      "[[300, 20], [400, 30], [250, 100], [1000, 56]]\n",
      "[300, 400, 250, 1000]\n"
     ]
    }
   ],
   "source": [
    "'''\n",
    "ice_dict1 에서 아이스크림들의 가격만 list로 출력하세요(values() 메소드 사용)\n",
    "[300, 400, 250, 1000]\n",
    "'''\n",
    "\n",
    "print(list(ice_dict1.values()))\n",
    "price_inventory = list()\n",
    "for i in ice_dict1:\n",
    "    price_inventory.append(ice_dict1[i][0])\n",
    "print(price_inventory)\n"
   ]
  },
  {
   "cell_type": "code",
   "execution_count": 34,
   "id": "739f7913",
   "metadata": {},
   "outputs": [
    {
     "name": "stdout",
     "output_type": "stream",
     "text": [
      "300, 400, 250, 1000, "
     ]
    }
   ],
   "source": [
    "for price_inventory in ice_dict1.values():\n",
    "    print(price_inventory[0], end=', ')"
   ]
  },
  {
   "cell_type": "code",
   "execution_count": 37,
   "id": "59b3ff79",
   "metadata": {},
   "outputs": [
    {
     "name": "stdout",
     "output_type": "stream",
     "text": [
      "[300, 400, 250, 1000]\n"
     ]
    }
   ],
   "source": [
    "result = []\n",
    "for price_inventory in ice_dict1.values():\n",
    "    result.append(price_inventory[0])\n",
    "print(result)"
   ]
  },
  {
   "cell_type": "code",
   "execution_count": 41,
   "id": "b9bc5eaa",
   "metadata": {},
   "outputs": [
    {
     "name": "stdout",
     "output_type": "stream",
     "text": [
      "10\n",
      "20\n",
      "30, 40\n"
     ]
    }
   ],
   "source": [
    "'''\n",
    "pirnt() 함수의 end 파라미터\n",
    "                ㄴ 출력문장의 맨 마지막 부분 설정하기\n",
    "                ㄴ 기본값은 줄바꿈으로 되어있음\n",
    "'''\n",
    "print(10)\n",
    "print(20, end = '\\n')\n",
    "print(30, end = ', ')\n",
    "print(40)\n"
   ]
  },
  {
   "cell_type": "code",
   "execution_count": 44,
   "id": "6bfede4b",
   "metadata": {},
   "outputs": [
    {
     "name": "stdout",
     "output_type": "stream",
     "text": [
      "{'strawberry': 2000, 'watermelon': 15000, 'pear': 50000, 'orange': 30000}\n"
     ]
    }
   ],
   "source": [
    "'''\n",
    "두 개의 list 나 tuple로 dictionary 생성하기\n",
    "\n",
    "  zip() 함수와 dict() 함수를 사용함\n",
    "  \n",
    "  형태\n",
    "    dict(zip(리스트1, 리스트2))\n",
    "              key      value\n",
    "'''\n",
    "\n",
    "fruits = ['strawberry', 'watermelon', 'pear', 'orange']\n",
    "prices = [2000, 15000, 50000, 30000]\n",
    "\n",
    "fruits_dict = dict(zip(fruits, prices))\n",
    "print(fruits_dict)"
   ]
  },
  {
   "cell_type": "code",
   "execution_count": 50,
   "id": "aa22c464",
   "metadata": {},
   "outputs": [
    {
     "name": "stdout",
     "output_type": "stream",
     "text": [
      "우편번호를 입력하세요 :01500\n",
      "해당 우편번호는 용산구입니다.\n"
     ]
    }
   ],
   "source": [
    "'''\n",
    "mapo, yongsan, songpa 리스트에는 우편번호 앞 3 자리가 저장되어 있습니다.\n",
    "\n",
    "아래의 우편번호 중 하나를 입력받아서 <--- input()\n",
    "어느 구인지 출력하는 code를 작성하세요\n",
    "\n",
    "-아래-\n",
    "01000, 01100, 01200, 01300, 01400, 01500, 01600, 01700, 01800\n",
    "'''\n",
    "# 마포구\n",
    "mapo = ['010', '011', '012']\n",
    "# 용산구\n",
    "yongsan = ['013', '014', '015']\n",
    "# 송파구\n",
    "songpa = ['016', '017', '018']\n",
    "\n",
    "num = input('우편번호를 입력하세요 :')\n",
    "num = num[:3]\n",
    "\n",
    "if num in mapo:\n",
    "    print('해당 우편번호는 마포구입니다.')\n",
    "elif num in yongsan:\n",
    "    print('해당 우편번호는 용산구입니다.')\n",
    "elif num in songpa:\n",
    "    print('해당 우편번호는 송파구입니다.')\n",
    "else:\n",
    "    print('잘못입력하셨습니다.')\n",
    "    \n"
   ]
  },
  {
   "cell_type": "code",
   "execution_count": 62,
   "id": "2cb24e16",
   "metadata": {},
   "outputs": [
    {
     "name": "stdout",
     "output_type": "stream",
     "text": [
      "주민번호를 입력해주세요. :960231-041232\n",
      "서울입니다.\n"
     ]
    }
   ],
   "source": [
    "'''\n",
    "주민등록번호를 입력 받아서 어느 지역 출신인지 출력하세요\n",
    "\n",
    "8, 9번째 자리 숫자로 출신 지역을 알 수 있음\n",
    "\n",
    "서울특별시 : 00 ~ 08\n",
    "부산광역시 : 09 ~ 12\n",
    "광주광역시 : (구)55, 56, (신)65, 66\n",
    "'''\n",
    "\n",
    "num = input('주민번호를 입력해주세요. :').replace('-','')\n",
    "find_num = int(num[6])*10 + int(num[7])\n",
    "\n",
    "if 0 <= find_num <= 8:\n",
    "    print(\"서울입니다.\")\n",
    "elif 9 <= find_num <=12:\n",
    "    print(\"부산입니다.\")\n",
    "elif find_num == 55 or find_num == 56 or find_num == 65 or find_num == 66:\n",
    "    print(\"광주입니다.\")\n",
    "else:\n",
    "    print(\"잘못입력되었습니다.\")"
   ]
  },
  {
   "cell_type": "code",
   "execution_count": null,
   "id": "f234d9e4",
   "metadata": {},
   "outputs": [],
   "source": [
    "'''\n",
    "주민등록번호를 입력 받아서 어느 지역 출신인지 출력하세요\n",
    "\n",
    "8, 9번째 자리 숫자로 출신 지역을 알 수 있음\n",
    "\n",
    "서울특별시 : 00 ~ 08\n",
    "부산광역시 : 09 ~ 12\n",
    "광주광역시 : (구)55, 56, (신)65, 66\n",
    "'''\n",
    "\n",
    "seoul = list(range(9))\n",
    "pusan - list(range(9, 13))\n",
    "kwangjoo = [55, 56, 65, 66]\n",
    "\n",
    "cities = ['서울특별시', '부산광역시', '광주광역시']\n",
    "location = ''\n",
    "\n",
    "pn = input('주민등록번호를 입력하세요 :').replace('-','')\n",
    "\n",
    "'''\n",
    "str type -> int type 형변활할 때 \n",
    "\n",
    "'01' ~ '09' 는 1 ~9 로 변환됨\n",
    "'''\n",
    "\n",
    "pn = int(pn[7:9])"
   ]
  },
  {
   "cell_type": "code",
   "execution_count": 75,
   "id": "1d03ec53",
   "metadata": {},
   "outputs": [
    {
     "name": "stdout",
     "output_type": "stream",
     "text": [
      "주민등록번호를 입력하세요 :9601141312123\n",
      "입력하신 주민등록번호는 유효하지 않은 번호입니다.\n"
     ]
    }
   ],
   "source": [
    "'''\n",
    "주민등록번호 유효성 검사하기\n",
    "\n",
    "    801212-265987\n",
    "X   234567 892345\n",
    "    \n",
    "    total : 각 자릿수에 아래의 숫자를 곱한 값들의 총합\n",
    "    \n",
    "    11 - total % 11 == 마지막 자리수(4)\n",
    "        ㄴ 참이면 유효한 주민등록번호가 됨\n",
    "'''\n",
    "pn = input('주민등록번호를 입력하세요 :').replace('-','')\n",
    "\n",
    "total = 0\n",
    "num = 0\n",
    "pn1 = '234567892345'\n",
    "for str in pn:\n",
    "    total += int(str)*int(pn1[num])\n",
    "    if num == 12:\n",
    "        break\n",
    "\n",
    "reuslt = 11 - (total % 11)\n",
    "numbers = [10, 11]\n",
    "\n",
    "# if result >= 10:\n",
    "if result in numbers:\n",
    "    result = result % 10\n",
    "    \n",
    "if result == int(pn[-1]):\n",
    "    print('입력하신 주민등록번호는 유효한 번호입니다.')\n",
    "else:\n",
    "    print('입력하신 주민등록번호는 유효하지 않은 번호입니다.')\n"
   ]
  },
  {
   "cell_type": "code",
   "execution_count": 78,
   "id": "7d94f8ae",
   "metadata": {},
   "outputs": [
    {
     "name": "stdout",
     "output_type": "stream",
     "text": [
      "{'mocha': '카페모카', 'latte': '라떼', 'cola': '콜라'}\n",
      "{'k1': 1, 'k2': 'abc', 'k3': 3.4}\n"
     ]
    }
   ],
   "source": [
    "'''\n",
    "두 dictionary 합치기\n",
    "'''\n",
    "coffee = {'mocha' : '카페모카', 'latte' : '라떼'}\n",
    "drink = {'cola' : '콜라'}\n",
    "water = {**coffee, **drink}\n",
    "print(water)\n",
    "\n",
    "mydic = dict(k1=1, k2='abc', k3=3.4)\n",
    "print(mydic)"
   ]
  },
  {
   "cell_type": "code",
   "execution_count": null,
   "id": "ceef48af",
   "metadata": {},
   "outputs": [],
   "source": []
  },
  {
   "cell_type": "code",
   "execution_count": null,
   "id": "2d8c1ebe",
   "metadata": {},
   "outputs": [],
   "source": []
  },
  {
   "cell_type": "code",
   "execution_count": null,
   "id": "7adf2b67",
   "metadata": {},
   "outputs": [],
   "source": []
  }
 ],
 "metadata": {
  "kernelspec": {
   "display_name": "Python 3 (ipykernel)",
   "language": "python",
   "name": "python3"
  },
  "language_info": {
   "codemirror_mode": {
    "name": "ipython",
    "version": 3
   },
   "file_extension": ".py",
   "mimetype": "text/x-python",
   "name": "python",
   "nbconvert_exporter": "python",
   "pygments_lexer": "ipython3",
   "version": "3.10.9"
  }
 },
 "nbformat": 4,
 "nbformat_minor": 5
}
