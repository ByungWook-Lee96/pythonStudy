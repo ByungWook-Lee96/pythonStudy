{
 "cells": [
  {
   "cell_type": "code",
   "execution_count": 5,
   "id": "5e136650",
   "metadata": {},
   "outputs": [
    {
     "name": "stdout",
     "output_type": "stream",
     "text": [
      "{11: 'apple', 12: 'orange', 13: 'watermelon', 14: 'peach'}\n",
      "12 은  strawberry\n",
      "{11: 'apple', 12: 'strawberry', 13: 'watermelon', 14: 'peach'}\n",
      "15 은  lemon\n",
      "{11: 'apple', 12: 'strawberry', 13: 'watermelon', 14: 'peach', 15: 'lemon'}\n"
     ]
    }
   ],
   "source": [
    "fruits = {11 : 'apple', 12 : 'orange', 13 : 'watermelon', 14 : 'peach'}\n",
    "print(fruits)\n",
    "\n",
    "'''\n",
    "fruits 딕셔너리에서 상품 코드 12 번 과일을\n",
    "strawberry로 변경하세요\n",
    "'''\n",
    "fruits[12] = 'strawberry'\n",
    "print('12 은 ', fruits[12])\n",
    "print(fruits)\n",
    "\n",
    "'''\n",
    "fruits 딕셔너리에 상품코드 15번 과일\n",
    "lemon을 추가하세요\n",
    "'''\n",
    "\n",
    "fruits[15] = 'lemon'\n",
    "print('15 은 ', fruits[15])\n",
    "print(fruits)"
   ]
  },
  {
   "cell_type": "code",
   "execution_count": 6,
   "id": "d11516d4",
   "metadata": {},
   "outputs": [
    {
     "name": "stdout",
     "output_type": "stream",
     "text": [
      "{'addr': ['구로구', '동작구', '서초구'],\n",
      " 'age': [46, 72, 18],\n",
      " 'name': ['이순신', '강감찬', '유관순']}\n"
     ]
    }
   ],
   "source": [
    "import pprint\n",
    "students = {\n",
    "    'name' : ['이순신', '강감찬', '유관순'],\n",
    "    'addr' : ['구로구', '동작구', '서초구'],\n",
    "    'age' : [46, 72, 18]\n",
    "}\n",
    "pprint.pprint(students)"
   ]
  },
  {
   "cell_type": "code",
   "execution_count": 11,
   "id": "c4de4980",
   "metadata": {},
   "outputs": [
    {
     "name": "stdout",
     "output_type": "stream",
     "text": [
      "dict_keys(['name', 'addr', 'age'])\n",
      "<class 'dict_keys'>\n",
      "['name', 'addr', 'age']\n",
      "('name', 'addr', 'age')\n"
     ]
    }
   ],
   "source": [
    "'''\n",
    "keys() 메소드 : 딕셔너리의 key만 가져옴\n",
    "'''\n",
    "print(students.keys())\n",
    "print(type(students.keys()))\n",
    "print(list(students.keys()))\n",
    "print(tuple(students.keys()))"
   ]
  },
  {
   "cell_type": "code",
   "execution_count": 16,
   "id": "f078d9c9",
   "metadata": {},
   "outputs": [
    {
     "name": "stdout",
     "output_type": "stream",
     "text": [
      "dict_values([['이순신', '강감찬', '유관순'], ['구로구', '동작구', '서초구'], [46, 72, 18]])\n",
      "<class 'dict_values'>\n",
      "[['이순신', '강감찬', '유관순'], ['구로구', '동작구', '서초구'], [46, 72, 18]]\n",
      "(['이순신', '강감찬', '유관순'], ['구로구', '동작구', '서초구'], [46, 72, 18])\n"
     ]
    }
   ],
   "source": [
    "'''\n",
    "values() 메소드 : 딕셔너리의 value만 가져옴\n",
    "'''\n",
    "print(students.values())\n",
    "print(type(students.values()))\n",
    "print(list(students.values()))\n",
    "print(tuple(students.values()))"
   ]
  },
  {
   "cell_type": "code",
   "execution_count": 21,
   "id": "fe856bf9",
   "metadata": {},
   "outputs": [
    {
     "name": "stdout",
     "output_type": "stream",
     "text": [
      "dict_items([('name', ['이순신', '강감찬', '유관순']), ('addr', ['구로구', '동작구', '서초구']), ('age', [46, 72, 18])])\n",
      "<class 'dict_items'>\n",
      "[('name', ['이순신', '강감찬', '유관순']), ('addr', ['구로구', '동작구', '서초구']), ('age', [46, 72, 18])]\n",
      "(('name', ['이순신', '강감찬', '유관순']), ('addr', ['구로구', '동작구', '서초구']), ('age', [46, 72, 18]))\n",
      "[('name', ['이순신', '강감찬', '유관순']),\n",
      " ('addr', ['구로구', '동작구', '서초구']),\n",
      " ('age', [46, 72, 18])]\n"
     ]
    }
   ],
   "source": [
    "'''\n",
    "items() 메소드 : 딕셔너리의 key와 value를 tuple로 반환함\n",
    "'''\n",
    "print(students.items())\n",
    "print(type(students.items()))\n",
    "print(list(students.items()))\n",
    "print(tuple(students.items()))\n",
    "\n",
    "pprint.pprint(list(students.items()))"
   ]
  },
  {
   "cell_type": "code",
   "execution_count": 22,
   "id": "82984a45",
   "metadata": {},
   "outputs": [
    {
     "name": "stdout",
     "output_type": "stream",
     "text": [
      "{'addr': ['구로구', '동작구', '서초구'],\n",
      " 'age': [46, 72, 18],\n",
      " 'name': ['이순신', '강감찬', '유관순']}\n"
     ]
    }
   ],
   "source": [
    "pprint.pprint(students)"
   ]
  },
  {
   "cell_type": "code",
   "execution_count": 25,
   "id": "aa82cd42",
   "metadata": {},
   "outputs": [
    {
     "name": "stdout",
     "output_type": "stream",
     "text": [
      "['이순신', '강감찬', '유관순']\n",
      "['이순신', '강감찬', '유관순']\n"
     ]
    }
   ],
   "source": [
    "'''\n",
    "students 딕셔너리에서 이름(name)들만 출력하세요\n",
    "'''\n",
    "\n",
    "print(students['name'])\n",
    "print(students.get('name'))"
   ]
  },
  {
   "cell_type": "code",
   "execution_count": 26,
   "id": "cfa2163e",
   "metadata": {},
   "outputs": [
    {
     "name": "stdout",
     "output_type": "stream",
     "text": [
      "[46, 72, 18]\n",
      "[46, 72, 18]\n"
     ]
    }
   ],
   "source": [
    "'''\n",
    "students 딕셔너리에서 나이(age)들만 출력하세요\n",
    "'''\n",
    "\n",
    "print(students['age'])\n",
    "print(students.get('age'))"
   ]
  },
  {
   "cell_type": "code",
   "execution_count": 27,
   "id": "45e2ea55",
   "metadata": {},
   "outputs": [
    {
     "name": "stdout",
     "output_type": "stream",
     "text": [
      "['구로구', '동작구', '서초구']\n",
      "['구로구', '동작구', '서초구']\n"
     ]
    }
   ],
   "source": [
    "'''\n",
    "students 딕셔너리에서 주소(addr)들만 출력하세요\n",
    "'''\n",
    "\n",
    "print(students['addr'])\n",
    "print(students.get('addr'))"
   ]
  },
  {
   "cell_type": "code",
   "execution_count": 33,
   "id": "3ab9c9d6",
   "metadata": {},
   "outputs": [
    {
     "name": "stdout",
     "output_type": "stream",
     "text": [
      "['name', 'addr', 'age']\n",
      "True\n",
      "True\n",
      "False\n"
     ]
    }
   ],
   "source": [
    "'''\n",
    "in 연산자 : 특정 key가 dictionary 에 있는지 확인하기\n",
    "'''\n",
    "print(list(students.keys()))\n",
    "print('addr' in students)\n",
    "print('age' in students.keys())\n",
    "print('height' in students)"
   ]
  },
  {
   "cell_type": "code",
   "execution_count": 41,
   "id": "ba945787",
   "metadata": {},
   "outputs": [
    {
     "name": "stdout",
     "output_type": "stream",
     "text": [
      "dict_values([['이순신', '강감찬', '유관순'], ['구로구', '동작구', '서초구'], [46, 72, 18]])\n",
      "True\n",
      "False\n",
      "True\n",
      "True\n"
     ]
    }
   ],
   "source": [
    "'''\n",
    "in 연산자 : 특정 value 가 dictionary에 있는지 확인하기\n",
    "'''\n",
    "print(students.values())\n",
    "print(['이순신', '강감찬', '유관순'] in students.values())\n",
    "# TypeError: unhashable type: 'list'\n",
    "# key는 immutable만 와야하는데 list는 mutable이라서 해당 에러 노출됨\n",
    "# print(['이순신', '강감찬', '유관순'] in students)\n",
    "print('이순신' in students)\n",
    "print(['구로구', '동작구', '서초구'] in students.values())\n",
    "print([46, 72, 18] in students.values())"
   ]
  },
  {
   "cell_type": "code",
   "execution_count": 43,
   "id": "8275dc66",
   "metadata": {},
   "outputs": [
    {
     "name": "stdout",
     "output_type": "stream",
     "text": [
      "{'addr': ['구로구', '동작구', '서초구'],\n",
      " 'age': [46, 72, 18],\n",
      " 'name': ['이순신', '강감찬', '유관순']}\n",
      "{'addr': ['구로구', '동작구', '서초구'],\n",
      " 'age': [46, 72, 18],\n",
      " 'grade': [4, 3, 1],\n",
      " 'name': ['이순신', '강감찬', '유관순']}\n"
     ]
    }
   ],
   "source": [
    "pprint.pprint(students)\n",
    "\n",
    "\n",
    "'''\n",
    "students 딕셔너리에 key는 grade, value는 [4, 3, 1] 인\n",
    "item 을 추가하세요\n",
    "'''\n",
    "\n",
    "students['grade'] = [4, 3, 1]\n",
    "pprint.pprint(students)\n"
   ]
  },
  {
   "cell_type": "code",
   "execution_count": 44,
   "id": "88a9a57b",
   "metadata": {},
   "outputs": [
    {
     "name": "stdout",
     "output_type": "stream",
     "text": [
      "{'addr': ['구로구', '동작구', '서초구'],\n",
      " 'age': [46, 72, 18],\n",
      " 'grade': [4, 3, 1],\n",
      " 'height': [192, 182, 169],\n",
      " 'name': ['이순신', '강감찬', '유관순']}\n"
     ]
    }
   ],
   "source": [
    "'''\n",
    "update() 메소드 사용하기\n",
    "\n",
    "students 딕셔너리에 key는 height.\n",
    "values는 [192, 182, 169]인 item을 추가하세요\n",
    "'''\n",
    "students.update(height=[192, 182, 169])\n",
    "pprint.pprint(students)"
   ]
  },
  {
   "cell_type": "code",
   "execution_count": 46,
   "id": "7934f147",
   "metadata": {},
   "outputs": [
    {
     "name": "stdout",
     "output_type": "stream",
     "text": [
      "{'addr': ['구로구', '동작구', '서초구'],\n",
      " 'age': [46, 72, 18],\n",
      " 'grade': [4, 3, 1],\n",
      " 'height': [192, 182, 169],\n",
      " 'name': ['이순신', '강감찬', '유관순'],\n",
      " 'weight': [87, 77, 58]}\n"
     ]
    }
   ],
   "source": [
    "'''\n",
    "update() 메소드 사용하기\n",
    "\n",
    "students 딕셔너리에 key는 weight.\n",
    "values는 [87, 77, 58]인 item을 추가하세요\n",
    "'''\n",
    "students.update({'weight' : [87, 77, 58]})\n",
    "pprint.pprint(students)"
   ]
  },
  {
   "cell_type": "code",
   "execution_count": 47,
   "id": "76b90e34",
   "metadata": {},
   "outputs": [
    {
     "name": "stdout",
     "output_type": "stream",
     "text": [
      "{'addr': ['구로구', '동작구', '서초구'],\n",
      " 'age': [46, 72, 18],\n",
      " 'grade': [4, 3, 1],\n",
      " 'height': [192, 182, 169],\n",
      " 'hobby': ['독서', '달리기', '수영'],\n",
      " 'job': ['장군', '장군', '독립운동가'],\n",
      " 'name': ['이순신', '강감찬', '유관순'],\n",
      " 'weight': [87, 77, 58]}\n"
     ]
    }
   ],
   "source": [
    "# 2개 이상 key, value 추가하는 방법\n",
    "students.update(hobby = ['독서', '달리기', '수영'], job = ['장군', '장군', '독립운동가'])\n",
    "pprint.pprint(students)"
   ]
  },
  {
   "cell_type": "code",
   "execution_count": 48,
   "id": "02a8beb0",
   "metadata": {},
   "outputs": [
    {
     "name": "stdout",
     "output_type": "stream",
     "text": [
      "{'addr': ['구로구', '동작구', '서초구'],\n",
      " 'age': [46, 72, 18],\n",
      " 'grade': [4, 3, 1],\n",
      " 'height': [192, 182, 169],\n",
      " 'hobby': ['독서', '달리기', '수영'],\n",
      " 'job': ['장군', '장군', '독립운동가'],\n",
      " 'name': ['이순신', '강감찬', '유관순'],\n",
      " 'weight': [87, 77, 58],\n",
      " '별명 ': ['거북이', '독수리', '비둘기'],\n",
      " '좋아하는 과일': ['사과', '복숭아', '딸기']}\n"
     ]
    }
   ],
   "source": [
    "# 2개 이상 key, value 추가하는 방법\n",
    "students.update({'별명 ' : ['거북이', '독수리', '비둘기'], '좋아하는 과일' : ['사과', '복숭아', '딸기']})\n",
    "pprint.pprint(students)"
   ]
  },
  {
   "cell_type": "code",
   "execution_count": 56,
   "id": "d82ed32c",
   "metadata": {},
   "outputs": [
    {
     "name": "stdout",
     "output_type": "stream",
     "text": [
      "{'addr': ['구로구', '동작구', '서초구'],\n",
      " 'age': [46, 72, 18],\n",
      " 'grade': [4, 3, 1],\n",
      " 'height': [192, 182, 169],\n",
      " 'hobby': ['독서', '달리기', '수영'],\n",
      " 'job': ['장군', '장군', '독립운동가'],\n",
      " 'name': ['이순신', '강감찬', '유관순'],\n",
      " 'weight': [87, 77, 58],\n",
      " '별명 ': ['거북이', '독수리', '비둘기'],\n",
      " '좋아하는 과일': ['사과', '복숭아', '딸기'],\n",
      " '좋아하는과일': ['용과', '포도', '키위']}\n"
     ]
    }
   ],
   "source": [
    "'''\n",
    "좋아하는 과일 수정하기\n",
    "'''\n",
    "students.update(좋아하는과일 = ['용과', '포도', '키위'])\n",
    "pprint.pprint(students)"
   ]
  },
  {
   "cell_type": "code",
   "execution_count": 58,
   "id": "74a6ba67",
   "metadata": {},
   "outputs": [
    {
     "name": "stdout",
     "output_type": "stream",
     "text": [
      "{'addr': ['구로구', '동작구', '서초구'],\n",
      " 'age': [46, 72, 18],\n",
      " 'grade': [4, 3, 1],\n",
      " 'height': [192, 182, 169],\n",
      " 'hobby': ['독서', '달리기', '수영'],\n",
      " 'job': ['장군', '장군', '독립운동가'],\n",
      " 'name': ['이순신', '강감찬', '유관순'],\n",
      " 'weight': [87, 77, 58],\n",
      " '별명 ': ['거북이', '독수리', '비둘기'],\n",
      " '좋아하는 과일': ['사과', '복숭아', '딸기'],\n",
      " '좋아하는과일': ['배', '수박', '바나나']}\n"
     ]
    }
   ],
   "source": [
    "'''\n",
    "좋아하는 과일 수정하기\n",
    "'''\n",
    "students.update({'좋아하는과일':['배','수박','바나나']})\n",
    "pprint.pprint(students)"
   ]
  },
  {
   "cell_type": "code",
   "execution_count": 61,
   "id": "a254a09b",
   "metadata": {},
   "outputs": [
    {
     "name": "stdout",
     "output_type": "stream",
     "text": [
      "{'addr': ['구로구', '동작구', '서초구'],\n",
      " 'age': [46, 72, 18],\n",
      " 'grade': [4, 3, 1],\n",
      " 'height': [192, 182, 169],\n",
      " 'hobby': ['독서', '달리기', '수영'],\n",
      " 'job': ['장군', '장군', '독립운동가'],\n",
      " 'name': ['이순신', '강감찬', '유관순'],\n",
      " 'weight': [87, 77, 58],\n",
      " '별명 ': ['거북이', '독수리', '비둘기'],\n",
      " '좋아하는과일': ['배', '수박', '바나나']}\n",
      "------------------------------------------------------------\n",
      "{'addr': ['구로구', '동작구', '서초구'],\n",
      " 'age': [46, 72, 18],\n",
      " 'grade': [4, 3, 1],\n",
      " 'height': [192, 182, 169],\n",
      " 'hobby': ['독서', '달리기', '수영'],\n",
      " 'job': ['장군', '장군', '독립운동가'],\n",
      " 'name': ['이순신', '강감찬', '유관순'],\n",
      " 'phone': ['01012341234', '01011111111', '01022222222'],\n",
      " 'weight': [87, 77, 58],\n",
      " '별명 ': ['거북이', '독수리', '비둘기'],\n",
      " '좋아하는과일': ['배', '수박', '바나나']}\n"
     ]
    }
   ],
   "source": [
    "'''\n",
    "setdefault() 메소드\n",
    "\n",
    "setdefault(key,value) : 새로운 item이 추가됨 <-- 수정에서는 사용하지 못함\n",
    "setdefault(key) : value를 지정하지 않으면 value가 None이 됨\n",
    "'''\n",
    "\n",
    "students = {\n",
    "    'addr': ['구로구', '동작구', '서초구'],\n",
    "     'age': [46, 72, 18],\n",
    "     'grade': [4, 3, 1],\n",
    "     'height': [192, 182, 169],\n",
    "     'hobby': ['독서', '달리기', '수영'],\n",
    "     'job': ['장군', '장군', '독립운동가'],\n",
    "     'name': ['이순신', '강감찬', '유관순'],\n",
    "     'weight': [87, 77, 58],\n",
    "     '별명 ': ['거북이', '독수리', '비둘기'],\n",
    "     '좋아하는과일': ['배', '수박', '바나나']\n",
    "}\n",
    "\n",
    "pprint.pprint(students)\n",
    "\n",
    "print('-'*60)\n",
    "students.setdefault('phone', ['01012341234', '01011111111', '01022222222'])\n",
    "pprint.pprint(students)\n"
   ]
  },
  {
   "cell_type": "code",
   "execution_count": 63,
   "id": "eee44263",
   "metadata": {},
   "outputs": [
    {
     "name": "stdout",
     "output_type": "stream",
     "text": [
      "{'addr': ['구로구', '동작구', '서초구'],\n",
      " 'age': [46, 72, 18],\n",
      " 'grade': [4, 3, 1],\n",
      " 'height': [192, 182, 169],\n",
      " 'hobby': ['독서', '달리기', '수영'],\n",
      " 'job': ['장군', '장군', '독립운동가'],\n",
      " 'name': ['이순신', '강감찬', '유관순'],\n",
      " 'phone': ['01012341234', '01011111111', '01022222222'],\n",
      " 'weight': [87, 77, 58],\n",
      " '별명 ': ['거북이', '독수리', '비둘기'],\n",
      " '좋아하는과일': ['배', '수박', '바나나'],\n",
      " '회사': None}\n"
     ]
    }
   ],
   "source": [
    "'''\n",
    "setdefault(key) : value를 지정하지 않으면 value가 none이 됨\n",
    "'''\n",
    "\n",
    "students.setdefault('회사')\n",
    "pprint.pprint(students)"
   ]
  },
  {
   "cell_type": "code",
   "execution_count": 65,
   "id": "0b6b7773",
   "metadata": {},
   "outputs": [
    {
     "name": "stdout",
     "output_type": "stream",
     "text": [
      "{'addr': ['구로구', '동작구', '서초구'],\n",
      " 'age': [46, 72, 18],\n",
      " 'grade': [4, 3, 1],\n",
      " 'height': [192, 182, 169],\n",
      " 'hobby': ['독서', '달리기', '수영'],\n",
      " 'job': ['장군', '장군', '독립운동가'],\n",
      " 'name': ['이순신', '강감찬', '유관순'],\n",
      " 'phone': ['01012341234', '01011111111', '01022222222'],\n",
      " 'weight': [87, 77, 58],\n",
      " '별명 ': ['거북이', '독수리', '비둘기'],\n",
      " '좋아하는과일': ['배', '수박', '바나나'],\n",
      " '회사': None}\n"
     ]
    }
   ],
   "source": [
    "'''\n",
    "setdefault(key,value) : 새로운 item이 추가됨 <-- 수정에서는 사용하지 못함, 오류가 노출되지 않음\n",
    "\n",
    "'garde' : [4, 3, 1] --> 'grade' : [2, 1, 4]\n",
    "'''\n",
    "students.setdefault('grade', [2, 1, 4])\n",
    "pprint.pprint(students)"
   ]
  },
  {
   "cell_type": "code",
   "execution_count": null,
   "id": "223a6f53",
   "metadata": {},
   "outputs": [],
   "source": []
  },
  {
   "cell_type": "code",
   "execution_count": null,
   "id": "e83d426d",
   "metadata": {},
   "outputs": [],
   "source": []
  },
  {
   "cell_type": "code",
   "execution_count": null,
   "id": "573e15c3",
   "metadata": {},
   "outputs": [],
   "source": []
  }
 ],
 "metadata": {
  "kernelspec": {
   "display_name": "Python 3 (ipykernel)",
   "language": "python",
   "name": "python3"
  },
  "language_info": {
   "codemirror_mode": {
    "name": "ipython",
    "version": 3
   },
   "file_extension": ".py",
   "mimetype": "text/x-python",
   "name": "python",
   "nbconvert_exporter": "python",
   "pygments_lexer": "ipython3",
   "version": "3.10.9"
  }
 },
 "nbformat": 4,
 "nbformat_minor": 5
}
