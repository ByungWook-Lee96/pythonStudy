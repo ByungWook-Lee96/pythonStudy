{
 "cells": [
  {
   "cell_type": "code",
   "execution_count": 7,
   "id": "0ddf8922",
   "metadata": {},
   "outputs": [
    {
     "name": "stdout",
     "output_type": "stream",
     "text": [
      "1\n",
      "2\n",
      "3\n",
      "4\n",
      "5\n",
      "------------------------------------------------------------\n",
      "1\n",
      "2\n",
      "3\n",
      "4\n",
      "5\n",
      "6\n",
      "7\n",
      "8\n",
      "9\n",
      "10\n",
      "11\n",
      "12\n",
      "13\n",
      "14\n",
      "15\n",
      "16\n",
      "17\n",
      "18\n",
      "19\n",
      "20\n"
     ]
    }
   ],
   "source": [
    "'''\n",
    "반복문 : loop(statment)\n",
    "  ㄴ for / while\n",
    "  \n",
    "  형식\n",
    "      for 변수 in iterrable type(str, dictionary, range(), ...):\n",
    "          반복할 명령문\n",
    "          반복할 명령문\n",
    "          반복할 명령문\n",
    "          \n",
    "'''\n",
    "\n",
    "print(1)\n",
    "print(2)\n",
    "print(3)\n",
    "print(4)\n",
    "print(5)\n",
    "print('-'*60)\n",
    "\n",
    "numbers = list(range(1,21))\n",
    "for number in numbers:\n",
    "    print(number)"
   ]
  },
  {
   "cell_type": "code",
   "execution_count": 10,
   "id": "3b101da9",
   "metadata": {},
   "outputs": [
    {
     "name": "stdout",
     "output_type": "stream",
     "text": [
      "1\n",
      "2\n",
      "3\n",
      "4\n",
      "5\n",
      "------------------------------------------------------------\n",
      "AWS 클라우드 스쿨 - 1\n",
      "AWS 클라우드 스쿨 - 2\n",
      "AWS 클라우드 스쿨 - 3\n",
      "AWS 클라우드 스쿨 - 4\n",
      "AWS 클라우드 스쿨 - 5\n",
      "------------------------------------------------------------\n"
     ]
    }
   ],
   "source": [
    "for number in [1, 2, 3, 4, 5]:\n",
    "    print(number)\n",
    "print('-' * 60)\n",
    "\n",
    "for number in [1, 2, 3, 4, 5]:\n",
    "    print('AWS 클라우드 스쿨 -', number)\n",
    "print('-' * 60)"
   ]
  },
  {
   "cell_type": "code",
   "execution_count": 11,
   "id": "6f8e8c74",
   "metadata": {},
   "outputs": [
    {
     "name": "stdout",
     "output_type": "stream",
     "text": [
      "1 2 3 4 5 6 7 8 9 10 "
     ]
    }
   ],
   "source": [
    "for number in range(1,11):\n",
    "    print(number, end=' ')"
   ]
  },
  {
   "cell_type": "code",
   "execution_count": 15,
   "id": "684b8199",
   "metadata": {},
   "outputs": [
    {
     "name": "stdout",
     "output_type": "stream",
     "text": [
      "(1, 2)\n",
      "(3, 4)\n",
      "(5, 6)\n",
      "(7, 8)\n",
      "------------------------------------------------------------\n",
      "1 2\n",
      "3 4\n",
      "5 6\n",
      "7 8\n",
      "------------------------------------------------------------\n",
      "3\n",
      "7\n",
      "11\n",
      "15\n",
      "------------------------------------------------------------\n",
      "2\n",
      "12\n",
      "30\n",
      "56\n",
      "------------------------------------------------------------\n"
     ]
    }
   ],
   "source": [
    "numbers = [(1, 2), (3, 4), (5, 6), (7, 8)]\n",
    "for number in numbers:\n",
    "    print(number)\n",
    "print('-' * 60)\n",
    "\n",
    "for num1, num2 in numbers:\n",
    "    print(num1, num2)\n",
    "print('-' * 60)\n",
    "\n",
    "for num1, num2 in numbers:\n",
    "    print(num1 + num2)\n",
    "print('-' * 60)\n",
    "\n",
    "for num1, num2 in numbers:\n",
    "    print(num1 * num2)\n",
    "print('-' * 60)\n",
    "        "
   ]
  },
  {
   "cell_type": "code",
   "execution_count": 17,
   "id": "19515beb",
   "metadata": {},
   "outputs": [
    {
     "name": "stdout",
     "output_type": "stream",
     "text": [
      "딸기\n",
      "수박\n",
      "포도\n",
      "바나나\n",
      "메론\n",
      "1 : 딸기\n",
      "2 : 수박\n",
      "3 : 포도\n",
      "4 : 바나나\n",
      "5 : 메론\n"
     ]
    }
   ],
   "source": [
    "fruits = ['딸기', '수박', '포도', '바나나', '메론']\n",
    "for fruit in fruits:\n",
    "    print(fruit)\n",
    "\n",
    "'''\n",
    "1 : 딸기\n",
    "2 : 수박\n",
    "3 : 포도\n",
    "4 : 바나나\n",
    "5 : 메론\n",
    "'''\n",
    "\n",
    "count = 0\n",
    "for fruit in fruits:\n",
    "    count += 1\n",
    "    print(count, ':', fruit)"
   ]
  },
  {
   "cell_type": "code",
   "execution_count": 19,
   "id": "c34b5346",
   "metadata": {},
   "outputs": [
    {
     "name": "stdout",
     "output_type": "stream",
     "text": [
      "1 : 딸기\n",
      "2 : 수박\n",
      "3 : 포도\n",
      "4 : 바나나\n",
      "5 : 메론\n"
     ]
    }
   ],
   "source": [
    "'''\n",
    "enumerate() 함수 : list의 index 번호와 item을 tuple로 반환함\n",
    "\n",
    "형식\n",
    "  for index, item in enumerate(list):\n",
    "      print(index, item)\n",
    "'''\n",
    "\n",
    "fruits = ['딸기', '수박', '포도', '바나나', '메론']\n",
    "\n",
    "for index, fruit in enumerate(fruits):\n",
    "    print(index + 1, ':', fruit)"
   ]
  },
  {
   "cell_type": "code",
   "execution_count": 31,
   "id": "f02574cf",
   "metadata": {},
   "outputs": [
    {
     "name": "stdout",
     "output_type": "stream",
     "text": [
      "2 4 6 8 10 \n",
      "2 4 6 8 10 \n",
      "2 4 6 8 10 \n",
      "2 4 6 8 10 \n",
      "1 3 5 7 9 \n"
     ]
    }
   ],
   "source": [
    "numbers = [1, 2, 3, 4, 5, 6, 7, 8, 9, 10]\n",
    "\n",
    "'''\n",
    "for문을 사용해서 numbers에서 짝수만 출력하세요\n",
    "'''\n",
    "\n",
    "for number in numbers:\n",
    "    if number % 2 == 0:\n",
    "        print(number,end = ' ')\n",
    "print()\n",
    "\n",
    "for number in numbers[1::2]:\n",
    "    print(number, end = ' ')\n",
    "print()\n",
    "\n",
    "for number in range(2,11,2):\n",
    "    print(number, end = ' ')\n",
    "print()\n",
    "\n",
    "'''\n",
    "if 다음에 나오는 값이 자동으로 bool type으로 형변환됨\n",
    "기본적으로 if 다음에 나오는 조건절(number % 2)을\n",
    "number % 2 -> \n",
    "\n",
    "'''\n",
    "\n",
    "# 짝수\n",
    "for number in numbers:\n",
    "    if not number % 2:\n",
    "        print(number, end = ' ')\n",
    "print()\n",
    "\n",
    "# 홀수\n",
    "for number in numbers:\n",
    "    if number % 2:\n",
    "        print(number, end = ' ')\n",
    "print()"
   ]
  },
  {
   "cell_type": "code",
   "execution_count": 39,
   "id": "3c44c30b",
   "metadata": {},
   "outputs": [
    {
     "name": "stdout",
     "output_type": "stream",
     "text": [
      "1 번 학생 합격입니다.\n",
      "2 번 학생 불합격입니다.\n",
      "3 번 학생 합격입니다.\n",
      "4 번 학생 불합격입니다.\n",
      "5 번 학생 합격입니다.\n",
      "1 번 학생 합격입니다.\n",
      "2 번 학생 불합격입니다.\n",
      "3 번 학생 합격입니다.\n",
      "4 번 학생 불합격입니다.\n",
      "5 번 학생 합격입니다.\n"
     ]
    }
   ],
   "source": [
    "\n",
    "\n",
    "'''\n",
    "scores 에 5명의 성적이 저장되어있을 때\n",
    "80점 이상은 합격, 80점 미만은 불합격이라고 출력하세요.\n",
    "\n",
    "[결과]\n",
    "1 번 학생 합격입니다.\n",
    "2 번 학생 불합격입니다.\n",
    "3 번 학생 합격입니다.\n",
    "4 번 학생 불합격입니다.\n",
    "5 번 학생 합격입니다.\n",
    "\n",
    "'''\n",
    "scores = [85, 76, 95, 56, 88]\n",
    "result = ''\n",
    "\n",
    "for index, score in enumerate(scores):\n",
    "    if score >= 80:\n",
    "        result = '합격'\n",
    "    else:\n",
    "        result = '불합격'\n",
    "    print(f'{index + 1} 번 학생 {result}입니다.')\n",
    "\n",
    "count = 0\n",
    "for score in scores:\n",
    "    count += 1\n",
    "    if score >= 80:\n",
    "        result = '합격'\n",
    "    else:\n",
    "        result = '불합격'\n",
    "    print(f'{count} 번 학생 {result}입니다.')\n",
    "        "
   ]
  },
  {
   "cell_type": "code",
   "execution_count": 41,
   "id": "c860e4cf",
   "metadata": {},
   "outputs": [
    {
     "name": "stdout",
     "output_type": "stream",
     "text": [
      "1 번 학생 합격입니다.\n",
      "2 번 학생 불합격입니다.\n",
      "3 번 학생 합격입니다.\n",
      "4 번 학생 불합격입니다.\n",
      "5 번 학생 합격입니다.\n"
     ]
    }
   ],
   "source": [
    "scores = [85, 76, 95, 56, 88]\n",
    "result = ''\n",
    "\n",
    "for score in scores:\n",
    "    if score >= 80:\n",
    "        result = '합격'\n",
    "    else:\n",
    "        result = '불합격'\n",
    "    print(f'{scores.index(score)+1} 번 학생 {result}입니다.')"
   ]
  },
  {
   "cell_type": "code",
   "execution_count": 45,
   "id": "c653795f",
   "metadata": {},
   "outputs": [
    {
     "name": "stdout",
     "output_type": "stream",
     "text": [
      "1 번 학생 합격입니다.\n",
      "2 번 학생 불합격입니다.\n",
      "3 번 학생 합격입니다.\n",
      "4 번 학생 불합격입니다.\n",
      "5 번 학생 합격입니다.\n",
      "합격생은 3명입니다.\n",
      "불합격생은 2명입니다.\n"
     ]
    }
   ],
   "source": [
    "'''\n",
    "scores 에 5명의 성적이 저장되어있을 때\n",
    "80점 이상은 합격, 80점 미만은 불합격이라고 출력하세요.\n",
    "\n",
    "[결과]\n",
    "1 번 학생 합격입니다.\n",
    "2 번 학생 불합격입니다.\n",
    "3 번 학생 합격입니다.\n",
    "4 번 학생 불합격입니다.\n",
    "5 번 학생 합격입니다.\n",
    "합격생은 3명입니다.\n",
    "불합격생은 2명입니다.\n",
    "\n",
    "'''\n",
    "pass_score = 0\n",
    "fail_score = 0\n",
    "for score in scores:\n",
    "    if score >= 80:\n",
    "        result = '합격'\n",
    "        pass_score += 1\n",
    "    else:\n",
    "        result = '불합격'\n",
    "        fail_score += 1\n",
    "    print(f'{pass_score + fail_score} 번 학생 {result}입니다.')\n",
    "print(f'합격생은 {pass_score}명입니다.')\n",
    "print(f'불합격생은 {fail_score}명입니다.')"
   ]
  },
  {
   "cell_type": "code",
   "execution_count": 52,
   "id": "89ca26e3",
   "metadata": {},
   "outputs": [
    {
     "name": "stdout",
     "output_type": "stream",
     "text": [
      "1 번  김유신 학생 :  합격\n",
      "2 번  김유신 학생 :  불합격\n",
      "3 번  김유신 학생 :  합격\n",
      "4 번  김유신 학생 :  합격\n",
      "5 번  김유신 학생 :  불합격\n"
     ]
    }
   ],
   "source": [
    "scores_dict = {'이순신' : 91, '안중근' : 76, '유관순' : 98, '이율곡' : 86, '김유신' : 63}\n",
    "\n",
    "'''\n",
    "80점 이상인 경우에 합격이라고 할 때\n",
    "아래와 같이 출력되도록 for문을 작성하세요\n",
    "\n",
    "[결과]\n",
    "1번 이순신 학생 : 합격\n",
    "2번 안중근 학생 : 불합격\n",
    "3번 유관순 학생 : 합격\n",
    "4번 이율곡 학생 : 합격\n",
    "5번 김유신 학생 : 불합격\n",
    "\n",
    "'''\n",
    "\n",
    "result = ''\n",
    "count = 0\n",
    "\n",
    "for name in scores_dict:\n",
    "    count += 1\n",
    "    if scores_dict[name] >= 80:\n",
    "        result = '합격'\n",
    "    else:\n",
    "        result = '불합격'\n",
    "    print(count, '번 ', score, '학생 : ', result)"
   ]
  },
  {
   "cell_type": "code",
   "execution_count": 62,
   "id": "e017f212",
   "metadata": {
    "scrolled": true
   },
   "outputs": [
    {
     "name": "stdout",
     "output_type": "stream",
     "text": [
      "파이썬은 기능이 좋은 언어\n",
      "['파', '이', '썬', '은', ' ', '기', '능', '이', ' ', '좋', '은', ' ', '언', '어']\n",
      "파이썬은기능이좋은언어\n"
     ]
    }
   ],
   "source": [
    "'''\n",
    "95 Page\n",
    "'''\n",
    "\n",
    "chars = []\n",
    "sentence = '파이썬은 기능이 좋은 언어'\n",
    "\n",
    "for k in sentence:\n",
    "    chars.append(k)\n",
    "    print(k, end='')\n",
    "print()\n",
    "print(chars)\n",
    "\n",
    "# 공백없이 출력하기\n",
    "for k in sentence:\n",
    "    if k != ' ':\n",
    "        print(k, end='')\n",
    "print()"
   ]
  },
  {
   "cell_type": "code",
   "execution_count": 65,
   "id": "68af89f1",
   "metadata": {},
   "outputs": [
    {
     "name": "stdout",
     "output_type": "stream",
     "text": [
      "1 2 3 4 \n",
      "1 2 3 4 6 7 8 9 10 \n"
     ]
    }
   ],
   "source": [
    "'''\n",
    "96 page\n",
    "\n",
    "break : break 키워드 다음에 나오는 code를 모두 실행하지 않고 반복을 종료함\n",
    "\n",
    "continue : continue 키워드 다음에 나오는 code를 실행하지 않고, 다음 반복으로 넘어감\n",
    "\n",
    "'''\n",
    "data = [1, 2, 3, 4, 5, 6, 7, 8, 9, 10]\n",
    "\n",
    "for number in data:\n",
    "    if number == 5:\n",
    "        break\n",
    "    print(number, end = ' ')\n",
    "print()\n",
    "\n",
    "for number in data:\n",
    "    if number == 5:\n",
    "        continue\n",
    "    print(number, end = ' ')\n",
    "print()"
   ]
  },
  {
   "cell_type": "code",
   "execution_count": null,
   "id": "09eb6efb",
   "metadata": {},
   "outputs": [],
   "source": []
  },
  {
   "cell_type": "code",
   "execution_count": null,
   "id": "e1799232",
   "metadata": {},
   "outputs": [],
   "source": []
  },
  {
   "cell_type": "code",
   "execution_count": null,
   "id": "e6add7e6",
   "metadata": {},
   "outputs": [],
   "source": []
  },
  {
   "cell_type": "code",
   "execution_count": null,
   "id": "cf17c4c1",
   "metadata": {},
   "outputs": [],
   "source": []
  }
 ],
 "metadata": {
  "kernelspec": {
   "display_name": "Python 3 (ipykernel)",
   "language": "python",
   "name": "python3"
  },
  "language_info": {
   "codemirror_mode": {
    "name": "ipython",
    "version": 3
   },
   "file_extension": ".py",
   "mimetype": "text/x-python",
   "name": "python",
   "nbconvert_exporter": "python",
   "pygments_lexer": "ipython3",
   "version": "3.10.9"
  }
 },
 "nbformat": 4,
 "nbformat_minor": 5
}
