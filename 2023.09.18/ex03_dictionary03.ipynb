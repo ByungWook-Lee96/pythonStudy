{
 "cells": [
  {
   "cell_type": "code",
   "execution_count": 15,
   "id": "729ba6c7",
   "metadata": {},
   "outputs": [
    {
     "name": "stdout",
     "output_type": "stream",
     "text": [
      "{'addr': ['동작구', '관악구', '서초구'],\n",
      " 'age': [46, 72, 18],\n",
      " 'grade': [4, 3, 1],\n",
      " 'name': ['이순신', '강감찬', '유관순']}\n",
      "------------------------------------------------------------\n",
      "students.pop('age') : [46, 72, 18]\n",
      "{'addr': ['동작구', '관악구', '서초구'],\n",
      " 'grade': [4, 3, 1],\n",
      " 'name': ['이순신', '강감찬', '유관순']}\n",
      "------------------------------------------------------------\n",
      "{'addr': ['동작구', '관악구', '서초구'],\n",
      " 'grade': [4, 3, 1],\n",
      " 'name': ['이순신', '강감찬', '유관순'],\n",
      " 'weight': [92, 81, 56]}\n",
      "------------------------------------------------------------\n",
      "{'addr': ['동작구', '관악구', '서초구'],\n",
      " 'grade': [4, 3, 1],\n",
      " 'name': ['이순신', '강감찬', '유관순']}\n",
      "------------------------------------------------------------\n",
      "item : ('weight', [92, 81, 56])\n"
     ]
    }
   ],
   "source": [
    "'''\n",
    "dictionary 에서 item 삭제하기\n",
    "\n",
    "1) pop() 메소드 : 지정한 key에 해당하는 value를 삭제하고 해당 value를 반환함\n",
    "\n",
    "'''\n",
    "\n",
    "students = {\n",
    "    'addr' : ['동작구', '관악구', '서초구'],\n",
    "    'age' : [46, 72, 18],\n",
    "    'grade' : [4, 3, 1],\n",
    "    'name' : ['이순신', '강감찬', '유관순']\n",
    "}\n",
    "import pprint\n",
    "pprint.pprint(students)\n",
    "print('-'*60)\n",
    "\n",
    "print(\"students.pop('age') :\", students.pop('age'))\n",
    "pprint.pprint(students)\n",
    "print('-'*60)\n",
    "\n",
    "students['weight'] = [92, 81, 56]\n",
    "pprint.pprint(students)\n",
    "print('-'*60)\n",
    "\n",
    "'''\n",
    "2) popitem() 메소드 : 맨 나중에 추가된 item을 삭제함\n",
    "                      해당 item을 tuple(key, value)로 반환함\n",
    "'''\n",
    "item = students.popitem()\n",
    "pprint.pprint(students)\n",
    "print('-'*60)\n",
    "\n",
    "print('item :', item)"
   ]
  },
  {
   "cell_type": "code",
   "execution_count": 16,
   "id": "e9bb10fd",
   "metadata": {},
   "outputs": [
    {
     "name": "stdout",
     "output_type": "stream",
     "text": [
      "{'addr': ['동작구', '관악구', '서초구'],\n",
      " 'grade': [4, 3, 1],\n",
      " 'name': ['이순신', '강감찬', '유관순']}\n",
      "------------------------------------------------------------\n",
      "{'addr': ['동작구', '관악구', '서초구'], 'name': ['이순신', '강감찬', '유관순']}\n",
      "------------------------------------------------------------\n",
      "{}\n",
      "------------------------------------------------------------\n"
     ]
    }
   ],
   "source": [
    "'''\n",
    "3) del 명령어로 item 삭제하기\n",
    "'''\n",
    "\n",
    "pprint.pprint(students)\n",
    "print('-' * 60)\n",
    "del students['grade']\n",
    "pprint.pprint(students)\n",
    "print('-' * 60)\n",
    "\n",
    "'''\n",
    "4) clear() 메소드 : 모든 item을 한꺼번에 삭제하기\n",
    "'''\n",
    "\n",
    "students.clear()\n",
    "pprint.pprint(students)\n",
    "print('-' * 60)\n"
   ]
  },
  {
   "cell_type": "code",
   "execution_count": 26,
   "id": "aefba398",
   "metadata": {},
   "outputs": [
    {
     "name": "stdout",
     "output_type": "stream",
     "text": [
      "{'name': ['이순신', '강감찬', '유관순'], 'age': [46, 72, 18]}\n",
      "{'height': [192, 187, 169], 'weight': [92, 81, 56]}\n"
     ]
    }
   ],
   "source": [
    "'''\n",
    "update() 메소드를 사용하여 dictionary 결합하기\n",
    "'''\n",
    "students1 = {\n",
    "    'name' : ['이순신', '강감찬', '유관순'],\n",
    "    'age' : [46, 72, 18]\n",
    "}\n",
    "students2 = {\n",
    "    'height' : [192, 187, 169],\n",
    "    'weight' : [92, 81, 56]\n",
    "}\n",
    "print(students1)\n",
    "print(students2)\n"
   ]
  },
  {
   "cell_type": "code",
   "execution_count": 27,
   "id": "005af3c1",
   "metadata": {},
   "outputs": [
    {
     "name": "stdout",
     "output_type": "stream",
     "text": [
      "{'name': ['이순신', '강감찬', '유관순'], 'age': [46, 72, 18], 'height': [192, 187, 169], 'weight': [92, 81, 56]}\n",
      "{'height': [192, 187, 169], 'weight': [92, 81, 56]}\n"
     ]
    }
   ],
   "source": [
    "'''\n",
    "students1 에 students2 추가하기\n",
    "'''\n",
    "students1.update(students2)\n",
    "print(students1)\n",
    "print(students2)"
   ]
  },
  {
   "cell_type": "code",
   "execution_count": 28,
   "id": "355f0ae1",
   "metadata": {},
   "outputs": [
    {
     "name": "stdout",
     "output_type": "stream",
     "text": [
      "{'name': ['이순신', '강감찬', '유관순'], 'age': [46, 72, 18], 'height': [192, 187, 169], 'weight': [92, 81, 56]}\n",
      "{'height': [192, 187, 169], 'weight': [92, 81, 56], 'name': ['이순신', '강감찬', '유관순'], 'age': [46, 72, 18]}\n"
     ]
    }
   ],
   "source": [
    "'''\n",
    "students2 에 students1 추가하기\n",
    "'''\n",
    "students2.update(students1)\n",
    "print(students1)\n",
    "print(students2)"
   ]
  },
  {
   "cell_type": "code",
   "execution_count": 32,
   "id": "86f42c60",
   "metadata": {},
   "outputs": [
    {
     "name": "stdout",
     "output_type": "stream",
     "text": [
      "{'age': [46, 72, 18],\n",
      " 'height': [195, 180, 169],\n",
      " 'name': ['이순신', '강감찬', '유관순'],\n",
      " 'weight': [90, 78, 56]}\n",
      "------------------------------------------------------------\n",
      "{'age': [46, 72, 18],\n",
      " 'height': [195, 180, 169],\n",
      " 'name': ['이순신', '강감찬', '유관순'],\n",
      " 'weight': [90, 78, 56]}\n"
     ]
    }
   ],
   "source": [
    "'''\n",
    "students2 에서 이순신의 키와 체중을 각각 195, 90으로 수정하세요\n",
    "'''\n",
    "students2['weight'][0] = 90\n",
    "students2['height'][0] = 195\n",
    "pprint.pprint(students2)\n",
    "print('-'*60)\n",
    "\n",
    "'''\n",
    "students2 에서 강감찬의 키와 체중을 각각 180, 78로 수정하세요\n",
    "'''\n",
    "students2['weight'][1] = 78\n",
    "# students2['weight'] = [90, 78, 56]\n",
    "students2['height'][1] = 180\n",
    "# students2['height'] = [195, 180, 169]\n",
    "pprint.pprint(students2)\n"
   ]
  },
  {
   "cell_type": "code",
   "execution_count": 37,
   "id": "b2f7e7d9",
   "metadata": {},
   "outputs": [
    {
     "name": "stdout",
     "output_type": "stream",
     "text": [
      "{'age': [66, 92, 38],\n",
      " 'height': [195, 180, 169],\n",
      " 'name': ['이순신', '강감찬', '유관순'],\n",
      " 'weight': [90, 78, 56]}\n"
     ]
    }
   ],
   "source": [
    "'''\n",
    "students2 에서 각 사람의 나이에 20을 더하세요\n",
    "'''\n",
    "students2['age'] = [66, 92, 38]\n",
    "pprint.pprint(students2)"
   ]
  },
  {
   "cell_type": "code",
   "execution_count": 38,
   "id": "c78162c7",
   "metadata": {},
   "outputs": [
    {
     "name": "stdout",
     "output_type": "stream",
     "text": [
      "{'age': [56, 82, 28],\n",
      " 'height': [195, 180, 169],\n",
      " 'name': ['이순신', '강감찬', '유관순'],\n",
      " 'weight': [90, 78, 56]}\n"
     ]
    }
   ],
   "source": [
    "'''\n",
    "students2 에서 각 사람의 나이에 10을 빼세요\n",
    "'''\n",
    "students2['age'][0] = students2['age'][0] - 10\n",
    "students2['age'][1] = students2['age'][1] - 10\n",
    "students2['age'][2] = students2['age'][2] - 10\n",
    "pprint.pprint(students2)"
   ]
  },
  {
   "cell_type": "code",
   "execution_count": 42,
   "id": "df55cb37",
   "metadata": {},
   "outputs": [
    {
     "name": "stdout",
     "output_type": "stream",
     "text": [
      "{'age': [61, 87, 33],\n",
      " 'height': [195, 180, 169],\n",
      " 'name': ['이순신', '강감찬', '유관순'],\n",
      " 'weight': [90, 78, 56]}\n",
      "------------------------------------------------------------\n",
      "{'age': [68, 94, 40],\n",
      " 'height': [195, 180, 169],\n",
      " 'name': ['이순신', '강감찬', '유관순'],\n",
      " 'weight': [90, 78, 56]}\n"
     ]
    }
   ],
   "source": [
    "'''\n",
    "students2 에서 각 사람의 나이에 5를 더하세요\n",
    " ㄴ update() 메소드 사용하기\n",
    "'''\n",
    "students2.update(age=[61, 87, 33])\n",
    "pprint.pprint(students2)\n",
    "print('-' * 60)\n",
    "\n",
    "'''\n",
    "students2 에서 각 사람의 나이에 7를 더하세요\n",
    " ㄴ update() 메소드 사용하기\n",
    "'''\n",
    "students2.update({'age' : [68, 94, 40]})\n",
    "pprint.pprint(students2)"
   ]
  },
  {
   "cell_type": "code",
   "execution_count": null,
   "id": "7b43e793",
   "metadata": {},
   "outputs": [],
   "source": []
  },
  {
   "cell_type": "code",
   "execution_count": null,
   "id": "a85497b9",
   "metadata": {},
   "outputs": [],
   "source": []
  },
  {
   "cell_type": "code",
   "execution_count": null,
   "id": "becc7c91",
   "metadata": {},
   "outputs": [],
   "source": []
  },
  {
   "cell_type": "code",
   "execution_count": null,
   "id": "c2f8984d",
   "metadata": {},
   "outputs": [],
   "source": []
  }
 ],
 "metadata": {
  "kernelspec": {
   "display_name": "Python 3 (ipykernel)",
   "language": "python",
   "name": "python3"
  },
  "language_info": {
   "codemirror_mode": {
    "name": "ipython",
    "version": 3
   },
   "file_extension": ".py",
   "mimetype": "text/x-python",
   "name": "python",
   "nbconvert_exporter": "python",
   "pygments_lexer": "ipython3",
   "version": "3.10.9"
  }
 },
 "nbformat": 4,
 "nbformat_minor": 5
}
