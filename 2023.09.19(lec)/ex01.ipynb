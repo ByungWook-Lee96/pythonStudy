{
 "cells": [
  {
   "cell_type": "code",
   "execution_count": null,
   "id": "534e3707",
   "metadata": {},
   "outputs": [],
   "source": [
    "'''\n",
    "각 단에 홀수만 곱하는 구구단을 출력하세요  \n",
    "\n",
    "  NameError: name 'number' is not defined\n",
    "    print()\n",
    "'''\n",
    "for dan in range(2, 10):\n",
    "    if number % 2 == 1:\n",
    "        for number in range(1, 10):\n",
    "            print(f'{dan} X {number} = {dan * number}')\n",
    "\n",
    "for dan in range(2, 10):    \n",
    "    for number in range(1, 10):\n",
    "        if number % 2 == 1:\n",
    "            print(f'{dan} X {number} = {dan * number}')\n",
    "    print()  "
   ]
  },
  {
   "cell_type": "code",
   "execution_count": null,
   "id": "5b556765",
   "metadata": {},
   "outputs": [],
   "source": [
    "'''\n",
    "random 모듈\n",
    "\n",
    "\n",
    "randint(start, stop) 함수\n",
    "      ㄴ start 부터 stop 까지의 임의의 정수를 반환함\n",
    "\n",
    "'''\n",
    "import random\n",
    "from random import randint\n",
    "from random import *\n",
    "# print(random.randint(1, 5))\n",
    "print(randint(1, 5))\n",
    "\n",
    "'''\n",
    "1 부터 10까지의 정수 중에서 임의의 정수 10 개를\n",
    "numbers 라는 list 에 저장하기\n",
    "'''\n",
    "\n",
    "numbers = []\n",
    "\n",
    "# for number in range(10):\n",
    "\n",
    "count = 0\n",
    "for number in range(1, 11):\n",
    "    count += 1\n",
    "    numbers.append(randint(1, 10))\n",
    "    print(count,' 회차 : numbers :',numbers)\n",
    "    \n",
    "print(\"=\" * 60)\n",
    "print('numbers :',numbers)\n"
   ]
  },
  {
   "cell_type": "code",
   "execution_count": null,
   "id": "0012807a",
   "metadata": {},
   "outputs": [],
   "source": [
    "'''\n",
    "비어있는 list 를 생성하고\n",
    "1부터 10까지의 임의의 정수를 반지름으로 하는\n",
    "원의 넓이 10 개를 저장하는 list 를 출력하세요\n",
    "\n",
    "반지름 X 반지름 X 3.14\n",
    "'''\n",
    "circle_area = []\n",
    "\n",
    "for idx in range(10):\n",
    "    radius = randint(1, 10)\n",
    "    circle_area.append(radius * radius * 3.14)\n",
    "    \n",
    "print(circle_area)    "
   ]
  },
  {
   "cell_type": "code",
   "execution_count": null,
   "id": "6839e314",
   "metadata": {},
   "outputs": [],
   "source": [
    "'''\n",
    "randint(start, stop) 함수\n",
    "      ㄴ start 부터 stop 까지의 임의의 정수를 반환함\n",
    "      \n",
    "      start <= randint(start, stop) <= stop\n",
    "      \n",
    "random() 함수 : 0 부터 1 미만의 임의의 실수를 반환함\n",
    "\n",
    "      0 <= random() < 1\n",
    "      \n",
    "randrange(start, stop) 함수     \n",
    "      ㄴ start 부터 stop-1 까지의 임의의 정수를 반환함\n",
    "      \n",
    "        start <= randrange(start, stop) < stop\n",
    "\n",
    "'''\n",
    "print('random() :',random())\n",
    "\n",
    "# 1, 2, 3, 4, 5\n",
    "print('randint(1, 5) :',randint(1, 5))\n",
    "\n",
    "# 1, 2, 3, 4\n",
    "print('randrange(1, 5) :',randrange(1, 5))"
   ]
  },
  {
   "cell_type": "code",
   "execution_count": null,
   "id": "71ea67b1",
   "metadata": {},
   "outputs": [],
   "source": [
    "'''\n",
    "shuffle(리스트) 함수 : 리스트의 item 들을 임의로 섞어줌\n",
    "  ㄴ \n",
    "'''\n",
    "letters = ['가', '나', '다', '라', '마', '바']\n",
    "\n",
    "# 반환값이 없어서 suffle() 함수 자체를 출력하면 None 이 출력됨\n",
    "print('shuffle(letters) :',shuffle(letters))\n",
    "\n",
    "print('letters :',letters)"
   ]
  },
  {
   "cell_type": "code",
   "execution_count": null,
   "id": "22913df7",
   "metadata": {},
   "outputs": [],
   "source": [
    "'''\n",
    "choice(리스트) 함수 : 리스트에서 임의의 item 을 반환함\n",
    "'''\n",
    "\n",
    "letters = ['가', '나', '다', '라', '마', '바']\n",
    "print('choice(letters) :',choice(letters))\n",
    "\n",
    "booleans = [True, False]\n",
    "print('choice(booleans) :',choice(booleans))\n",
    "\n",
    "dice_numbers = [1, 2, 3, 4, 5, 6]\n",
    "print('choice(dice_numbers) :',choice(dice_numbers))\n",
    "print('randint(1, 6) :',randint(1, 6))\n",
    "print('randrange(1, 7) :',randrange(1, 7))"
   ]
  },
  {
   "cell_type": "code",
   "execution_count": null,
   "id": "11a2dcff",
   "metadata": {},
   "outputs": [],
   "source": [
    "'''\n",
    "중첩 for 문 : nested for (loop) statement\n",
    "\n",
    "구구단  -   \n",
    "\n",
    "        (외부)   (내부)\n",
    "        (고정)   (증가-반복)\n",
    "        단수  X  곱하는 수\n",
    "         2       (1 ~ 9)\n",
    "         3       (1 ~ 9)\n",
    "         4       (1 ~ 9)\n",
    "         ......\n",
    "         9       (1 ~ 9)\n",
    "\n",
    "'''\n",
    "\n",
    "# 2 단\n",
    "print('2 X 1 = 2')\n",
    "print('2 X 2 = 4')\n",
    "print('2 X 3 = 6')\n",
    "print('2 X 4 = 8')\n",
    "print('2 X 5 = 10')\n",
    "print('2 X 6 = 12')\n",
    "print('2 X 7 = 14')\n",
    "print('2 X 8 = 16')\n",
    "print('2 X 9 = 18')"
   ]
  },
  {
   "cell_type": "code",
   "execution_count": null,
   "id": "fdeed33f",
   "metadata": {},
   "outputs": [],
   "source": [
    "for number in range(1, 10):\n",
    "    print(number)"
   ]
  },
  {
   "cell_type": "code",
   "execution_count": null,
   "id": "3a6f303c",
   "metadata": {},
   "outputs": [],
   "source": [
    "for number in range(1, 10):\n",
    "    print(f'2 X {number} = {2 * number}')"
   ]
  },
  {
   "cell_type": "code",
   "execution_count": null,
   "id": "b0ab51d2",
   "metadata": {},
   "outputs": [],
   "source": [
    "for number in range(1, 10):\n",
    "    print(f'2 X {number} = {2 * number}')\n",
    "for number in range(1, 10):\n",
    "    print(f'3 X {number} = {3 * number}')\n",
    "for number in range(1, 10):\n",
    "    print(f'4 X {number} = {4 * number}')\n",
    "for number in range(1, 10):\n",
    "    print(f'5 X {number} = {5 * number}')\n",
    "for number in range(1, 10):\n",
    "    print(f'6 X {number} = {6 * number}')\n",
    "for number in range(1, 10):\n",
    "    print(f'7 X {number} = {7 * number}')\n",
    "for number in range(1, 10):\n",
    "    print(f'8 X {number} = {8 * number}')\n",
    "for number in range(1, 10):\n",
    "    print(f'9 X {number} = {9 * number}')    "
   ]
  },
  {
   "cell_type": "code",
   "execution_count": null,
   "id": "e51a5966",
   "metadata": {},
   "outputs": [],
   "source": [
    "for dan in range(2, 10):\n",
    "    for number in range(1, 10):\n",
    "        print(f'{dan} X {number} = {dan * number}')   "
   ]
  },
  {
   "cell_type": "code",
   "execution_count": null,
   "id": "31a8256f",
   "metadata": {},
   "outputs": [],
   "source": [
    "for dan in range(2, 10):\n",
    "    print()\n",
    "    for number in range(1, 10):\n",
    "        print(f'{dan} X {number} = {dan * number}')  "
   ]
  },
  {
   "cell_type": "code",
   "execution_count": null,
   "id": "7af78d21",
   "metadata": {},
   "outputs": [],
   "source": [
    "for dan in range(2, 10):    \n",
    "    for number in range(1, 10):\n",
    "        print()\n",
    "        print(f'{dan} X {number} = {dan * number}') "
   ]
  },
  {
   "cell_type": "code",
   "execution_count": null,
   "id": "f90dbf55",
   "metadata": {},
   "outputs": [],
   "source": [
    "for dan in range(2, 10):    \n",
    "    for number in range(1, 10):        \n",
    "        print(f'{dan} X {number} = {dan * number}') \n",
    "        print()"
   ]
  },
  {
   "cell_type": "code",
   "execution_count": null,
   "id": "fe7724ae",
   "metadata": {},
   "outputs": [],
   "source": [
    "for dan in range(2, 10):    \n",
    "    for number in range(1, 10):        \n",
    "        print(f'{dan} X {number} = {dan * number}') \n",
    "    print()"
   ]
  },
  {
   "cell_type": "code",
   "execution_count": null,
   "id": "89e55e7b",
   "metadata": {},
   "outputs": [],
   "source": [
    "for dan in range(2, 10):    \n",
    "    for number in range(1, 10): \n",
    "        print(f'-- {dan} 단 --')\n",
    "        print(f'{dan} X {number} = {dan * number}') \n",
    "    print()"
   ]
  },
  {
   "cell_type": "code",
   "execution_count": null,
   "id": "e2ddaf63",
   "metadata": {},
   "outputs": [],
   "source": [
    "for dan in range(2, 10):    \n",
    "    print(f'-- {dan} 단 --')\n",
    "    for number in range(1, 10):        \n",
    "        print(f'{dan} X {number} = {dan * number}') \n",
    "    print()"
   ]
  },
  {
   "cell_type": "code",
   "execution_count": null,
   "id": "1d3833ae",
   "metadata": {
    "scrolled": true
   },
   "outputs": [],
   "source": [
    "for dan in range(2, 10):\n",
    "    for number in range(1, 10):\n",
    "        print(f'{dan} X {number} = {dan * number}')\n",
    "    print()    "
   ]
  },
  {
   "cell_type": "code",
   "execution_count": null,
   "id": "f89e16a3",
   "metadata": {},
   "outputs": [],
   "source": [
    "for num1 in range(1, 4):\n",
    "    for num2 in range(1, 4):\n",
    "        for num3 in range(1, 4):\n",
    "            print(f'{num1} - {num2} - {num3}')       \n",
    "    print()    "
   ]
  },
  {
   "cell_type": "code",
   "execution_count": null,
   "id": "55977b22",
   "metadata": {},
   "outputs": [],
   "source": [
    "'''\n",
    "짝수 단만 출력하세요\n",
    "\n",
    "dan % 2 == 0\n",
    "'''\n",
    "for dan in range(2, 10):\n",
    "    if dan % 2 == 0:\n",
    "        for number in range(1, 10):\n",
    "            print(f'{dan} X {number} = {dan * number}')\n",
    "    print()    \n",
    "    \n",
    "print('-' * 60)    \n",
    "\n",
    "for dan in range(2, 10):\n",
    "    for number in range(1, 10):\n",
    "        if dan % 2 == 0:\n",
    "            print(f'{dan} X {number} = {dan * number}')\n",
    "    print()   "
   ]
  },
  {
   "cell_type": "code",
   "execution_count": null,
   "id": "81dcc708",
   "metadata": {},
   "outputs": [],
   "source": [
    "'''\n",
    "각 단에 홀수만 곱하는 구구단을 출력하세요  \n",
    "\n",
    "'''\n",
    "for dan in range(2, 10):\n",
    "    if number % 2 == 1:\n",
    "        for number in range(1, 10):\n",
    "            print(f'{dan} X {number} = {dan * number}')\n",
    "    print()                        "
   ]
  },
  {
   "cell_type": "code",
   "execution_count": null,
   "id": "af88f7e9",
   "metadata": {},
   "outputs": [],
   "source": [
    "'''\n",
    "각 단에 홀수만 곱하는 구구단을 출력하세요  \n",
    "\n",
    "  NameError: name 'number' is not defined\n",
    "\n",
    "for dan in range(2, 10):\n",
    "    if number % 2 == 1:\n",
    "        for number in range(1, 10):\n",
    "            print(f'{dan} X {number} = {dan * number}')\n",
    "    print()\n",
    "'''\n",
    "for dan in range(2, 10):    \n",
    "    for number in range(1, 10):\n",
    "        if number % 2 == 1:\n",
    "            print(f'{dan} X {number} = {dan * number}')\n",
    "    print()"
   ]
  },
  {
   "cell_type": "code",
   "execution_count": null,
   "id": "7d326829",
   "metadata": {},
   "outputs": [],
   "source": [
    "'''\n",
    "홀수만 곱하는 구구단 if number % 2\n",
    "'''\n",
    "for dan in range(2, 10):    \n",
    "    for number in range(1, 10):\n",
    "        if number % 2:\n",
    "            print(f'{dan} X {number} = {dan * number}')\n",
    "    print()"
   ]
  },
  {
   "cell_type": "code",
   "execution_count": null,
   "id": "4bd477d4",
   "metadata": {},
   "outputs": [],
   "source": [
    "'''\n",
    "짝수만 곱하는 구구단 :  if not number % 2\n",
    "'''\n",
    "for dan in range(2, 10):    \n",
    "    for number in range(1, 10):\n",
    "        if not number % 2:\n",
    "            print(f'{dan} X {number} = {dan * number}')\n",
    "    print()"
   ]
  },
  {
   "cell_type": "code",
   "execution_count": null,
   "id": "2da989e0",
   "metadata": {},
   "outputs": [],
   "source": [
    "'''\n",
    "짝수단에는 짝수만 곱하고\n",
    "홀수단에는 홀수만 곱하는\n",
    "구구단을 출력하세요\n",
    "'''\n",
    "\n",
    "for dan in range(2, 10):\n",
    "    for number in range(1, 10):\n",
    "        if dan % 2 == 0 and number % 2 == 0:\n",
    "            print(f'{dan} X {number} = {dan * number}')\n",
    "        if dan % 2 != 0 and number % 2 != 0:\n",
    "            print(f'{dan} X {number} = {dan * number}')\n",
    "    print()    "
   ]
  },
  {
   "cell_type": "code",
   "execution_count": null,
   "id": "b00d6d63",
   "metadata": {},
   "outputs": [],
   "source": [
    "for dan in range(2, 10):\n",
    "    for number in range(1, 10):\n",
    "        if (dan % 2 == 0 and number % 2 == 0) or (dan % 2 != 0 and number % 2 != 0):\n",
    "            print(f'{dan} X {number} = {dan * number}')\n",
    "    print()  "
   ]
  },
  {
   "cell_type": "code",
   "execution_count": null,
   "id": "98861843",
   "metadata": {},
   "outputs": [],
   "source": [
    "for dan in range(2, 10):\n",
    "    for number in range(1, 10):\n",
    "        if dan % 2 == number % 2:\n",
    "            print(f'{dan} X {number} = {dan * number}')\n",
    "    print()"
   ]
  },
  {
   "cell_type": "code",
   "execution_count": null,
   "id": "3e02012a",
   "metadata": {},
   "outputs": [],
   "source": [
    "str1 = '''나는 클라우드 입니다\n",
    "주소는 가산디지털단지 입니다\n",
    "나이는 23살 입니다'''\n",
    "\n",
    "sentences = []\n",
    "words =[]\n",
    "\n",
    "'''\n",
    "str1 의 문장에서\n",
    "sentences 에는 문장단위로 저장하고\n",
    "words 에는 단어단위('띄어쓰기 기준')로 저장하고\n",
    "문장의 개수와 단어의 개수를 출력하세요\n",
    "\n",
    "\n",
    "str1.split(\"\\n\") - 문장은 줄바꿈으로 되어 있어서 줄바꿈문자로 split() 실행함\n",
    "word.split(\" \") - 단어는 문장에서 공백으로 split() 함\n",
    "\n",
    "'''\n",
    "\n",
    "for sentence in str1.split(\"\\n\"):\n",
    "    sentences.append(sentence)\n",
    "    for word in sentence.split(\" \"):\n",
    "        words.append(word)\n",
    "        \n",
    "print('문장의 개수 : ',len(sentences),'개')\n",
    "print('단어의 개수 : ',len(words),'개')\n",
    "print('sentences :\\n',sentences)\n",
    "print('words     :\\n',words)"
   ]
  },
  {
   "cell_type": "code",
   "execution_count": 219,
   "id": "7992f291",
   "metadata": {},
   "outputs": [
    {
     "name": "stdout",
     "output_type": "stream",
     "text": [
      "정답률 : 60.0 %\n"
     ]
    }
   ],
   "source": [
    "solutions = [1, 2, 4, 1, 2]\n",
    "answers   = [1, 3, 4, 2, 2]\n",
    "'''\n",
    "solutons 은 정답지이고\n",
    "answers 는 학생이 기입안 답안입니다\n",
    "이 두 list 를 사용해서 \n",
    "학생의 정답률을 출력하세요\n",
    "\n",
    "count 변수를 선언하여\n",
    "정답인 경우에만 1 씩 증가시킴\n",
    "\n",
    "정답률 = 정답개수 / 전체문항수 * 100\n",
    "'''\n",
    "count = 0\n",
    "for idx in range(len(solutions)):\n",
    "    if answers[idx] == solutions[idx]:\n",
    "        count += 1\n",
    "\n",
    "correct_rate = count / len(solutions) * 100\n",
    "print(f'정답률 : {correct_rate} %')"
   ]
  },
  {
   "cell_type": "code",
   "execution_count": 224,
   "id": "1c10dfdc",
   "metadata": {},
   "outputs": [
    {
     "name": "stdout",
     "output_type": "stream",
     "text": [
      "주민등록 번호를 입랙해 주세요 : 741212-2659874\n",
      "유효하지 않은 주민등록번호입니다\n"
     ]
    }
   ],
   "source": [
    "'''\n",
    "주민등록번호를 입력받아서 유효성 검사를 하는\n",
    "프로그램을 작성하세요 (for 문 사용하기)\n",
    "\n",
    "    8 0 1 2 1 2 - 2 5 6 4 8 7 4\n",
    "    \n",
    "    8 0 1 2 1 2 - 2 5 6 4 8 7\n",
    "X   2 3 4 5 6 7   8 9 2 3 4 5\n",
    "\n",
    "total : 각 자릿수에 아래의 숫자를 곱한 숫자들의 합\n",
    "\n",
    "11 - (total % 11) == 마지막 자릿수  <-- 유효함 \n",
    "'''\n",
    "pn = input('주민등록 번호를 입랙해 주세요 : ').replace('-', '')\n",
    "\n",
    "# 곱하는 숫자들로 이루어진 list \n",
    "numbers = [2, 3, 4, 5, 6, 7, 8, 9, 2, 3, 4, 5]\n",
    "\n",
    "total = 0\n",
    "for idx in range(len(numbers)):\n",
    "    total += int(pn[idx]) * numbers[idx]\n",
    "\n",
    "result = 11 - (total % 11)\n",
    "\n",
    "if result >= 10:\n",
    "    resul = result % 10\n",
    "    \n",
    "if result == int(pn[-1]):\n",
    "    print('유효한 주민등록번호 입니다')\n",
    "else:\n",
    "    print('유효하지 않은 주민등록번호입니다')"
   ]
  },
  {
   "cell_type": "code",
   "execution_count": null,
   "id": "ad67c0fc",
   "metadata": {},
   "outputs": [],
   "source": []
  }
 ],
 "metadata": {
  "kernelspec": {
   "display_name": "Python 3 (ipykernel)",
   "language": "python",
   "name": "python3"
  },
  "language_info": {
   "codemirror_mode": {
    "name": "ipython",
    "version": 3
   },
   "file_extension": ".py",
   "mimetype": "text/x-python",
   "name": "python",
   "nbconvert_exporter": "python",
   "pygments_lexer": "ipython3",
   "version": "3.10.9"
  }
 },
 "nbformat": 4,
 "nbformat_minor": 5
}
