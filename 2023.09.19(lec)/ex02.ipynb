{
 "cells": [
  {
   "cell_type": "code",
   "execution_count": null,
   "id": "4f4995ee",
   "metadata": {},
   "outputs": [],
   "source": [
    "'''\n",
    "리스트 내포 : list comprehension\n",
    "  ㄴ 리스트 [ ] 안에서 for 문, if 문을 사용함\n",
    "'''\n",
    "\n",
    "numbers1 = [1, 2, 3, 4, 5]\n",
    "numbers2 = []\n",
    "\n",
    "'''\n",
    "numbers1 에 있는 item 들에 3을 곱한 값들을\n",
    "numbers2 에 저장(append) 하세요 (for 문 사용하기)\n",
    "'''\n",
    "for number in numbers1:\n",
    "    numbers2.append(number * 3)\n",
    "print('numbers2 :',numbers2)    \n",
    "'''\n",
    "리스트 [ ] 안에서 for 문, if 문을 사용함\n",
    "\n",
    "  형식]  \n",
    "     [append 되는 값 for 문 첫 째줄]\n",
    "'''\n",
    "print([number * 3 for number in numbers1])"
   ]
  },
  {
   "cell_type": "code",
   "execution_count": null,
   "id": "d711895b",
   "metadata": {},
   "outputs": [],
   "source": [
    "numbers1 = [1, 2, 3, 4, 5]\n",
    "numbers2 = []\n",
    "'''\n",
    "numbers1 에 있는 item 들을 제곱한 값들을\n",
    "numbers2 에 저장(append) 하세요 (for 문 사용하기)\n",
    "'''\n",
    "for number in numbers1:\n",
    "    numbers2.append(number * number)\n",
    "print(numbers2)\n",
    "\n",
    "print([number * number for number in numbers1])"
   ]
  },
  {
   "cell_type": "code",
   "execution_count": null,
   "id": "e88d9e08",
   "metadata": {},
   "outputs": [],
   "source": [
    "list1 = [1, 1, 2, 3, 4, 5, 6, 7]\n",
    "list2 = []\n",
    "\n",
    "'''\n",
    "list1 에서 첫 번째 숫자는 문자열로,\n",
    "두 번째 숫자는 실수로 형변환하고\n",
    "나머지 숫자는 제곱한 값을 list2 에 append해서\n",
    "list2 를 출력하세요\n",
    "\n",
    "리스트 내포에서 조건문 사용하기\n",
    "\n",
    "if - elif - else 형태\n",
    "\n",
    "[if문을 사용한 삼항연산자 for 문]\n",
    "   ㄴ 참일때값 if 조건 else 거짓일때값\n",
    "   \n",
    "\n",
    "'''\n",
    "for idx, number in enumerate(list1):\n",
    "    if idx == 0:\n",
    "        list2.append(str(number))\n",
    "    elif idx == 1:\n",
    "        list2.append(float(number))\n",
    "    else:\n",
    "        list2.append(number ** 2)\n",
    "print(list2)\n",
    "\n",
    "'''\n",
    "[if문을 사용한 삼항연산자 for 문]\n",
    "'''\n",
    "print([str(number) if idx==0 else float(number) if idx==1 else number**2 \\\n",
    "       for idx, number in enumerate(list1)])"
   ]
  },
  {
   "cell_type": "code",
   "execution_count": null,
   "id": "49391c7e",
   "metadata": {},
   "outputs": [],
   "source": [
    "'''\n",
    "1부터 10까지의 정수 중에서 \n",
    "짝수만 제곱해서 (홀수는 그대로) 출력하세요\n",
    "'''\n",
    "result = []\n",
    "for number in range(1, 11):\n",
    "    if not number % 2:\n",
    "        result.append(number ** 2)\n",
    "    else:\n",
    "        result.append(number)\n",
    "print(result)        \n",
    "\n",
    "'''\n",
    "[if문을 사용한 삼항연산자 for 문]\n",
    "   ㄴ 참일때값 if 조건 else 거짓일때값\n",
    "        ㄴ append 되는 값\n",
    "'''\n",
    "print([number ** 2 if not number % 2 else number for number in range(1, 11)])"
   ]
  },
  {
   "cell_type": "code",
   "execution_count": null,
   "id": "f517dd7e",
   "metadata": {},
   "outputs": [],
   "source": [
    "numbers = list(range(1, 11))\n",
    "\n",
    "'''\n",
    "numbers 에서 짝수만 골라서 출력하세요\n",
    "\n",
    "if 문과 for 문을 리스트 내포에서 작성하기\n",
    "  ㄴ elif 나 else 가 없는 if 문의 경우에는\n",
    "  \n",
    "     [for 문 첫 번째 줄 if 문]  <-- 이렇게 작성함  \n",
    "\n",
    "'''\n",
    "numbers = list(range(1, 11))\n",
    "numbers2 =  []\n",
    "\n",
    "for number in numbers:\n",
    "    if not number % 2:\n",
    "        numbers2.append(number)\n",
    "print(numbers2)        \n",
    "\n",
    "#  [append되는 값 for 문 첫 번째 줄 if 조건식] \n",
    "print([number for number in numbers if not number % 2])"
   ]
  },
  {
   "cell_type": "code",
   "execution_count": null,
   "id": "4d15b45d",
   "metadata": {},
   "outputs": [],
   "source": [
    "'''\n",
    "1부터 20 까지의 정수 중에서\n",
    "3의 배수를 제외하고 출력하세요\n",
    "'''\n",
    "numbers1= list(range(1, 21))\n",
    "numbers2 = []\n",
    "\n",
    "# 1) for 문\n",
    "for number in numbers1:\n",
    "    # if number % 3:\n",
    "    if number % 3 != 0:\n",
    "        numbers2.append(number)\n",
    "print(numbers2)\n",
    "\n",
    "# 2) 리스트 내포\n",
    "print([number for number in numbers1 if number % 3])\n",
    "print([number for number in numbers1 if number % 3 != 0])"
   ]
  },
  {
   "cell_type": "code",
   "execution_count": null,
   "id": "1d9aad50",
   "metadata": {},
   "outputs": [],
   "source": [
    "'''\n",
    "1부터 10까지의 정수 중에서 짝수만 제곱해서 출력하세요\n",
    "'''\n",
    "numbers1 = list(range(1, 11))\n",
    "numbers2 = []\n",
    "\n",
    "# for 문\n",
    "for number in numbers1:\n",
    "    if not number % 2:\n",
    "        numbers2.append(number**2)\n",
    "print(numbers2)\n",
    "\n",
    "# 리스트 내포\n",
    "print([number**2 for number in range(1, 11) if not number % 2])"
   ]
  },
  {
   "cell_type": "code",
   "execution_count": 9,
   "id": "3d00c379",
   "metadata": {},
   "outputs": [
    {
     "name": "stdout",
     "output_type": "stream",
     "text": [
      "[11, 4, 13, 16, 15, 36, 17, 64, 19, 100]\n",
      "[11, 4, 13, 16, 15, 36, 17, 64, 19, 100]\n"
     ]
    }
   ],
   "source": [
    "'''\n",
    "1부터 10까지의 정수 중에서 짝수는 제곱해서 출력하고\n",
    "홀수는 10을 더한 값을 출력하세요\n",
    "'''\n",
    "numbers1 = list(range(1, 11))\n",
    "numbers2 = []\n",
    "\n",
    "for number in numbers1:\n",
    "    if not number % 2:\n",
    "        numbers2.append(number ** 2)\n",
    "    else:\n",
    "        numbers2.append(number + 10)\n",
    "print(numbers2)\n",
    "\n",
    "# 리스트 내포\n",
    "print([number**2 if not number % 2 else number+10 for number in numbers1])"
   ]
  },
  {
   "cell_type": "code",
   "execution_count": 25,
   "id": "55e5f11d",
   "metadata": {},
   "outputs": [
    {
     "name": "stdout",
     "output_type": "stream",
     "text": [
      "none_obj : None\n",
      "none_obj : <class 'NoneType'>\n",
      "none_obj : 140735458340544\n",
      "['이순신', '안중근', '', '유관순', '양만춘', '', '윤봉길']\n",
      "['이순신', '안중근', '', '유관순', '양만춘', '', '윤봉길']\n",
      "['이순신', '안중근', None, '유관순', '양만춘', None, '윤봉길']\n"
     ]
    }
   ],
   "source": [
    "'''\n",
    "names 에 저장된 item 중에서 이름이 있으면 그대로 출력하고\n",
    "이름이 없으면(None) 빈문자열을 출력하세요\n",
    "'''\n",
    "names = ['이순신', '안중근', None, '유관순', '양만춘', None, '윤봉길']\n",
    "result = []\n",
    "\n",
    "'''\n",
    "python 에서는 None 이라는 객체가 있음\n",
    "'''\n",
    "none_obj = None\n",
    "print('none_obj :',none_obj)\n",
    "print('none_obj :',type(none_obj))\n",
    "print('none_obj :',id(none_obj))\n",
    "\n",
    "'''\n",
    "    if name:\n",
    "        result.append(name)\n",
    "      <-- name 변수가 할당받은 문자열의 주소지에 있는 data 를 출력함\n",
    "      \n",
    "'''\n",
    "for name in names:\n",
    "    if name:\n",
    "        result.append(name)\n",
    "    else:\n",
    "        result.append('')\n",
    "print(result)    \n",
    "print([name if name else '' for name in names]) \n",
    "\n",
    "# names = ['이순신', '안중근', None, '유관순', '양만춘', None, '윤봉길']\n",
    "# if name in names <-- name 에 None 이 오는 경우\n",
    "print([name if name in names else '' for name in names])        "
   ]
  },
  {
   "cell_type": "code",
   "execution_count": 28,
   "id": "d21c4e2a",
   "metadata": {},
   "outputs": [
    {
     "name": "stdout",
     "output_type": "stream",
     "text": [
      "['합격', '합격', '불합격', '합격', '불합격', '합격', '불합격']\n",
      "['합격', '합격', '불합격', '합격', '불합격', '합격', '불합격']\n"
     ]
    }
   ],
   "source": [
    "scores = [87, 92, 54, 100, 67, 81 ,77]\n",
    "result = []\n",
    "'''\n",
    "성적이 80점 이상이면 합격이라고 출력하고\n",
    "80점 미만이면 불합격이라고 출력하세요\n",
    "'''\n",
    "for score in scores:\n",
    "    if score >= 80:\n",
    "        result.append('합격')\n",
    "    else:\n",
    "        result.append('불합격')\n",
    "print(result)       \n",
    "print(['합격' if score >= 80 else '불합격' for score in scores])"
   ]
  },
  {
   "cell_type": "code",
   "execution_count": 31,
   "id": "67e521a4",
   "metadata": {},
   "outputs": [
    {
     "name": "stdout",
     "output_type": "stream",
     "text": [
      "[1, -2, -4, 5, 7, -8, -10, 11, 13, -14, -16, 17, 19, -20]\n",
      "[1, -2, -4, 5, 7, -8, -10, 11, 13, -14, -16, 17, 19, -20]\n"
     ]
    }
   ],
   "source": [
    "'''\n",
    "1부터 20까지의 정수 중에서 3의 배수를 제외하고\n",
    "2의 배수는 음수로 출력하고, 2의 배수가 아니면 그대로 출력하세요\n",
    "\n",
    "리스트내포에서 중첩 if 문 사용하기\n",
    "\n",
    "[내부if문(if 를 사용한 삼항연산자) for 문 외부 if문]\n",
    "\n",
    "'''\n",
    "result = []\n",
    "for number in range(1, 21):\n",
    "    if number % 3:\n",
    "        if not number % 2:\n",
    "            result.append(-number)\n",
    "        else:\n",
    "            result.append(number)\n",
    "print(result)          \n",
    "\n",
    "# [내부if문(if 를 사용한 삼항연산자) for 문 외부 if문]\n",
    "print([-number if not number % 2 else number for number in range(1, 21) if number % 3])"
   ]
  },
  {
   "cell_type": "code",
   "execution_count": null,
   "id": "c19e3730",
   "metadata": {},
   "outputs": [],
   "source": []
  },
  {
   "cell_type": "code",
   "execution_count": null,
   "id": "2df045f6",
   "metadata": {},
   "outputs": [],
   "source": []
  }
 ],
 "metadata": {
  "kernelspec": {
   "display_name": "Python 3 (ipykernel)",
   "language": "python",
   "name": "python3"
  },
  "language_info": {
   "codemirror_mode": {
    "name": "ipython",
    "version": 3
   },
   "file_extension": ".py",
   "mimetype": "text/x-python",
   "name": "python",
   "nbconvert_exporter": "python",
   "pygments_lexer": "ipython3",
   "version": "3.10.9"
  }
 },
 "nbformat": 4,
 "nbformat_minor": 5
}
