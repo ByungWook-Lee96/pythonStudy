{
 "cells": [
  {
   "cell_type": "code",
   "execution_count": 9,
   "id": "6a544a85",
   "metadata": {},
   "outputs": [
    {
     "name": "stdout",
     "output_type": "stream",
     "text": [
      "1 2 3 4 5 \n",
      "1 2 3 4 5 \n",
      "0 1 2 3 4 5 \n",
      "1 2 3 4 5 6 \n",
      "1 2 3 4 5 "
     ]
    }
   ],
   "source": [
    "'''\n",
    "for 반복문 : 주로 반복 횟수가 정해져있거나 중요한 경우에 사용함\n",
    "\n",
    "    for num in [1, 2, 3, 4, 5]:  <-- 시작, 종료, 반복횟수가 정해짐\n",
    "        print(num)\n",
    "\n",
    "while 반복문 : 주로 반복 횟수가 정해져있지 않는 경우에 사용함\n",
    "    \n",
    "    while 조건식:  <-- 조건식이 참이면 반복하고 거짓이 되는 순간 반복을 종료함\n",
    "        반복할 명령문\n",
    "        반복할 명령문\n",
    "        반복할 명령문\n",
    "        ...\n",
    "'''\n",
    "for num in [1, 2, 3, 4, 5]:\n",
    "    print(num, end=' ')\n",
    "\n",
    "print()\n",
    "\n",
    "# 초기화식\n",
    "num = 1\n",
    "# 조건식\n",
    "while num < 6:\n",
    "    print(num, end=' ')\n",
    "    #증감식\n",
    "    num += 1\n",
    "\n",
    "print()\n",
    "num = 0\n",
    "while num < 6:\n",
    "    print(num, end=' ')\n",
    "    num += 1\n",
    "\n",
    "print()\n",
    "num = 0\n",
    "while num < 6:\n",
    "    num += 1\n",
    "    print(num, end=' ')\n",
    "    \n",
    "print()\n",
    "num = 0\n",
    "while num < 5:\n",
    "    num += 1\n",
    "    print(num, end=' ')\n"
   ]
  },
  {
   "cell_type": "code",
   "execution_count": 10,
   "id": "0180c57a",
   "metadata": {},
   "outputs": [
    {
     "name": "stdout",
     "output_type": "stream",
     "text": [
      "5 4 3 2 1 0 "
     ]
    }
   ],
   "source": [
    "# 초기화식\n",
    "num = 5\n",
    "# (종료)조건식\n",
    "while num >= 0:\n",
    "    print(num, end=' ')\n",
    "    #증감식\n",
    "    num -= 1"
   ]
  },
  {
   "cell_type": "code",
   "execution_count": 24,
   "id": "047ac0dc",
   "metadata": {},
   "outputs": [
    {
     "name": "stdout",
     "output_type": "stream",
     "text": [
      "정수 하나를 입력하세요 (1~100) : 50\n",
      "82\n",
      "더 큰 수를 입력하세요 :82\n",
      "정답입니다. 축하드립니다\n",
      "com : 82, user : 82\n",
      "2 번 시도하셨습니다.\n"
     ]
    }
   ],
   "source": [
    "'''\n",
    "숫자 맞히기 게임\n",
    "\n",
    "1부터 100까지의 정수 중에서 \n",
    "임의의 숫자를 발생시키고   <-- randint(1, 100)\n",
    "이 숫자를 맞히면 종료하는 게임을 작성하세요\n",
    "'''\n",
    "\n",
    "import random\n",
    "from random import randint, randrange\n",
    "from random import *\n",
    "\n",
    "com = randint(1, 100)\n",
    "\n",
    "\n",
    "'''\n",
    "종료 조건 : 컴퓨터가 발생시킨 숫자와 사람이 입력한 숫자가 다른 경우에는 계속 반복함\n",
    "            같은 경우에는 프로그램을 종료함 \n",
    "'''\n",
    "\n",
    "user = int(input('정수 하나를 입력하세요 (1~100) : '))\n",
    "count = 1\n",
    "while com != user:\n",
    "    count += 1\n",
    "    print(com)\n",
    "    if com > user:\n",
    "        user = int(input('더 큰 수를 입력하세요 :'))\n",
    "    else:\n",
    "        user = int(input('더 작은 수를 입력하세요.'))\n",
    "print('정답입니다. 축하드립니다')\n",
    "print(f'com : {com}, user : {user}')\n",
    "print(f'{count} 번 시도하셨습니다.')\n",
    "\n",
    "        "
   ]
  },
  {
   "cell_type": "code",
   "execution_count": 35,
   "id": "03c94c18",
   "metadata": {},
   "outputs": [
    {
     "name": "stdout",
     "output_type": "stream",
     "text": [
      "가위 바위 보 중에서만 하나를 입력하세요 :  바위\n",
      "비겼습니다.\n",
      "나는 바위 를 냈습니다.\n",
      "컴퓨터는 바위 를 냈습니다.\n"
     ]
    }
   ],
   "source": [
    "'''\n",
    "가위 바위 보 게임\n",
    " 1    2   3\n",
    "\n",
    "    1) 컴퓨터가 1, 2, 3 중에서 하나를 임의로 발생시킴 : randint(1, 3)\n",
    "        1 -> 가위\n",
    "        2 -> 바위\n",
    "        3 -> 보\n",
    "    2) 사람(user)이 가위, 바위, 보 중에서 하나를 입력함 : input()\n",
    "        가위 -> 1\n",
    "        바위 -> 2\n",
    "        보   -> 3\n",
    "        \n",
    "        user - com을 실행함\n",
    "        \n",
    "    3) 사람이 이기는 경우  : result가 1 or -2 인 경우\n",
    "        \n",
    "        user(1) - com(3) : -2\n",
    "        user(2) - com(1) :  1\n",
    "        user(3) - com(2) :  1\n",
    "\n",
    "    4) 컴퓨터가 이기는 경우 :  result가 2 or -1 인 경우\n",
    "        user(1) - com(2) : -1\n",
    "        user(2) - com(3) : -1\n",
    "        user(3) - com(1) :  2\n",
    "\n",
    "'''\n",
    "\n",
    "from random import *\n",
    "\n",
    "com = randint(1, 3)\n",
    "com_input = ''\n",
    "if com == 1:\n",
    "    com_input = '가위'\n",
    "elif com == 2:\n",
    "    com_input = '바위'\n",
    "else:\n",
    "    com_input = '보'\n",
    "\n",
    "user_input = input('가위 바위 보 중에서만 하나를 입력하세요 :  ')\n",
    "user = 0\n",
    "if user_input == '가위':\n",
    "    user = 1\n",
    "elif user_input == '바위':\n",
    "    user = 2\n",
    "elif user_input == '보':\n",
    "    user = 3\n",
    "else:\n",
    "    user = 100\n",
    "if user == 100:\n",
    "    print(\"잘못 입력하셨습니다.\")\n",
    "else:\n",
    "    result = user - com\n",
    "    #if result == 1 or result == -2:\n",
    "    if result in [1, -2]:\n",
    "        print(\"당신이 이겼습니다.\")\n",
    "    elif result in [2, -1]:\n",
    "        print(\"당신이 졌습니다.\")\n",
    "    else:\n",
    "        print(\"비겼습니다.\")\n",
    "    print(f'나는 {user_input} 를 냈습니다.')\n",
    "    print(f'컴퓨터는 {com_input} 를 냈습니다.')\n",
    "\n"
   ]
  },
  {
   "cell_type": "code",
   "execution_count": null,
   "id": "2bb4508c",
   "metadata": {},
   "outputs": [],
   "source": []
  },
  {
   "cell_type": "code",
   "execution_count": null,
   "id": "25659a5a",
   "metadata": {},
   "outputs": [],
   "source": []
  },
  {
   "cell_type": "code",
   "execution_count": null,
   "id": "95e35d24",
   "metadata": {},
   "outputs": [],
   "source": []
  },
  {
   "cell_type": "code",
   "execution_count": null,
   "id": "2a0d239e",
   "metadata": {},
   "outputs": [],
   "source": []
  }
 ],
 "metadata": {
  "kernelspec": {
   "display_name": "Python 3 (ipykernel)",
   "language": "python",
   "name": "python3"
  },
  "language_info": {
   "codemirror_mode": {
    "name": "ipython",
    "version": 3
   },
   "file_extension": ".py",
   "mimetype": "text/x-python",
   "name": "python",
   "nbconvert_exporter": "python",
   "pygments_lexer": "ipython3",
   "version": "3.10.9"
  }
 },
 "nbformat": 4,
 "nbformat_minor": 5
}
