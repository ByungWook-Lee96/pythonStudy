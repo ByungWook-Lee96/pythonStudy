{
 "cells": [
  {
   "cell_type": "code",
   "execution_count": 7,
   "id": "eaf350f3",
   "metadata": {},
   "outputs": [
    {
     "name": "stdout",
     "output_type": "stream",
     "text": [
      "numbers2 : [3, 6, 9, 12, 15]\n",
      "numbers2 : [3, 6, 9, 12, 15]\n"
     ]
    }
   ],
   "source": [
    "'''\n",
    "리스트 내포 : list comprehension\n",
    "    ㄴ 리스트 [] 안에서 for 문, if 문을 사용함\n",
    "    \n",
    "    형식\n",
    "        [append 되는 값 for 문 첫번째 줄]\n",
    "        \n",
    "'''\n",
    "\n",
    "numbers1 = [1, 2, 3, 4, 5]\n",
    "numbers2 = []\n",
    "\n",
    "'''\n",
    "numbers1 에 있는 item 들에 3을 곱한 값들을\n",
    "numbers2 에 저장(append) 하세요\n",
    "'''\n",
    "\n",
    "for number in numbers1:\n",
    "    numbers2.append(number*3)\n",
    "print('numbers2 :', numbers2)\n",
    "\n",
    "# 리스트 내포 버전\n",
    "numbers2 = [number*3 for number in numbers1]\n",
    "print('numbers2 :', numbers2)\n"
   ]
  },
  {
   "cell_type": "code",
   "execution_count": 9,
   "id": "4dcb8c4c",
   "metadata": {},
   "outputs": [
    {
     "name": "stdout",
     "output_type": "stream",
     "text": [
      "numbers2 : [1, 4, 9, 16, 25]\n",
      "numbers2 : [1, 4, 9, 16, 25]\n"
     ]
    }
   ],
   "source": [
    "numbers1 = [1, 2, 3, 4, 5]\n",
    "numbers2 = []\n",
    "\n",
    "'''\n",
    "numbers1 에 있는 item 들을제곱한 값들을\n",
    "numbers2 에 저장(append) 하세요\n",
    "'''\n",
    "\n",
    "for number in numbers1:\n",
    "    numbers2.append(number * number)\n",
    "    # numbers2.append(number ** 2)\n",
    "    \n",
    "print('numbers2 :', numbers2)\n",
    "\n",
    "numbers2 = [number * number for number in numbers1]\n",
    "print('numbers2 :', numbers2)\n"
   ]
  },
  {
   "cell_type": "code",
   "execution_count": 19,
   "id": "0c220c2f",
   "metadata": {},
   "outputs": [
    {
     "name": "stdout",
     "output_type": "stream",
     "text": [
      "list1 : ['1', '2', '3', 4, 5, 6, '7', 8, '9']\n",
      "list2 : [1, 2, 3, 4, 5, 6, 7, 8, 9]\n"
     ]
    }
   ],
   "source": [
    "list1 = ['1', '2', '3', 4, 5, 6, '7', 8, '9']\n",
    "list2 = []\n",
    "\n",
    "'''\n",
    "list1에서 문자열을 정수로 형변환해서\n",
    "list2에 append 한 후 list2를 출력하세요\n",
    "'''\n",
    "\n",
    "list2 = [int(i) for i in list1]\n",
    "print('list1 :', list1)\n",
    "print('list2 :', list2)"
   ]
  },
  {
   "cell_type": "code",
   "execution_count": 23,
   "id": "77c999ea",
   "metadata": {},
   "outputs": [
    {
     "name": "stdout",
     "output_type": "stream",
     "text": [
      "['1', 2.0, 9, 16, 25, 36, 49, 64, 81]\n",
      "['1', 2.0, 9, 16, 25, 36, 49, 64, 81]\n"
     ]
    }
   ],
   "source": [
    "list1 = [1, 2, 3, 4, 5, 6, 7, 8, 9]\n",
    "list2 = []\n",
    "\n",
    "'''\n",
    "list1에서 첫번째 숫자는 문자열로\n",
    "두번째 숫자는 실수로 형변환하고\n",
    "나머지 숫자는 제곱한 값을 list2에 append 하게 출력하세요.\n",
    "\n",
    "리스트 내포에서 조건문 사용하기\n",
    "if - elif -else 형태\n",
    "\n",
    "[if문을 사용한 삼항연산자 for 문]\n",
    "    ㄴ [참일 때 값 if 조건 else 거짓일 때 값 for 문]\n",
    "    ㄴ append 되는 값\n",
    "'''\n",
    "\n",
    "for idx, number in enumerate(list1):\n",
    "    if idx == 0:\n",
    "        list2.append(str(number))\n",
    "    elif idx == 1:\n",
    "        list2.append(float(number))\n",
    "    else:\n",
    "        list2.append(number ** 2)\n",
    "print(list2)\n",
    "\n",
    "\n",
    "print([str(number) if idx == 0 else float(number) if idx == 1 else number **  2 for idx, number in enumerate(list1)])"
   ]
  },
  {
   "cell_type": "code",
   "execution_count": 25,
   "id": "924825b9",
   "metadata": {},
   "outputs": [
    {
     "name": "stdout",
     "output_type": "stream",
     "text": [
      "[1, 4, 3, 16, 5, 36, 7, 64, 9, 100]\n",
      "[1, 4, 3, 16, 5, 36, 7, 64, 9, 100]\n"
     ]
    }
   ],
   "source": [
    "'''\n",
    "1부터 10까지 정수 중에서\n",
    "짝수만 제곱해서 (홀수는 그대로) 출력하세요\n",
    "'''\n",
    "result = []\n",
    "for number in range(1, 11):\n",
    "    if not number % 2:\n",
    "        result.append(number ** 2)\n",
    "    else:\n",
    "        result.append(number)\n",
    "print(result)\n",
    "\n",
    "print([number ** 2 if not number % 2 else number for number in range(1, 11)])"
   ]
  },
  {
   "cell_type": "code",
   "execution_count": 29,
   "id": "0dac5970",
   "metadata": {},
   "outputs": [
    {
     "name": "stdout",
     "output_type": "stream",
     "text": [
      "[2, 4, 6, 8, 10]\n",
      "[2, 4, 6, 8, 10]\n"
     ]
    }
   ],
   "source": [
    "numbers = list(range(1, 11))\n",
    "\n",
    "'''\n",
    "numbers 에서 짝수만 골라서 출력하세요\n",
    "\n",
    "if 문과 for문을 리스트 내포에서 작성하기\n",
    "    ㄴ elif 나 else 가 없는 if 문은\n",
    "    [for 문 첫번째 줄 if 문]  <-- 이렇게 작성\n",
    "'''\n",
    "numbers = list(range(1, 11))\n",
    "numbers2 = []\n",
    "\n",
    "for number in numbers:\n",
    "    if not number % 2:\n",
    "        numbers2.append(number)\n",
    "print(numbers2)\n",
    "\n",
    "# if문을 사용하지만 elif나 else가 없는 경우는 아래와 같은 형식으로 사용\n",
    "print([number for number in numbers if not number % 2])"
   ]
  },
  {
   "cell_type": "code",
   "execution_count": 41,
   "id": "54fd14f7",
   "metadata": {
    "scrolled": true
   },
   "outputs": [
    {
     "name": "stdout",
     "output_type": "stream",
     "text": [
      "[1, 2, 4, 5, 7, 8, 10, 11, 13, 14, 16, 17, 19, 20]\n",
      "[1, 2, 4, 5, 7, 8, 10, 11, 13, 14, 16, 17, 19, 20]\n"
     ]
    }
   ],
   "source": [
    "'''\n",
    "1부터 20까지의 정수 중에서\n",
    "3의 배수를 제외하고 출력하세요\n",
    "'''\n",
    "numbers1 = list(range(1, 21))\n",
    "numbers2 = []\n",
    "\n",
    "# 1) for 문\n",
    "for number in numbers1:\n",
    "    if number % 3:\n",
    "        numbers2.append(number)\n",
    "print(numbers2)\n",
    "\n",
    "# 2) 리스트 내포\n",
    "print([number for number in numbers1 if number % 3])"
   ]
  },
  {
   "cell_type": "code",
   "execution_count": 47,
   "id": "42d9c748",
   "metadata": {},
   "outputs": [
    {
     "name": "stdout",
     "output_type": "stream",
     "text": [
      "4 16 36 64 100 \n",
      "[4, 16, 36, 64, 100]\n"
     ]
    }
   ],
   "source": [
    "'''\n",
    "1부터 10까지의 정수 중에서 짝수만 제곱해서 출력하세요\n",
    "'''\n",
    "\n",
    "# for 문\n",
    "for num in range(1,11):\n",
    "    if not num % 2:\n",
    "        print(num ** 2, end= \" \")\n",
    "print()\n",
    "# 리스트 내포\n",
    "print([num ** 2 for num in range(1,11) if not num % 2])"
   ]
  },
  {
   "cell_type": "code",
   "execution_count": 49,
   "id": "603c5162",
   "metadata": {},
   "outputs": [
    {
     "name": "stdout",
     "output_type": "stream",
     "text": [
      "[11, 4, 13, 16, 15, 36, 17, 64, 19, 100]\n",
      "[11, 4, 13, 16, 15, 36, 17, 64, 19, 100]\n"
     ]
    }
   ],
   "source": [
    "'''\n",
    "1부터 10까지의 정수 중에서 짝수는 제곱해서 출력하고\n",
    "홀수는 10을 더한 값을 출력하세요\n",
    "'''\n",
    "\n",
    "numbers1 = list(range(1, 11))\n",
    "numbers2 = list()\n",
    "\n",
    "print([num **2 if not num % 2 else num + 10 for num in numbers1])\n",
    "\n",
    "for num in numbers:\n",
    "    if not num % 2:\n",
    "        numbers2.append(num ** 2)\n",
    "    else:\n",
    "        numbers2.append(num + 10)\n",
    "print(numbers2)"
   ]
  },
  {
   "cell_type": "code",
   "execution_count": 57,
   "id": "131f8027",
   "metadata": {},
   "outputs": [
    {
     "name": "stdout",
     "output_type": "stream",
     "text": [
      "['이순신', '안중근', '', '유관순', '양만춘', '', '윤봉길']\n",
      "['이순신', '안중근', '', '유관순', '양만춘', '', '윤봉길']\n",
      "['이순신', '안중근', '', '유관순', '양만춘', '', '윤봉길']\n"
     ]
    }
   ],
   "source": [
    "'''\n",
    "names에 저장된 item 중에서 이름이 있으면 그대로 출력하고\n",
    "이름이 없으면 None 빈 문자열을 출력하세요\n",
    "'''\n",
    "\n",
    "names = ['이순신', '안중근', None, '유관순', '양만춘', None, '윤봉길']\n",
    "result = []\n",
    "\n",
    "'''\n",
    "python에서는 None이라는 객체가 있음\n",
    "'''\n",
    "\n",
    "for name in names:\n",
    "    if name:\n",
    "        result.append(name)\n",
    "    else:\n",
    "        result.append('')\n",
    "print(result)\n",
    "\n",
    "print(['' if name == None else name for name in names])\n",
    "print([name if name else '' for name in names])\n",
    "\n",
    "# if name in names <-- name 에 None이 오는 경우\n",
    "print([name if name in names else '' for name in names])"
   ]
  },
  {
   "cell_type": "code",
   "execution_count": 58,
   "id": "16c17750",
   "metadata": {},
   "outputs": [
    {
     "name": "stdout",
     "output_type": "stream",
     "text": [
      "['합격', '합격', '불합격', '합격', '불합격', '합격', '불합격']\n"
     ]
    }
   ],
   "source": [
    "scores = [87, 92, 54, 100, 67, 81, 77]\n",
    "result = []\n",
    "'''\n",
    "성적이 80점이상이면 합격이라고 출력하고\n",
    "80점 미만이면 불합격이라고 출력하세요\n",
    "'''\n",
    "print([\"합격\" if score >=80 else \"불합격\" for score in scores])"
   ]
  },
  {
   "cell_type": "code",
   "execution_count": 64,
   "id": "fdb1c9c2",
   "metadata": {},
   "outputs": [
    {
     "name": "stdout",
     "output_type": "stream",
     "text": [
      "[1, -2, -4, 5, 7, -8, -10, 11, 13, -14, -16, 17, 19, -20]\n",
      "[1, -2, -4, 5, 7, -8, -10, 11, 13, -14, -16, 17, 19, -20]\n"
     ]
    }
   ],
   "source": [
    "'''\n",
    "1부터 20까지의 정수 중에서 3의 배수를 제외하고\n",
    "2의 배수는 음수로 출력하고, 2의 배수가 아니면 그대로 출력하세요\n",
    "\n",
    "리스트내포에서 중첩 if 문 사용하기\n",
    "\n",
    "[내부if문(if를 사용한 삼항연산자) for 문 외부 if문]\n",
    "\n",
    "'''\n",
    "\n",
    "result = []\n",
    "for number in range(1, 21):\n",
    "    if number % 3:\n",
    "        if not number % 2:\n",
    "            result.append(-number)\n",
    "        else:\n",
    "            result.append(number)\n",
    "print(result)\n",
    "\n",
    "# [내부if문(if를 사용한 삼항연산자) for 문 외부 if문]\n",
    "print([-number if not number % 2 else number for number in range(1, 21) if number % 3])"
   ]
  },
  {
   "cell_type": "code",
   "execution_count": null,
   "id": "60cf2dd2",
   "metadata": {},
   "outputs": [],
   "source": []
  },
  {
   "cell_type": "code",
   "execution_count": null,
   "id": "cfbaba89",
   "metadata": {},
   "outputs": [],
   "source": []
  },
  {
   "cell_type": "code",
   "execution_count": null,
   "id": "0b06a231",
   "metadata": {},
   "outputs": [],
   "source": []
  },
  {
   "cell_type": "code",
   "execution_count": null,
   "id": "6694e346",
   "metadata": {},
   "outputs": [],
   "source": []
  }
 ],
 "metadata": {
  "kernelspec": {
   "display_name": "Python 3 (ipykernel)",
   "language": "python",
   "name": "python3"
  },
  "language_info": {
   "codemirror_mode": {
    "name": "ipython",
    "version": 3
   },
   "file_extension": ".py",
   "mimetype": "text/x-python",
   "name": "python",
   "nbconvert_exporter": "python",
   "pygments_lexer": "ipython3",
   "version": "3.10.9"
  }
 },
 "nbformat": 4,
 "nbformat_minor": 5
}
