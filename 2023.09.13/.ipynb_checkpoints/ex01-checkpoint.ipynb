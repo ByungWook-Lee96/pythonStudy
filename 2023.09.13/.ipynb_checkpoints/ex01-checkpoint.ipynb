{
 "cells": [
  {
   "cell_type": "code",
   "execution_count": null,
   "id": "a0cf9b58",
   "metadata": {},
   "outputs": [],
   "source": []
  },
  {
   "cell_type": "markdown",
   "id": "baf11e7e",
   "metadata": {},
   "source": [
    "# 파이썬\n",
    "## 파이썬\n",
    "### 파이썬\n",
    "#### 파이썬\n",
    "##### 파이썬\n",
    "\n",
    "- 파이썬\n",
    "  - 프로그래밍\n",
    "    - 수업\n",
    "      - 기초\n",
    "        - 과정"
   ]
  },
  {
   "cell_type": "code",
   "execution_count": null,
   "id": "c66b4812",
   "metadata": {},
   "outputs": [],
   "source": [
    "name = \"클라우드\"\n",
    "\n",
    "_name = '클라우드'\n",
    "\n",
    "# snake case(언더바 사용) : 변수, 함수(메소드)\n",
    "sudent_name = \"홍길동\"\n",
    "\n",
    "# camel case : 클래스 이름 - 첫 글자 대문자\n",
    "studentName = \"홍길동\"\n",
    "\n",
    "\n"
   ]
  },
  {
   "cell_type": "code",
   "execution_count": 3,
   "id": "9d7bc4bf",
   "metadata": {},
   "outputs": [
    {
     "name": "stdout",
     "output_type": "stream",
     "text": [
      "number : 10\n",
      "number : 20\n",
      "number : 30\n",
      "number : 40\n"
     ]
    }
   ],
   "source": [
    "number = 10\n",
    "print('number :', number)\n",
    "number = 20\n",
    "print('number :', number)\n",
    "number = 30\n",
    "print('number :', number)\n",
    "number = 40\n",
    "print('number :', number)"
   ]
  },
  {
   "cell_type": "code",
   "execution_count": 18,
   "id": "8ffb8451",
   "metadata": {},
   "outputs": [
    {
     "name": "stdout",
     "output_type": "stream",
     "text": [
      "number : 1474773713424\n",
      "number : 1474880993200\n",
      "number : 1474843348656\n",
      "number : 140709571348688\n"
     ]
    }
   ],
   "source": [
    "number = 10\n",
    "print('number :', id(number))\n",
    "number = 20.424\n",
    "print('number :', id(number))\n",
    "number = \"30\"\n",
    "print('number :', id(number))\n",
    "number = True\n",
    "print('number :', id(number))\n"
   ]
  },
  {
   "cell_type": "code",
   "execution_count": null,
   "id": "fac784ed",
   "metadata": {},
   "outputs": [],
   "source": [
    "# 한 줄 주석\n",
    "\n",
    "'''\n",
    "여러 줄 주석\n",
    "'''\n",
    "\n",
    "\"\"\"\n",
    "여러 줄 주석\n",
    "\"\"\""
   ]
  },
  {
   "cell_type": "code",
   "execution_count": 10,
   "id": "b0f230cd",
   "metadata": {},
   "outputs": [
    {
     "name": "stdout",
     "output_type": "stream",
     "text": [
      "True\n",
      "True\n",
      "id(a) :  1474773713136\n",
      "id(b) :  1474773713136\n",
      "True\n",
      "False\n",
      "id(num1) :  1474773713136\n",
      "id(num2) :  1474852737264\n"
     ]
    }
   ],
   "source": [
    "a = 1\n",
    "b = 1\n",
    "print(a is b)\n",
    "print(a == b)\n",
    "print('id(a) : ', id(a))\n",
    "print('id(b) : ', id(b))\n",
    "\n",
    "num1 = 1\n",
    "num2 = 1.0\n",
    "\n",
    "# == : 값만 비교 \n",
    "print(num1 == num2)\n",
    "\n",
    "# 숫자를 비교할 때는 is 연산자는 권장하지 않음\n",
    "# is : 값, type, (주소) 을 비교\n",
    "print(num1 is num2)\n",
    "\n",
    "print('id(num1) : ', id(num1))\n",
    "print('id(num2) : ', id(num2))"
   ]
  },
  {
   "cell_type": "code",
   "execution_count": 12,
   "id": "a076e978",
   "metadata": {},
   "outputs": [
    {
     "name": "stdout",
     "output_type": "stream",
     "text": [
      "10\n",
      "10\n",
      "1474773713424 1474773713424\n"
     ]
    }
   ],
   "source": [
    "# 42Page\n",
    "\n",
    "no = 10\n",
    "bunho = no\n",
    "'''\n",
    "할당 연산(=) : 주소를 복사함\n",
    "'''\n",
    "\n",
    "print(no)\n",
    "print(bunho)\n",
    "print(id(no),id(bunho))"
   ]
  },
  {
   "cell_type": "code",
   "execution_count": 15,
   "id": "ed0084f1",
   "metadata": {},
   "outputs": [
    {
     "name": "stdout",
     "output_type": "stream",
     "text": [
      "a :  1\n",
      "b :  1\n",
      "c :  1\n",
      "1474773713136\n",
      "1474773713136\n",
      "1474773713136\n"
     ]
    }
   ],
   "source": [
    "'''\n",
    "할당 연산 방향 : 오른쪽에서 왼쪽으로 이루어짐(<-)\n",
    "'''\n",
    "\n",
    "a = b = c = 1\n",
    "\n",
    "c = 1\n",
    "b = c\n",
    "a = b\n",
    "print('a : ', a)\n",
    "print('b : ', b)\n",
    "print('c : ', c)\n",
    "\n",
    "print(id(a))\n",
    "print(id(b))\n",
    "print(id(c))\n",
    "\n",
    "'''\n",
    "변수는 한 번에 1개의 값만 연결됨\n",
    "'''"
   ]
  },
  {
   "cell_type": "code",
   "execution_count": 2,
   "id": "58263d4b",
   "metadata": {
    "scrolled": true
   },
   "outputs": [
    {
     "name": "stdout",
     "output_type": "stream",
     "text": [
      "10\n",
      "20\n",
      "30\n",
      "(10, 20, 30)\n",
      "(10, 20, 30)\n"
     ]
    }
   ],
   "source": [
    "# 43 page\n",
    "\n",
    "num1, num2, num3 = 10, 20, 30\n",
    "\n",
    "print(num1)\n",
    "print(num2)\n",
    "print(num3)\n",
    "\n",
    "# tuple : ()를 생략할 수 있음\n",
    "# packing\n",
    "numbers = 10, 20, 30\n",
    "# unpacking\n",
    "numbers = (10, 20, 30)\n",
    "print(numbers)\n"
   ]
  },
  {
   "cell_type": "code",
   "execution_count": 21,
   "id": "c6d4862f",
   "metadata": {},
   "outputs": [
    {
     "name": "stdout",
     "output_type": "stream",
     "text": [
      "['False', 'None', 'True', 'and', 'as', 'assert', 'async', 'await', 'break', 'class', 'continue', 'def', 'del', 'elif', 'else', 'except', 'finally', 'for', 'from', 'global', 'if', 'import', 'in', 'is', 'lambda', 'nonlocal', 'not', 'or', 'pass', 'raise', 'return', 'try', 'while', 'with', 'yield']\n"
     ]
    }
   ],
   "source": [
    "import keyword\n",
    "# 이미 파이썬에서 사용하고 있는 예약어\n",
    "print(keyword.kwlist)"
   ]
  },
  {
   "cell_type": "code",
   "execution_count": 27,
   "id": "ac8ec9b6",
   "metadata": {},
   "outputs": [
    {
     "name": "stdout",
     "output_type": "stream",
     "text": [
      "AWS 클라우드 스쿨\n",
      "AWS 클라우드 스쿨\n",
      "------------------------------------------------------------\n",
      "AWS \n",
      "클라우드 \n",
      "스쿨\n",
      "\n",
      "AWS \n",
      "클라우드 \n",
      "스쿨\n",
      "\n"
     ]
    }
   ],
   "source": [
    "# 44page\n",
    "# 큰따옴표 작은따옴표 동일하게 문자열 노출됨  \n",
    "str1 = \"AWS 클라우드 스쿨\"\n",
    "print(str1)\n",
    "\n",
    "str1 = 'AWS 클라우드 스쿨'\n",
    "print(str1)\n",
    "\n",
    "print('-' * 60)\n",
    "\n",
    "# 줄바꿈 : \\n\n",
    "str1 = 'AWS \\n클라우드 \\n스쿨'\n",
    "print(str1)\n",
    "\n",
    "str1 = \"\"\"\n",
    "AWS \n",
    "클라우드 \n",
    "스쿨\n",
    "\"\"\"\n",
    "print(str1)"
   ]
  },
  {
   "cell_type": "code",
   "execution_count": 28,
   "id": "9159d259",
   "metadata": {},
   "outputs": [
    {
     "name": "stdout",
     "output_type": "stream",
     "text": [
      "AWS 클라우드 스쿨 2기 과정입니다\n",
      "AWS 클라우드 스쿨 '2기' 과정입니다\n",
      "AWS 클라우드 스쿨 \"2기\" 과정입니다\n"
     ]
    }
   ],
   "source": [
    "str1 = \"AWS 클라우드 스쿨 2기 과정입니다\"\n",
    "print(str1)\n",
    "str1 = \"AWS 클라우드 스쿨 '2기' 과정입니다\"\n",
    "print(str1)\n",
    "str1 = \"AWS 클라우드 스쿨 \\\"2기\\\" 과정입니다\"\n",
    "print(str1)"
   ]
  },
  {
   "cell_type": "code",
   "execution_count": 33,
   "id": "4ddd5f4e",
   "metadata": {},
   "outputs": [
    {
     "name": "stdout",
     "output_type": "stream",
     "text": [
      "이름 :  클라우드 , 나이 : 25\n",
      "이름 :  클라우드 , 나이 : 25\n",
      "이름 : 클라우드, 나이 :25\n",
      "이름 : #클라우드#, 나이 :#25\n",
      "이름 : @클라우드@, 나이 :@25\n",
      "이름 : 클라우드, 나이 :25\n"
     ]
    }
   ],
   "source": [
    "name = '클라우드'\n",
    "age = 25\n",
    "\n",
    "# print 에 sep = ' ' 디폴트라 콤마(,) 사용 시 자동으로 공백이 들어감 \n",
    "print('이름 : ', name, ', 나이 :', age, sep=' ')\n",
    "print('이름 : ', name, ', 나이 :', age)\n",
    "print('이름 : ', name, ', 나이 :', age, sep='')\n",
    "print('이름 : ', name, ', 나이 :', age, sep='#')\n",
    "print('이름 : ', name, ', 나이 :', age, sep='@')\n",
    "\n",
    "print('이름 : ' + name + ', 나이 :' + str(age))"
   ]
  },
  {
   "cell_type": "code",
   "execution_count": 34,
   "id": "786cc1cc",
   "metadata": {},
   "outputs": [
    {
     "name": "stdout",
     "output_type": "stream",
     "text": [
      "123.456\n",
      "   123.456\n",
      "    123.46\n",
      "  123.4560\n"
     ]
    }
   ],
   "source": [
    "# 45 page\n",
    "'''\n",
    "format() : 내장함수 - built-in function\n",
    "\n",
    "형식\n",
    "format(숫자(정수, 실수), '형식')\n",
    "'''\n",
    "\n",
    "number = 123.456\n",
    "print(number)\n",
    "\n",
    "'''\n",
    "10.3f : 10 - 소수점 포함 전체 출력 자릿수\n",
    "        .3 - 소수점 이하 자릿수\n",
    "        f - float(실수)\n",
    "'''\n",
    "print(format(number, '10.3f'))\n",
    "print(format(number, '10.2f'))\n",
    "print(format(number, '10.4f'))"
   ]
  },
  {
   "cell_type": "code",
   "execution_count": 35,
   "id": "b8482602",
   "metadata": {},
   "outputs": [
    {
     "name": "stdout",
     "output_type": "stream",
     "text": [
      "     12345\n"
     ]
    }
   ],
   "source": [
    "number = 12345\n",
    "print(format(number, '10'))\n"
   ]
  },
  {
   "cell_type": "code",
   "execution_count": 36,
   "id": "375e0b92",
   "metadata": {},
   "outputs": [
    {
     "name": "stdout",
     "output_type": "stream",
     "text": [
      "1.2E+02\n"
     ]
    }
   ],
   "source": [
    "print(format(123.45678, '.1E'))"
   ]
  },
  {
   "cell_type": "code",
   "execution_count": 38,
   "id": "da2f12a5",
   "metadata": {},
   "outputs": [
    {
     "name": "stdout",
     "output_type": "stream",
     "text": [
      "이름: 이순신, 나이: 46세\n",
      "이름:  이순신 , 나이:  46 세\n",
      "이름: 이순신, 나이: 46 세\n"
     ]
    }
   ],
   "source": [
    "# 46 page\n",
    "\n",
    "name = '이순신'\n",
    "age = 46\n",
    "\n",
    "\n",
    "print('이름: 이순신, 나이: 46세')\n",
    "print('이름: ', name, ', 나이: ', age, '세')\n",
    "\n",
    "'''\n",
    "%-formatting\n",
    "'''\n",
    "print('이름: %s, 나이: %d 세' %(name,age))"
   ]
  },
  {
   "cell_type": "code",
   "execution_count": 40,
   "id": "b5cec8c4",
   "metadata": {},
   "outputs": [
    {
     "name": "stdout",
     "output_type": "stream",
     "text": [
      "str1 : 클라우드\n",
      "str1 : <class 'str'>\n"
     ]
    }
   ],
   "source": [
    "'''\n",
    "2) str.format() 메소드\n",
    "    ㄴ str(문자열) 타입(클래스)의 메소드\n",
    "        (type - class - object(instance))\n",
    "'''\n",
    "str1 = \"클라우드\"\n",
    "print('str1 :',str1)\n",
    "print('str1 :',type(str1))\n"
   ]
  },
  {
   "cell_type": "code",
   "execution_count": 42,
   "id": "93605e5f",
   "metadata": {},
   "outputs": [
    {
     "name": "stdout",
     "output_type": "stream",
     "text": [
      "이름: 이순신, 나이: 46 세\n",
      "이름: 이순신, 나이: 46 세\n"
     ]
    }
   ],
   "source": [
    "name = '이순신'\n",
    "age = 46\n",
    "print('이름: %s, 나이: %d 세' %(name,age))\n",
    "print('이름: {}, 나이: {} 세'.format(name,age))"
   ]
  },
  {
   "cell_type": "code",
   "execution_count": 44,
   "id": "4c89f29b",
   "metadata": {},
   "outputs": [
    {
     "name": "stdout",
     "output_type": "stream",
     "text": [
      "이름: 이순신, 나이: 46 세\n",
      "이름: 이순신, 나이: 46 세\n",
      "나이: 46 세, 이름: 이순신\n"
     ]
    }
   ],
   "source": [
    "print('이름: {}, 나이: {} 세'.format(name,age))\n",
    "print('이름: {0}, 나이: {1} 세'.format(name,age))\n",
    "print('나이: {1} 세, 이름: {0}'.format(name,age))"
   ]
  },
  {
   "cell_type": "code",
   "execution_count": 45,
   "id": "d69d8d94",
   "metadata": {},
   "outputs": [
    {
     "name": "stdout",
     "output_type": "stream",
     "text": [
      "이름: 이순신, 나이: 46 세\n",
      "이름: 이순신, 나이: 46 세\n",
      "이름: 이순신, 나이: 46 세\n"
     ]
    }
   ],
   "source": [
    "'''\n",
    "f-string\n",
    "'''\n",
    "name = '이순신'\n",
    "age = 46\n",
    "print('이름: %s, 나이: %d 세' %(name,age))\n",
    "print('이름: {}, 나이: {} 세'.format(name,age))\n",
    "print(f'이름: {name}, 나이: {age} 세')\n"
   ]
  },
  {
   "cell_type": "code",
   "execution_count": 47,
   "id": "4e2714b7",
   "metadata": {},
   "outputs": [
    {
     "name": "stdout",
     "output_type": "stream",
     "text": [
      "숫자를 입력하세요 : 100\n",
      "number :  100\n"
     ]
    }
   ],
   "source": [
    "# 48 page\n",
    "'''\n",
    "Input() 함수\n",
    "\n",
    "형식\n",
    "변수 = input('문자열')\n",
    "\n",
    "  1) 입력한 문자열이 그대로 출력됨\n",
    "  2) 사용자가 값을 입력함\n",
    "  3) (enter 하면) 입력한 값이 변수에 할당됨\n",
    "  \n",
    "  ************************************\n",
    "  input() 함수를 통해서 입력 받은 값은 모두 str type(문자열)으로 인식함\n",
    "  ************************************\n",
    "'''\n",
    "number = input('숫자를 입력하세요 : ')\n",
    "print('number : ', number)"
   ]
  },
  {
   "cell_type": "code",
   "execution_count": 3,
   "id": "e08c14da",
   "metadata": {},
   "outputs": [
    {
     "name": "stdout",
     "output_type": "stream",
     "text": [
      "첫 번째 숫자를 입력하세요 : 10\n",
      "두 번째 숫자를 입력하세요 : 20\n",
      "result : 1020\n"
     ]
    }
   ],
   "source": [
    "num1 = input('첫 번째 숫자를 입력하세요 : ')\n",
    "num2 = input('두 번째 숫자를 입력하세요 : ')\n",
    "result = num1 + num2\n",
    "print('result :', result)"
   ]
  },
  {
   "cell_type": "code",
   "execution_count": 49,
   "id": "15c7f5e4",
   "metadata": {},
   "outputs": [
    {
     "name": "stdout",
     "output_type": "stream",
     "text": [
      "첫 번째 숫자를 입력하세요 : 10\n",
      "두 번째 숫자를 입력하세요 : 20\n",
      "result : 30\n"
     ]
    }
   ],
   "source": [
    "num1 = input('첫 번째 숫자를 입력하세요 : ')\n",
    "num2 = input('두 번째 숫자를 입력하세요 : ')\n",
    "result = int(num1) + int(num2)\n",
    "print('result :', result)"
   ]
  },
  {
   "cell_type": "code",
   "execution_count": 50,
   "id": "f669c70a",
   "metadata": {},
   "outputs": [
    {
     "name": "stdout",
     "output_type": "stream",
     "text": [
      "첫 번째 숫자를 입력하세요 : 10\n",
      "두 번째 숫자를 입력하세요 : 20\n",
      "result : 30\n"
     ]
    }
   ],
   "source": [
    "num1 = int(input('첫 번째 숫자를 입력하세요 : '))\n",
    "num2 = int(input('두 번째 숫자를 입력하세요 : '))\n",
    "result = int(num1) + int(num2)\n",
    "print('result :', result)"
   ]
  },
  {
   "cell_type": "code",
   "execution_count": null,
   "id": "27de0b29",
   "metadata": {},
   "outputs": [],
   "source": []
  }
 ],
 "metadata": {
  "kernelspec": {
   "display_name": "Python 3 (ipykernel)",
   "language": "python",
   "name": "python3"
  },
  "language_info": {
   "codemirror_mode": {
    "name": "ipython",
    "version": 3
   },
   "file_extension": ".py",
   "mimetype": "text/x-python",
   "name": "python",
   "nbconvert_exporter": "python",
   "pygments_lexer": "ipython3",
   "version": "3.10.9"
  }
 },
 "nbformat": 4,
 "nbformat_minor": 5
}
