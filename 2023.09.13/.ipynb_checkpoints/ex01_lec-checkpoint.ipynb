{
 "cells": [
  {
   "cell_type": "code",
   "execution_count": 1,
   "id": "8d6eb2eb",
   "metadata": {},
   "outputs": [
    {
     "name": "stdout",
     "output_type": "stream",
     "text": [
      "result : 30\n"
     ]
    }
   ],
   "source": [
    "'''\n",
    "= : 할당연산자 : assignment\n",
    "                 저장\n",
    "'''\n",
    "number1 = 10\n",
    "number2 = 20\n",
    "result = number1 + number2\n",
    "print('result :',result)"
   ]
  },
  {
   "cell_type": "code",
   "execution_count": 2,
   "id": "c600b1bd",
   "metadata": {},
   "outputs": [],
   "source": [
    "name = \"클라우드\"\n",
    "\n",
    "_name = '클라우드'\n",
    "\n",
    "# snake case : 변수, 함수(메소드)\n",
    "\n",
    "student_name = \"홍길동\"\n",
    "\n",
    "\n",
    "# camel case  : 클래스 이름 - 첫 글자 대문자\n",
    "\n",
    "studentName = \"홍길동\"\n",
    "\n",
    "# 클래스 이름 \n",
    "# Student\n",
    "# Person\n",
    "\n"
   ]
  },
  {
   "cell_type": "code",
   "execution_count": 3,
   "id": "25c0bc9a",
   "metadata": {},
   "outputs": [
    {
     "name": "stdout",
     "output_type": "stream",
     "text": [
      "number : 10\n",
      "number : 20\n",
      "number : 30\n",
      "number : 40\n"
     ]
    }
   ],
   "source": [
    "number = 10\n",
    "print('number :',number)\n",
    "number = 20\n",
    "print('number :',number)\n",
    "number = 30\n",
    "print('number :',number)\n",
    "number = 40\n",
    "print('number :',number)\n"
   ]
  },
  {
   "cell_type": "code",
   "execution_count": 4,
   "id": "4bf859f5",
   "metadata": {},
   "outputs": [
    {
     "name": "stdout",
     "output_type": "stream",
     "text": [
      "number : 10\n",
      "number : 1324247286288\n",
      "number : 20.123\n",
      "number : 1324325664432\n",
      "number : 30\n",
      "number : 1324316020272\n",
      "number : True\n",
      "number : 140709571348688\n"
     ]
    }
   ],
   "source": [
    "number = 10\n",
    "print('number :',number)\n",
    "print('number :',id(number))\n",
    "number = 20.123\n",
    "print('number :',number)\n",
    "print('number :',id(number))\n",
    "number = \"30\"\n",
    "print('number :',number)\n",
    "print('number :',id(number))\n",
    "number = True\n",
    "print('number :',number)\n",
    "print('number :',id(number))"
   ]
  },
  {
   "cell_type": "code",
   "execution_count": 5,
   "id": "2c2c9b9e",
   "metadata": {},
   "outputs": [
    {
     "data": {
      "text/plain": [
       "'\\n여러 줄\\n주석\\n입니다\\n'"
      ]
     },
     "execution_count": 5,
     "metadata": {},
     "output_type": "execute_result"
    }
   ],
   "source": [
    "# 한 줄 주석\n",
    "'''\n",
    "여러 줄\n",
    "주석\n",
    "입니다\n",
    "'''\n",
    "\"\"\"\n",
    "여러 줄\n",
    "주석\n",
    "입니다\n",
    "\"\"\""
   ]
  },
  {
   "cell_type": "code",
   "execution_count": 6,
   "id": "b7a9c657",
   "metadata": {},
   "outputs": [
    {
     "name": "stdout",
     "output_type": "stream",
     "text": [
      "True\n",
      "True\n",
      "id(a) : 1324247286000\n",
      "id(b) : 1324247286000\n"
     ]
    }
   ],
   "source": [
    "# 41 page\n",
    "\n",
    "a = 1\n",
    "b = 1\n",
    "\n",
    "'''\n",
    "숫자를 비교할 때는 is 연산자는 권장하지 않음\n",
    "'''\n",
    "print(a is b)\n",
    "print(a == b)\n",
    "\n",
    "print('id(a) :',id(a))\n",
    "print('id(b) :',id(b))"
   ]
  },
  {
   "cell_type": "code",
   "execution_count": 7,
   "id": "1f6ae6c4",
   "metadata": {},
   "outputs": [
    {
     "name": "stdout",
     "output_type": "stream",
     "text": [
      "True\n",
      "False\n"
     ]
    }
   ],
   "source": [
    "num1 = 1\n",
    "num2 = 1.0\n",
    "\n",
    "\n",
    "# == : 값만 비교\n",
    "print(num1 == num2)\n",
    "\n",
    "\n",
    "'''\n",
    "숫자를 비교할 때는 is 연산자는 권장하지 않음\n",
    "'''\n",
    "# is : 값, type, (주소) 을 비교\n",
    "print(num1 is num2)"
   ]
  },
  {
   "cell_type": "code",
   "execution_count": 8,
   "id": "e93ff80e",
   "metadata": {},
   "outputs": [
    {
     "name": "stdout",
     "output_type": "stream",
     "text": [
      "10\n",
      "10\n",
      "1324247286288\n",
      "1324247286288\n"
     ]
    }
   ],
   "source": [
    "# 42page\n",
    "\n",
    "'''\n",
    "할당연산(=) : 주소를 복사함\n",
    "'''\n",
    "no = 10\n",
    "bunho = no\n",
    "\n",
    "print(no)\n",
    "print(bunho)\n",
    "print(id(no))\n",
    "print(id(bunho))"
   ]
  },
  {
   "cell_type": "code",
   "execution_count": 9,
   "id": "5d294def",
   "metadata": {},
   "outputs": [
    {
     "name": "stdout",
     "output_type": "stream",
     "text": [
      "1\n",
      "1\n",
      "1\n",
      "1324247286000\n",
      "1324247286000\n",
      "1324247286000\n"
     ]
    }
   ],
   "source": [
    "'''\n",
    "할당연산 방향 : 오른쪽에서 왼쪽으로 이루어짐 ( <- )\n",
    "'''\n",
    "a = b = c = 1\n",
    "\n",
    "c = 1\n",
    "b = c\n",
    "a = b\n",
    "\n",
    "print(a)\n",
    "print(b)\n",
    "print(c)\n",
    "\n",
    "print(id(a))\n",
    "print(id(b))\n",
    "print(id(c))\n",
    "\n",
    "\n",
    "number1 = 10\n",
    "number2 = 20\n",
    "\n",
    "'''\n",
    "변수는 한 번에 값 하나와만 연결됨\n",
    "'''\n",
    "result = number1 + number2"
   ]
  },
  {
   "cell_type": "code",
   "execution_count": 27,
   "id": "5a396521",
   "metadata": {},
   "outputs": [
    {
     "name": "stdout",
     "output_type": "stream",
     "text": [
      "10\n",
      "20\n",
      "30\n",
      "(10, 20, 30, 40)\n"
     ]
    }
   ],
   "source": [
    "# 43 page\n",
    "\n",
    "num1, num2, num3 = (10, 20, 30)\n",
    "num1, num2, num3 = 10, 20, 30\n",
    "\n",
    "print(num1)\n",
    "print(num2)\n",
    "print(num3)\n",
    "\n",
    "# tuple : () 를 생략할 수 있음\n",
    "numbers = 10, 20, 30\n",
    "numbers = (10, 20, 30)\n",
    "numbers = (10, 20, 30, 40)\n",
    "print(numbers)"
   ]
  },
  {
   "cell_type": "code",
   "execution_count": 11,
   "id": "dc01c546",
   "metadata": {},
   "outputs": [
    {
     "name": "stdout",
     "output_type": "stream",
     "text": [
      "['False', 'None', 'True', 'and', 'as', 'assert', 'async', 'await', 'break', 'class', 'continue', 'def', 'del', 'elif', 'else', 'except', 'finally', 'for', 'from', 'global', 'if', 'import', 'in', 'is', 'lambda', 'nonlocal', 'not', 'or', 'pass', 'raise', 'return', 'try', 'while', 'with', 'yield']\n"
     ]
    }
   ],
   "source": [
    "import keyword\n",
    "print(keyword.kwlist)"
   ]
  },
  {
   "cell_type": "code",
   "execution_count": 12,
   "id": "b198882c",
   "metadata": {},
   "outputs": [
    {
     "name": "stdout",
     "output_type": "stream",
     "text": [
      "AWS 클라우드 스쿨\n",
      "AWS 클라우드 스쿨\n",
      "------------------------------------------------------------\n",
      "AWS \n",
      "클라우드 \n",
      "스쿨\n",
      "------------------------------------------------------------\n",
      "AWS \n",
      "클라우드 \n",
      "스쿨\n",
      "------------------------------------------------------------\n",
      "AWS \n",
      "클라우드 \n",
      "스쿨\n"
     ]
    }
   ],
   "source": [
    "# 44 page\n",
    "str1 = \"AWS 클라우드 스쿨\"\n",
    "print(str1)\n",
    "\n",
    "str1 = 'AWS 클라우드 스쿨'\n",
    "print(str1)\n",
    "print('-'*  60)\n",
    "\n",
    "# \\n : 줄바꿈문자\n",
    "str1 = \"AWS \\n클라우드 \\n스쿨\"\n",
    "print(str1)\n",
    "print('-'*  60)\n",
    "\n",
    "str1=\"\"\"AWS \n",
    "클라우드 \n",
    "스쿨\"\"\"\n",
    "print(str1)\n",
    "print('-'*  60)\n",
    "\n",
    "str1='''AWS \n",
    "클라우드 \n",
    "스쿨'''\n",
    "print(str1)"
   ]
  },
  {
   "cell_type": "code",
   "execution_count": 13,
   "id": "a02cf978",
   "metadata": {},
   "outputs": [
    {
     "name": "stdout",
     "output_type": "stream",
     "text": [
      "AWS 클라우드 스쿨 2 기 과정입니다\n",
      "AWS 클라우드 스쿨 '2 기' 과정입니다\n",
      "AWS 클라우드 스쿨 \"2 기\" 과정입니다\n",
      "AWS 클라우드 스쿨 \"2 기\" 과정입니다\n",
      "AWS 클라우드 스쿨 '2 기' 과정입니다\n",
      "AWS 클라우드 스쿨 '2 기' 과정입니다\n"
     ]
    }
   ],
   "source": [
    "str1 = \"AWS 클라우드 스쿨 2 기 과정입니다\"\n",
    "print(str1)\n",
    "str1 = \"AWS 클라우드 스쿨 '2 기' 과정입니다\"\n",
    "print(str1)\n",
    "str1 = \"AWS 클라우드 스쿨 \\\"2 기\\\" 과정입니다\"\n",
    "print(str1)\n",
    "str1 = 'AWS 클라우드 스쿨 \"2 기\" 과정입니다'\n",
    "print(str1)\n",
    "str1 = 'AWS 클라우드 스쿨 \\'2 기\\' 과정입니다'\n",
    "print(str1)\n",
    "str1 = \"AWS 클라우드 스쿨 '2 기' 과정입니다\"\n",
    "print(str1)"
   ]
  },
  {
   "cell_type": "code",
   "execution_count": 14,
   "id": "94ab9081",
   "metadata": {},
   "outputs": [
    {
     "name": "stdout",
     "output_type": "stream",
     "text": [
      "이름 : 클라우드 , 나이 : 25\n",
      "이름 : 클라우드 , 나이 : 25\n",
      "이름 :클라우드, 나이 :25\n",
      "이름 :#클라우드#, 나이 :#25\n",
      "이름 :@클라우드@, 나이 :@25\n",
      "이름 :클라우드, 나이 :25\n",
      "이름 : 클라우드, 나이 : 25\n"
     ]
    }
   ],
   "source": [
    "name = '클라우드'\n",
    "age = 25\n",
    "\n",
    "print('이름 :',name,', 나이 :',age,sep=' ')\n",
    "print('이름 :',name,', 나이 :',age)\n",
    "print('이름 :',name,', 나이 :',age,sep='')\n",
    "print('이름 :',name,', 나이 :',age,sep='#')\n",
    "print('이름 :',name,', 나이 :',age,sep='@')\n",
    "\n",
    "# TypeError: can only concatenate str (not \"int\") to str\n",
    "# print('이름 :' + name + ', 나이 :' + age)\n",
    "print('이름 :' + name + ', 나이 :' + str(age))\n",
    "print('이름 : ' + name + ', 나이 : ' + str(age))"
   ]
  },
  {
   "cell_type": "code",
   "execution_count": 15,
   "id": "6fa74eee",
   "metadata": {},
   "outputs": [
    {
     "name": "stdout",
     "output_type": "stream",
     "text": [
      "123.457\n",
      "   123.457\n",
      "    123.46\n",
      "  123.4570\n"
     ]
    }
   ],
   "source": [
    "# 45 page\n",
    "'''\n",
    "foramt()  :  내장함수 - built-in function\n",
    "\n",
    "형식]\n",
    "format(숫자(정수, 실수), '형식')\n",
    "'''\n",
    "\n",
    "number = 123.457\n",
    "print(number)\n",
    "\n",
    "'''\n",
    "10.3f : 10 - 소숫점 포함 전체 출력 자릿수\n",
    "        .3 - 소숫점 이하 자릿수\n",
    "         f -  float(실수)\n",
    "'''\n",
    "print(format(number, '10.3f'))\n",
    "print(format(number, '10.2f'))\n",
    "print(format(number, '10.4f'))"
   ]
  },
  {
   "cell_type": "code",
   "execution_count": 16,
   "id": "b05f3cfc",
   "metadata": {},
   "outputs": [
    {
     "name": "stdout",
     "output_type": "stream",
     "text": [
      "     12345\n"
     ]
    }
   ],
   "source": [
    "number = 12345\n",
    "print(format(number, '10'))\n"
   ]
  },
  {
   "cell_type": "code",
   "execution_count": 17,
   "id": "9afb6d68",
   "metadata": {},
   "outputs": [
    {
     "name": "stdout",
     "output_type": "stream",
     "text": [
      "1.2E+02\n"
     ]
    }
   ],
   "source": [
    "print(format(123.45678, '.1E'))"
   ]
  },
  {
   "cell_type": "code",
   "execution_count": 18,
   "id": "284d8775",
   "metadata": {},
   "outputs": [
    {
     "name": "stdout",
     "output_type": "stream",
     "text": [
      "이름 : 이순신, 나이 : 46세\n",
      "이름 : 이순신 , 나이 : 46 세\n",
      "이름 : 이순신, 나이 :  46 세\n"
     ]
    }
   ],
   "source": [
    "# 46 page\n",
    "\n",
    "name = '이순신'\n",
    "age = 46\n",
    "\n",
    "print('이름 : 이순신, 나이 : 46세')\n",
    "print('이름 :',name,', 나이 :',age,'세')\n",
    "\n",
    "'''\n",
    "1) %-formatting\n",
    "'''\n",
    "print('이름 : %s, 나이 :  %d 세' % (name, age))\n"
   ]
  },
  {
   "cell_type": "code",
   "execution_count": 19,
   "id": "1d80e971",
   "metadata": {},
   "outputs": [
    {
     "name": "stdout",
     "output_type": "stream",
     "text": [
      "str1 : 클라우드\n",
      "str1 : <class 'str'>\n"
     ]
    }
   ],
   "source": [
    "'''\n",
    "2) str.format() 메소드\n",
    "    ㄴ str(문자열) 타입(클래스)의 메소드\n",
    "       (type - class - object(instance))\n",
    "'''\n",
    "str1 = \"클라우드\"\n",
    "print('str1 :',str1)\n",
    "print('str1 :',type(str1))"
   ]
  },
  {
   "cell_type": "code",
   "execution_count": 20,
   "id": "236bde4b",
   "metadata": {},
   "outputs": [
    {
     "name": "stdout",
     "output_type": "stream",
     "text": [
      "이름 : 이순신, 나이 :  46 세\n",
      "이름 : 이순신, 나이 :  46 세\n"
     ]
    }
   ],
   "source": [
    "name = '이순신'\n",
    "age = 46\n",
    "print('이름 : %s, 나이 :  %d 세' % (name, age))\n",
    "print('이름 : {}, 나이 :  {} 세'.format(name, age))"
   ]
  },
  {
   "cell_type": "code",
   "execution_count": 21,
   "id": "a78fc1d9",
   "metadata": {},
   "outputs": [
    {
     "name": "stdout",
     "output_type": "stream",
     "text": [
      "이름 : 이순신, 나이 :  46 세\n",
      "이름 : 이순신, 나이 :  46 세\n",
      "나이 : 이순신 세, 이름 : 46\n",
      "나이 : 46 세, 이름 : 이순신\n"
     ]
    }
   ],
   "source": [
    "print('이름 : {}, 나이 :  {} 세'.format(name, age))\n",
    "print('이름 : {0}, 나이 :  {1} 세'.format(name, age))\n",
    "print('나이 : {} 세, 이름 : {}'.format(name, age))\n",
    "print('나이 : {1} 세, 이름 : {0}'.format(name, age))"
   ]
  },
  {
   "cell_type": "code",
   "execution_count": 22,
   "id": "239cf3e5",
   "metadata": {},
   "outputs": [
    {
     "name": "stdout",
     "output_type": "stream",
     "text": [
      "이름 : 이순신, 나이 :  46 세\n",
      "이름 : 이순신, 나이 :  46 세\n",
      "이름 : 이순신, 나이 :  46 세\n"
     ]
    }
   ],
   "source": [
    "'''\n",
    "3) f-string\n",
    "'''\n",
    "name = '이순신'\n",
    "age = 46\n",
    "print('이름 : %s, 나이 :  %d 세' % (name, age))\n",
    "print('이름 : {}, 나이 :  {} 세'.format(name, age))\n",
    "print(f'이름 : {name}, 나이 :  {age} 세')"
   ]
  },
  {
   "cell_type": "code",
   "execution_count": 23,
   "id": "d3351edc",
   "metadata": {},
   "outputs": [
    {
     "name": "stdout",
     "output_type": "stream",
     "text": [
      "숫자를 입력하세요 : 10\n",
      "number : 10\n"
     ]
    }
   ],
   "source": [
    "# 48 page\n",
    "'''\n",
    "input() 함수\n",
    "\n",
    "형식]\n",
    "\n",
    "변수 = input('문자열')\n",
    "  \n",
    "  1) 입력한 문자열이 그대로 출력됨\n",
    "  2) 사용자가 값을 입력함\n",
    "  3) (enter 하면) 입력한 값이 변수에 할당됨\n",
    "  \n",
    "  *************************************\n",
    "   input() 함수를 통해서 입력박은 값은 \n",
    "   모두 str type (문자열) 으로 인식함\n",
    "  *************************************\n",
    "'''\n",
    "number = input('숫자를 입력하세요 : ')\n",
    "print('number :',number)"
   ]
  },
  {
   "cell_type": "code",
   "execution_count": 24,
   "id": "5824ae6d",
   "metadata": {},
   "outputs": [
    {
     "name": "stdout",
     "output_type": "stream",
     "text": [
      "첫 번째 숫자를 입력하세요 : 10\n",
      "두 번째 숫자를 입력하세요 : 20\n",
      "result : 1020\n"
     ]
    }
   ],
   "source": [
    "num1 = input('첫 번째 숫자를 입력하세요 : ')\n",
    "num2 = input('두 번째 숫자를 입력하세요 : ')\n",
    "result = num1 + num2\n",
    "print('result :',result)"
   ]
  },
  {
   "cell_type": "code",
   "execution_count": 25,
   "id": "34eea195",
   "metadata": {},
   "outputs": [
    {
     "name": "stdout",
     "output_type": "stream",
     "text": [
      "첫 번째 숫자를 입력하세요 : 20\n",
      "두 번째 숫자를 입력하세요 : 30\n",
      "result : 50\n"
     ]
    }
   ],
   "source": [
    "num1 = input('첫 번째 숫자를 입력하세요 : ')\n",
    "num2 = input('두 번째 숫자를 입력하세요 : ')\n",
    "result = int(num1) + int(num2)\n",
    "print('result :',result)"
   ]
  },
  {
   "cell_type": "code",
   "execution_count": 26,
   "id": "f888ba1d",
   "metadata": {},
   "outputs": [
    {
     "name": "stdout",
     "output_type": "stream",
     "text": [
      "첫 번째 숫자를 입력하세요 : 5\n",
      "두 번째 숫자를 입력하세요 : 6\n",
      "result : 11\n"
     ]
    }
   ],
   "source": [
    "num1 = int(input('첫 번째 숫자를 입력하세요 : '))\n",
    "num2 = int(input('두 번째 숫자를 입력하세요 : '))\n",
    "result = num1 + num2\n",
    "print('result :',result)"
   ]
  }
 ],
 "metadata": {
  "kernelspec": {
   "display_name": "Python 3 (ipykernel)",
   "language": "python",
   "name": "python3"
  },
  "language_info": {
   "codemirror_mode": {
    "name": "ipython",
    "version": 3
   },
   "file_extension": ".py",
   "mimetype": "text/x-python",
   "name": "python",
   "nbconvert_exporter": "python",
   "pygments_lexer": "ipython3",
   "version": "3.10.9"
  }
 },
 "nbformat": 4,
 "nbformat_minor": 5
}
