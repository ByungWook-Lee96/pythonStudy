{
 "cells": [
  {
   "cell_type": "code",
   "execution_count": null,
   "id": "f74bcea3",
   "metadata": {},
   "outputs": [],
   "source": [
    "'''\n",
    "scope(변수의 (인식)범위)\n",
    "\n",
    "파이썬에서는 전역에서 \n",
    "for 문이나 if 문을 작성하고\n",
    "for 문이나 if 문 안에서 변수를 선언하면\n",
    "for 문이나 if 문 밖에서 변수값을 참조할 수 있음\n",
    "\n",
    "'''\n",
    "sum = 0\n",
    "for num in range(1, 11):\n",
    "    number = 100\n",
    "    sum += num\n",
    "    print(f'숫자(number) : {num}, 합계(sum) : {sum}')\n",
    "    \n",
    "print(f'숫자(number) : {num}, 합계(sum) : {sum}')\n",
    "print(f'합계(sum) : {sum}')\n",
    "print('number :',number)\n",
    "print('-' * 60)\n",
    "\n",
    "if sum == 55:\n",
    "    a = 333\n",
    "    print(f'합계는 {sum} 입니다')\n",
    "print('a :',a)    "
   ]
  },
  {
   "cell_type": "code",
   "execution_count": null,
   "id": "860416ee",
   "metadata": {},
   "outputs": [],
   "source": [
    "'''\n",
    "함수에서 변수의 scope\n",
    "\n",
    "넓은 scope 에서는 좁은 scope 에 있는 값(변수)에 접근하지 못함\n",
    "\n",
    "좁은 scope 에서는 넓은 scope 에 있는 값(변수)에 접근할 수 있음\n",
    "\n",
    "'''\n",
    "# 전역변수 : global variable\n",
    "number = 10\n",
    "\n",
    "def test1():\n",
    "    #  test1() 함수의 scope (지역 스코프 - local scope)\n",
    "    #  지역 스코프에서 전역변수를 출력함\n",
    "    print('number(전역변수) :',number)\n",
    "    \n",
    "test1()    \n",
    "\n",
    "#  전역 스코프(global scope)에서 전역변수를 출력함\n",
    "print('number(전역변수) :',number)"
   ]
  },
  {
   "cell_type": "code",
   "execution_count": null,
   "id": "e85fbb24",
   "metadata": {},
   "outputs": [],
   "source": [
    "'''\n",
    "파이썬에서는 변수를 초기화하는 code 가\n",
    "변수를 메모리에 올리는 code 가 됨\n",
    "          ㄴ 생성함\n",
    "'''\n",
    "# 전역변수 : global variable\n",
    "number = 10\n",
    "\n",
    "def test2():\n",
    "    # 지역 스코프에서 선언된 변수는\n",
    "    # 지역 변수(local variable)가 됨\n",
    "    number = 20\n",
    "    print('number(지역변수) :',number)\n",
    "    return\n",
    "    \n",
    "test2()    \n",
    "\n",
    "#  전역 스코프(global scope)에서 전역변수를 출력함\n",
    "print('number(전역변수) :',number)"
   ]
  },
  {
   "cell_type": "code",
   "execution_count": null,
   "id": "55c792bd",
   "metadata": {},
   "outputs": [],
   "source": [
    "# 전역변수 : global variable\n",
    "number = 10\n",
    "\n",
    "def test3():\n",
    "    # number = 20\n",
    "    # 같은 scope 에서 number 를 찾아보고\n",
    "    # 없으면 외부 scope 에서 찾음\n",
    "    print('number(전역변수) :',number)\n",
    "    return\n",
    "    \n",
    "test3()    \n",
    "\n",
    "#  전역 스코프(global scope)에서 전역변수를 출력함\n",
    "print('number(전역변수) :',number)"
   ]
  },
  {
   "cell_type": "code",
   "execution_count": null,
   "id": "3c43871d",
   "metadata": {},
   "outputs": [],
   "source": [
    "# global scope\n",
    "# numbers : 전역변수\n",
    "numbers = list(range(1, 11))\n",
    "\n",
    "def sum_items():\n",
    "    # 함수 내부 : local scope\n",
    "    # total : 지역변수\n",
    "    total = 0\n",
    "    # 함수 내부에서 전역에서 선언된\n",
    "    # numbers 를 사용해서 for 문을 실행함\n",
    "    for number in numbers:\n",
    "        total += number\n",
    "    print('합계 :',total)    \n",
    "    return\n",
    "sum_items()\n",
    "\n",
    "# NameError: name 'total' is not defined\n",
    "# total 은 sum_items() 함수 내부에서 선언된\n",
    "# 지역변수라서 전역스코프에서 접근할 수 없음\n",
    "#  <-- global scope 에서 찾을 수 없어서\n",
    "#      ... is not defined 라는 error 메세지가 나옴\n",
    "# print('합계 :',total)"
   ]
  },
  {
   "cell_type": "code",
   "execution_count": 24,
   "id": "13b09b83",
   "metadata": {},
   "outputs": [
    {
     "name": "stdout",
     "output_type": "stream",
     "text": [
      "합계 (함수 내부에서 출력함) : 55\n",
      "합계 (함수 내부에서 출력함) : 55\n",
      "합계 (함수 외부에서 출력함) : 55\n"
     ]
    }
   ],
   "source": [
    "'''\n",
    "함수 외부에서 함수 내부의 값을 확인하려면\n",
    "함수가 그 값을 return 해야 가능함\n",
    "           ㄴ return 값\n",
    "'''\n",
    "def sum_items():\n",
    "    # 함수 내부 : local scope\n",
    "    # total : 지역변수\n",
    "    total = 0\n",
    "    # 함수 내부에서 전역에서 선언된\n",
    "    # numbers 를 사용해서 for 문을 실행함\n",
    "    for number in numbers:\n",
    "        total += number\n",
    "    print('합계 (함수 내부에서 출력함) :',total)    \n",
    "    return total\n",
    "\n",
    "sum_items()\n",
    "print('합계 (함수 외부에서 출력함) :',sum_items())"
   ]
  },
  {
   "cell_type": "code",
   "execution_count": 38,
   "id": "bb56ee81",
   "metadata": {},
   "outputs": [
    {
     "name": "stdout",
     "output_type": "stream",
     "text": [
      "number : 20\n",
      "number2 : 30\n",
      "number : 20\n",
      "number2 : 30\n"
     ]
    }
   ],
   "source": [
    "'''\n",
    "global 키워드\n",
    "  ㄴ local scope 에서 선언한 변수를\n",
    "     global variable (전역변수) 로 인식하게 함\n",
    "                        \n",
    "'''\n",
    "number = 10\n",
    "\n",
    "def test3():\n",
    "    # 같은 이름의 변수가  global scope 에 있는 경우\n",
    "    # local scope 에서 선언했으나 \n",
    "    # 실제 메모리에서는 global scope 에 선언된 변수를 의미함\n",
    "    \n",
    "    # 같은 이름의 변수가  global scope 에 없는 경우\n",
    "    # local scope 에서 선언했으나 \n",
    "    # 실제 메모리에서는 global scope 에 선언됨\n",
    "    global number\n",
    "    global number2\n",
    "    \n",
    "    number = 20\n",
    "    print('number :',number)\n",
    "    number2 = 30\n",
    "    print('number2 :',number2)\n",
    "    \n",
    "test3()\n",
    "print('number :',number)    \n",
    "print('number2 :',number2)"
   ]
  },
  {
   "cell_type": "code",
   "execution_count": 49,
   "id": "fce835b8",
   "metadata": {},
   "outputs": [
    {
     "name": "stdout",
     "output_type": "stream",
     "text": [
      "num1 : 10\n"
     ]
    }
   ],
   "source": [
    "def outer2():    \n",
    "    num1 = 10    \n",
    "    def inner2():        \n",
    "        num1 = 20   \n",
    "    inner2()    \n",
    "    return num1\n",
    "\n",
    "print('num1 :',outer2())"
   ]
  },
  {
   "cell_type": "code",
   "execution_count": 52,
   "id": "fed816ef",
   "metadata": {},
   "outputs": [
    {
     "name": "stdout",
     "output_type": "stream",
     "text": [
      "num1 : 20\n"
     ]
    }
   ],
   "source": [
    "def outer2():    \n",
    "    num1 = 10    \n",
    "    def inner2():\n",
    "        # nonlocal : 내부 함수에서 선언했으나\n",
    "        # 실제 메모리에서는 외부함수의 scope 에 선언된\n",
    "        # 외부함수의 지역변수 num1 을 의미함\n",
    "        nonlocal num1\n",
    "        num1 = 20   \n",
    "        \n",
    "        # nonlocal num2        \n",
    "        # nonlocal 키워드는 외부함수 scope 에\n",
    "        # 없는 변수에는 사용할 수 없음 \n",
    "        # num2 = 40\n",
    "    inner2()    \n",
    "    return num1\n",
    "\n",
    "print('num1 :',outer2())"
   ]
  },
  {
   "cell_type": "code",
   "execution_count": 46,
   "id": "68323d46",
   "metadata": {},
   "outputs": [
    {
     "name": "stdout",
     "output_type": "stream",
     "text": [
      "3\n"
     ]
    }
   ],
   "source": [
    "def outer3():\n",
    "    num1 = 3\n",
    "    def inner3():\n",
    "        num1 = 7        \n",
    "    inner3()\n",
    "    return num1\n",
    "print(outer3())"
   ]
  },
  {
   "cell_type": "code",
   "execution_count": 45,
   "id": "7149b1cf",
   "metadata": {},
   "outputs": [
    {
     "name": "stdout",
     "output_type": "stream",
     "text": [
      "7\n"
     ]
    }
   ],
   "source": [
    "def outer3():\n",
    "    num1 = 3\n",
    "    def inner3():\n",
    "        nonlocal num1\n",
    "        num1 = 7        \n",
    "    inner3()\n",
    "    return num1\n",
    "print(outer3())"
   ]
  },
  {
   "cell_type": "code",
   "execution_count": 31,
   "id": "62dc284a",
   "metadata": {},
   "outputs": [
    {
     "name": "stdout",
     "output_type": "stream",
     "text": [
      "outer() : <function outer.<locals>.inner at 0x00000266D0530F70>\n",
      "outer()(100) : 130\n",
      "inner_func(200) : 230\n"
     ]
    }
   ],
   "source": [
    "'''\n",
    "내부함수 : (외부)함수 내부에서 정의한 함수\n",
    "\n",
    "클로저(Closure)\n",
    "  ㄴ 외부함수가 종료(return)하더라도\n",
    "     내부함수의 실행을 위해서 필요한\n",
    "     resource(변수 + 실행환경) 들을 남겨두는 메모리 공간\n",
    "'''\n",
    "\n",
    "# outer() 함수\n",
    "#  ㄴ 내부에 inner() 함수를 정의하고\n",
    "#     이 inner 함수(의 주소)를 return함 \n",
    "def outer():\n",
    "    num1 = 10\n",
    "    num2 = 20\n",
    "    num3 = 30\n",
    "    \n",
    "    def inner(number):  \n",
    "        return number + num1 + num2\n",
    "    \n",
    "    return inner\n",
    "\n",
    "print('outer() :',outer())\n",
    "print('outer()(100) :',outer()(100))\n",
    "\n",
    "inner_func = outer()\n",
    "print('inner_func(200) :',inner_func(200))"
   ]
  },
  {
   "cell_type": "code",
   "execution_count": 30,
   "id": "dc354ebe",
   "metadata": {},
   "outputs": [
    {
     "name": "stdout",
     "output_type": "stream",
     "text": [
      "안녕하세요 아마존 님\n"
     ]
    }
   ],
   "source": [
    "\n",
    "def say_hello(name):\n",
    "    print(f'안녕하세요 {name} 님')\n",
    "    \n",
    "'''\n",
    "함수 호출 방법  (함수이름-함수내용이메모리에올라간지점의주소)\n",
    "   ㄴ 함수이름(argument)\n",
    "        ㄴ 함수의 내용이 저장된 메모리의 \n",
    "           주소가 저장되어 있음 \n",
    "'''    \n",
    "say_hello('아마존')\n"
   ]
  },
  {
   "cell_type": "code",
   "execution_count": null,
   "id": "a113b760",
   "metadata": {},
   "outputs": [],
   "source": []
  },
  {
   "cell_type": "code",
   "execution_count": null,
   "id": "d2da6d78",
   "metadata": {},
   "outputs": [],
   "source": []
  }
 ],
 "metadata": {
  "kernelspec": {
   "display_name": "Python 3 (ipykernel)",
   "language": "python",
   "name": "python3"
  },
  "language_info": {
   "codemirror_mode": {
    "name": "ipython",
    "version": 3
   },
   "file_extension": ".py",
   "mimetype": "text/x-python",
   "name": "python",
   "nbconvert_exporter": "python",
   "pygments_lexer": "ipython3",
   "version": "3.10.9"
  }
 },
 "nbformat": 4,
 "nbformat_minor": 5
}
