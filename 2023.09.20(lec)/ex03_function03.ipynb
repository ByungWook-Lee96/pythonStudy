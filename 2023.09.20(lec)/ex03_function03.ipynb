{
 "cells": [
  {
   "cell_type": "code",
   "execution_count": null,
   "id": "713b8f5b",
   "metadata": {},
   "outputs": [],
   "source": [
    "'''\n",
    "함수를 호출할 때는\n",
    "함수의 선언부에 명시한 \n",
    "parameter 개수에 맞는\n",
    "argument 를 전달해야 함\n",
    "'''\n",
    "\n",
    "def sum_numbers(numbers):\n",
    "    sum = 0\n",
    "    for number in numbers:\n",
    "        sum += number\n",
    "    return sum\n",
    "\n",
    "# TypeError: 'int' object is not iterable\n",
    "# print('합계 :',sum_numbers(10))\n",
    "print('합계 :',sum_numbers((1, 2, 3, 4, 5)))"
   ]
  },
  {
   "cell_type": "code",
   "execution_count": null,
   "id": "0d786c5a",
   "metadata": {},
   "outputs": [],
   "source": [
    "'''\n",
    "가변 parameter (가변 파라미터)\n",
    "\n",
    "parameter 는 하나만 선언하고\n",
    "argument 는 여러 개 전달하기\n",
    "  ㄴ parameter 앞에 * 표시를 해 주면\n",
    "     argument 들을 item 으로 하는 tuple 을 생성함\n",
    "'''\n",
    "def sum_numbers(*numbers):\n",
    "    print('numbers :',type(numbers))\n",
    "    sum = 0\n",
    "    for number in numbers:\n",
    "        sum += number\n",
    "    return sum\n",
    "\n",
    "# TypeError: sum_numbers() takes 1 positional argument but 5 were given\n",
    "print('합계 :',sum_numbers(1, 2, 3, 4, 5))"
   ]
  },
  {
   "cell_type": "code",
   "execution_count": null,
   "id": "efde0e4e",
   "metadata": {},
   "outputs": [],
   "source": [
    "'''\n",
    "여러 개의 정수를 parameter 로 전달 받아서\n",
    "지정한 연산의 결과를 반환하는 함수\n",
    "'''\n",
    "def multi_operator(operator, *numbers):\n",
    "    if operator in ['add', 'subtract']:\n",
    "        result = 0\n",
    "    elif operator in ['multiplication', 'division']:\n",
    "        result = 1\n",
    "    \n",
    "    if operator == 'add':\n",
    "        for number in  numbers:\n",
    "            result += number\n",
    "    elif operator == 'subtract':\n",
    "        for number in  numbers:\n",
    "            result -= number     \n",
    "    elif operator == 'multiplication':\n",
    "        for number in  numbers:\n",
    "            result *= number\n",
    "    elif operator == 'division':\n",
    "        for number in  numbers:\n",
    "            result /= number\n",
    "    return result            "
   ]
  },
  {
   "cell_type": "code",
   "execution_count": null,
   "id": "43ab69ba",
   "metadata": {},
   "outputs": [],
   "source": [
    "result1 = multi_operator('add', 1, 2, 3, 4, 5)\n",
    "result2 = multi_operator('subtract', 1, 2, 3, 4, 5)\n",
    "result3 = multi_operator('multiplication', 1, 2, 3, 4, 5)\n",
    "result4 = multi_operator('division', 1, 2, 3, 4, 5)\n",
    "\n",
    "print(result1)\n",
    "print(result2)\n",
    "print(result3)\n",
    "print(result4)\n",
    "print(round(result4, 4))"
   ]
  },
  {
   "cell_type": "code",
   "execution_count": null,
   "id": "a2f841da",
   "metadata": {},
   "outputs": [],
   "source": [
    "'''\n",
    "가변 parameter (가변 파라미터)는\n",
    "맨 마지막 파라미터에만 지정할 수 있음\n",
    "'''\n",
    "def test1(n1, n2, n3, *n4):\n",
    "    print(n1)\n",
    "    print(n2)\n",
    "    print(n3)\n",
    "    print(n4)\n",
    "    \n",
    "test1(1, 2, 3, 4, 5, 6, 7, 8)    "
   ]
  },
  {
   "cell_type": "code",
   "execution_count": null,
   "id": "74d0ffd8",
   "metadata": {},
   "outputs": [],
   "source": [
    "'''\n",
    "* 를 두 개 사용하는 parameter\n",
    "\n",
    "keyword parameter : parameter 앞에 * 를 두 개 붙임\n",
    " (keyargs)            ㄴ key 와 value 를 전달받아서\n",
    "                         dictionary 를 생성함\n",
    "'''\n",
    "def test2(**numbers):\n",
    "    print(numbers)\n",
    "    print('numbers :',type(numbers))\n",
    "    \n",
    "test2(이름='아마존', 나이=23, 주소='서울')    \n",
    "print('-' * 60)\n",
    "\n",
    "def greeting(**say_hi):    \n",
    "    for key, value in say_hi.items():\n",
    "        if key == 'mama':\n",
    "            print('엄마 안녕하세요')\n",
    "        else:\n",
    "            print(f'당신의 이름은 {value} 입니다')\n",
    "        \n",
    "greeting(papa='클라우드', mama='아마존', aunt='파이썬', uncle='우분투')"
   ]
  },
  {
   "cell_type": "code",
   "execution_count": 26,
   "id": "0519fafe",
   "metadata": {},
   "outputs": [
    {
     "name": "stdout",
     "output_type": "stream",
     "text": [
      "삼성\n",
      "삼성증권\n",
      "삼성전자\n",
      "삼성물산\n",
      "company1_profit 영업이익 : 1000\n",
      "company2_profit 영업이익 : 2000\n",
      "company3_profit 영업이익 : 3000\n"
     ]
    }
   ],
   "source": [
    "def company_info(name, *companies, **profits):\n",
    "    print(name)\n",
    "    for company in companies:\n",
    "        print(company)\n",
    "    for company, profit in profits.items():\n",
    "        print(company, '영업이익 :',profit)\n",
    "        \n",
    "name = '삼성'        \n",
    "company1 = '삼성증권'\n",
    "company2 = '삼성전자'\n",
    "company3 = '삼성물산'\n",
    "\n",
    "company_info(name, company1, company2, company3,\\\n",
    "            company1_profit=1000, company2_profit=2000, company3_profit=3000)"
   ]
  },
  {
   "cell_type": "code",
   "execution_count": 28,
   "id": "7a89d193",
   "metadata": {},
   "outputs": [
    {
     "name": "stdout",
     "output_type": "stream",
     "text": [
      "이름 : 아마존, 나이 : 23, 키 : 187\n",
      "이름 : 아마존2, 나이 : 25, 키 : 192\n"
     ]
    }
   ],
   "source": [
    "'''\n",
    "함수를 호출할 때는\n",
    "함수의 선언부에 명시한 \n",
    "parameter 개수에 맞는\n",
    "argument 를 전달해야 함\n",
    "\n",
    "default parameter : 기본 매개변수\n",
    "  ㄴ 매개변수를 선언하고\n",
    "     이 매개변수에 argument를 전달해야 함수가 실행됨\n",
    "     선언한 매개변수에 argument를 전달하지 않았을 때 \n",
    "     기본값을 지정해서 사용함\n",
    "       ㄴ argument 를 전달하면 argument 가 \n",
    "          default parameter 보다 우선순위가 높음\n",
    "'''\n",
    "# height=192 <-- default parameter\n",
    "def display_info(name, age, height=192):\n",
    "    print(f'이름 : {name}, 나이 : {age}, 키 : {height}')\n",
    "    \n",
    "display_info('아마존', 23, 187)    \n",
    "display_info('아마존2', 25)    "
   ]
  },
  {
   "cell_type": "code",
   "execution_count": 31,
   "id": "d9cfdd79",
   "metadata": {},
   "outputs": [
    {
     "name": "stdout",
     "output_type": "stream",
     "text": [
      "이름 : 아마존, 나이 : 23, 키 : 187\n",
      "이름 : 아마존2, 나이 : 25, 키 : 192\n",
      "이름 : 아마존3, 나이 : 20, 키 : 192\n"
     ]
    }
   ],
   "source": [
    "def display_info(name, age=20, height=192):\n",
    "    print(f'이름 : {name}, 나이 : {age}, 키 : {height}')\n",
    "    \n",
    "display_info('아마존', 23, 187)    \n",
    "display_info('아마존2', 25) \n",
    "display_info('아마존3') "
   ]
  },
  {
   "cell_type": "code",
   "execution_count": 32,
   "id": "7498df89",
   "metadata": {},
   "outputs": [
    {
     "name": "stdout",
     "output_type": "stream",
     "text": [
      "이름 : 아마존, 나이 : 23, 키 : 187\n",
      "이름 : 아마존2, 나이 : 25, 키 : 192\n",
      "이름 : 아마존3, 나이 : 20, 키 : 192\n",
      "이름 : 파이썬, 나이 : 20, 키 : 192\n"
     ]
    }
   ],
   "source": [
    "def display_info(name='파이썬', age=20, height=192):\n",
    "    print(f'이름 : {name}, 나이 : {age}, 키 : {height}')\n",
    "    \n",
    "display_info('아마존', 23, 187)    \n",
    "display_info('아마존2', 25) \n",
    "display_info('아마존3') \n",
    "display_info() "
   ]
  },
  {
   "cell_type": "code",
   "execution_count": 35,
   "id": "2f5b1af9",
   "metadata": {},
   "outputs": [
    {
     "ename": "SyntaxError",
     "evalue": "non-default argument follows default argument (2891907364.py, line 1)",
     "output_type": "error",
     "traceback": [
      "\u001b[1;36m  Cell \u001b[1;32mIn[35], line 1\u001b[1;36m\u001b[0m\n\u001b[1;33m    def display_info(name='파이썬', age, height=192):\u001b[0m\n\u001b[1;37m                                 ^\u001b[0m\n\u001b[1;31mSyntaxError\u001b[0m\u001b[1;31m:\u001b[0m non-default argument follows default argument\n"
     ]
    }
   ],
   "source": [
    "'''\n",
    "default parameter 를 잘못 지정한 형태\n",
    "'''\n",
    "def display_info(name='파이썬', age, height):\n",
    "    print(f'이름 : {name}, 나이 : {age}, 키 : {height}')\n",
    "    \n",
    "def display_info(name='파이썬', age=21, height):\n",
    "    print(f'이름 : {name}, 나이 : {age}, 키 : {height}')\n",
    "    \n",
    "def display_info(name='파이썬', age, height=192):\n",
    "    print(f'이름 : {name}, 나이 : {age}, 키 : {height}')\n",
    "  "
   ]
  },
  {
   "cell_type": "code",
   "execution_count": null,
   "id": "7dcd0855",
   "metadata": {},
   "outputs": [],
   "source": []
  }
 ],
 "metadata": {
  "kernelspec": {
   "display_name": "Python 3 (ipykernel)",
   "language": "python",
   "name": "python3"
  },
  "language_info": {
   "codemirror_mode": {
    "name": "ipython",
    "version": 3
   },
   "file_extension": ".py",
   "mimetype": "text/x-python",
   "name": "python",
   "nbconvert_exporter": "python",
   "pygments_lexer": "ipython3",
   "version": "3.10.9"
  }
 },
 "nbformat": 4,
 "nbformat_minor": 5
}
