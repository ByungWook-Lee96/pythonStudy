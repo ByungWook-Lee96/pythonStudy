{
 "cells": [
  {
   "cell_type": "code",
   "execution_count": null,
   "id": "1ec0b8ec",
   "metadata": {},
   "outputs": [],
   "source": [
    "'''\n",
    "lambda 함수\n",
    "  ㄴ 일반 함수를 짧게 표현한 함수\n",
    "  \n",
    "  형식]\n",
    "    lambda 매개변수 : return값\n",
    "'''"
   ]
  }
 ],
 "metadata": {
  "kernelspec": {
   "display_name": "Python 3 (ipykernel)",
   "language": "python",
   "name": "python3"
  },
  "language_info": {
   "codemirror_mode": {
    "name": "ipython",
    "version": 3
   },
   "file_extension": ".py",
   "mimetype": "text/x-python",
   "name": "python",
   "nbconvert_exporter": "python",
   "pygments_lexer": "ipython3",
   "version": "3.10.9"
  }
 },
 "nbformat": 4,
 "nbformat_minor": 5
}
