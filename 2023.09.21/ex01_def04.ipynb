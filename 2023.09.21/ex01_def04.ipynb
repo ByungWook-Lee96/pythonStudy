{
 "cells": [
  {
   "cell_type": "code",
   "execution_count": 6,
   "id": "96748e51",
   "metadata": {},
   "outputs": [
    {
     "name": "stdout",
     "output_type": "stream",
     "text": [
      "30\n",
      "70\n",
      "110\n"
     ]
    }
   ],
   "source": [
    "'''\n",
    "lambda 함수\n",
    "    ㄴ 일반 함수를 짧게 표현한 함수\n",
    "    \n",
    "    형식\n",
    "        lambda 매개변수 : return 값\n",
    "    \n",
    "    First Citizen - 일급 객체(일급 함수)\n",
    "    1) lambda 식을 변수에 할당하기\n",
    "    2) lambda 식을 함수의 argument로 넣기\n",
    "    3) lambda 식을 함수의 return 값으로 사용함\n",
    "'''\n",
    "\n",
    "def add_2_numbers(num1, num2):\n",
    "    result = num1 + num2\n",
    "    return result\n",
    "\n",
    "print(add_2_numbers(10,20))\n",
    "\n",
    "# 람다식에 이름 붙이기 : 변수에 할당함\n",
    "# 1) lambda 식을 변수에 할당하기\n",
    "add_2_numbers2 = lambda num1, num2 : num1 + num2\n",
    "print(add_2_numbers2(30, 40))\n",
    "\n",
    "# 람다식(함수)을 변수에 할당하지 않고 호출하기\n",
    "print((lambda num1, num2 : num1 + num2)(50,60))\n"
   ]
  },
  {
   "cell_type": "code",
   "execution_count": 9,
   "id": "7e9b9cdd",
   "metadata": {},
   "outputs": [
    {
     "name": "stdout",
     "output_type": "stream",
     "text": [
      "40\n",
      "30\n"
     ]
    }
   ],
   "source": [
    "'''\n",
    "def add_2_numbers(num1, num2):\n",
    "    result = num1 + num2\n",
    "    return result\n",
    "\n",
    "lambda num1, num2 : num1 + num2\n",
    "'''\n",
    "\n",
    "def add_ten(number):\n",
    "    return number + 10\n",
    "\n",
    "add_ten2 = lambda number : number + 10\n",
    "print(add_ten2(30))\n",
    "\n",
    "print((lambda number : number + 10)(20))"
   ]
  },
  {
   "cell_type": "code",
   "execution_count": 10,
   "id": "2061a835",
   "metadata": {},
   "outputs": [
    {
     "name": "stdout",
     "output_type": "stream",
     "text": [
      "100\n",
      "25\n"
     ]
    }
   ],
   "source": [
    "def square_number(number):\n",
    "    return number ** 2\n",
    "\n",
    "square_number2 = lambda number : number ** 2\n",
    "print(square_number2(10))\n",
    "print((lambda number : number ** 2)(5))"
   ]
  },
  {
   "cell_type": "code",
   "execution_count": 20,
   "id": "3cb33962",
   "metadata": {},
   "outputs": [
    {
     "name": "stdout",
     "output_type": "stream",
     "text": [
      "Baby\n",
      "Child\n",
      "Adult\n"
     ]
    }
   ],
   "source": [
    "'''\n",
    "연령대에 따른 category 를 반환하는 함수\n",
    "'''\n",
    "def get_category(age):\n",
    "    category = ''\n",
    "    if age < 5:\n",
    "        category = 'Baby'\n",
    "    elif age <12:\n",
    "        category = 'Child'\n",
    "    else:\n",
    "        category = 'Adult'\n",
    "    return category\n",
    "\n",
    "print(get_category(3))\n",
    "print(get_category(9))\n",
    "print(get_category(25))"
   ]
  },
  {
   "cell_type": "code",
   "execution_count": 24,
   "id": "199a4f32",
   "metadata": {},
   "outputs": [
    {
     "name": "stdout",
     "output_type": "stream",
     "text": [
      "Baby\n"
     ]
    }
   ],
   "source": [
    "'''\n",
    "연령대에 따른 category 를 반환하는 함수\n",
    "'''\n",
    "def get_category2(age):\n",
    "    category = ''\n",
    "    # if 를 삼항연산자 식으로 변형\n",
    "    # True값 if 조건 else True값 if 조건 True값 if 조건...형식 \n",
    "    category = 'Baby' if age < 5 else 'Child' if age < 12 else 'Adult'\n",
    "    return category\n",
    "\n",
    "print((lambda age : 'Baby' if age < 5 else 'Child' if age < 12 else 'Adult')(3))"
   ]
  },
  {
   "cell_type": "code",
   "execution_count": 23,
   "id": "53e96ae8",
   "metadata": {},
   "outputs": [
    {
     "name": "stdout",
     "output_type": "stream",
     "text": [
      "Elderly\n"
     ]
    }
   ],
   "source": [
    "'''\n",
    "연령대에 따른 category 를 반환하는 함수\n",
    "'''\n",
    "def get_category3(age):\n",
    "    category = ''\n",
    "    if age < 5:\n",
    "        category = 'Baby'\n",
    "    elif age <12:\n",
    "        category = 'Child'\n",
    "    elif age < 20:\n",
    "        category = 'Teenager'\n",
    "    elif age < 60:\n",
    "        category = 'Adult'\n",
    "    else:\n",
    "        category = 'Elderly'\n",
    "    return category\n",
    "\n",
    "print((lambda age : 'Baby' if age < 5 else 'Child' if age < 12 else 'Adult' if age < 60 else 'Elderly' )(67))"
   ]
  },
  {
   "cell_type": "code",
   "execution_count": 27,
   "id": "633ea194",
   "metadata": {},
   "outputs": [
    {
     "name": "stdout",
     "output_type": "stream",
     "text": [
      "10\n",
      "100\n"
     ]
    }
   ],
   "source": [
    "'''\n",
    "parameter 없고, return 값만 있는 lambda 식\n",
    "'''\n",
    "def test1():\n",
    "    return 10\n",
    "\n",
    "print((lambda : 10)())\n",
    "\n",
    "number = 100\n",
    "print((lambda : number)())"
   ]
  },
  {
   "cell_type": "code",
   "execution_count": 33,
   "id": "600125b8",
   "metadata": {},
   "outputs": [
    {
     "name": "stdout",
     "output_type": "stream",
     "text": [
      "1234\n",
      "<class 'str'>\n",
      "1234\n",
      "<class 'str'>\n",
      "[1, 2, 3, 4, 5, 6, 7, 8, 9, 10]\n",
      "[1, '2', 3, '4', 5, '6', 7, '8', 9, '10']\n"
     ]
    }
   ],
   "source": [
    "'''\n",
    "    2) lambda 식을 함수의 argument로 넣기\n",
    "\n",
    "    map(), filter(), reduce()\n",
    "'''\n",
    "numbers = list(range(1,11))\n",
    "\n",
    "# 1) map(함수이름, iterable type)\n",
    "\n",
    "def to_str(number):\n",
    "    return str(number)\n",
    "\n",
    "to_str2 = lambda number : str(number)\n",
    "\n",
    "num1 = 1234\n",
    "print(to_str(num1))\n",
    "print(type(to_str(num1)))\n",
    "\n",
    "print(to_str2(num1))\n",
    "print(type(to_str2(num1)))"
   ]
  },
  {
   "cell_type": "code",
   "execution_count": 34,
   "id": "53c6719a",
   "metadata": {},
   "outputs": [
    {
     "name": "stdout",
     "output_type": "stream",
     "text": [
      "[1, 2, 3, 4, 5, 6, 7, 8, 9, 10]\n",
      "[1, '2', 3, '4', 5, '6', 7, '8', 9, '10']\n"
     ]
    }
   ],
   "source": [
    "# numbers 에서 2의 배수만 문자열로 변환하는 함수\n",
    "def to_str_list(numbers):\n",
    "    result_list = []\n",
    "    for number in numbers:\n",
    "        if not number % 2:\n",
    "            result_list.append(str(number))\n",
    "        else:\n",
    "            result_list.append(number)\n",
    "    return result_list\n",
    "\n",
    "print(numbers)\n",
    "print(to_str_list(numbers))"
   ]
  },
  {
   "cell_type": "code",
   "execution_count": 119,
   "id": "f467eb02",
   "metadata": {},
   "outputs": [
    {
     "name": "stdout",
     "output_type": "stream",
     "text": [
      "[1, '2', 3, '4', 5, '6', 7, '8', 9, '10']\n",
      "[1, '2', 3, '4', 5, '6', 7, '8', 9, '10']\n"
     ]
    }
   ],
   "source": [
    "'''\n",
    "    1) map(함수이름, iterable type)\n",
    "        ㄴ iterable type에 있는 item을 순차적으로\n",
    "           지정한 함수의 parameter로 전달한 후  \n",
    "           return 값을 받음 \n",
    "'''\n",
    "\n",
    "numbers = list(range(1,11))\n",
    "\n",
    "def to_str(number):\n",
    "    if not number % 2:\n",
    "        return str(number)\n",
    "    else:\n",
    "        return number\n",
    "\n",
    "print(list(map(to_str, numbers)))\n",
    "print(list(map(lambda number : str(number) if not number % 2 else number, numbers)))"
   ]
  },
  {
   "cell_type": "code",
   "execution_count": 46,
   "id": "e27b20ad",
   "metadata": {},
   "outputs": [
    {
     "name": "stdout",
     "output_type": "stream",
     "text": [
      "[1, '2', 3, '4', 5, '6', 7, '8', 9, '10']\n",
      "[1, '2', 3, '4', 5, '6', 7, '8', 9, '10']\n",
      "[1, '2', 3, '4', 5, '6', 7, '8', 9, '10']\n"
     ]
    }
   ],
   "source": [
    "# 위에 코드를 lambda 식으로 변환\n",
    "numbers = list(range(1,11))\n",
    "\n",
    "# 기존 식\n",
    "def to_str(number):\n",
    "    if not number % 2:\n",
    "        return str(number)\n",
    "    else:\n",
    "        return number\n",
    "\n",
    "print(list(map(to_str, numbers)))\n",
    "\n",
    "# 위에 함수를 lambda로 변경 후 map 사용(직접 사용)\n",
    "lambda number : str(number) if not number % 2 else number\n",
    "print(list(map(lambda number : str(number) if not number % 2 else number, numbers)))\n",
    "\n",
    "# 위에 함수를 lambda로 변경 후 map 사용(lambda를 변수에 넣고 사용)\n",
    "to_str2 = lambda number : str(number) if not number % 2 else number\n",
    "print(list(map(to_str2, numbers)))"
   ]
  },
  {
   "cell_type": "code",
   "execution_count": 57,
   "id": "eb775ff6",
   "metadata": {},
   "outputs": [
    {
     "name": "stdout",
     "output_type": "stream",
     "text": [
      "1 <class 'str'>\n",
      "2.0 <class 'float'>\n",
      "25 <class 'int'>\n",
      "['1', 2.0, 9, 16, 25, 36, 49, 64, 81, 100]\n",
      "1 <class 'str'>\n",
      "2.0 <class 'float'>\n",
      "9 <class 'int'>\n",
      "['1', 2.0, 9, 16, 25, 36, 49, 64, 81, 100]\n",
      "['1', 2.0, 9, 16, 25, 36, 49, 64, 81, 100]\n"
     ]
    }
   ],
   "source": [
    "'''\n",
    "numbers 에서 1은 문자열로 변환하고\n",
    "2 는 float로 변환하고 3 이상은 제곱해서 출력하세요\n",
    " <-- map() 함수 사용하기\n",
    "'''\n",
    "\n",
    "numbers = list(range(1, 11))\n",
    "\n",
    "def test2(number):\n",
    "    result = 0\n",
    "    if number == 1: result = str(number)\n",
    "    elif number == 2: result = float(number)\n",
    "    else: result = number ** 2\n",
    "    return result\n",
    "\n",
    "print(test2(1), type(test2(1)))\n",
    "print(test2(2), type(test2(2)))\n",
    "print(test2(5), type(test2(5)))\n",
    "\n",
    "print(list(map(test2, numbers)))\n",
    "\n",
    "test3 = lambda number : str(number) if number == 1 else float(number) if number == 2 else number ** 2\n",
    "print(test3(1), type(test3(1)))\n",
    "print(test3(2), type(test3(2)))\n",
    "print(test3(3), type(test3(3)))\n",
    "\n",
    "print(list(map(test3, numbers)))\n",
    "print(list(map(lambda number : str(number) if number == 1 else float(number) if number == 2 else number ** 2, numbers)))"
   ]
  },
  {
   "cell_type": "code",
   "execution_count": 60,
   "id": "ddcd0073",
   "metadata": {},
   "outputs": [
    {
     "name": "stdout",
     "output_type": "stream",
     "text": [
      "27\n",
      "[6, 14, 24, 36, 50]\n"
     ]
    }
   ],
   "source": [
    "list1 = [1, 2, 3, 4, 5]\n",
    "list2 = [6, 7, 8, 9, 10]\n",
    "\n",
    "# 정수 두 개를 전달 받아서 두 정수의 곱을 반환하는 함수\n",
    "def get_multi(num1, num2):\n",
    "    return num1 * num2\n",
    "\n",
    "print(get_multi(3, 9))\n",
    "\n",
    "print(list(map(get_multi, list1, list2)))"
   ]
  },
  {
   "cell_type": "code",
   "execution_count": 66,
   "id": "7becb355",
   "metadata": {},
   "outputs": [
    {
     "name": "stdout",
     "output_type": "stream",
     "text": [
      "(4, 25)\n",
      "(16, 36)\n",
      "[(1, 16), (4, 25), (9, 36), (16, 49), (25, 64)]\n",
      "[(1, 16), (4, 25), (9, 36), (16, 49), (25, 64)]\n",
      "[(1, 16), (4, 25), (9, 36), (16, 49), (25, 64)]\n"
     ]
    }
   ],
   "source": [
    "list3 = [1, 2, 3, 4, 5]\n",
    "list4 = [4, 5, 6, 7, 8]\n",
    "\n",
    "# 두 개의 정수를 전달받아서\n",
    "# 각 정수의 제곱값을 tuple로 반환하는 함수\n",
    "def test4(num1, num2):\n",
    "    return num1 ** 2, num2 ** 2\n",
    "\n",
    "print(test4(2, 5))\n",
    "\n",
    "# 두 개의 return 값이 있을때는  ()로 묶어야 함\n",
    "test4_1 = lambda num1, num2 : (num1 ** 2, num2 ** 2)\n",
    "print(test4_1(4, 6))\n",
    "\n",
    "print(list(map(test4, list3, list4)))\n",
    "print(list(map(test4_1, list3, list4)))\n",
    "print(list(map(lambda num1, num2 : (num1 ** 2, num2 ** 2), list3, list4)))"
   ]
  },
  {
   "cell_type": "code",
   "execution_count": 74,
   "id": "ad362077",
   "metadata": {},
   "outputs": [
    {
     "name": "stdout",
     "output_type": "stream",
     "text": [
      "[-5, -4, -3, -2, -1, 0, 1, 2, 3, 4]\n",
      "['음수', '음수', '음수', '음수', '음수', '0', '양수', '양수', '양수', '양수']\n",
      "['음수', '음수', '음수', '음수', '음수', '0', '양수', '양수', '양수', '양수']\n",
      "['음수', '음수', '음수', '음수', '음수', '0', '양수', '양수', '양수', '양수']\n"
     ]
    }
   ],
   "source": [
    "'''\n",
    "정수 하나를 전달받아서\n",
    "양수이면 '양수'를 반환하고\n",
    "음수이면 '음수'를 반환하는 함수\n",
    "'''\n",
    "\n",
    "def test5(number):\n",
    "    result = ''\n",
    "    if number > 0:\n",
    "        result = '양수'\n",
    "    elif number < 0:\n",
    "        result = '음수'\n",
    "    else:\n",
    "        result = '0'\n",
    "    return result\n",
    "\n",
    "list6 = list(range(-5, 5))\n",
    "print(list6)\n",
    "\n",
    "print(list(map(test5, list6)))\n",
    "test6 = lambda number : '양수' if number > 0 else '음수' if number < 0 else '0'\n",
    "print(list(map(test6, list6)))\n",
    "print(list(map(lambda number : '양수' if number > 0 else '음수' if number < 0 else '0', list6)))"
   ]
  },
  {
   "cell_type": "code",
   "execution_count": 88,
   "id": "de105ca8",
   "metadata": {},
   "outputs": [
    {
     "name": "stdout",
     "output_type": "stream",
     "text": [
      "False\n",
      "True\n",
      "[12, 15, 18, 21, 24, 27, 30]\n",
      "False\n",
      "True\n",
      "[12, 15, 18, 21, 24, 27, 30]\n"
     ]
    }
   ],
   "source": [
    "'''\n",
    "fliter() 함수\n",
    "    filter(함수이름, iterable type)\n",
    "            ㄴ bool type의 값을 return 하는 함수\n",
    "'''\n",
    "\n",
    "# 정수 하나를 전달 받아서\n",
    "# 3의 배수이면 True를 반환하는함수 \n",
    "\n",
    "def test6(number):\n",
    "    return not number % 3\n",
    "\n",
    "print(test6(5))\n",
    "print(test6(3))\n",
    "\n",
    "list7 = list(range(12, 31))\n",
    "print(list(filter(test6, list7)))\n",
    "\n",
    "print((lambda number : not number % 3)(4))\n",
    "print((lambda number : not number % 3)(12))\n",
    "\n",
    "print(list(filter(lambda number : not number % 3, list7)))"
   ]
  },
  {
   "cell_type": "code",
   "execution_count": 124,
   "id": "0b960c39",
   "metadata": {},
   "outputs": [
    {
     "name": "stdout",
     "output_type": "stream",
     "text": [
      "[8, 10, 7, 9]\n",
      "True\n",
      "[8, 10, 7, 9]\n",
      "[8, 10, 7, 9]\n"
     ]
    }
   ],
   "source": [
    "list8 = [8, 3, 2, 10, 15, 7, 1, 9, 0, 13]\n",
    "\n",
    "'''\n",
    "list8 에서 6 보다 크고 12 보다 작은 숫자만 출력하세요\n",
    "'''\n",
    "\n",
    "# 정수 하나를 전달받아서\n",
    "# 6보다 크고 12보다 작을 때만 True를 return 하는 함수\n",
    "#   ㄴ 이 조건에 맞지 않으면 False를 return 함\n",
    "\n",
    "def test7(number):\n",
    "    return 6 < number < 12\n",
    "\n",
    "print(list(filter(test7, list8)))\n",
    "print((lambda number : 6 < number < 12)(7))\n",
    "\n",
    "print(list(filter(lambda number : 6 < number < 12, list8)))\n",
    "\n",
    "# 리스트 내포 형식과 비교\n",
    "print([number for number in list8 if 6 < number < 12])"
   ]
  },
  {
   "cell_type": "code",
   "execution_count": 128,
   "id": "65611968",
   "metadata": {},
   "outputs": [
    {
     "name": "stdout",
     "output_type": "stream",
     "text": [
      "55\n",
      "55\n",
      "5050\n"
     ]
    }
   ],
   "source": [
    "'''\n",
    "reduce() 함수\n",
    "    ㄴ reduce(함수이름, iterable type)\n",
    "    ㄴ 합이 누적되는 함수\n",
    "'''\n",
    "\n",
    "# 두 개의 정수를 전달 받아서\n",
    "# 두 정수의 합을 반환하는 함수\n",
    "def test8(num1, num2):\n",
    "    return num1 + num2\n",
    "\n",
    "list9 = [1, 2, 3, 4, 5, 6, 7, 8, 9, 10]\n",
    "\n",
    "from functools import reduce\n",
    "\n",
    "print(reduce(test8, list9))\n",
    "\n",
    "lambda num1, num2 : num1 + num2\n",
    "\n",
    "print(reduce(lambda num1, num2 : num1 + num2, list9))\n",
    "\n",
    "# 1부터 100까지의 합을 reduce() 함수를 사용해서 출력하세요\n",
    "print(reduce(lambda num1, num2 : num1 + num2, list(range(1,101))))"
   ]
  },
  {
   "cell_type": "code",
   "execution_count": 129,
   "id": "ebdf1e63",
   "metadata": {},
   "outputs": [
    {
     "name": "stdout",
     "output_type": "stream",
     "text": [
      "<function test10.<locals>.<lambda> at 0x0000025A34D383A0>\n",
      "400\n",
      "200\n",
      "300\n",
      "200\n"
     ]
    }
   ],
   "source": [
    "'''\n",
    "3) lambda 식을 함수의 return 값으로 사용함\n",
    "'''\n",
    "'''\n",
    "lambda 식을 반환한 것이 아니고\n",
    "lambda 식의 반환값을 반환하는 code\n",
    "def test9(number):\n",
    "    return (lambda num : num * 10)(number)\n",
    "\n",
    "print(test9(10))\n",
    "'''\n",
    "\n",
    "def test10():\n",
    "    return lambda num : num * 10\n",
    "print(test10())\n",
    "print(test10()(40))\n",
    "\n",
    "print((lambda num : num * 10)(20))\n",
    "ten_times = lambda num : num * 10\n",
    "print(ten_times(30))\n",
    "\n",
    "number = 200\n",
    "def test11():\n",
    "    return number\n",
    "print(test11())\n"
   ]
  }
 ],
 "metadata": {
  "kernelspec": {
   "display_name": "Python 3 (ipykernel)",
   "language": "python",
   "name": "python3"
  },
  "language_info": {
   "codemirror_mode": {
    "name": "ipython",
    "version": 3
   },
   "file_extension": ".py",
   "mimetype": "text/x-python",
   "name": "python",
   "nbconvert_exporter": "python",
   "pygments_lexer": "ipython3",
   "version": "3.10.9"
  }
 },
 "nbformat": 4,
 "nbformat_minor": 5
}
