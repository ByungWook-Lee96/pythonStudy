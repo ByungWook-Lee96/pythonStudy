{
 "cells": [
  {
   "cell_type": "code",
   "execution_count": 8,
   "id": "67e3d099",
   "metadata": {},
   "outputs": [
    {
     "name": "stdout",
     "output_type": "stream",
     "text": [
      "c1.num1 : 10\n",
      "c1.num2 : 8\n",
      "c1.add_numbers() : 18\n",
      "c1.sub_numbers() : 2\n",
      "c1.multi_numbers() : 80\n",
      "c1.div_numbers() : 1.25\n"
     ]
    }
   ],
   "source": [
    "'''\n",
    "    클래스 상속(inheritance) <-- extension (확장)\n",
    "\n",
    "    형식\n",
    "        class Child(Parent):\n",
    "'''\n",
    "\n",
    "# 4가지 연산을 하는 클래스\n",
    "class Calc4:\n",
    "    \n",
    "    def __init__(self, num1, num2):\n",
    "        self.num1 = num1\n",
    "        self.num2 = num2\n",
    "        self.result = 0  # 메모리에 올리기 위해서 값을 초기화 함 \n",
    "        \n",
    "    def add_numbers(self):\n",
    "        self.result = self.num1 + self.num2\n",
    "        return self.result\n",
    "        \n",
    "    def sub_numbers(self):\n",
    "        self.result = self.num1 - self.num2\n",
    "        return self.result\n",
    "    \n",
    "    def multi_numbers(self):\n",
    "        self.result = self.num1 * self.num2\n",
    "        return self.result\n",
    "\n",
    "    def div_numbers(self):\n",
    "        self.result = self.num1 / self.num2\n",
    "        return self.result\n",
    "        \n",
    "c1 = Calc4(10, 8)\n",
    "print('c1.num1 :', c1.num1)\n",
    "print('c1.num2 :', c1.num2)\n",
    "\n",
    "print('c1.add_numbers() :', c1.add_numbers())\n",
    "print('c1.sub_numbers() :', c1.sub_numbers())\n",
    "print('c1.multi_numbers() :', c1.multi_numbers())\n",
    "print('c1.div_numbers() :', c1.div_numbers())"
   ]
  },
  {
   "cell_type": "code",
   "execution_count": 10,
   "id": "d6ca9635",
   "metadata": {},
   "outputs": [
    {
     "name": "stdout",
     "output_type": "stream",
     "text": [
      "c2.num1 : 10\n",
      "c2.num2 : 8\n",
      "c2.add_numbers() : 18\n",
      "c2.sub_numbers() : 2\n",
      "c2.multi_numbers() : 80\n",
      "c2.div_numbers() : 1.25\n",
      "c2.square_numbers() : 100000000\n"
     ]
    }
   ],
   "source": [
    "'''\n",
    "class Child(Parent):\n",
    "\n",
    "Calc4 : 부모클래스 - Parent\n",
    "Calc5 : 자식클래스 - Child\n",
    "\n",
    "Calc5 클래스는 Calc4 클래스의 기능을\n",
    "확장한 클래스가 됨\n",
    "\n",
    "4가지 연산 -> 5가지 연산 : 기능이 확장됨\n",
    "\n",
    "'''\n",
    "class Calc5(Calc4):\n",
    "    def square_numbers(self):\n",
    "        self.result = self.num1 ** self.num2\n",
    "        return self.result\n",
    "    \n",
    "c2 = Calc5(10, 8)\n",
    "print('c2.num1 :', c2.num1)\n",
    "print('c2.num2 :', c2.num2)\n",
    "\n",
    "print('c2.add_numbers() :', c2.add_numbers())\n",
    "print('c2.sub_numbers() :', c2.sub_numbers())\n",
    "print('c2.multi_numbers() :', c2.multi_numbers())\n",
    "print('c2.div_numbers() :', c2.div_numbers())\n",
    "print('c2.square_numbers() :', c2.square_numbers())"
   ]
  },
  {
   "cell_type": "code",
   "execution_count": null,
   "id": "e23c0d89",
   "metadata": {},
   "outputs": [],
   "source": []
  },
  {
   "cell_type": "code",
   "execution_count": null,
   "id": "4c0bbd24",
   "metadata": {},
   "outputs": [],
   "source": []
  }
 ],
 "metadata": {
  "kernelspec": {
   "display_name": "Python 3 (ipykernel)",
   "language": "python",
   "name": "python3"
  },
  "language_info": {
   "codemirror_mode": {
    "name": "ipython",
    "version": 3
   },
   "file_extension": ".py",
   "mimetype": "text/x-python",
   "name": "python",
   "nbconvert_exporter": "python",
   "pygments_lexer": "ipython3",
   "version": "3.10.9"
  }
 },
 "nbformat": 4,
 "nbformat_minor": 5
}
