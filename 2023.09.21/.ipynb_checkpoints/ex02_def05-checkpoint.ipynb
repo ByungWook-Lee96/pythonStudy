{
 "cells": [
  {
   "cell_type": "code",
   "execution_count": 4,
   "id": "2b9e25c9",
   "metadata": {},
   "outputs": [
    {
     "name": "stdout",
     "output_type": "stream",
     "text": [
      "안녕하세요\n",
      "어서오세요 !!!\n",
      "AWS 클라우드 스쿨입니다\n"
     ]
    }
   ],
   "source": [
    "'''\n",
    "@ : decorator\n",
    "\n",
    "함수 장식자 : wrapper 함수\n",
    "\n",
    "'''\n",
    "# 함수를 parameter로 전달 받음\n",
    "def wrapper(func):\n",
    "    def decorated():\n",
    "        print('안녕하세요')\n",
    "        func()\n",
    "        print('AWS 클라우드 스쿨입니다')\n",
    "    return decorated\n",
    "\n",
    "@wrapper\n",
    "def say_hello():\n",
    "    print('어서오세요 !!!')\n",
    "    \n",
    "say_hello()"
   ]
  },
  {
   "cell_type": "code",
   "execution_count": 5,
   "id": "e20e9494",
   "metadata": {},
   "outputs": [
    {
     "name": "stdout",
     "output_type": "stream",
     "text": [
      "36\n"
     ]
    }
   ],
   "source": [
    "'''\n",
    "재귀함수 : recursive\n",
    "    ㄴ 함수 안에서 자신(함수)를 호출하는 함수\n",
    "'''\n",
    "\n",
    "def test1(num1, num2):\n",
    "    return num1 + num2\n",
    "\n",
    "def add_numbers(n1, n2, n3):\n",
    "    result = n1 + n2 + n3 + test1(10, 20)\n",
    "    return result\n",
    "\n",
    "print(add_numbers(1, 2, 3))"
   ]
  },
  {
   "cell_type": "code",
   "execution_count": 9,
   "id": "c17f8666",
   "metadata": {},
   "outputs": [
    {
     "name": "stdout",
     "output_type": "stream",
     "text": [
      "120\n",
      "120\n",
      "120\n"
     ]
    }
   ],
   "source": [
    "'''\n",
    "Factorial : 5! <- 5 X 4 X 3 X 2 X 1\n",
    "'''\n",
    "# 반복문 사용\n",
    "result = 1\n",
    "for number in range(1,6):\n",
    "    result *= number\n",
    "print(result)\n",
    "\n",
    "# 함수 사용\n",
    "def factorial(num):\n",
    "    result = 1\n",
    "    for number in range(1, num + 1):\n",
    "        result *= number\n",
    "    return result\n",
    "\n",
    "print(factorial(5))\n",
    "\n",
    "# 재귀함수 사용\n",
    "def factorial2(num):\n",
    "    # num * (num - 1) * ((num - 1) - 1)....\n",
    "    if num == 1:\n",
    "        return 1\n",
    "    return num * factorial2(num-1)\n",
    "'''\n",
    "    return 5 * factorial2(4)\n",
    "                    4 * factorial2(3)\n",
    "                            3 * factorial2(2)\n",
    "                                    2 * factorial2(1)\n",
    "                                    \n",
    "    재귀함수에 if num == 0 으로 설정한 경우는 stack 메모리에 더 쌓이는것이기 때문에 \n",
    "    if num == 1까지만 실행하는게 메모리 적으로 좋음\n",
    "'''\n",
    "print(factorial2(5))"
   ]
  },
  {
   "cell_type": "code",
   "execution_count": null,
   "id": "fb40b004",
   "metadata": {},
   "outputs": [],
   "source": []
  },
  {
   "cell_type": "code",
   "execution_count": null,
   "id": "dd2953cf",
   "metadata": {},
   "outputs": [],
   "source": []
  }
 ],
 "metadata": {
  "kernelspec": {
   "display_name": "Python 3 (ipykernel)",
   "language": "python",
   "name": "python3"
  },
  "language_info": {
   "codemirror_mode": {
    "name": "ipython",
    "version": 3
   },
   "file_extension": ".py",
   "mimetype": "text/x-python",
   "name": "python",
   "nbconvert_exporter": "python",
   "pygments_lexer": "ipython3",
   "version": "3.10.9"
  }
 },
 "nbformat": 4,
 "nbformat_minor": 5
}
